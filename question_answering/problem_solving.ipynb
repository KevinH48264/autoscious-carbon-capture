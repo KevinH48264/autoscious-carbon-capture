{
 "cells": [
  {
   "cell_type": "code",
   "execution_count": 12,
   "metadata": {},
   "outputs": [],
   "source": [
    "from llm import chat_openai"
   ]
  },
  {
   "cell_type": "code",
   "execution_count": 13,
   "metadata": {},
   "outputs": [],
   "source": [
    "search_query = \"How efficiently do the ECR enzymes work, especially in Kitsatospor setae bacteria?\""
   ]
  },
  {
   "cell_type": "markdown",
   "metadata": {},
   "source": [
    "## MECE question decomposition"
   ]
  },
  {
   "cell_type": "code",
   "execution_count": 14,
   "metadata": {},
   "outputs": [],
   "source": [
    "seed_initial_question_decomposition_prompt = f'''\n",
    "Research project question: How efficiently do the ECR enzymes work, especially in Kitsatospor setae bacteria?\n",
    "\n",
    "Task: Decompose this research question into 1) project objective: what should be the outcome of the project, 2) key drivers: what are the key problem drivers to achieve the project objective, 3) hypotheses: what can already be hypothesized about the key drivers, 4) key questions: what analyses need to be conducted to verify, falsify, or change the hypotheses?\n",
    "\n",
    "Rules: Be as mutually exclusive, completely exhaustive (MECE) as possible. The output should be in nested JSON format of \n",
    "```json\n",
    "{{\n",
    "  \"project_objective\": \"\",\n",
    "  \"key_drivers\": {{\n",
    "    \"1\": {{\n",
    "      \"driver\": \"\",\n",
    "      \"hypotheses\": {{\n",
    "          \"1\": {{\n",
    "            \"hypothesis\": \"\",\n",
    "            \"key_questions\": {{\n",
    "                \"1\": \"\", \n",
    "                \"2\": \"\",\n",
    "                ...\n",
    "            }},\n",
    "          }},\n",
    "          ...\n",
    "      }},\n",
    "    \"2\" : {{...}},\n",
    "    ...\n",
    "    }}\"\",\n",
    "  }},\n",
    "}}\n",
    "```\n",
    "Respond only with the output, with no explanation or conversation.\n",
    "'''"
   ]
  },
  {
   "cell_type": "code",
   "execution_count": 15,
   "metadata": {},
   "outputs": [
    {
     "name": "stdout",
     "output_type": "stream",
     "text": [
      "seed_initial_question_decomposition_prompt \n",
      "Research project question: How efficiently do the ECR enzymes work, especially in Kitsatospor setae bacteria?\n",
      "\n",
      "Task: Decompose this research question into 1) project objective: what should be the outcome of the project, 2) key drivers: what are the key problem drivers to achieve the project objective, 3) hypotheses: what can already be hypothesized about the key drivers, 4) key questions: what analyses need to be conducted to verify, falsify, or change the hypotheses?\n",
      "\n",
      "Rules: Be as mutually exclusive, completely exhaustive (MECE) as possible. The output should be in nested JSON format of \n",
      "```json\n",
      "{\n",
      "  \"project_objective\": \"\",\n",
      "  \"key_drivers\": {\n",
      "    \"1\": {\n",
      "      \"driver\": \"\",\n",
      "      \"hypotheses\": {\n",
      "          \"1\": {\n",
      "            \"hypothesis\": \"\",\n",
      "            \"key_questions\": {\n",
      "                \"1\": \"\", \n",
      "                \"2\": \"\",\n",
      "                ...\n",
      "            },\n",
      "          },\n",
      "          ...\n",
      "      },\n",
      "    \"2\" : {...},\n",
      "    ...\n",
      "    }\"\",\n",
      "  },\n",
      "}\n",
      "```\n",
      "Respond only with the output, with no explanation or conversation.\n",
      "\n"
     ]
    }
   ],
   "source": [
    "print(\"seed_initial_question_decomposition_prompt\", seed_initial_question_decomposition_prompt)"
   ]
  },
  {
   "cell_type": "code",
   "execution_count": 16,
   "metadata": {},
   "outputs": [
    {
     "name": "stdout",
     "output_type": "stream",
     "text": [
      "Prompt:  \n",
      "Research project question: How efficiently do the ECR enzymes work, especially in Kitsatospor setae bacteria?\n",
      "\n",
      "Task: Decompose this research question into 1) project objective: what should be the outcome of the project, 2) key drivers: what are the key problem drivers to achieve the project objective, 3) hypotheses: what can already be hypothesized about the key drivers, 4) key questions: what analyses need to be conducted to verify, falsify, or change the hypotheses?\n",
      "\n",
      "Rules: Be as mutually exclusive, completely exhaustive (MECE) as possible. The output should be in nested JSON format of \n",
      "```json\n",
      "{\n",
      "  \"project_objective\": \"\",\n",
      "  \"key_drivers\": {\n",
      "    \"1\": {\n",
      "      \"driver\": \"\",\n",
      "      \"hypotheses\": {\n",
      "          \"1\": {\n",
      "            \"hypothesis\": \"\",\n",
      "            \"key_questions\": {\n",
      "                \"1\": \"\", \n",
      "                \"2\": \"\",\n",
      "                ...\n",
      "            },\n",
      "          },\n",
      "          ...\n",
      "      },\n",
      "    \"2\" : {...},\n",
      "    ...\n",
      "    }\"\",\n",
      "  },\n",
      "}\n",
      "```\n",
      "Respond only with the output, with no explanation or conversation.\n",
      "\n"
     ]
    }
   ],
   "source": [
    "res = chat_openai(seed_initial_question_decomposition_prompt, model=\"gpt-3.5-turbo\")\n",
    "print(res[0])"
   ]
  },
  {
   "cell_type": "code",
   "execution_count": null,
   "metadata": {},
   "outputs": [],
   "source": [
    "initial_factors = res[0]"
   ]
  }
 ],
 "metadata": {
  "kernelspec": {
   "display_name": "Python 3",
   "language": "python",
   "name": "python3"
  },
  "language_info": {
   "codemirror_mode": {
    "name": "ipython",
    "version": 3
   },
   "file_extension": ".py",
   "mimetype": "text/x-python",
   "name": "python",
   "nbconvert_exporter": "python",
   "pygments_lexer": "ipython3",
   "version": "3.10.6"
  },
  "orig_nbformat": 4
 },
 "nbformat": 4,
 "nbformat_minor": 2
}
