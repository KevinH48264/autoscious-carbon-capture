{
 "cells": [
  {
   "cell_type": "code",
   "execution_count": 42,
   "metadata": {},
   "outputs": [],
   "source": [
    "from llm import chat_openai\n",
    "import json\n",
    "from datetime import datetime"
   ]
  },
  {
   "cell_type": "code",
   "execution_count": 32,
   "metadata": {},
   "outputs": [],
   "source": [
    "import re\n",
    "\n",
    "def sanitize_filename(filename):\n",
    "    return re.sub(r'[^a-zA-Z0-9]', '_', filename)"
   ]
  },
  {
   "cell_type": "code",
   "execution_count": 9,
   "metadata": {},
   "outputs": [],
   "source": [
    "search_query = \"How efficiently do the ECR enzymes work, especially in Kitsatospor setae bacteria?\""
   ]
  },
  {
   "cell_type": "code",
   "execution_count": 33,
   "metadata": {},
   "outputs": [],
   "source": [
    "search_query_file_safe = sanitize_filename(search_query)"
   ]
  },
  {
   "cell_type": "markdown",
   "metadata": {},
   "source": [
    "## MECE question decomposition"
   ]
  },
  {
   "cell_type": "code",
   "execution_count": 10,
   "metadata": {},
   "outputs": [],
   "source": [
    "seed_initial_question_decomposition_prompt = f'''\n",
    "Research project question: {search_query}\n",
    "\n",
    "Task: Decompose this research question into 1) project objective: what should be the outcome of the project, 2) key drivers: what are the key problem drivers to achieve the project objective, 3) hypotheses: what can already be hypothesized about the key drivers, 4) key questions: what analyses need to be conducted to verify, falsify, or change the hypotheses?\n",
    "\n",
    "Rules: Be as mutually exclusive, completely exhaustive (MECE) as possible. The output should be in nested JSON format of \n",
    "```json\n",
    "{{\n",
    "  \"project_objective\": \"\",\n",
    "  \"key_drivers\": {{\n",
    "    \"1\": {{\n",
    "      \"driver\": \"\",\n",
    "      \"hypotheses\": {{\n",
    "          \"1\": {{\n",
    "            \"hypothesis\": \"\",\n",
    "            \"key_questions\": {{\n",
    "                \"1\": \"\", \n",
    "                \"2\": \"\",\n",
    "                etc.\n",
    "            }},\n",
    "          }},\n",
    "          etc.\n",
    "      }},\n",
    "    \"2\" : {{}},\n",
    "    etc.\n",
    "    }}\"\",\n",
    "  }},\n",
    "}}\n",
    "```\n",
    "Respond only with the output, with no explanation or conversation.\n",
    "'''"
   ]
  },
  {
   "cell_type": "code",
   "execution_count": 11,
   "metadata": {},
   "outputs": [
    {
     "name": "stdout",
     "output_type": "stream",
     "text": [
      "seed_initial_question_decomposition_prompt \n",
      "Research project question: How efficiently do the ECR enzymes work, especially in Kitsatospor setae bacteria?\n",
      "\n",
      "Task: Decompose this research question into 1) project objective: what should be the outcome of the project, 2) key drivers: what are the key problem drivers to achieve the project objective, 3) hypotheses: what can already be hypothesized about the key drivers, 4) key questions: what analyses need to be conducted to verify, falsify, or change the hypotheses?\n",
      "\n",
      "Rules: Be as mutually exclusive, completely exhaustive (MECE) as possible. The output should be in nested JSON format of \n",
      "```json\n",
      "{\n",
      "  \"project_objective\": \"\",\n",
      "  \"key_drivers\": {\n",
      "    \"1\": {\n",
      "      \"driver\": \"\",\n",
      "      \"hypotheses\": {\n",
      "          \"1\": {\n",
      "            \"hypothesis\": \"\",\n",
      "            \"key_questions\": {\n",
      "                \"1\": \"\", \n",
      "                \"2\": \"\",\n",
      "                etc.\n",
      "            },\n",
      "          },\n",
      "          etc.\n",
      "      },\n",
      "    \"2\" : {},\n",
      "    etc.\n",
      "    }\"\",\n",
      "  },\n",
      "}\n",
      "```\n",
      "Respond only with the output, with no explanation or conversation.\n",
      "\n"
     ]
    }
   ],
   "source": [
    "print(\"seed_initial_question_decomposition_prompt\", seed_initial_question_decomposition_prompt)"
   ]
  },
  {
   "cell_type": "code",
   "execution_count": 12,
   "metadata": {},
   "outputs": [
    {
     "name": "stdout",
     "output_type": "stream",
     "text": [
      "Prompt:  \n",
      "Research project question: How efficiently do the ECR enzymes work, especially in Kitsatospor setae bacteria?\n",
      "\n",
      "Task: Decompose this research question into 1) project objective: what should be the outcome of the project, 2) key drivers: what are the key problem drivers to achieve the project objective, 3) hypotheses: what can already be hypothesized about the key drivers, 4) key questions: what analyses need to be conducted to verify, falsify, or change the hypotheses?\n",
      "\n",
      "Rules: Be as mutually exclusive, completely exhaustive (MECE) as possible. The output should be in nested JSON format of \n",
      "```json\n",
      "{\n",
      "  \"project_objective\": \"\",\n",
      "  \"key_drivers\": {\n",
      "    \"1\": {\n",
      "      \"driver\": \"\",\n",
      "      \"hypotheses\": {\n",
      "          \"1\": {\n",
      "            \"hypothesis\": \"\",\n",
      "            \"key_questions\": {\n",
      "                \"1\": \"\", \n",
      "                \"2\": \"\",\n",
      "                etc.\n",
      "            },\n",
      "          },\n",
      "          etc.\n",
      "      },\n",
      "    \"2\" : {},\n",
      "    etc.\n",
      "    }\"\",\n",
      "  },\n",
      "}\n",
      "```\n",
      "Respond only with the output, with no explanation or conversation.\n",
      "\n"
     ]
    },
    {
     "name": "stdout",
     "output_type": "stream",
     "text": [
      "Completion info:  {\n",
      "  \"choices\": [\n",
      "    {\n",
      "      \"finish_reason\": \"stop\",\n",
      "      \"index\": 0,\n",
      "      \"message\": {\n",
      "        \"content\": \"{\\n  \\\"project_objective\\\": \\\"To determine the efficiency of ECR enzymes in Kitsatospor setae bacteria\\\",\\n  \\\"key_drivers\\\": {\\n    \\\"1\\\": {\\n      \\\"driver\\\": \\\"ECR enzyme activity\\\",\\n      \\\"hypotheses\\\": {\\n        \\\"1\\\": {\\n          \\\"hypothesis\\\": \\\"ECR enzyme activity is high in Kitsatospor setae bacteria\\\",\\n          \\\"key_questions\\\": {\\n            \\\"1\\\": \\\"What is the level of ECR enzyme activity in Kitsatospor setae bacteria?\\\",\\n            \\\"2\\\": \\\"How does ECR enzyme activity vary under different conditions?\\\",\\n            \\\"3\\\": \\\"Are there any factors that enhance or inhibit ECR enzyme activity?\\\"\\n          }\\n        }\\n      }\\n    }\\n  }\\n}\",\n",
      "        \"role\": \"assistant\"\n",
      "      }\n",
      "    }\n",
      "  ],\n",
      "  \"created\": 1690744745,\n",
      "  \"id\": \"chatcmpl-7i6ETD80Zlsi2RIIvZyM7UuZzfl1q\",\n",
      "  \"model\": \"gpt-3.5-turbo-0613\",\n",
      "  \"object\": \"chat.completion\",\n",
      "  \"usage\": {\n",
      "    \"completion_tokens\": 152,\n",
      "    \"prompt_tokens\": 277,\n",
      "    \"total_tokens\": 429\n",
      "  }\n",
      "}\n",
      "{\n",
      "  \"project_objective\": \"To determine the efficiency of ECR enzymes in Kitsatospor setae bacteria\",\n",
      "  \"key_drivers\": {\n",
      "    \"1\": {\n",
      "      \"driver\": \"ECR enzyme activity\",\n",
      "      \"hypotheses\": {\n",
      "        \"1\": {\n",
      "          \"hypothesis\": \"ECR enzyme activity is high in Kitsatospor setae bacteria\",\n",
      "          \"key_questions\": {\n",
      "            \"1\": \"What is the level of ECR enzyme activity in Kitsatospor setae bacteria?\",\n",
      "            \"2\": \"How does ECR enzyme activity vary under different conditions?\",\n",
      "            \"3\": \"Are there any factors that enhance or inhibit ECR enzyme activity?\"\n",
      "          }\n",
      "        }\n",
      "      }\n",
      "    }\n",
      "  }\n",
      "}\n"
     ]
    }
   ],
   "source": [
    "res = chat_openai(seed_initial_question_decomposition_prompt, model=\"gpt-3.5-turbo\")\n",
    "print(res[0])"
   ]
  },
  {
   "cell_type": "code",
   "execution_count": 13,
   "metadata": {},
   "outputs": [],
   "source": [
    "question_decomposition = json.loads(res[0])"
   ]
  },
  {
   "cell_type": "code",
   "execution_count": 28,
   "metadata": {},
   "outputs": [],
   "source": [
    "question_decomposition['search_query'] = search_query"
   ]
  },
  {
   "cell_type": "code",
   "execution_count": 29,
   "metadata": {},
   "outputs": [
    {
     "name": "stdout",
     "output_type": "stream",
     "text": [
      "{'project_objective': 'To determine the efficiency of ECR enzymes in Kitsatospor setae bacteria', 'key_drivers': {'1': {'driver': 'ECR enzyme activity', 'hypotheses': {'1': {'hypothesis': 'ECR enzyme activity is high in Kitsatospor setae bacteria', 'key_questions': {'1': 'What is the level of ECR enzyme activity in Kitsatospor setae bacteria?', '2': 'How does ECR enzyme activity vary under different conditions?', '3': 'Are there any factors that enhance or inhibit ECR enzyme activity?'}}}}}, 'search_query': 'How efficiently do the ECR enzymes work, especially in Kitsatospor setae bacteria?'}\n"
     ]
    }
   ],
   "source": [
    "print(question_decomposition)"
   ]
  },
  {
   "cell_type": "code",
   "execution_count": 15,
   "metadata": {},
   "outputs": [
    {
     "name": "stdout",
     "output_type": "stream",
     "text": [
      "{'1': 'What is the level of ECR enzyme activity in Kitsatospor setae bacteria?', '2': 'How does ECR enzyme activity vary under different conditions?', '3': 'Are there any factors that enhance or inhibit ECR enzyme activity?'}\n"
     ]
    }
   ],
   "source": [
    "key_questions = question_decomposition['key_drivers']['1']['hypotheses']['1']['key_questions']\n",
    "print(key_questions)"
   ]
  },
  {
   "cell_type": "code",
   "execution_count": 47,
   "metadata": {},
   "outputs": [
    {
     "ename": "FileNotFoundError",
     "evalue": "[Errno 2] No such file or directory: 'autoscious_logs/decompositions/How_efficiently_do_the_ECR_enzymes_work__especially_in_Kitsatospor_setae_bacteria_.json'",
     "output_type": "error",
     "traceback": [
      "\u001b[1;31m---------------------------------------------------------------------------\u001b[0m",
      "\u001b[1;31mFileNotFoundError\u001b[0m                         Traceback (most recent call last)",
      "Cell \u001b[1;32mIn[47], line 1\u001b[0m\n\u001b[1;32m----> 1\u001b[0m \u001b[39mwith\u001b[39;00m \u001b[39mopen\u001b[39;49m(\u001b[39mf\u001b[39;49m\u001b[39m'\u001b[39;49m\u001b[39mautoscious_logs/decompositions/\u001b[39;49m\u001b[39m{\u001b[39;49;00msearch_query_file_safe\u001b[39m}\u001b[39;49;00m\u001b[39m.json\u001b[39;49m\u001b[39m'\u001b[39;49m, \u001b[39m'\u001b[39;49m\u001b[39mw\u001b[39;49m\u001b[39m'\u001b[39;49m) \u001b[39mas\u001b[39;00m f:\n\u001b[0;32m      2\u001b[0m     json\u001b[39m.\u001b[39mdump(question_decomposition, f, indent\u001b[39m=\u001b[39m\u001b[39m2\u001b[39m)\n",
      "File \u001b[1;32mc:\\Users\\1kevi\\Desktop\\projects\\Research\\autoscious-carbon-capture\\venv\\lib\\site-packages\\IPython\\core\\interactiveshell.py:284\u001b[0m, in \u001b[0;36m_modified_open\u001b[1;34m(file, *args, **kwargs)\u001b[0m\n\u001b[0;32m    277\u001b[0m \u001b[39mif\u001b[39;00m file \u001b[39min\u001b[39;00m {\u001b[39m0\u001b[39m, \u001b[39m1\u001b[39m, \u001b[39m2\u001b[39m}:\n\u001b[0;32m    278\u001b[0m     \u001b[39mraise\u001b[39;00m \u001b[39mValueError\u001b[39;00m(\n\u001b[0;32m    279\u001b[0m         \u001b[39mf\u001b[39m\u001b[39m\"\u001b[39m\u001b[39mIPython won\u001b[39m\u001b[39m'\u001b[39m\u001b[39mt let you open fd=\u001b[39m\u001b[39m{\u001b[39;00mfile\u001b[39m}\u001b[39;00m\u001b[39m by default \u001b[39m\u001b[39m\"\u001b[39m\n\u001b[0;32m    280\u001b[0m         \u001b[39m\"\u001b[39m\u001b[39mas it is likely to crash IPython. If you know what you are doing, \u001b[39m\u001b[39m\"\u001b[39m\n\u001b[0;32m    281\u001b[0m         \u001b[39m\"\u001b[39m\u001b[39myou can use builtins\u001b[39m\u001b[39m'\u001b[39m\u001b[39m open.\u001b[39m\u001b[39m\"\u001b[39m\n\u001b[0;32m    282\u001b[0m     )\n\u001b[1;32m--> 284\u001b[0m \u001b[39mreturn\u001b[39;00m io_open(file, \u001b[39m*\u001b[39margs, \u001b[39m*\u001b[39m\u001b[39m*\u001b[39mkwargs)\n",
      "\u001b[1;31mFileNotFoundError\u001b[0m: [Errno 2] No such file or directory: 'autoscious_logs/decompositions/How_efficiently_do_the_ECR_enzymes_work__especially_in_Kitsatospor_setae_bacteria_.json'"
     ]
    }
   ],
   "source": [
    "with open(f'autoscious_logs/decompositions/{search_query_file_safe}.json', 'w') as f:\n",
    "    json.dump(question_decomposition, f, indent=2)"
   ]
  },
  {
   "cell_type": "markdown",
   "metadata": {},
   "source": [
    "## Search"
   ]
  },
  {
   "cell_type": "code",
   "execution_count": 84,
   "metadata": {},
   "outputs": [
    {
     "name": "stdout",
     "output_type": "stream",
     "text": [
      "{'1': 'What is the level of ECR enzyme activity in Kitsatospor setae bacteria?', '2': 'How does ECR enzyme activity vary under different conditions?', '3': 'Are there any factors that enhance or inhibit ECR enzyme activity?'}\n"
     ]
    }
   ],
   "source": [
    "with open(r'C:\\Users\\1kevi\\Desktop\\projects\\Research\\autoscious-carbon-capture\\question_answering\\autoscious_logs\\decompositions\\How_efficiently_do_the_ECR_enzymes_work__especially_in_Kitsatospor_setae_bacteria_.json', 'r') as f:\n",
    "        question_decomposition = json.load(f)\n",
    "key_questions = question_decomposition['key_drivers']['1']['hypotheses']['1']['key_questions']\n",
    "print(key_questions)"
   ]
  },
  {
   "cell_type": "code",
   "execution_count": 37,
   "metadata": {},
   "outputs": [
    {
     "data": {
      "text/plain": [
       "'What is the level of ECR enzyme activity in Kitsatospor setae bacteria?'"
      ]
     },
     "execution_count": 37,
     "metadata": {},
     "output_type": "execute_result"
    }
   ],
   "source": [
    "key_questions['1']"
   ]
  },
  {
   "cell_type": "code",
   "execution_count": 17,
   "metadata": {},
   "outputs": [],
   "source": [
    "import json\n",
    "import time\n",
    "from itertools import islice\n",
    "from duckduckgo_search import DDGS\n",
    "DUCKDUCKGO_MAX_ATTEMPTS = 3"
   ]
  },
  {
   "cell_type": "code",
   "execution_count": 20,
   "metadata": {},
   "outputs": [],
   "source": [
    "# Taken from AutoGPT\n",
    "\n",
    "def safe_google_results(results: str | list) -> str:\n",
    "    \"\"\"\n",
    "        Return the results of a Google search in a safe format.\n",
    "\n",
    "    Args:\n",
    "        results (str | list): The search results.\n",
    "\n",
    "    Returns:\n",
    "        str: The results of the search.\n",
    "    \"\"\"\n",
    "    if isinstance(results, list):\n",
    "        safe_message = json.dumps(\n",
    "            [result.encode(\"utf-8\", \"ignore\").decode(\"utf-8\") for result in results]\n",
    "        )\n",
    "    else:\n",
    "        safe_message = results.encode(\"utf-8\", \"ignore\").decode(\"utf-8\")\n",
    "    return safe_message\n",
    "\n",
    "def web_search_ddg(query: str, num_results: int = 8) -> str:\n",
    "    print(\"searching from duck duck go!\")\n",
    "    \"\"\"Return the results of a Google search\n",
    "\n",
    "    Args:\n",
    "        query (str): The search query.\n",
    "        num_results (int): The number of results to return.\n",
    "\n",
    "    Returns:\n",
    "        str: The results of the search.\n",
    "    \"\"\"\n",
    "    search_results = []\n",
    "    attempts = 0\n",
    "\n",
    "    while attempts < DUCKDUCKGO_MAX_ATTEMPTS:\n",
    "        if not query:\n",
    "            return json.dumps(search_results)\n",
    "\n",
    "        results = DDGS().text(query)\n",
    "        search_results = list(islice(results, num_results))\n",
    "\n",
    "        if search_results:\n",
    "            break\n",
    "\n",
    "        time.sleep(1)\n",
    "        attempts += 1\n",
    "\n",
    "    results = json.dumps(search_results, ensure_ascii=False, indent=4)\n",
    "    return safe_google_results(results)"
   ]
  },
  {
   "cell_type": "code",
   "execution_count": 21,
   "metadata": {},
   "outputs": [
    {
     "name": "stdout",
     "output_type": "stream",
     "text": [
      "searching from duck duck go!\n"
     ]
    }
   ],
   "source": [
    "web_search_res = web_search_ddg(key_questions['1'])"
   ]
  },
  {
   "cell_type": "code",
   "execution_count": 22,
   "metadata": {},
   "outputs": [
    {
     "data": {
      "text/plain": [
       "'[\\n    {\\n        \"title\": \"Intersubunit Coupling Enables Fast CO2-Fixation by Reductive ...\",\\n        \"href\": \"https://pubs.acs.org/doi/10.1021/acscentsci.2c00057\",\\n        \"body\": \"Here we used a combination of ambient-temperature X-ray free electron laser (XFEL) and cryogenic synchrotron experiments to study the structural organization of the ECR from Kitasatospora setae. The K. setae ECR is a homotetramer that differentiates into a pair of dimers of open- and closed-form subunits in the catalytically active state. Using ...\"\\n    },\\n    {\\n        \"title\": \"In the active centre of carbon dioxide conversion\",\\n        \"href\": \"https://www.mpg.de/13672605/0705-terr-138345-nature-s-fantastic-four\",\\n        \"body\": \"They analyzed the ECR from the bacterium Kitasatospora setae, currently the fastest known carboxylase. Using a combined approach of structural biology, biochemistry and computer simulations, they were able to understand for the first time how the enzyme binds and converts CO 2. Teamwork in the active centre\"\\n    },\\n    {\\n        \"title\": \"Significance of serum enzyme changes after cardiac catheterization and ...\",\\n        \"href\": \"https://www.ncbi.nlm.nih.gov/pmc/articles/PMC482977/\",\\n        \"body\": \"Five of these patients whose serum enzyme levels were higher than normal before the procedure were excluded from the study. Forty-one of the remaining 51 patients had left ventriculography and also selective coronary arteriography. In these 41 patients (groups 1 and 2--see below), the mean serum CK levels increased after the procedure to exceed ...\"\\n    },\\n    {\\n        \"title\": \"Bacterial Enzyme Converts CO2 Into Carbon Compounds 20x ... - SciTechDaily\",\\n        \"href\": \"https://scitechdaily.com/bacterial-enzyme-converts-co2-into-carbon-compounds-20x-faster-than-photosynthesis/\",\\n        \"body\": \"Improving on nature The enzyme the team studied is part of a family called enoyl-CoA carboxylases/reductases, or ECRs. It comes from soil bacteria called Kitasatospora setae, which in addition to their carbon-fixing skills can also produce antibiotics.\"\\n    },\\n    {\\n        \"title\": \"Awakening the Sleeping Carboxylase Function of Enzymes: Engineering the ...\",\\n        \"href\": \"https://pubs.acs.org/doi/10.1021/jacs.9b03431\",\\n        \"body\": \"However, for enoyl-CoA carboxylase/reductase from Kitasatospora setae (ECR Ks), four conserved amino acids that form a CO 2-binding pocket at the active site were described recently (Figure 1a). These four amino acids anchor and position the CO 2 molecule during catalysis, in which a reactive enolate is formed that attacks the CO 2. Figure 1\"\\n    },\\n    {\\n        \"title\": \"Four amino acids define the CO 2 binding pocket of enoyl-CoA ... - PNAS\",\\n        \"href\": \"https://www.pnas.org/doi/10.1073/pnas.1901471116\",\\n        \"body\": \"Abstract Carboxylases are biocatalysts that capture and convert carbon dioxide (CO 2) under mild conditions and atmospheric concentrations at a scale of more than 400 Gt annually. However, how these enzymes bind and control the gaseous CO 2 molecule during catalysis is only poorly understood.\"\\n    },\\n    {\\n        \"title\": \"Taxonomy browser (Kitasatospora setae KM-6054) - National Center for ...\",\\n        \"href\": \"https://www.ncbi.nlm.nih.gov/Taxonomy/Browser/wwwtax.cgi?id=452652\",\\n        \"body\": \"levels using filter: Kitasatospora setae KM-6054 Taxonomy ID: 452652 (for references in articles please use NCBI:txid452652) current name. Kitasatospora setae KM-6054. equivalent: ... Kitasatospora setae strain KM-6054. NCBI BLAST name: high G+C Gram-positive bacteria Rank: strain Genetic code: Translation table 11 (Bacterial, Archaeal and ...\"\\n    },\\n    {\\n        \"title\": \"Protease Activity Analysis: A Toolkit for Analyzing Enzyme Activity ...\",\\n        \"href\": \"https://pubs.acs.org/doi/10.1021/acsomega.2c01559\",\\n        \"body\": \"Analyzing the activity of proteases and their substrates is critical to defining the biological functions of these enzymes and to designing new diagnostics and therapeutics that target protease dysregulation in disease. While a wide range of databases and algorithms have been created to better predict protease cleavage sites, there is a dearth of computational tools to automate analysis of in ...\"\\n    }\\n]'"
      ]
     },
     "execution_count": 22,
     "metadata": {},
     "output_type": "execute_result"
    }
   ],
   "source": [
    "web_search_res"
   ]
  },
  {
   "cell_type": "code",
   "execution_count": 51,
   "metadata": {},
   "outputs": [],
   "source": [
    "# save to main\n",
    "file_name_safe = sanitize_filename(key_questions['1'])\n",
    "\n",
    "with open(f'autoscious_logs/web_search/{file_name_safe}.json', 'w') as f:\n",
    "    json.dump(web_search_res, f, indent=2)"
   ]
  },
  {
   "cell_type": "markdown",
   "metadata": {},
   "source": [
    "## Browse websites"
   ]
  },
  {
   "cell_type": "code",
   "execution_count": 46,
   "metadata": {},
   "outputs": [
    {
     "ename": "NoConsoleScreenBufferError",
     "evalue": "Found xterm-color, while expecting a Windows console. Maybe try to run this program using \"winpty\" or run it in cmd.exe instead. Or otherwise, in case of Cygwin, use the Python executable that is compiled for Cygwin.",
     "output_type": "error",
     "traceback": [
      "\u001b[1;31m---------------------------------------------------------------------------\u001b[0m",
      "\u001b[1;31mNoConsoleScreenBufferError\u001b[0m                Traceback (most recent call last)",
      "Cell \u001b[1;32mIn[46], line 1\u001b[0m\n\u001b[1;32m----> 1\u001b[0m \u001b[39mfrom\u001b[39;00m \u001b[39mautogpt\u001b[39;00m\u001b[39m.\u001b[39;00m\u001b[39mcommands\u001b[39;00m\u001b[39m.\u001b[39;00m\u001b[39mweb_selenium\u001b[39;00m \u001b[39mimport\u001b[39;00m browse_website\n",
      "File \u001b[1;32mc:\\Users\\1kevi\\Desktop\\projects\\Research\\autoscious-carbon-capture\\question_answering\\autogpt\\commands\\web_selenium.py:30\u001b[0m\n\u001b[0;32m     27\u001b[0m \u001b[39mfrom\u001b[39;00m \u001b[39mwebdriver_manager\u001b[39;00m\u001b[39m.\u001b[39;00m\u001b[39mfirefox\u001b[39;00m \u001b[39mimport\u001b[39;00m GeckoDriverManager\n\u001b[0;32m     28\u001b[0m \u001b[39mfrom\u001b[39;00m \u001b[39mwebdriver_manager\u001b[39;00m\u001b[39m.\u001b[39;00m\u001b[39mmicrosoft\u001b[39;00m \u001b[39mimport\u001b[39;00m EdgeChromiumDriverManager \u001b[39mas\u001b[39;00m EdgeDriverManager\n\u001b[1;32m---> 30\u001b[0m \u001b[39mfrom\u001b[39;00m \u001b[39mautogpt\u001b[39;00m\u001b[39m.\u001b[39;00m\u001b[39magents\u001b[39;00m\u001b[39m.\u001b[39;00m\u001b[39magent\u001b[39;00m \u001b[39mimport\u001b[39;00m Agent\n\u001b[0;32m     31\u001b[0m \u001b[39mfrom\u001b[39;00m \u001b[39mautogpt\u001b[39;00m\u001b[39m.\u001b[39;00m\u001b[39mcommand_decorator\u001b[39;00m \u001b[39mimport\u001b[39;00m command\n\u001b[0;32m     32\u001b[0m \u001b[39mfrom\u001b[39;00m \u001b[39mautogpt\u001b[39;00m\u001b[39m.\u001b[39;00m\u001b[39mlogs\u001b[39;00m \u001b[39mimport\u001b[39;00m logger\n",
      "File \u001b[1;32mc:\\Users\\1kevi\\Desktop\\projects\\Research\\autoscious-carbon-capture\\question_answering\\autogpt\\agents\\__init__.py:1\u001b[0m\n\u001b[1;32m----> 1\u001b[0m \u001b[39mfrom\u001b[39;00m \u001b[39m.\u001b[39;00m\u001b[39magent\u001b[39;00m \u001b[39mimport\u001b[39;00m Agent\n\u001b[0;32m      2\u001b[0m \u001b[39mfrom\u001b[39;00m \u001b[39m.\u001b[39;00m\u001b[39mbase\u001b[39;00m \u001b[39mimport\u001b[39;00m AgentThoughts, BaseAgent, CommandArgs, CommandName\n\u001b[0;32m      4\u001b[0m __all__ \u001b[39m=\u001b[39m [\u001b[39m\"\u001b[39m\u001b[39mBaseAgent\u001b[39m\u001b[39m\"\u001b[39m, \u001b[39m\"\u001b[39m\u001b[39mAgent\u001b[39m\u001b[39m\"\u001b[39m, \u001b[39m\"\u001b[39m\u001b[39mCommandName\u001b[39m\u001b[39m\"\u001b[39m, \u001b[39m\"\u001b[39m\u001b[39mCommandArgs\u001b[39m\u001b[39m\"\u001b[39m, \u001b[39m\"\u001b[39m\u001b[39mAgentThoughts\u001b[39m\u001b[39m\"\u001b[39m]\n",
      "File \u001b[1;32mc:\\Users\\1kevi\\Desktop\\projects\\Research\\autoscious-carbon-capture\\question_answering\\autogpt\\agents\\agent.py:27\u001b[0m\n\u001b[0;32m     19\u001b[0m \u001b[39mfrom\u001b[39;00m \u001b[39mautogpt\u001b[39;00m\u001b[39m.\u001b[39;00m\u001b[39mlogs\u001b[39;00m\u001b[39m.\u001b[39;00m\u001b[39mlog_cycle\u001b[39;00m \u001b[39mimport\u001b[39;00m (\n\u001b[0;32m     20\u001b[0m     FULL_MESSAGE_HISTORY_FILE_NAME,\n\u001b[0;32m     21\u001b[0m     NEXT_ACTION_FILE_NAME,\n\u001b[0;32m     22\u001b[0m     USER_INPUT_FILE_NAME,\n\u001b[0;32m     23\u001b[0m     LogCycleHandler,\n\u001b[0;32m     24\u001b[0m )\n\u001b[0;32m     25\u001b[0m \u001b[39mfrom\u001b[39;00m \u001b[39mautogpt\u001b[39;00m\u001b[39m.\u001b[39;00m\u001b[39mworkspace\u001b[39;00m \u001b[39mimport\u001b[39;00m Workspace\n\u001b[1;32m---> 27\u001b[0m \u001b[39mfrom\u001b[39;00m \u001b[39m.\u001b[39;00m\u001b[39mbase\u001b[39;00m \u001b[39mimport\u001b[39;00m AgentThoughts, BaseAgent, CommandArgs, CommandName\n\u001b[0;32m     30\u001b[0m \u001b[39mclass\u001b[39;00m \u001b[39mAgent\u001b[39;00m(BaseAgent):\n\u001b[0;32m     31\u001b[0m \u001b[39m    \u001b[39m\u001b[39m\"\"\"Agent class for interacting with Auto-GPT.\"\"\"\u001b[39;00m\n",
      "File \u001b[1;32mc:\\Users\\1kevi\\Desktop\\projects\\Research\\autoscious-carbon-capture\\question_answering\\autogpt\\agents\\base.py:16\u001b[0m\n\u001b[0;32m     14\u001b[0m \u001b[39mfrom\u001b[39;00m \u001b[39mautogpt\u001b[39;00m\u001b[39m.\u001b[39;00m\u001b[39mlogs\u001b[39;00m \u001b[39mimport\u001b[39;00m logger\n\u001b[0;32m     15\u001b[0m \u001b[39mfrom\u001b[39;00m \u001b[39mautogpt\u001b[39;00m\u001b[39m.\u001b[39;00m\u001b[39mmemory\u001b[39;00m\u001b[39m.\u001b[39;00m\u001b[39mmessage_history\u001b[39;00m \u001b[39mimport\u001b[39;00m MessageHistory\n\u001b[1;32m---> 16\u001b[0m \u001b[39mfrom\u001b[39;00m \u001b[39mautogpt\u001b[39;00m\u001b[39m.\u001b[39;00m\u001b[39mprompts\u001b[39;00m\u001b[39m.\u001b[39;00m\u001b[39mprompt\u001b[39;00m \u001b[39mimport\u001b[39;00m DEFAULT_TRIGGERING_PROMPT\n\u001b[0;32m     18\u001b[0m CommandName \u001b[39m=\u001b[39m \u001b[39mstr\u001b[39m\n\u001b[0;32m     19\u001b[0m CommandArgs \u001b[39m=\u001b[39m \u001b[39mdict\u001b[39m[\u001b[39mstr\u001b[39m, \u001b[39mstr\u001b[39m]\n",
      "File \u001b[1;32mc:\\Users\\1kevi\\Desktop\\projects\\Research\\autoscious-carbon-capture\\question_answering\\autogpt\\prompts\\prompt.py:2\u001b[0m\n\u001b[0;32m      1\u001b[0m \u001b[39mfrom\u001b[39;00m \u001b[39mautogpt\u001b[39;00m\u001b[39m.\u001b[39;00m\u001b[39mconfig\u001b[39;00m\u001b[39m.\u001b[39;00m\u001b[39mconfig\u001b[39;00m \u001b[39mimport\u001b[39;00m Config\n\u001b[1;32m----> 2\u001b[0m \u001b[39mfrom\u001b[39;00m \u001b[39mautogpt\u001b[39;00m\u001b[39m.\u001b[39;00m\u001b[39mconfig\u001b[39;00m\u001b[39m.\u001b[39;00m\u001b[39mprompt_config\u001b[39;00m \u001b[39mimport\u001b[39;00m PromptConfig\n\u001b[0;32m      3\u001b[0m \u001b[39mfrom\u001b[39;00m \u001b[39mautogpt\u001b[39;00m\u001b[39m.\u001b[39;00m\u001b[39mprompts\u001b[39;00m\u001b[39m.\u001b[39;00m\u001b[39mgenerator\u001b[39;00m \u001b[39mimport\u001b[39;00m PromptGenerator\n\u001b[0;32m      5\u001b[0m DEFAULT_TRIGGERING_PROMPT \u001b[39m=\u001b[39m \u001b[39m\"\u001b[39m\u001b[39mDetermine exactly one command to use, and respond using the JSON schema specified previously:\u001b[39m\u001b[39m\"\u001b[39m\n",
      "File \u001b[1;32mc:\\Users\\1kevi\\Desktop\\projects\\Research\\autoscious-carbon-capture\\question_answering\\autogpt\\config\\prompt_config.py:8\u001b[0m\n\u001b[0;32m      5\u001b[0m \u001b[39mimport\u001b[39;00m \u001b[39myaml\u001b[39;00m\n\u001b[0;32m      6\u001b[0m \u001b[39mfrom\u001b[39;00m \u001b[39mcolorama\u001b[39;00m \u001b[39mimport\u001b[39;00m Fore\n\u001b[1;32m----> 8\u001b[0m \u001b[39mfrom\u001b[39;00m \u001b[39mautogpt\u001b[39;00m \u001b[39mimport\u001b[39;00m utils\n\u001b[0;32m      9\u001b[0m \u001b[39mfrom\u001b[39;00m \u001b[39mautogpt\u001b[39;00m\u001b[39m.\u001b[39;00m\u001b[39mlogs\u001b[39;00m \u001b[39mimport\u001b[39;00m logger\n\u001b[0;32m     12\u001b[0m \u001b[39mclass\u001b[39;00m \u001b[39mPromptConfig\u001b[39;00m:\n",
      "File \u001b[1;32mc:\\Users\\1kevi\\Desktop\\projects\\Research\\autoscious-carbon-capture\\question_answering\\autogpt\\utils.py:14\u001b[0m\n\u001b[0;32m     11\u001b[0m \u001b[39mfrom\u001b[39;00m \u001b[39mautogpt\u001b[39;00m\u001b[39m.\u001b[39;00m\u001b[39mconfig\u001b[39;00m \u001b[39mimport\u001b[39;00m Config\n\u001b[0;32m     12\u001b[0m \u001b[39mfrom\u001b[39;00m \u001b[39mautogpt\u001b[39;00m\u001b[39m.\u001b[39;00m\u001b[39mlogs\u001b[39;00m \u001b[39mimport\u001b[39;00m logger\n\u001b[1;32m---> 14\u001b[0m session \u001b[39m=\u001b[39m PromptSession(history\u001b[39m=\u001b[39;49mInMemoryHistory())\n\u001b[0;32m     17\u001b[0m \u001b[39mdef\u001b[39;00m \u001b[39mbatch\u001b[39m(iterable, max_batch_length: \u001b[39mint\u001b[39m, overlap: \u001b[39mint\u001b[39m \u001b[39m=\u001b[39m \u001b[39m0\u001b[39m):\n\u001b[0;32m     18\u001b[0m \u001b[39m    \u001b[39m\u001b[39m\"\"\"Batch data from iterable into slices of length N. The last batch may be shorter.\"\"\"\u001b[39;00m\n",
      "File \u001b[1;32mc:\\Users\\1kevi\\Desktop\\projects\\Research\\autoscious-carbon-capture\\venv\\lib\\site-packages\\prompt_toolkit\\shortcuts\\prompt.py:466\u001b[0m, in \u001b[0;36mPromptSession.__init__\u001b[1;34m(self, message, multiline, wrap_lines, is_password, vi_mode, editing_mode, complete_while_typing, validate_while_typing, enable_history_search, search_ignore_case, lexer, enable_system_prompt, enable_suspend, enable_open_in_editor, validator, completer, complete_in_thread, reserve_space_for_menu, complete_style, auto_suggest, style, style_transformation, swap_light_and_dark_colors, color_depth, cursor, include_default_pygments_style, history, clipboard, prompt_continuation, rprompt, bottom_toolbar, mouse_support, input_processors, placeholder, key_bindings, erase_when_done, tempfile_suffix, tempfile, refresh_interval, input, output)\u001b[0m\n\u001b[0;32m    464\u001b[0m \u001b[39mself\u001b[39m\u001b[39m.\u001b[39msearch_buffer \u001b[39m=\u001b[39m \u001b[39mself\u001b[39m\u001b[39m.\u001b[39m_create_search_buffer()\n\u001b[0;32m    465\u001b[0m \u001b[39mself\u001b[39m\u001b[39m.\u001b[39mlayout \u001b[39m=\u001b[39m \u001b[39mself\u001b[39m\u001b[39m.\u001b[39m_create_layout()\n\u001b[1;32m--> 466\u001b[0m \u001b[39mself\u001b[39m\u001b[39m.\u001b[39mapp \u001b[39m=\u001b[39m \u001b[39mself\u001b[39;49m\u001b[39m.\u001b[39;49m_create_application(editing_mode, erase_when_done)\n",
      "File \u001b[1;32mc:\\Users\\1kevi\\Desktop\\projects\\Research\\autoscious-carbon-capture\\venv\\lib\\site-packages\\prompt_toolkit\\shortcuts\\prompt.py:717\u001b[0m, in \u001b[0;36mPromptSession._create_application\u001b[1;34m(self, editing_mode, erase_when_done)\u001b[0m\n\u001b[0;32m    714\u001b[0m prompt_bindings \u001b[39m=\u001b[39m \u001b[39mself\u001b[39m\u001b[39m.\u001b[39m_create_prompt_bindings()\n\u001b[0;32m    716\u001b[0m \u001b[39m# Create application\u001b[39;00m\n\u001b[1;32m--> 717\u001b[0m application: Application[_T] \u001b[39m=\u001b[39m Application(\n\u001b[0;32m    718\u001b[0m     layout\u001b[39m=\u001b[39;49m\u001b[39mself\u001b[39;49m\u001b[39m.\u001b[39;49mlayout,\n\u001b[0;32m    719\u001b[0m     style\u001b[39m=\u001b[39;49mDynamicStyle(\u001b[39mlambda\u001b[39;49;00m: \u001b[39mself\u001b[39;49m\u001b[39m.\u001b[39;49mstyle),\n\u001b[0;32m    720\u001b[0m     style_transformation\u001b[39m=\u001b[39;49mmerge_style_transformations(\n\u001b[0;32m    721\u001b[0m         [\n\u001b[0;32m    722\u001b[0m             DynamicStyleTransformation(\u001b[39mlambda\u001b[39;49;00m: \u001b[39mself\u001b[39;49m\u001b[39m.\u001b[39;49mstyle_transformation),\n\u001b[0;32m    723\u001b[0m             ConditionalStyleTransformation(\n\u001b[0;32m    724\u001b[0m                 SwapLightAndDarkStyleTransformation(),\n\u001b[0;32m    725\u001b[0m                 dyncond(\u001b[39m\"\u001b[39;49m\u001b[39mswap_light_and_dark_colors\u001b[39;49m\u001b[39m\"\u001b[39;49m),\n\u001b[0;32m    726\u001b[0m             ),\n\u001b[0;32m    727\u001b[0m         ]\n\u001b[0;32m    728\u001b[0m     ),\n\u001b[0;32m    729\u001b[0m     include_default_pygments_style\u001b[39m=\u001b[39;49mdyncond(\u001b[39m\"\u001b[39;49m\u001b[39minclude_default_pygments_style\u001b[39;49m\u001b[39m\"\u001b[39;49m),\n\u001b[0;32m    730\u001b[0m     clipboard\u001b[39m=\u001b[39;49mDynamicClipboard(\u001b[39mlambda\u001b[39;49;00m: \u001b[39mself\u001b[39;49m\u001b[39m.\u001b[39;49mclipboard),\n\u001b[0;32m    731\u001b[0m     key_bindings\u001b[39m=\u001b[39;49mmerge_key_bindings(\n\u001b[0;32m    732\u001b[0m         [\n\u001b[0;32m    733\u001b[0m             merge_key_bindings(\n\u001b[0;32m    734\u001b[0m                 [\n\u001b[0;32m    735\u001b[0m                     auto_suggest_bindings,\n\u001b[0;32m    736\u001b[0m                     ConditionalKeyBindings(\n\u001b[0;32m    737\u001b[0m                         open_in_editor_bindings,\n\u001b[0;32m    738\u001b[0m                         dyncond(\u001b[39m\"\u001b[39;49m\u001b[39menable_open_in_editor\u001b[39;49m\u001b[39m\"\u001b[39;49m)\n\u001b[0;32m    739\u001b[0m                         \u001b[39m&\u001b[39;49m has_focus(DEFAULT_BUFFER),\n\u001b[0;32m    740\u001b[0m                     ),\n\u001b[0;32m    741\u001b[0m                     prompt_bindings,\n\u001b[0;32m    742\u001b[0m                 ]\n\u001b[0;32m    743\u001b[0m             ),\n\u001b[0;32m    744\u001b[0m             DynamicKeyBindings(\u001b[39mlambda\u001b[39;49;00m: \u001b[39mself\u001b[39;49m\u001b[39m.\u001b[39;49mkey_bindings),\n\u001b[0;32m    745\u001b[0m         ]\n\u001b[0;32m    746\u001b[0m     ),\n\u001b[0;32m    747\u001b[0m     mouse_support\u001b[39m=\u001b[39;49mdyncond(\u001b[39m\"\u001b[39;49m\u001b[39mmouse_support\u001b[39;49m\u001b[39m\"\u001b[39;49m),\n\u001b[0;32m    748\u001b[0m     editing_mode\u001b[39m=\u001b[39;49mediting_mode,\n\u001b[0;32m    749\u001b[0m     erase_when_done\u001b[39m=\u001b[39;49merase_when_done,\n\u001b[0;32m    750\u001b[0m     reverse_vi_search_direction\u001b[39m=\u001b[39;49m\u001b[39mTrue\u001b[39;49;00m,\n\u001b[0;32m    751\u001b[0m     color_depth\u001b[39m=\u001b[39;49m\u001b[39mlambda\u001b[39;49;00m: \u001b[39mself\u001b[39;49m\u001b[39m.\u001b[39;49mcolor_depth,\n\u001b[0;32m    752\u001b[0m     cursor\u001b[39m=\u001b[39;49mDynamicCursorShapeConfig(\u001b[39mlambda\u001b[39;49;00m: \u001b[39mself\u001b[39;49m\u001b[39m.\u001b[39;49mcursor),\n\u001b[0;32m    753\u001b[0m     refresh_interval\u001b[39m=\u001b[39;49m\u001b[39mself\u001b[39;49m\u001b[39m.\u001b[39;49mrefresh_interval,\n\u001b[0;32m    754\u001b[0m     \u001b[39minput\u001b[39;49m\u001b[39m=\u001b[39;49m\u001b[39mself\u001b[39;49m\u001b[39m.\u001b[39;49m_input,\n\u001b[0;32m    755\u001b[0m     output\u001b[39m=\u001b[39;49m\u001b[39mself\u001b[39;49m\u001b[39m.\u001b[39;49m_output,\n\u001b[0;32m    756\u001b[0m )\n\u001b[0;32m    758\u001b[0m \u001b[39m# During render time, make sure that we focus the right search control\u001b[39;00m\n\u001b[0;32m    759\u001b[0m \u001b[39m# (if we are searching). - This could be useful if people make the\u001b[39;00m\n\u001b[0;32m    760\u001b[0m \u001b[39m# 'multiline' property dynamic.\u001b[39;00m\n\u001b[0;32m    761\u001b[0m \u001b[39m\u001b[39m\u001b[39m\"\"\"\u001b[39;00m\n\u001b[0;32m    762\u001b[0m \u001b[39mdef on_render(app):\u001b[39;00m\n\u001b[0;32m    763\u001b[0m \u001b[39m    multiline = is_true(self.multiline)\u001b[39;00m\n\u001b[1;32m   (...)\u001b[0m\n\u001b[0;32m    775\u001b[0m \u001b[39mapp.on_render += on_render\u001b[39;00m\n\u001b[0;32m    776\u001b[0m \u001b[39m\"\"\"\u001b[39;00m\n",
      "File \u001b[1;32mc:\\Users\\1kevi\\Desktop\\projects\\Research\\autoscious-carbon-capture\\venv\\lib\\site-packages\\prompt_toolkit\\application\\application.py:265\u001b[0m, in \u001b[0;36mApplication.__init__\u001b[1;34m(self, layout, style, include_default_pygments_style, style_transformation, key_bindings, clipboard, full_screen, color_depth, mouse_support, enable_page_navigation_bindings, paste_mode, editing_mode, erase_when_done, reverse_vi_search_direction, min_redraw_interval, max_render_postpone_time, refresh_interval, terminal_size_polling_interval, cursor, on_reset, on_invalidate, before_render, after_render, input, output)\u001b[0m\n\u001b[0;32m    263\u001b[0m \u001b[39m# I/O.\u001b[39;00m\n\u001b[0;32m    264\u001b[0m session \u001b[39m=\u001b[39m get_app_session()\n\u001b[1;32m--> 265\u001b[0m \u001b[39mself\u001b[39m\u001b[39m.\u001b[39moutput \u001b[39m=\u001b[39m output \u001b[39mor\u001b[39;00m session\u001b[39m.\u001b[39;49moutput\n\u001b[0;32m    266\u001b[0m \u001b[39mself\u001b[39m\u001b[39m.\u001b[39minput \u001b[39m=\u001b[39m \u001b[39minput\u001b[39m \u001b[39mor\u001b[39;00m session\u001b[39m.\u001b[39minput\n\u001b[0;32m    268\u001b[0m \u001b[39m# List of 'extra' functions to execute before a Application.run.\u001b[39;00m\n",
      "File \u001b[1;32mc:\\Users\\1kevi\\Desktop\\projects\\Research\\autoscious-carbon-capture\\venv\\lib\\site-packages\\prompt_toolkit\\application\\current.py:68\u001b[0m, in \u001b[0;36mAppSession.output\u001b[1;34m(self)\u001b[0m\n\u001b[0;32m     65\u001b[0m \u001b[39mif\u001b[39;00m \u001b[39mself\u001b[39m\u001b[39m.\u001b[39m_output \u001b[39mis\u001b[39;00m \u001b[39mNone\u001b[39;00m:\n\u001b[0;32m     66\u001b[0m     \u001b[39mfrom\u001b[39;00m \u001b[39mprompt_toolkit\u001b[39;00m\u001b[39m.\u001b[39;00m\u001b[39moutput\u001b[39;00m\u001b[39m.\u001b[39;00m\u001b[39mdefaults\u001b[39;00m \u001b[39mimport\u001b[39;00m create_output\n\u001b[1;32m---> 68\u001b[0m     \u001b[39mself\u001b[39m\u001b[39m.\u001b[39m_output \u001b[39m=\u001b[39m create_output()\n\u001b[0;32m     69\u001b[0m \u001b[39mreturn\u001b[39;00m \u001b[39mself\u001b[39m\u001b[39m.\u001b[39m_output\n",
      "File \u001b[1;32mc:\\Users\\1kevi\\Desktop\\projects\\Research\\autoscious-carbon-capture\\venv\\lib\\site-packages\\prompt_toolkit\\output\\defaults.py:87\u001b[0m, in \u001b[0;36mcreate_output\u001b[1;34m(stdout, always_prefer_tty)\u001b[0m\n\u001b[0;32m     83\u001b[0m         \u001b[39mreturn\u001b[39;00m cast(\n\u001b[0;32m     84\u001b[0m             Output, ConEmuOutput(stdout, default_color_depth\u001b[39m=\u001b[39mcolor_depth_from_env)\n\u001b[0;32m     85\u001b[0m         )\n\u001b[0;32m     86\u001b[0m     \u001b[39melse\u001b[39;00m:\n\u001b[1;32m---> 87\u001b[0m         \u001b[39mreturn\u001b[39;00m Win32Output(stdout, default_color_depth\u001b[39m=\u001b[39;49mcolor_depth_from_env)\n\u001b[0;32m     88\u001b[0m \u001b[39melse\u001b[39;00m:\n\u001b[0;32m     89\u001b[0m     \u001b[39mfrom\u001b[39;00m \u001b[39m.\u001b[39;00m\u001b[39mvt100\u001b[39;00m \u001b[39mimport\u001b[39;00m Vt100_Output\n",
      "File \u001b[1;32mc:\\Users\\1kevi\\Desktop\\projects\\Research\\autoscious-carbon-capture\\venv\\lib\\site-packages\\prompt_toolkit\\output\\win32.py:116\u001b[0m, in \u001b[0;36mWin32Output.__init__\u001b[1;34m(self, stdout, use_complete_width, default_color_depth)\u001b[0m\n\u001b[0;32m    113\u001b[0m \u001b[39mself\u001b[39m\u001b[39m.\u001b[39mcolor_lookup_table \u001b[39m=\u001b[39m ColorLookupTable()\n\u001b[0;32m    115\u001b[0m \u001b[39m# Remember the default console colors.\u001b[39;00m\n\u001b[1;32m--> 116\u001b[0m info \u001b[39m=\u001b[39m \u001b[39mself\u001b[39;49m\u001b[39m.\u001b[39;49mget_win32_screen_buffer_info()\n\u001b[0;32m    117\u001b[0m \u001b[39mself\u001b[39m\u001b[39m.\u001b[39mdefault_attrs \u001b[39m=\u001b[39m info\u001b[39m.\u001b[39mwAttributes \u001b[39mif\u001b[39;00m info \u001b[39melse\u001b[39;00m \u001b[39m15\u001b[39m\n\u001b[0;32m    119\u001b[0m \u001b[39mif\u001b[39;00m _DEBUG_RENDER_OUTPUT:\n",
      "File \u001b[1;32mc:\\Users\\1kevi\\Desktop\\projects\\Research\\autoscious-carbon-capture\\venv\\lib\\site-packages\\prompt_toolkit\\output\\win32.py:220\u001b[0m, in \u001b[0;36mWin32Output.get_win32_screen_buffer_info\u001b[1;34m(self)\u001b[0m\n\u001b[0;32m    218\u001b[0m     \u001b[39mreturn\u001b[39;00m sbinfo\n\u001b[0;32m    219\u001b[0m \u001b[39melse\u001b[39;00m:\n\u001b[1;32m--> 220\u001b[0m     \u001b[39mraise\u001b[39;00m NoConsoleScreenBufferError\n",
      "\u001b[1;31mNoConsoleScreenBufferError\u001b[0m: Found xterm-color, while expecting a Windows console. Maybe try to run this program using \"winpty\" or run it in cmd.exe instead. Or otherwise, in case of Cygwin, use the Python executable that is compiled for Cygwin."
     ]
    }
   ],
   "source": [
    "from autogpt.commands.web_selenium import browse_website"
   ]
  },
  {
   "cell_type": "markdown",
   "metadata": {},
   "source": [
    "## Extract relevant facts and evidence for key question"
   ]
  },
  {
   "cell_type": "code",
   "execution_count": null,
   "metadata": {},
   "outputs": [],
   "source": [
    "# Testing and reading website code is in browse_websites.py"
   ]
  },
  {
   "cell_type": "code",
   "execution_count": 111,
   "metadata": {},
   "outputs": [
    {
     "name": "stdout",
     "output_type": "stream",
     "text": [
      "{'1': 'What is the level of ECR enzyme activity in Kitsatospor setae bacteria?', '2': 'How does ECR enzyme activity vary under different conditions?', '3': 'Are there any factors that enhance or inhibit ECR enzyme activity?'}\n"
     ]
    }
   ],
   "source": [
    "with open(r'C:\\Users\\1kevi\\Desktop\\projects\\Research\\autoscious-carbon-capture\\question_answering\\autoscious_logs\\decompositions\\How_efficiently_do_the_ECR_enzymes_work__especially_in_Kitsatospor_setae_bacteria_.json', 'r') as f:\n",
    "        question_decomposition = json.load(f)\n",
    "key_questions = question_decomposition['key_drivers']['1']['hypotheses']['1']['key_questions']\n",
    "print(key_questions)"
   ]
  },
  {
   "cell_type": "code",
   "execution_count": 113,
   "metadata": {},
   "outputs": [
    {
     "name": "stdout",
     "output_type": "stream",
     "text": [
      "1. What is the level of ECR enzyme activity in Kitsatospor setae bacteria?\n",
      "2. How does ECR enzyme activity vary under different conditions?\n",
      "3. Are there any factors that enhance or inhibit ECR enzyme activity?\n",
      "\n"
     ]
    }
   ],
   "source": [
    "numbered_key_questions_string = \"\"\n",
    "# Iterate over each item in the dictionary\n",
    "for key, value in key_questions.items():\n",
    "    # Extract the first two words from the question\n",
    "    first_two_words = ' '.join(value.split())\n",
    "    # Add the new line to the string, using the key as the number and the first two words as the question\n",
    "    numbered_key_questions_string += f'{key}. {first_two_words}\\n'\n",
    "\n",
    "print(numbered_key_questions_string)"
   ]
  },
  {
   "cell_type": "code",
   "execution_count": 53,
   "metadata": {},
   "outputs": [],
   "source": [
    "key_question = \"What is the level of ECR enzyme activity in Kitsatospor setae bacteria?\""
   ]
  },
  {
   "cell_type": "code",
   "execution_count": 92,
   "metadata": {},
   "outputs": [
    {
     "name": "stdout",
     "output_type": "stream",
     "text": [
      "In order to overcome the climate crisis, two measures are required: The reduction of carbon dioxide (CO2) emissions, and removal of CO2 from the earth atmosphere. The latter is the goal of Tobias Erb's research group at the Max Planck Institute for Terrestrial Microbiology in Marburg. Their approaches not only aim to benefit climate protection, but also to secure sustainability in the long term: to filter CO2 from the air and make it usable for technology.\n",
      "The Carboxylase active site: Four amino acids are important for CO2 binding in highly efficient CO2 fixing enzymes.\n",
      "© Max-Planck-Institute for Terrestrial Microbiology/Erb\n",
      "The Carboxylase active site: Four amino acids are important for CO2 binding in highly efficient CO2 fixing enzymes.\n",
      "© Max-Planck-Institute for Terrestrial Microbiology/Erb\n",
      "Filtering CO2 efficiently from the air - nature can do this through photosynthesis, converting CO2 into biomass. Unlike industrial technologies which can only use the gas in a highly concentrated form (which in turn consumes fossil energy), photosynthesis works directly with ambient air containing only 0.4% gaseous carbon dioxide. Its secret lies in the enzymes, proteins that act as catalysts to mediate specific chemical reactions, such as the fixation of CO2. In photosynthesis, this reaction is driven by the enzyme RubisCO. However, the efficiency of natural photosynthesis is not very high: in more than a fourth of all cases, RubisCO metabolizes oxygen from the air, which is a strong competitor of CO2 in this reaction.ECR enzymes are faster and more precise than RubisCoTherefore, the Max Planck researchers in Marburg have decided on alternatives to RubisCO. Enoyl-CoA Carboxylase/Reductase enzymes (ECRs) are much more efficient than RubisCO and do not make mistakes with oxygen. After many years of scientific work in order to understand this capacity, the scientists have succeeded in building a functioning process in the test tube that fixes CO2 better than nature itself. Robustness and energy efficiency are the qualities that the team would like to bestow to their artificial photosynthesis. \"Learn from the best\" is the motto: nature itself serves as a model for molecular biology.What is the reason for the high efficiency of ECRs? What is the magic spell to create a turbo CO2 fixator? Max Planck junior researchers Gabriele Stoffel and Iria Bernhardsgrütter pursued this question together with colleagues from Chile and the USA. They analyzed the ECR from the bacterium Kitasatospora setae, currently the fastest known carboxylase. Using a combined approach of structural biology, biochemistry and computer simulations, they were able to understand for the first time how the enzyme binds and converts CO2.Teamwork in the active centre\n",
      "A methionine residue shields the active site from the competing water molecules.\n",
      "© Max-Planck-Institute for Terrestrial Microbiology/Erb\n",
      "A methionine residue shields the active site from the competing water molecules.\n",
      "© Max-Planck-Institute for Terrestrial Microbiology/Erb\n",
      "\"We were surprised to learn that only four amino acids are sufficient to provide control over the CO2 molecule”, explains Gabriele Stoffel, postdoctoral fellow in the Erb department and first author of the study. “Three amino acids – one asparagine, glutamate and a histidine – hold the CO2 in place from two sides. Another amino acid, a phenylalanine, shields the bound CO2 from water, which would inhibit the reaction”, says Stoffel.These findings open up new paths for researchers.  \"We wanted to transfer the capability of binding CO2 to other enzymes. This would offer us much greater possibilities for optimizing photosynthesis,\" says Iria Bernhardsgrütter, PhD student in the research group. In another study, Bernhardsgrütter focused on two candidates for the protein scaffold: Propionyl-CoA synthase (PCS) and Archaeal Enoyl-CoA reductase (AER).Enhancing CO2 fixation capacityBoth enzymes were already able to use CO2, but only with an efficiency of about five percent and with concentrated CO2. Computational models revealed that those enzymes only possessed some of the four amino acids required and those were also misaligned. Iria Bernhardsgrütter succeeded by exchanging amino acids to correct the \"miscasts\" in PCS. Immediately, the efficiency of CO2 increased to around 20 percent. Now the second aspect was targeted, namely shielding the binding site from water. Iria Bernhardsgrütter was also able to solve this problem: another amino acid replacement blocked the water's access to the binding site. The combination of both changes led to a carboxylation rate of almost 95%. Similar experiments with AER increased CO2-conversion efficiencies to almost 90%.This knowledge of the exact requirements of CO2-fixing enzymes and its successful application has brought research a decisive step closer to its high goals: on the one hand, being able to filter CO2 efficiently from the atmosphere, on the other hand, integrating CO2 into sustainable use – towards the recycling of valuable substances following nature's example.\n",
      "You can find this video on YouTube. Click on the image to be redirected there.\n",
      "©\n",
      "MPI f. Terrestrial Mikrobiology/ Erb\n",
      "You can find this video on YouTube. Click on the image to be redirected there.\n",
      "The correct positioning of the gaseous carbon dioxide molecule is essential for the success of the carboxylation reaction.\n",
      "https://www.youtube.com/watch?v=JB7hekpOFFo\n",
      "Science Magazine\n",
      "Events\n",
      "Images of Science\n",
      "On Location\n",
      "Infographics\n",
      "Press Newsletter\n",
      "Contact\n",
      "Prof. Dr. Tobias Erb\n",
      "Director\n",
      "Max Planck Institute for Terrestrial Microbiology, Marburg\n",
      "+49 6421 178-700\n",
      "toerb@mpi-marburg.mpg.de\n",
      "Dr. Virginia Geisel\n",
      "PR Representative\n",
      "Max Planck Institute for Terrestrial Microbiology, Marburg\n",
      "+49 160 91387362\n",
      "virginia.geisel@mpi-marburg.mpg.de\n",
      "Original publications\n",
      "Stoffel, G. M. M.; Saez, D. A.; DeMirci, H.; Vögeli, B.; Rao, Y.; Zarzycki, J.; Yoshikuni, Y.;  Wakatsuki, S.;  Vöhringer-Martinez, E.; Erb, T. J.\n",
      "Four amino acids define the CO2 binding pocket of enoyl-CoA carboxylases/reductases\n",
      "Proceedings of the National Academy of Sciences 201901471 (2019)\n",
      "DOI\n",
      "Bernhardsgrütter, I.; Schell, K.; Peter, D. M.; Borijan, F.; Saez, D. A.; Vöhringer-Martinez, E.; Erb, T.\n",
      "Awakening the Sleeping Carboxylase Function of Enzymes:Engineering the Natural CO2‑Binding Potential of Reductases\n",
      "Journal of the American Chemical Society 141, 9778 −9782 (2019)\n",
      "DOI\n",
      "Related articles\n",
      "“We are trying to develop CO2 as a source of carbon”\n",
      "November 25, 2016\n",
      "Tobias Erb discusses a synthetic metabolic pathway that fixes carbon dioxide and synthetic biology\n",
      "more\n",
      "You can find this video on YouTube. Click on the image to be redirected there.\n",
      "You can find this video on YouTube. Click on the image to be redirected there.\n",
      "Engineering a more efficient system for harnessing CO2 faster than plants\n",
      "Taking inspiration from nature: Tobias Erb from the MPI for Terrestrial Microbiology on designing a more efficient and faster system for harnessing carbon dioxide.\n",
      "Other Interesting Articles\n",
      "Previous\n",
      "Germany’s President visits German-Brazilian research station\n",
      "January 03, 2023\n",
      "Climate\n",
      "Ecology (E&C)\n",
      "Research Policy\n",
      "Frank-Walter Steinmeier traveled with German Environment Minister Steffi Lemke to ATTO in the Brazilian Amazon rainforest\n",
      "Slime for the climate, delivered by brown algae\n",
      "December 26, 2022\n",
      "Climate\n",
      "Plant Research (E&C)\n",
      "Brown algae could remove up to 0.55 gigatons of carbon dioxide from the atmosphere every year\n",
      "Iron for energy storage\n",
      "December 02, 2022\n",
      "Climate\n",
      "Energy\n",
      "Materials Sciences (M&T)\n",
      "In the futuere the metal could store energy from renewable sources, for example for transportation\n",
      "The role of ice sheets for the climate\n",
      "July 21, 2023\n",
      "Climate\n",
      "Today, ice sheets cover an area that is almost as large as South America. Even though this equals only about three percent of the Earth’s surface, they play, similar to Arctic sea ice, a major role for the climate. In order to investigate ice sheets and their interaction with the climate, we are developing a climate model in which the extent of the ice sheets changes over time. Such changes and interactions have so far been insufficiently represented in conventional climate models.\n",
      "Locating the Anthropocene\n",
      "July 11, 2023\n",
      "Climate\n",
      "Social Sciences\n",
      "Researchers announce major step towards defining a new geological epoch\n",
      "African smoke over the Amazon\n",
      "May 17, 2023\n",
      "Climate\n",
      "Ecology (E&C)\n",
      "At certain times in the year, more soot particles reach the Amazon rainforest from bush fires in Africa than from regional fires.\n",
      "With formic acid towards CO2 neutrality\n",
      "May 12, 2023\n",
      "Climate\n",
      "Synthetic Biology\n",
      "Researchers develop a new method for the sustainable use of carbon dioxide\n",
      "More power from waste heat\n",
      "April 28, 2023\n",
      "Climate\n",
      "Energy\n",
      "Materials Sciences (M&T)\n",
      "An addition of titanium makes a thermoelectric material more efficient\n",
      "Wiggly proteins guard the genome\n",
      "April 27, 2023\n",
      "Cell Biology\n",
      "Proteins\n",
      "Dynamic network in the pores of the nuclear envelope blocks dangerous invaders\n",
      "Green steel produced with ammonia\n",
      "April 17, 2023\n",
      "Climate\n",
      "Energy\n",
      "Materials Sciences (M&T)\n",
      "Ammonia synthesized in sun-rich countries could facilitate sustainable iron- and steelmaking\n",
      "Major advance in super-resolution fluorescence microscopy\n",
      "March 09, 2023\n",
      "Proteins\n",
      "Pushing the MINFLUX technique to higher spatial and temporal precision allows protein dynamics to be observed under physiological conditions\n",
      "Seabirds in the eye of the storm\n",
      "February 23, 2023\n",
      "Climate\n",
      "Tolerance to strong winds and storm avoidance strategy differs among seabird species\n",
      "Germany’s President visits German-Brazilian research station\n",
      "January 03, 2023\n",
      "Climate\n",
      "Ecology (E&C)\n",
      "Research Policy\n",
      "Frank-Walter Steinmeier traveled with German Environment Minister Steffi Lemke to ATTO in the Brazilian Amazon rainforest\n",
      "Slime for the climate, delivered by brown algae\n",
      "December 26, 2022\n",
      "Climate\n",
      "Plant Research (E&C)\n",
      "Brown algae could remove up to 0.55 gigatons of carbon dioxide from the atmosphere every year\n",
      "Iron for energy storage\n",
      "December 02, 2022\n",
      "Climate\n",
      "Energy\n",
      "Materials Sciences (M&T)\n",
      "In the futuere the metal could store energy from renewable sources, for example for transportation\n",
      "The role of ice sheets for the climate\n",
      "July 21, 2023\n",
      "Climate\n",
      "Today, ice sheets cover an area that is almost as large as South America. Even though this equals only about three percent of the Earth’s surface, they play, similar to Arctic sea ice, a major role for the climate. In order to investigate ice sheets and their interaction with the climate, we are developing a climate model in which the extent of the ice sheets changes over time. Such changes and interactions have so far been insufficiently represented in conventional climate models.\n",
      "Locating the Anthropocene\n",
      "July 11, 2023\n",
      "Climate\n",
      "Social Sciences\n",
      "Researchers announce major step towards defining a new geological epoch\n",
      "African smoke over the Amazon\n",
      "May 17, 2023\n",
      "Climate\n",
      "Ecology (E&C)\n",
      "At certain times in the year, more soot particles reach the Amazon rainforest from bush fires in Africa than from regional fires.\n",
      "With formic acid towards CO2 neutrality\n",
      "May 12, 2023\n",
      "Climate\n",
      "Synthetic Biology\n",
      "Researchers develop a new method for the sustainable use of carbon dioxide\n",
      "More power from waste heat\n",
      "April 28, 2023\n",
      "Climate\n",
      "Energy\n",
      "Materials Sciences (M&T)\n",
      "An addition of titanium makes a thermoelectric material more efficient\n",
      "Wiggly proteins guard the genome\n",
      "April 27, 2023\n",
      "Cell Biology\n",
      "Proteins\n",
      "Dynamic network in the pores of the nuclear envelope blocks dangerous invaders\n",
      "Green steel produced with ammonia\n",
      "April 17, 2023\n",
      "Climate\n",
      "Energy\n",
      "Materials Sciences (M&T)\n",
      "Ammonia synthesized in sun-rich countries could facilitate sustainable iron- and steelmaking\n",
      "Major advance in super-resolution fluorescence microscopy\n",
      "\n"
     ]
    }
   ],
   "source": [
    "# Open the file in read mode ('r')\n",
    "with open(r'C:\\Users\\1kevi\\Desktop\\projects\\Research\\autoscious-carbon-capture\\question_answering\\autoscious_logs\\web_search\\What_is_the_level_of_ECR_enzyme_activity_in_Kitsatospor_setae_bacteria_\\In_the_active_centre_of_carbon_dioxide_conversion_complete_text.txt', 'r', encoding='utf-8') as file:\n",
    "    # Read the entire contents of the file\n",
    "    website_text = file.read()\n",
    "\n",
    "# Now, 'text' contains the contents of the file\n",
    "print(website_text)"
   ]
  },
  {
   "cell_type": "code",
   "execution_count": 128,
   "metadata": {},
   "outputs": [],
   "source": [
    "seed_initial_question_decomposition_prompt = f'''\n",
    "Key questions (index : question): \n",
    "{numbered_key_questions_string}\n",
    "\n",
    "Task: \n",
    "Extract and output any accurate direct quotes from the text that are relevant to the key questions and its most relevant key question index. Rank from most relevant to least. Format as a JSON.\n",
    "```json\n",
    "{{\n",
    "  \"1\": {{\n",
    "    \"quote\": \"\",\n",
    "    \"index\": 0\n",
    "  }},\n",
    "  etc.\n",
    "}}\n",
    "```\n",
    "\n",
    "Text: {website_text}\n",
    "\n",
    "Respond only with the output, with no explanation or conversation.\n",
    "'''"
   ]
  },
  {
   "cell_type": "code",
   "execution_count": 129,
   "metadata": {},
   "outputs": [
    {
     "name": "stdout",
     "output_type": "stream",
     "text": [
      "Prompt:  \n",
      "Key questions (index : question): \n",
      "1. What is the level of ECR enzyme activity in Kitsatospor setae bacteria?\n",
      "2. How does ECR enzyme activity vary under different conditions?\n",
      "3. Are there any factors that enhance or inhibit ECR enzyme activity?\n",
      "\n",
      "\n",
      "Task: \n",
      "Extract and output any accurate direct quotes from the text that are relevant to the key questions and its most relevant key question index. Rank from most relevant to least. Format as a JSON.\n",
      "```json\n",
      "{\n",
      "  \"1\": {\n",
      "    \"quote\": \"\",\n",
      "    \"index\": 0\n",
      "  },\n",
      "  etc.\n",
      "}\n",
      "```\n",
      "\n",
      "Text: In order to overcome the climate crisis, two measures are required: The reduction of carbon dioxide (CO2) emissions, and removal of CO2 from the earth atmosphere. The latter is the goal of Tobias Erb's research group at the Max Planck Institute for Terrestrial Microbiology in Marburg. Their approaches not only aim to benefit climate protection, but also to secure sustainability in the long term: to filter CO2 from the air and make it usable for technology.\n",
      "The Carboxylase active site: Four amino acids are important for CO2 binding in highly efficient CO2 fixing enzymes.\n",
      "© Max-Planck-Institute for Terrestrial Microbiology/Erb\n",
      "The Carboxylase active site: Four amino acids are important for CO2 binding in highly efficient CO2 fixing enzymes.\n",
      "© Max-Planck-Institute for Terrestrial Microbiology/Erb\n",
      "Filtering CO2 efficiently from the air - nature can do this through photosynthesis, converting CO2 into biomass. Unlike industrial technologies which can only use the gas in a highly concentrated form (which in turn consumes fossil energy), photosynthesis works directly with ambient air containing only 0.4% gaseous carbon dioxide. Its secret lies in the enzymes, proteins that act as catalysts to mediate specific chemical reactions, such as the fixation of CO2. In photosynthesis, this reaction is driven by the enzyme RubisCO. However, the efficiency of natural photosynthesis is not very high: in more than a fourth of all cases, RubisCO metabolizes oxygen from the air, which is a strong competitor of CO2 in this reaction.ECR enzymes are faster and more precise than RubisCoTherefore, the Max Planck researchers in Marburg have decided on alternatives to RubisCO. Enoyl-CoA Carboxylase/Reductase enzymes (ECRs) are much more efficient than RubisCO and do not make mistakes with oxygen. After many years of scientific work in order to understand this capacity, the scientists have succeeded in building a functioning process in the test tube that fixes CO2 better than nature itself. Robustness and energy efficiency are the qualities that the team would like to bestow to their artificial photosynthesis. \"Learn from the best\" is the motto: nature itself serves as a model for molecular biology.What is the reason for the high efficiency of ECRs? What is the magic spell to create a turbo CO2 fixator? Max Planck junior researchers Gabriele Stoffel and Iria Bernhardsgrütter pursued this question together with colleagues from Chile and the USA. They analyzed the ECR from the bacterium Kitasatospora setae, currently the fastest known carboxylase. Using a combined approach of structural biology, biochemistry and computer simulations, they were able to understand for the first time how the enzyme binds and converts CO2.Teamwork in the active centre\n",
      "A methionine residue shields the active site from the competing water molecules.\n",
      "© Max-Planck-Institute for Terrestrial Microbiology/Erb\n",
      "A methionine residue shields the active site from the competing water molecules.\n",
      "© Max-Planck-Institute for Terrestrial Microbiology/Erb\n",
      "\"We were surprised to learn that only four amino acids are sufficient to provide control over the CO2 molecule”, explains Gabriele Stoffel, postdoctoral fellow in the Erb department and first author of the study. “Three amino acids – one asparagine, glutamate and a histidine – hold the CO2 in place from two sides. Another amino acid, a phenylalanine, shields the bound CO2 from water, which would inhibit the reaction”, says Stoffel.These findings open up new paths for researchers.  \"We wanted to transfer the capability of binding CO2 to other enzymes. This would offer us much greater possibilities for optimizing photosynthesis,\" says Iria Bernhardsgrütter, PhD student in the research group. In another study, Bernhardsgrütter focused on two candidates for the protein scaffold: Propionyl-CoA synthase (PCS) and Archaeal Enoyl-CoA reductase (AER).Enhancing CO2 fixation capacityBoth enzymes were already able to use CO2, but only with an efficiency of about five percent and with concentrated CO2. Computational models revealed that those enzymes only possessed some of the four amino acids required and those were also misaligned. Iria Bernhardsgrütter succeeded by exchanging amino acids to correct the \"miscasts\" in PCS. Immediately, the efficiency of CO2 increased to around 20 percent. Now the second aspect was targeted, namely shielding the binding site from water. Iria Bernhardsgrütter was also able to solve this problem: another amino acid replacement blocked the water's access to the binding site. The combination of both changes led to a carboxylation rate of almost 95%. Similar experiments with AER increased CO2-conversion efficiencies to almost 90%.This knowledge of the exact requirements of CO2-fixing enzymes and its successful application has brought research a decisive step closer to its high goals: on the one hand, being able to filter CO2 efficiently from the atmosphere, on the other hand, integrating CO2 into sustainable use – towards the recycling of valuable substances following nature's example.\n",
      "You can find this video on YouTube. Click on the image to be redirected there.\n",
      "©\n",
      "MPI f. Terrestrial Mikrobiology/ Erb\n",
      "You can find this video on YouTube. Click on the image to be redirected there.\n",
      "The correct positioning of the gaseous carbon dioxide molecule is essential for the success of the carboxylation reaction.\n",
      "https://www.youtube.com/watch?v=JB7hekpOFFo\n",
      "Science Magazine\n",
      "Events\n",
      "Images of Science\n",
      "On Location\n",
      "Infographics\n",
      "Press Newsletter\n",
      "Contact\n",
      "Prof. Dr. Tobias Erb\n",
      "Director\n",
      "Max Planck Institute for Terrestrial Microbiology, Marburg\n",
      "+49 6421 178-700\n",
      "toerb@mpi-marburg.mpg.de\n",
      "Dr. Virginia Geisel\n",
      "PR Representative\n",
      "Max Planck Institute for Terrestrial Microbiology, Marburg\n",
      "+49 160 91387362\n",
      "virginia.geisel@mpi-marburg.mpg.de\n",
      "Original publications\n",
      "Stoffel, G. M. M.; Saez, D. A.; DeMirci, H.; Vögeli, B.; Rao, Y.; Zarzycki, J.; Yoshikuni, Y.;  Wakatsuki, S.;  Vöhringer-Martinez, E.; Erb, T. J.\n",
      "Four amino acids define the CO2 binding pocket of enoyl-CoA carboxylases/reductases\n",
      "Proceedings of the National Academy of Sciences 201901471 (2019)\n",
      "DOI\n",
      "Bernhardsgrütter, I.; Schell, K.; Peter, D. M.; Borijan, F.; Saez, D. A.; Vöhringer-Martinez, E.; Erb, T.\n",
      "Awakening the Sleeping Carboxylase Function of Enzymes:Engineering the Natural CO2‑Binding Potential of Reductases\n",
      "Journal of the American Chemical Society 141, 9778 −9782 (2019)\n",
      "DOI\n",
      "Related articles\n",
      "“We are trying to develop CO2 as a source of carbon”\n",
      "November 25, 2016\n",
      "Tobias Erb discusses a synthetic metabolic pathway that fixes carbon dioxide and synthetic biology\n",
      "more\n",
      "You can find this video on YouTube. Click on the image to be redirected there.\n",
      "You can find this video on YouTube. Click on the image to be redirected there.\n",
      "Engineering a more efficient system for harnessing CO2 faster than plants\n",
      "Taking inspiration from nature: Tobias Erb from the MPI for Terrestrial Microbiology on designing a more efficient and faster system for harnessing carbon dioxide.\n",
      "Other Interesting Articles\n",
      "Previous\n",
      "Germany’s President visits German-Brazilian research station\n",
      "January 03, 2023\n",
      "Climate\n",
      "Ecology (E&C)\n",
      "Research Policy\n",
      "Frank-Walter Steinmeier traveled with German Environment Minister Steffi Lemke to ATTO in the Brazilian Amazon rainforest\n",
      "Slime for the climate, delivered by brown algae\n",
      "December 26, 2022\n",
      "Climate\n",
      "Plant Research (E&C)\n",
      "Brown algae could remove up to 0.55 gigatons of carbon dioxide from the atmosphere every year\n",
      "Iron for energy storage\n",
      "December 02, 2022\n",
      "Climate\n",
      "Energy\n",
      "Materials Sciences (M&T)\n",
      "In the futuere the metal could store energy from renewable sources, for example for transportation\n",
      "The role of ice sheets for the climate\n",
      "July 21, 2023\n",
      "Climate\n",
      "Today, ice sheets cover an area that is almost as large as South America. Even though this equals only about three percent of the Earth’s surface, they play, similar to Arctic sea ice, a major role for the climate. In order to investigate ice sheets and their interaction with the climate, we are developing a climate model in which the extent of the ice sheets changes over time. Such changes and interactions have so far been insufficiently represented in conventional climate models.\n",
      "Locating the Anthropocene\n",
      "July 11, 2023\n",
      "Climate\n",
      "Social Sciences\n",
      "Researchers announce major step towards defining a new geological epoch\n",
      "African smoke over the Amazon\n",
      "May 17, 2023\n",
      "Climate\n",
      "Ecology (E&C)\n",
      "At certain times in the year, more soot particles reach the Amazon rainforest from bush fires in Africa than from regional fires.\n",
      "With formic acid towards CO2 neutrality\n",
      "May 12, 2023\n",
      "Climate\n",
      "Synthetic Biology\n",
      "Researchers develop a new method for the sustainable use of carbon dioxide\n",
      "More power from waste heat\n",
      "April 28, 2023\n",
      "Climate\n",
      "Energy\n",
      "Materials Sciences (M&T)\n",
      "An addition of titanium makes a thermoelectric material more efficient\n",
      "Wiggly proteins guard the genome\n",
      "April 27, 2023\n",
      "Cell Biology\n",
      "Proteins\n",
      "Dynamic network in the pores of the nuclear envelope blocks dangerous invaders\n",
      "Green steel produced with ammonia\n",
      "April 17, 2023\n",
      "Climate\n",
      "Energy\n",
      "Materials Sciences (M&T)\n",
      "Ammonia synthesized in sun-rich countries could facilitate sustainable iron- and steelmaking\n",
      "Major advance in super-resolution fluorescence microscopy\n",
      "March 09, 2023\n",
      "Proteins\n",
      "Pushing the MINFLUX technique to higher spatial and temporal precision allows protein dynamics to be observed under physiological conditions\n",
      "Seabirds in the eye of the storm\n",
      "February 23, 2023\n",
      "Climate\n",
      "Tolerance to strong winds and storm avoidance strategy differs among seabird species\n",
      "Germany’s President visits German-Brazilian research station\n",
      "January 03, 2023\n",
      "Climate\n",
      "Ecology (E&C)\n",
      "Research Policy\n",
      "Frank-Walter Steinmeier traveled with German Environment Minister Steffi Lemke to ATTO in the Brazilian Amazon rainforest\n",
      "Slime for the climate, delivered by brown algae\n",
      "December 26, 2022\n",
      "Climate\n",
      "Plant Research (E&C)\n",
      "Brown algae could remove up to 0.55 gigatons of carbon dioxide from the atmosphere every year\n",
      "Iron for energy storage\n",
      "December 02, 2022\n",
      "Climate\n",
      "Energy\n",
      "Materials Sciences (M&T)\n",
      "In the futuere the metal could store energy from renewable sources, for example for transportation\n",
      "The role of ice sheets for the climate\n",
      "July 21, 2023\n",
      "Climate\n",
      "Today, ice sheets cover an area that is almost as large as South America. Even though this equals only about three percent of the Earth’s surface, they play, similar to Arctic sea ice, a major role for the climate. In order to investigate ice sheets and their interaction with the climate, we are developing a climate model in which the extent of the ice sheets changes over time. Such changes and interactions have so far been insufficiently represented in conventional climate models.\n",
      "Locating the Anthropocene\n",
      "July 11, 2023\n",
      "Climate\n",
      "Social Sciences\n",
      "Researchers announce major step towards defining a new geological epoch\n",
      "African smoke over the Amazon\n",
      "May 17, 2023\n",
      "Climate\n",
      "Ecology (E&C)\n",
      "At certain times in the year, more soot particles reach the Amazon rainforest from bush fires in Africa than from regional fires.\n",
      "With formic acid towards CO2 neutrality\n",
      "May 12, 2023\n",
      "Climate\n",
      "Synthetic Biology\n",
      "Researchers develop a new method for the sustainable use of carbon dioxide\n",
      "More power from waste heat\n",
      "April 28, 2023\n",
      "Climate\n",
      "Energy\n",
      "Materials Sciences (M&T)\n",
      "An addition of titanium makes a thermoelectric material more efficient\n",
      "Wiggly proteins guard the genome\n",
      "April 27, 2023\n",
      "Cell Biology\n",
      "Proteins\n",
      "Dynamic network in the pores of the nuclear envelope blocks dangerous invaders\n",
      "Green steel produced with ammonia\n",
      "April 17, 2023\n",
      "Climate\n",
      "Energy\n",
      "Materials Sciences (M&T)\n",
      "Ammonia synthesized in sun-rich countries could facilitate sustainable iron- and steelmaking\n",
      "Major advance in super-resolution fluorescence microscopy\n",
      "\n",
      "\n",
      "Respond only with the output, with no explanation or conversation.\n",
      "\n"
     ]
    },
    {
     "name": "stdout",
     "output_type": "stream",
     "text": [
      "Completion info:  {\n",
      "  \"choices\": [\n",
      "    {\n",
      "      \"finish_reason\": \"stop\",\n",
      "      \"index\": 0,\n",
      "      \"message\": {\n",
      "        \"content\": \"{\\n  \\\"1\\\": {\\n    \\\"quote\\\": \\\"We were surprised to learn that only four amino acids are sufficient to provide control over the CO2 molecule\\u201d, explains Gabriele Stoffel, postdoctoral fellow in the Erb department and first author of the study. \\u201cThree amino acids \\u2013 one asparagine, glutamate and a histidine \\u2013 hold the CO2 in place from two sides. Another amino acid, a phenylalanine, shields the bound CO2 from water, which would inhibit the reaction\\u201d, says Stoffel.\\\",\\n    \\\"index\\\": 2\\n  },\\n  \\\"2\\\": {\\n    \\\"quote\\\": \\\"Iria Bernhardsgr\\u00fctter succeeded by exchanging amino acids to correct the \\\\\\\"miscasts\\\\\\\" in PCS. Immediately, the efficiency of CO2 increased to around 20 percent. Now the second aspect was targeted, namely shielding the binding site from water. Iria Bernhardsgr\\u00fctter was also able to solve this problem: another amino acid replacement blocked the water's access to the binding site. The combination of both changes led to a carboxylation rate of almost 95%. Similar experiments with AER increased CO2-conversion efficiencies to almost 90%.\\\",\\n    \\\"index\\\": 3\\n  },\\n  \\\"3\\\": {\\n    \\\"quote\\\": \\\"ECR enzymes are faster and more precise than RubisCo\\\",\\n    \\\"index\\\": 2\\n  }\\n}\",\n",
      "        \"role\": \"assistant\"\n",
      "      }\n",
      "    }\n",
      "  ],\n",
      "  \"created\": 1690761280,\n",
      "  \"id\": \"chatcmpl-7iAXAVHWhEZ3vn83BgjpTDtpRNRYp\",\n",
      "  \"model\": \"gpt-3.5-turbo-0613\",\n",
      "  \"object\": \"chat.completion\",\n",
      "  \"usage\": {\n",
      "    \"completion_tokens\": 289,\n",
      "    \"prompt_tokens\": 2865,\n",
      "    \"total_tokens\": 3154\n",
      "  }\n",
      "}\n",
      "{\n",
      "  \"1\": {\n",
      "    \"quote\": \"We were surprised to learn that only four amino acids are sufficient to provide control over the CO2 molecule”, explains Gabriele Stoffel, postdoctoral fellow in the Erb department and first author of the study. “Three amino acids – one asparagine, glutamate and a histidine – hold the CO2 in place from two sides. Another amino acid, a phenylalanine, shields the bound CO2 from water, which would inhibit the reaction”, says Stoffel.\",\n",
      "    \"index\": 2\n",
      "  },\n",
      "  \"2\": {\n",
      "    \"quote\": \"Iria Bernhardsgrütter succeeded by exchanging amino acids to correct the \\\"miscasts\\\" in PCS. Immediately, the efficiency of CO2 increased to around 20 percent. Now the second aspect was targeted, namely shielding the binding site from water. Iria Bernhardsgrütter was also able to solve this problem: another amino acid replacement blocked the water's access to the binding site. The combination of both changes led to a carboxylation rate of almost 95%. Similar experiments with AER increased CO2-conversion efficiencies to almost 90%.\",\n",
      "    \"index\": 3\n",
      "  },\n",
      "  \"3\": {\n",
      "    \"quote\": \"ECR enzymes are faster and more precise than RubisCo\",\n",
      "    \"index\": 2\n",
      "  }\n",
      "}\n"
     ]
    }
   ],
   "source": [
    "res = chat_openai(seed_initial_question_decomposition_prompt, model=\"gpt-3.5-turbo\")\n",
    "print(res[0])"
   ]
  },
  {
   "cell_type": "code",
   "execution_count": 130,
   "metadata": {},
   "outputs": [
    {
     "name": "stdout",
     "output_type": "stream",
     "text": [
      "{\n",
      "  \"1\": {\n",
      "    \"quote\": \"We were surprised to learn that only four amino acids are sufficient to provide control over the CO2 molecule”, explains Gabriele Stoffel, postdoctoral fellow in the Erb department and first author of the study. “Three amino acids – one asparagine, glutamate and a histidine – hold the CO2 in place from two sides. Another amino acid, a phenylalanine, shields the bound CO2 from water, which would inhibit the reaction”, says Stoffel.\",\n",
      "    \"index\": 2\n",
      "  },\n",
      "  \"2\": {\n",
      "    \"quote\": \"Iria Bernhardsgrütter succeeded by exchanging amino acids to correct the \\\"miscasts\\\" in PCS. Immediately, the efficiency of CO2 increased to around 20 percent. Now the second aspect was targeted, namely shielding the binding site from water. Iria Bernhardsgrütter was also able to solve this problem: another amino acid replacement blocked the water's access to the binding site. The combination of both changes led to a carboxylation rate of almost 95%. Similar experiments with AER increased CO2-conversion efficiencies to almost 90%.\",\n",
      "    \"index\": 3\n",
      "  },\n",
      "  \"3\": {\n",
      "    \"quote\": \"ECR enzymes are faster and more precise than RubisCo\",\n",
      "    \"index\": 2\n",
      "  }\n",
      "} <class 'str'>\n"
     ]
    }
   ],
   "source": [
    "print(res[0], type(res[0]))"
   ]
  },
  {
   "cell_type": "code",
   "execution_count": 132,
   "metadata": {},
   "outputs": [],
   "source": [
    "res_json = json.loads(res[0])"
   ]
  },
  {
   "cell_type": "code",
   "execution_count": 123,
   "metadata": {},
   "outputs": [
    {
     "name": "stdout",
     "output_type": "stream",
     "text": [
      "<class 'str'>\n"
     ]
    }
   ],
   "source": [
    "print(type(res_json['3']['quote']))"
   ]
  },
  {
   "cell_type": "code",
   "execution_count": 133,
   "metadata": {},
   "outputs": [
    {
     "data": {
      "text/plain": [
       "{'1': {'quote': 'We were surprised to learn that only four amino acids are sufficient to provide control over the CO2 molecule”, explains Gabriele Stoffel, postdoctoral fellow in the Erb department and first author of the study. “Three amino acids – one asparagine, glutamate and a histidine – hold the CO2 in place from two sides. Another amino acid, a phenylalanine, shields the bound CO2 from water, which would inhibit the reaction”, says Stoffel.',\n",
       "  'index': 2},\n",
       " '2': {'quote': 'Iria Bernhardsgrütter succeeded by exchanging amino acids to correct the \"miscasts\" in PCS. Immediately, the efficiency of CO2 increased to around 20 percent. Now the second aspect was targeted, namely shielding the binding site from water. Iria Bernhardsgrütter was also able to solve this problem: another amino acid replacement blocked the water\\'s access to the binding site. The combination of both changes led to a carboxylation rate of almost 95%. Similar experiments with AER increased CO2-conversion efficiencies to almost 90%.',\n",
       "  'index': 3},\n",
       " '3': {'quote': 'ECR enzymes are faster and more precise than RubisCo',\n",
       "  'index': 2}}"
      ]
     },
     "execution_count": 133,
     "metadata": {},
     "output_type": "execute_result"
    }
   ],
   "source": [
    "res_json\n"
   ]
  },
  {
   "cell_type": "code",
   "execution_count": 137,
   "metadata": {},
   "outputs": [],
   "source": [
    "import os\n",
    "# iterate over the dictionary\n",
    "for key, value in res_json.items():\n",
    "    # get the index and quote\n",
    "    index = value['index']\n",
    "    quote = value['quote']\n",
    "\n",
    "    # create a file name with the format 'f_{index}.txt'\n",
    "    file_name = f'autoscious_logs/kd_1/h_1/f_{index}.txt'\n",
    "\n",
    "    # open the file in append mode ('a') to add the quote\n",
    "    # if you want to overwrite the existing file (if any), use 'w' mode\n",
    "    with open(file_name, 'a', encoding='utf-8') as f:\n",
    "        f.write(quote.replace('/\"', '\"') + os.linesep)  # write the quote to the file and add a new line"
   ]
  },
  {
   "cell_type": "code",
   "execution_count": null,
   "metadata": {},
   "outputs": [],
   "source": []
  }
 ],
 "metadata": {
  "kernelspec": {
   "display_name": "Python 3",
   "language": "python",
   "name": "python3"
  },
  "language_info": {
   "codemirror_mode": {
    "name": "ipython",
    "version": 3
   },
   "file_extension": ".py",
   "mimetype": "text/x-python",
   "name": "python",
   "nbconvert_exporter": "python",
   "pygments_lexer": "ipython3",
   "version": "3.10.6"
  },
  "orig_nbformat": 4
 },
 "nbformat": 4,
 "nbformat_minor": 2
}
