{
 "cells": [
  {
   "cell_type": "code",
   "execution_count": null,
   "metadata": {},
   "outputs": [],
   "source": [
    "# Given facts from the searcher, plan next steps"
   ]
  },
  {
   "cell_type": "code",
   "execution_count": 1,
   "metadata": {},
   "outputs": [],
   "source": [
    "from util import sanitize_filename\n",
    "import os\n",
    "import json\n",
    "from llm import chat_openai"
   ]
  },
  {
   "cell_type": "code",
   "execution_count": 2,
   "metadata": {},
   "outputs": [],
   "source": [
    "search_query = \"How efficiently do the ECR enzymes work in Kitsatospor setae bacteria?\"\n",
    "search_query_file_safe = sanitize_filename(search_query)"
   ]
  },
  {
   "cell_type": "markdown",
   "metadata": {},
   "source": [
    "## Verifier"
   ]
  },
  {
   "cell_type": "code",
   "execution_count": 3,
   "metadata": {},
   "outputs": [],
   "source": [
    "file_name = f'autoscious_logs/{search_query_file_safe}/facts/facts.txt'\n",
    "\n",
    "with open(file_name, 'r', encoding='utf-8') as f:\n",
    "    facts_list = f.read()"
   ]
  },
  {
   "cell_type": "code",
   "execution_count": 4,
   "metadata": {},
   "outputs": [
    {
     "data": {
      "text/plain": [
       "\"The ECR enzymes in Kitsatospor setae bacteria work with a Michaelis-Menten constant (Km) of 26 ± 3 μM.\\n\\nThe ECR activity in the WT tetramer is increased by 2 orders of magnitude in comparison to the triple variant E151D/N157E/N218E.\\n\\nThe ECR enzymes in Kitsatospor setae bacteria work efficiently by forming a thermodynamically stable covalent adduct between the substrate and the NADPH cofactor.\\n\\nThe bacterial enzyme ECRs in Kitasatospora setae work 100 times faster than without the presence of molecular 'glue' and twist.\\n\\n20 times faster than plant enzymes do during photosynthesis.\\n\\nThe ECR enzymes in Kitsatospor setae bacteria work efficiently in CO2 fixation.\\n\\nThe ECR enzymes in Kitsatospor setae bacteria are highly efficient.\\n\\nECRs are some of the most efficient CO2-fixing enzymes described to date.\\n\\n\""
      ]
     },
     "execution_count": 4,
     "metadata": {},
     "output_type": "execute_result"
    }
   ],
   "source": [
    "facts_list"
   ]
  },
  {
   "cell_type": "code",
   "execution_count": 4,
   "metadata": {},
   "outputs": [
    {
     "name": "stdout",
     "output_type": "stream",
     "text": [
      "{1: 'The ECR enzymes in Kitsatospor setae bacteria work with a Michaelis-Menten constant (Km) of 26 ± 3 μM.', 2: 'The ECR activity in the WT tetramer is increased by 2 orders of magnitude in comparison to the triple variant E151D/N157E/N218E.', 3: 'The ECR enzymes in Kitsatospor setae bacteria work efficiently by forming a thermodynamically stable covalent adduct between the substrate and the NADPH cofactor.', 4: \"The bacterial enzyme ECRs in Kitasatospora setae work 100 times faster than without the presence of molecular 'glue' and twist.\", 5: '20 times faster than plant enzymes do during photosynthesis.', 6: 'The ECR enzymes in Kitsatospor setae bacteria work efficiently in CO2 fixation.', 7: 'The ECR enzymes in Kitsatospor setae bacteria are highly efficient.', 8: 'ECRs are some of the most efficient CO2-fixing enzymes described to date.'}\n"
     ]
    }
   ],
   "source": [
    "# split the string into a list of sentences by '\\n\\n'\n",
    "sentences = facts_list.split('\\n\\n')\n",
    "\n",
    "# create a dictionary where the key is the index + 1 (to start at 1) and the value is the sentence\n",
    "facts_dict = {i+1: sentence for i, sentence in enumerate(sentences) if sentence.strip()}\n",
    "\n",
    "print(facts_dict)"
   ]
  },
  {
   "cell_type": "code",
   "execution_count": 56,
   "metadata": {},
   "outputs": [
    {
     "name": "stdout",
     "output_type": "stream",
     "text": [
      "Prompt:  \n",
      "Key question: \n",
      "How efficiently do the ECR enzymes work in Kitsatospor setae bacteria?\n",
      "\n",
      "Context from manager:\n",
      "Ideally I'm looking for a numerical answer.\n",
      "\n",
      "Task:\n",
      "You are a verifier. Given the key question, context from manager, and facts, what is the best answer to the key question? Outline both the proposition of why it is a first-rate answer, and the opposition of what the answer's biggest weaknesses might be to make it not a first-rate answer. Make sure you cite facts in your conclusion. Ensure that your conclusion satisfies the context feedback from the manager because you are verifying if you have a first-rate answer for the manager.\n",
      "\n",
      "The output should be in JSON format: \n",
      "```json\n",
      "{\n",
      "  \"best_answer\": \"<insert best answer based on facts to key question with fact citations>\",\n",
      "  \"opposition\":  \"<insert reasons why the best answer might not be a first-rate answer to the key question>\",\n",
      "  \"proposition\": \"<insert reasons why the best answer might be a first-rate answer to the key question>\",\n",
      "  \"conclusion\": \"<insert yes or no if the best answer is a first-rate answer to the key question, and then your reasoning>\"\n",
      "}\n",
      "```\n",
      "Use a double square bracket around the index of the fact to cite it. For example, [[1]] means fact 1.\n",
      "\n",
      "Most relevant facts (ordered from most to least relevant):\n",
      "{1: 'The ECR enzymes in Kitsatospor setae bacteria work with a Michaelis-Menten constant (Km) of 26 ± 3 μM.', 2: 'The ECR activity in the WT tetramer is increased by 2 orders of magnitude in comparison to the triple variant E151D/N157E/N218E.', 3: 'The ECR enzymes in Kitsatospor setae bacteria work efficiently by forming a thermodynamically stable covalent adduct between the substrate and the NADPH cofactor.', 4: \"The bacterial enzyme ECRs in Kitasatospora setae work 100 times faster than without the presence of molecular 'glue' and twist.\", 5: '20 times faster than plant enzymes do during photosynthesis.', 6: 'The ECR enzymes in Kitsatospor setae bacteria work efficiently in CO2 fixation.', 7: 'The ECR enzymes in Kitsatospor setae bacteria are highly efficient.', 8: 'ECRs are some of the most efficient CO2-fixing enzymes described to date.'}\n",
      "\n",
      "Respond only with the output, with no explanation or conversation.\n",
      "\n",
      "Completion info:  {\n",
      "  \"choices\": [\n",
      "    {\n",
      "      \"finish_reason\": \"stop\",\n",
      "      \"index\": 0,\n",
      "      \"message\": {\n",
      "        \"content\": \"{\\n  \\\"best_answer\\\": \\\"The ECR enzymes in Kitsatospor setae bacteria are highly efficient, working with a Michaelis-Menten constant (Km) of 26 \\u00b1 3 \\u03bcM [[1]]. The ECR activity in the WT tetramer is increased by 2 orders of magnitude in comparison to the triple variant E151D/N157E/N218E [[2]]. The ECR enzymes work efficiently by forming a thermodynamically stable covalent adduct between the substrate and the NADPH cofactor [[3]]. The ECR enzymes in Kitsatospor setae bacteria work efficiently in CO2 fixation [[6]]. ECRs are some of the most efficient CO2-fixing enzymes described to date [[8]].\\\",\\n  \\\"opposition\\\": \\\"None\\\",\\n  \\\"proposition\\\": \\\"The ECR enzymes in Kitsatospor setae bacteria are highly efficient, as evidenced by their low Km value, increased activity in the WT tetramer, and efficient CO2 fixation. They also form a stable covalent adduct with the substrate and NADPH cofactor. Additionally, ECRs are known to be some of the most efficient CO2-fixing enzymes described to date.\\\",\\n  \\\"conclusion\\\": \\\"Yes, the best answer is a first-rate answer to the key question. The ECR enzymes in Kitsatospor setae bacteria are highly efficient based on multiple facts that demonstrate their low Km value, increased activity, efficient CO2 fixation, and comparison to other CO2-fixing enzymes.\\\"\\n}\",\n",
      "        \"role\": \"assistant\"\n",
      "      }\n",
      "    }\n",
      "  ],\n",
      "  \"created\": 1691459745,\n",
      "  \"id\": \"chatcmpl-7l6EjwJxN2TNAjDS3F8z5Hg4IfHCT\",\n",
      "  \"model\": \"gpt-3.5-turbo-0613\",\n",
      "  \"object\": \"chat.completion\",\n",
      "  \"usage\": {\n",
      "    \"completion_tokens\": 312,\n",
      "    \"prompt_tokens\": 564,\n",
      "    \"total_tokens\": 876\n",
      "  }\n",
      "}\n",
      "{'best_answer': 'The ECR enzymes in Kitsatospor setae bacteria are highly efficient, working with a Michaelis-Menten constant (Km) of 26 ± 3 μM [[1]]. The ECR activity in the WT tetramer is increased by 2 orders of magnitude in comparison to the triple variant E151D/N157E/N218E [[2]]. The ECR enzymes work efficiently by forming a thermodynamically stable covalent adduct between the substrate and the NADPH cofactor [[3]]. The ECR enzymes in Kitsatospor setae bacteria work efficiently in CO2 fixation [[6]]. ECRs are some of the most efficient CO2-fixing enzymes described to date [[8]].', 'opposition': 'None', 'proposition': 'The ECR enzymes in Kitsatospor setae bacteria are highly efficient, as evidenced by their low Km value, increased activity in the WT tetramer, and efficient CO2 fixation. They also form a stable covalent adduct with the substrate and NADPH cofactor. Additionally, ECRs are known to be some of the most efficient CO2-fixing enzymes described to date.', 'conclusion': 'Yes, the best answer is a first-rate answer to the key question. The ECR enzymes in Kitsatospor setae bacteria are highly efficient based on multiple facts that demonstrate their low Km value, increased activity, efficient CO2 fixation, and comparison to other CO2-fixing enzymes.'}\n"
     ]
    }
   ],
   "source": [
    "# GPT template\n",
    "# Improvement: it should cite direct quote facts, so that the direct quote and url can be retrieved in the answer.\n",
    "\n",
    "prompt = f'''\n",
    "Key question: \n",
    "{search_query}\n",
    "\n",
    "Context from manager:\n",
    "Ideally I'm looking for a numerical answer.\n",
    "\n",
    "Task:\n",
    "You are a verifier. Given the key question, context from manager, and facts, what is the best answer to the key question? Outline both the proposition of why it is a first-rate answer, and the opposition of what the answer's biggest weaknesses might be to make it not a first-rate answer. Make sure you cite facts in your conclusion. Ensure that your conclusion satisfies the context feedback from the manager because you are verifying if you have a first-rate answer for the manager.\n",
    "\n",
    "The output should be in JSON format: \n",
    "```json\n",
    "{{\n",
    "  \"best_answer\": \"<insert best answer based on facts to key question with fact citations>\",\n",
    "  \"opposition\":  \"<insert reasons why the best answer might not be a first-rate answer to the key question>\",\n",
    "  \"proposition\": \"<insert reasons why the best answer might be a first-rate answer to the key question>\",\n",
    "  \"conclusion\": \"<insert yes or no if the best answer is a first-rate answer to the key question, and then your reasoning>\"\n",
    "}}\n",
    "```\n",
    "Use a double square bracket around the index of the fact to cite it. For example, [[1]] means fact 1.\n",
    "\n",
    "Most relevant facts (ordered from most to least relevant):\n",
    "{facts_dict}\n",
    "\n",
    "Respond only with the output, with no explanation or conversation.\n",
    "'''\n",
    "verifier_feedback = json.loads(chat_openai(prompt, model=\"gpt-3.5-turbo\")[0])\n",
    "print(verifier_feedback)"
   ]
  },
  {
   "cell_type": "code",
   "execution_count": 57,
   "metadata": {},
   "outputs": [],
   "source": [
    "with open(f'autoscious_logs/{search_query_file_safe}/facts/facts.json', 'r', encoding='utf-8') as f:\n",
    "    facts_json = json.load(f)"
   ]
  },
  {
   "cell_type": "code",
   "execution_count": 58,
   "metadata": {},
   "outputs": [
    {
     "name": "stdout",
     "output_type": "stream",
     "text": [
      "{'best_answer': \"The ECR enzymes in Kitsatospor setae bacteria are highly efficient, working with a Michaelis-Menten constant (Km) of 26 ± 3 μM [± 25 1.1 ± 0.0 26 ± 3 0.7 ± 0.0 440 ± 40 0.9 ± 0.0 a Michaelis−Menten curves of K. setae ECR and its variants are provided in Figure S14.[https://www.researchgate.net/figure/Reaction-scheme-and-structural-organization-of-the-K-setae-ECR-complex-a_fig1_360182999]]. The ECR activity in the WT tetramer is increased by 2 orders of magnitude in comparison to the triple variant E151D/N157E/N218E [turned out that only negative cooperativity could explain our experimental observations that ECR activity in the WT tetramer is increased by 2 orders of magnitude in comparison to the triple variant E151D/N157E/N218E, in which synchronization is decoupled (Table 1).[https://www.researchgate.net/figure/Reaction-scheme-and-structural-organization-of-the-K-setae-ECR-complex-a_fig1_360182999]]. The ECR enzymes work efficiently by forming a thermodynamically stable covalent adduct between the substrate and the NADPH cofactor [In this study, we use computer simulations in combination with high-level ab initio calculations to trace the free energy landscape along two possible reaction paths and identify a thermodynamically stable covalent adduct formed between the substrate and the NADPH cofactor in agreement with experimental observation. This C2 adduct serves as a stable intermediate avoiding the reduction side reaction of the reactive enolate species and it is able to react with CO2 with similar kinetics as the direct reaction mechanism as confirmed by measured kinetic isotope effects.[https://www.researchgate.net/figure/Reaction-scheme-and-structural-organization-of-the-K-setae-ECR-complex-a_fig1_360182999]]. The ECR enzymes in Kitsatospor setae bacteria work efficiently in CO2 fixation [Altogether, our study reveals unprecedented molecular details of selective CO2 binding and C-C-bond formation during the catalytic cycle of nature's most efficient CO2-fixing enzyme.[https://pubmed.ncbi.nlm.nih.gov/31243147/]]. ECRs are some of the most efficient CO2-fixing enzymes described to date [Enoyl-CoA carboxylases/reductases (ECRs) are some of the most efficient CO2-fixing enzymes described to date.[https://www.researchgate.net/figure/Reaction-scheme-and-structural-organization-of-the-K-setae-ECR-complex-a_fig1_360182999]].\", 'opposition': 'None', 'proposition': 'The ECR enzymes in Kitsatospor setae bacteria are highly efficient, as evidenced by their low Km value, increased activity in the WT tetramer, and efficient CO2 fixation. They also form a stable covalent adduct with the substrate and NADPH cofactor. Additionally, ECRs are known to be some of the most efficient CO2-fixing enzymes described to date.', 'conclusion': 'Yes, the best answer is a first-rate answer to the key question. The ECR enzymes in Kitsatospor setae bacteria are highly efficient based on multiple facts that demonstrate their low Km value, increased activity, efficient CO2 fixation, and comparison to other CO2-fixing enzymes.'}\n"
     ]
    }
   ],
   "source": [
    "import re\n",
    "import string\n",
    "\n",
    "def replace_references(feedback, facts_dict, facts_json):\n",
    "    def replacer(match):\n",
    "        index = int(match.group(1))\n",
    "        fact = facts_dict[index]\n",
    "        \n",
    "        # Find the corresponding URL for the fact in facts_json\n",
    "        fact_stripped = fact.strip(string.punctuation)\n",
    "        quote_url = None\n",
    "        for key in facts_json:\n",
    "            if fact_stripped in key:\n",
    "                quote_url = facts_json[key]\n",
    "                break\n",
    "            \n",
    "        if quote_url:\n",
    "            return f'[{quote_url}]'\n",
    "        else:\n",
    "            return f'[]'\n",
    "\n",
    "    feedback['best_answer'] = re.sub(r'\\[\\[(\\d+)\\]\\]', replacer, feedback['best_answer'])\n",
    "    feedback['proposition'] = re.sub(r'\\[\\[(\\d+)\\]\\]', replacer, feedback['proposition'])\n",
    "    feedback['opposition'] = re.sub(r'\\[\\[(\\d+)\\]\\]', replacer, feedback['opposition'])\n",
    "    feedback['conclusion'] = re.sub(r'\\[\\[(\\d+)\\]\\]', replacer, feedback['conclusion'])\n",
    "\n",
    "    return feedback\n",
    "\n",
    "verifier_feedback_updated = replace_references(verifier_feedback, facts_dict, facts_json)\n",
    "print(verifier_feedback_updated)\n"
   ]
  },
  {
   "cell_type": "code",
   "execution_count": 60,
   "metadata": {},
   "outputs": [],
   "source": [
    "file_name = f'autoscious_logs/{search_query_file_safe}/facts/evaluation.json'\n",
    "\n",
    "with open(file_name, 'w', encoding='utf-8') as f:\n",
    "    json.dump(verifier_feedback_updated, f, indent=4)"
   ]
  },
  {
   "cell_type": "markdown",
   "metadata": {},
   "source": [
    "## Analyzer -- figuring out next steps based on evaluator feedback"
   ]
  },
  {
   "cell_type": "code",
   "execution_count": null,
   "metadata": {},
   "outputs": [],
   "source": []
  }
 ],
 "metadata": {
  "kernelspec": {
   "display_name": "venv",
   "language": "python",
   "name": "python3"
  },
  "language_info": {
   "codemirror_mode": {
    "name": "ipython",
    "version": 3
   },
   "file_extension": ".py",
   "mimetype": "text/x-python",
   "name": "python",
   "nbconvert_exporter": "python",
   "pygments_lexer": "ipython3",
   "version": "3.10.6"
  },
  "orig_nbformat": 4
 },
 "nbformat": 4,
 "nbformat_minor": 2
}
