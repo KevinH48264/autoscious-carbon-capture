{
 "cells": [
  {
   "cell_type": "code",
   "execution_count": null,
   "metadata": {},
   "outputs": [],
   "source": [
    "# Given facts from the searcher, plan next steps"
   ]
  },
  {
   "cell_type": "code",
   "execution_count": 6,
   "metadata": {},
   "outputs": [],
   "source": [
    "from util import sanitize_filename\n",
    "import os\n",
    "import json\n",
    "from llm import chat_openai"
   ]
  },
  {
   "cell_type": "code",
   "execution_count": 5,
   "metadata": {},
   "outputs": [],
   "source": [
    "search_query = \"How efficiently do the ECR enzymes work in Kitsatospor setae bacteria?\"\n",
    "search_query_file_safe = sanitize_filename(search_query)"
   ]
  },
  {
   "cell_type": "markdown",
   "metadata": {},
   "source": [
    "## Verifier"
   ]
  },
  {
   "cell_type": "code",
   "execution_count": 3,
   "metadata": {},
   "outputs": [],
   "source": [
    "file_name = f'autoscious_logs/{search_query_file_safe}/facts/facts.txt'\n",
    "\n",
    "with open(file_name, 'r', encoding='utf-8') as f:\n",
    "    facts_list = f.read()"
   ]
  },
  {
   "cell_type": "code",
   "execution_count": 4,
   "metadata": {},
   "outputs": [
    {
     "data": {
      "text/plain": [
       "\"The ECR enzymes in Kitsatospor setae bacteria work with a Michaelis-Menten constant (Km) of 26 ± 3 μM.\\n\\nThe ECR activity in the WT tetramer is increased by 2 orders of magnitude in comparison to the triple variant E151D/N157E/N218E.\\n\\nThe ECR enzymes in Kitsatospor setae bacteria work efficiently by forming a thermodynamically stable covalent adduct between the substrate and the NADPH cofactor.\\n\\nThe bacterial enzyme ECRs in Kitasatospora setae work 100 times faster than without the presence of molecular 'glue' and twist.\\n\\n20 times faster than plant enzymes do during photosynthesis.\\n\\nThe ECR enzymes in Kitsatospor setae bacteria work efficiently in CO2 fixation.\\n\\nThe ECR enzymes in Kitsatospor setae bacteria are highly efficient.\\n\\nECRs are some of the most efficient CO2-fixing enzymes described to date.\\n\\n\""
      ]
     },
     "execution_count": 4,
     "metadata": {},
     "output_type": "execute_result"
    }
   ],
   "source": [
    "facts_list"
   ]
  },
  {
   "cell_type": "code",
   "execution_count": 21,
   "metadata": {},
   "outputs": [
    {
     "name": "stdout",
     "output_type": "stream",
     "text": [
      "Prompt:  \n",
      "Key question: \n",
      "How efficiently do the ECR enzymes work in Kitsatospor setae bacteria?\n",
      "\n",
      "Context from manager:\n",
      "Ideally, I'm looking for a numerical answer.\n",
      "\n",
      "Task:\n",
      "You are a verifier. Given the key question and best answers, is there a reasonable answer to the key question? If so, what is it? If not, why not?\n",
      "\n",
      "The output should be in JSON format: \n",
      "```json\n",
      "{\n",
      "  \"answer\": \"<yes or no>\",\n",
      "  \"feedback\": \"<insert reasonable answer if there is one, or reasoning / feedback>\"\n",
      "}\n",
      "```\n",
      "\n",
      "Best answers:\n",
      "The ECR enzymes in Kitsatospor setae bacteria work with a Michaelis-Menten constant (Km) of 26 ± 3 μM.\n",
      "\n",
      "The ECR activity in the WT tetramer is increased by 2 orders of magnitude in comparison to the triple variant E151D/N157E/N218E.\n",
      "\n",
      "The ECR enzymes in Kitsatospor setae bacteria work efficiently by forming a thermodynamically stable covalent adduct between the substrate and the NADPH cofactor.\n",
      "\n",
      "The bacterial enzyme ECRs in Kitasatospora setae work 100 times faster than without the presence of molecular 'glue' and twist.\n",
      "\n",
      "20 times faster than plant enzymes do during photosynthesis.\n",
      "\n",
      "The ECR enzymes in Kitsatospor setae bacteria work efficiently in CO2 fixation.\n",
      "\n",
      "The ECR enzymes in Kitsatospor setae bacteria are highly efficient.\n",
      "\n",
      "ECRs are some of the most efficient CO2-fixing enzymes described to date.\n",
      "\n",
      "\n",
      "\n",
      "Respond only with the output, with no explanation or conversation.\n",
      "\n",
      "Completion info:  {\n",
      "  \"choices\": [\n",
      "    {\n",
      "      \"finish_reason\": \"stop\",\n",
      "      \"index\": 0,\n",
      "      \"message\": {\n",
      "        \"content\": \"{\\n  \\\"answer\\\": \\\"yes\\\",\\n  \\\"feedback\\\": \\\"The ECR enzymes in Kitsatospor setae bacteria are highly efficient, with a Michaelis-Menten constant (Km) of 26 \\u00b1 3 \\u03bcM and increased activity in comparison to the triple variant E151D/N157E/N218E. They also form a thermodynamically stable covalent adduct between the substrate and the NADPH cofactor. Additionally, they are described as some of the most efficient CO2-fixing enzymes to date.\\\"\\n}\",\n",
      "        \"role\": \"assistant\"\n",
      "      }\n",
      "    }\n",
      "  ],\n",
      "  \"created\": 1691421114,\n",
      "  \"id\": \"chatcmpl-7kwBeq2fuJ7Cs8BTmWH5ZN8mvwQya\",\n",
      "  \"model\": \"gpt-3.5-turbo-0613\",\n",
      "  \"object\": \"chat.completion\",\n",
      "  \"usage\": {\n",
      "    \"completion_tokens\": 111,\n",
      "    \"prompt_tokens\": 369,\n",
      "    \"total_tokens\": 480\n",
      "  }\n",
      "}\n",
      "{\n",
      "  \"answer\": \"yes\",\n",
      "  \"feedback\": \"The ECR enzymes in Kitsatospor setae bacteria are highly efficient, with a Michaelis-Menten constant (Km) of 26 ± 3 μM and increased activity in comparison to the triple variant E151D/N157E/N218E. They also form a thermodynamically stable covalent adduct between the substrate and the NADPH cofactor. Additionally, they are described as some of the most efficient CO2-fixing enzymes to date.\"\n",
      "}\n"
     ]
    }
   ],
   "source": [
    "# GPT template\n",
    "# Improvement: it should cite direct quote facts, so that the direct quote and url can be retrieved in the answer.\n",
    "\n",
    "prompt = f'''\n",
    "Key question: \n",
    "{search_query}\n",
    "\n",
    "Context from manager:\n",
    "Ideally, I'm looking for a numerical answer.\n",
    "\n",
    "Task:\n",
    "You are a verifier. Given the key question and best answers, is there a reasonable answer to the key question? If so, what is it? If not, why not?\n",
    "\n",
    "The output should be in JSON format: \n",
    "```json\n",
    "{{\n",
    "  \"answer\": \"<yes or no>\",\n",
    "  \"feedback\": \"<insert reasonable answer if there is one, or reasoning / feedback>\"\n",
    "}}\n",
    "```\n",
    "\n",
    "Best answers:\n",
    "{facts_list}\n",
    "\n",
    "Respond only with the output, with no explanation or conversation.\n",
    "'''\n",
    "verifier_feedback = chat_openai(prompt, model=\"gpt-3.5-turbo\")[0]\n",
    "print(verifier_feedback)"
   ]
  },
  {
   "cell_type": "code",
   "execution_count": null,
   "metadata": {},
   "outputs": [],
   "source": []
  }
 ],
 "metadata": {
  "kernelspec": {
   "display_name": "venv",
   "language": "python",
   "name": "python3"
  },
  "language_info": {
   "codemirror_mode": {
    "name": "ipython",
    "version": 3
   },
   "file_extension": ".py",
   "mimetype": "text/x-python",
   "name": "python",
   "nbconvert_exporter": "python",
   "pygments_lexer": "ipython3",
   "version": "3.10.6"
  },
  "orig_nbformat": 4
 },
 "nbformat": 4,
 "nbformat_minor": 2
}
