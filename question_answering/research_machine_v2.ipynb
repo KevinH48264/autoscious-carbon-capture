{
 "cells": [
  {
   "cell_type": "code",
   "execution_count": null,
   "metadata": {},
   "outputs": [],
   "source": [
    "\n",
    "'''\n",
    "V2 Version of Research Machine\n",
    "0. Starts with the key question that needs to be answered\n",
    "- In memory, 1) context from one level up is provided\n",
    "\n",
    "1. Searchers (\n",
    "    INPUT: [key question, context, verifier feedback, running list of clues & relevant info]\n",
    "    PROCESS: \n",
    "    OUTPUT: [key question, context, verifier feedback, updated running list of clues & relevant info, best answer, history of actions]\n",
    ") -- they figure out if they need to 1.1) search more or 1.2) decompose to smaller key questions that need to be answered\n",
    "\n",
    "1.1. Seekers\n",
    "2.1) Key question decompositions are created and sent to verifiers to see if there's a reasonable answer\n",
    "2.2) Searchers look to find answer online -- need to figure out how to do this well. And when to stop searching.\n",
    "- In memory, 1) context from directly one level up is provided, 2) biggest clues and top answers are tracked, and 3) feedback from verifiers\n",
    "\n",
    "2. Verifiers (\n",
    "    INPUT: [key question, context, verifier feedback, updated running list of clues & relevant info, best answer, updated history]\n",
    "    PROCESS: \n",
    "        1. Evaluate best answer, updated running list of clues & relevant info to see if there's a reasonable answer to the key question\n",
    "        2. If yes, return answer to previous verifier with this reasonable answer as the answer (learned tactic)\n",
    "        3. If no, give feedback as to what's wrong to analyzers\n",
    "    OUTPUT: [updated key question, updated context, updated verifier feedback, updated running list of clues & relevant info, updated history]\n",
    ") -- they check based on the top answers whether there is a reasonable answer to the question yet. If yes, then return the answer to the previous verifier so they can evaluate if they have a reasonable answer with this new information.\n",
    "- Memory = full history of decomposition. They are responsible for backtracking and posing the key question for analyzers\n",
    "- Checks for logical validity\n",
    "- Checks for reasonable answer or not\n",
    "- Give feedback to Analyzers\n",
    "\n",
    "3. Analyzers (\n",
    "    PROCESS: Given feedback and history, figure out what key question we need to answer. \n",
    ")\n",
    "\n",
    "Risks:\n",
    "1. Analyzers probably need more frameworks to backtrack on their approach, because decomposition might not work\n",
    "2. This process is not MECE, I need to spend more time thinking about the right approach later.\n",
    "'''"
   ]
  },
  {
   "cell_type": "code",
   "execution_count": null,
   "metadata": {},
   "outputs": [],
   "source": [
    "# GPT template\n",
    "prompt = f'''\n",
    "\n",
    "'''\n",
    "res = chat_openai(prompt, model=\"gpt-3.5-turbo\")[0]\n",
    "print(res)"
   ]
  },
  {
   "cell_type": "markdown",
   "metadata": {},
   "source": [
    "# Searchers"
   ]
  },
  {
   "cell_type": "markdown",
   "metadata": {},
   "source": [
    "### Coming up with context and key question"
   ]
  },
  {
   "cell_type": "code",
   "execution_count": 1,
   "metadata": {},
   "outputs": [],
   "source": [
    "# context = \"I'm supporting a biocement research project. I have to run a carbon neutrality analysis, so I'd like to know what efficiencies we need to achieve with ECR enzymes for the experimental process to be carbon negative, neutral, or positive.\""
   ]
  },
  {
   "cell_type": "code",
   "execution_count": 118,
   "metadata": {},
   "outputs": [],
   "source": [
    "# key question\n",
    "search_query = \"How efficiently do the ECR enzymes work in Kitsatospor setae bacteria?\""
   ]
  },
  {
   "cell_type": "code",
   "execution_count": 119,
   "metadata": {},
   "outputs": [],
   "source": [
    "from autogpt.commands.web_selenium import browse_website, scrape_text_with_selenium_no_agent\n",
    "import json\n",
    "from util import sanitize_filename\n",
    "import os\n",
    "from prompts import get_predicted_usefulness_of_text_prompt\n",
    "from collections import defaultdict\n",
    "from llm import chat_openai\n",
    "from autogpt.commands.web_search import web_search_ddg\n",
    "from datetime import datetime"
   ]
  },
  {
   "cell_type": "code",
   "execution_count": 120,
   "metadata": {},
   "outputs": [],
   "source": [
    "search_query_file_safe = sanitize_filename(search_query)"
   ]
  },
  {
   "cell_type": "code",
   "execution_count": 126,
   "metadata": {},
   "outputs": [
    {
     "data": {
      "text/plain": [
       "'How_efficiently_do_the_ECR_enzymes_work_in_Kitsatospor_setae_bacteria_'"
      ]
     },
     "execution_count": 126,
     "metadata": {},
     "output_type": "execute_result"
    }
   ],
   "source": [
    "search_query_file_safe"
   ]
  },
  {
   "cell_type": "code",
   "execution_count": 121,
   "metadata": {},
   "outputs": [],
   "source": [
    "search_engine = \"academic\"\n",
    "# search_engine = \"general\""
   ]
  },
  {
   "cell_type": "code",
   "execution_count": null,
   "metadata": {},
   "outputs": [],
   "source": [
    "# 1. Implementing a \"write down the context, key question, deliverable, and any clarifying questions before you start searching for the answer to the question\".\n",
    "# prompt = f'''\n",
    "\n",
    "# '''\n",
    "# res = chat_openai(prompt, model=\"gpt-3.5-turbo\")[0]\n",
    "# print(res)\n"
   ]
  },
  {
   "cell_type": "code",
   "execution_count": null,
   "metadata": {},
   "outputs": [],
   "source": [
    "# 2. Implementing a verifier that responds to the clarifying questions as best as possible."
   ]
  },
  {
   "cell_type": "markdown",
   "metadata": {},
   "source": [
    "Verifier check (personal check for now):\n",
    "- The key question seems pretty clear to me. I added answers to FAQs / clarifying questions, but I'd like to be able to support this later. Clarifying questions is key in this step to get feedback from the human. If not, then I suppose the verifierLM can take their best guess at what the deliverable is."
   ]
  },
  {
   "cell_type": "markdown",
   "metadata": {},
   "source": [
    "### [Skip] Getting key questions and the decomposition and context"
   ]
  },
  {
   "cell_type": "code",
   "execution_count": 8,
   "metadata": {},
   "outputs": [
    {
     "name": "stdout",
     "output_type": "stream",
     "text": [
      "Key questions decomposition list:  [{'project_question': 'How efficiently do the ECR enzymes work, especially in Kitsatospor setae bacteria?', 'project_objective': 'To determine the efficiency of ECR enzymes in Kitsatospor setae bacteria', 'key_drivers': {'1': {'driver': 'ECR enzyme activity', 'hypotheses': {'1': {'hypothesis': 'ECR enzyme activity is high in Kitsatospor setae bacteria', 'key_questions': {'1': 'What is the level of ECR enzyme activity in Kitsatospor setae bacteria?'}}}}}}, {'project_question': 'How efficiently do the ECR enzymes work, especially in Kitsatospor setae bacteria?', 'project_objective': 'To determine the efficiency of ECR enzymes in Kitsatospor setae bacteria', 'key_drivers': {'1': {'driver': 'ECR enzyme activity', 'hypotheses': {'1': {'hypothesis': 'ECR enzyme activity is high in Kitsatospor setae bacteria', 'key_questions': {'2': 'How does ECR enzyme activity compare to other bacteria?'}}}}}}, {'project_question': 'How efficiently do the ECR enzymes work, especially in Kitsatospor setae bacteria?', 'project_objective': 'To determine the efficiency of ECR enzymes in Kitsatospor setae bacteria', 'key_drivers': {'1': {'driver': 'ECR enzyme activity', 'hypotheses': {'1': {'hypothesis': 'ECR enzyme activity is high in Kitsatospor setae bacteria', 'key_questions': {'3': 'What factors influence ECR enzyme activity in Kitsatospor setae bacteria?'}}}}}}, {'project_question': 'How efficiently do the ECR enzymes work, especially in Kitsatospor setae bacteria?', 'project_objective': 'To determine the efficiency of ECR enzymes in Kitsatospor setae bacteria', 'key_drivers': {'1': {'driver': 'ECR enzyme activity', 'hypotheses': {'1': {'hypothesis': 'ECR enzyme activity is high in Kitsatospor setae bacteria', 'key_questions': {'4': 'What are the potential applications or implications of high ECR enzyme activity in Kitsatospor setae bacteria?'}}}}}}]\n"
     ]
    }
   ],
   "source": [
    "# # Create a decomposition for each key question only\n",
    "# context = \"Enoyl-CoA carboxylase/reductase enzymes (ECRs)\"\n",
    "# key_question_decomposition_list = []\n",
    "# for driver_key, driver_value in decomposition['key_drivers'].items():\n",
    "#     for hypothesis_key, hypothesis_value in driver_value['hypotheses'].items():\n",
    "#         for question_key, question_value in hypothesis_value['key_questions'].items():\n",
    "#             new_decomposition = decomposition.copy()\n",
    "#             new_decomposition['key_drivers'] = {\n",
    "#                 driver_key: {\n",
    "#                     'driver': driver_value['driver'],\n",
    "#                     'hypotheses': {\n",
    "#                         hypothesis_key: {\n",
    "#                             'hypothesis': hypothesis_value['hypothesis'],\n",
    "#                             'key_questions': {\n",
    "#                                 question_key: question_value\n",
    "#                             }\n",
    "#                         }\n",
    "#                     }\n",
    "#                 }\n",
    "#             }\n",
    "#             key_question_decomposition_list.append(new_decomposition)\n",
    "# print(\"Key questions decomposition list: \", key_question_decomposition_list)"
   ]
  },
  {
   "cell_type": "markdown",
   "metadata": {},
   "source": [
    "### Coming up with many good search queries"
   ]
  },
  {
   "cell_type": "code",
   "execution_count": 122,
   "metadata": {},
   "outputs": [],
   "source": [
    "def get_initial_search_queries_prompt(key_question, search_engine):\n",
    "  return f'''\n",
    "Key question:\n",
    "{key_question}\n",
    "\n",
    "Task:\n",
    "For the key question, write a clear and comprehensive but short (1 query) list of search queries optimized for best search engine results, so that you can confidently and quickly surface the most relevant information to determine the best answer to the question. Extract a string of search keywords query from the key question.\n",
    "\n",
    "The output should be in JSON format: \n",
    "```json\n",
    "{{\n",
    "  \"1\": \"<insert query>\",\n",
    "  \"keywords_query\": \"<insert keywords>\"\n",
    "}}\n",
    "\n",
    "Respond only with the output, with no explanation or conversation.\n",
    "'''"
   ]
  },
  {
   "cell_type": "code",
   "execution_count": 123,
   "metadata": {},
   "outputs": [
    {
     "name": "stdout",
     "output_type": "stream",
     "text": [
      "\n",
      "Key question:\n",
      "How efficiently do the ECR enzymes work in Kitsatospor setae bacteria?\n",
      "\n",
      "Task:\n",
      "For the key question, write a clear and comprehensive but short (1 query) list of search queries optimized for best search engine results, so that you can confidently and quickly surface the most relevant information to determine the best answer to the question. Extract a string of search keywords query from the key question.\n",
      "\n",
      "The output should be in JSON format: \n",
      "```json\n",
      "{\n",
      "  \"1\": \"<insert query>\",\n",
      "  \"keywords_query\": \"<insert keywords>\"\n",
      "}\n",
      "\n",
      "Respond only with the output, with no explanation or conversation.\n",
      "\n"
     ]
    }
   ],
   "source": [
    "print(get_initial_search_queries_prompt(search_query, search_engine))"
   ]
  },
  {
   "cell_type": "code",
   "execution_count": 128,
   "metadata": {},
   "outputs": [
    {
     "name": "stdout",
     "output_type": "stream",
     "text": [
      "Prompt:  \n",
      "Key question:\n",
      "How efficiently do the ECR enzymes work in Kitsatospor setae bacteria?\n",
      "\n",
      "Task:\n",
      "For the key question, write a clear and comprehensive but short (1 query) list of search queries optimized for best search engine results, so that you can confidently and quickly surface the most relevant information to determine the best answer to the question. Extract a string of search keywords query from the key question.\n",
      "\n",
      "The output should be in JSON format: \n",
      "```json\n",
      "{\n",
      "  \"1\": \"<insert query>\",\n",
      "  \"keywords_query\": \"<insert keywords>\"\n",
      "}\n",
      "\n",
      "Respond only with the output, with no explanation or conversation.\n",
      "\n",
      "Completion info:  {\n",
      "  \"choices\": [\n",
      "    {\n",
      "      \"finish_reason\": \"stop\",\n",
      "      \"index\": 0,\n",
      "      \"message\": {\n",
      "        \"content\": \"{\\n  \\\"1\\\": \\\"Efficiency of ECR enzymes in Kitsatospor setae bacteria\\\",\\n  \\\"keywords_query\\\": \\\"ECR enzymes efficiency Kitsatospor setae bacteria\\\"\\n}\",\n",
      "        \"role\": \"assistant\"\n",
      "      }\n",
      "    }\n",
      "  ],\n",
      "  \"created\": 1691369571,\n",
      "  \"id\": \"chatcmpl-7kimJJNuGGcKuLLb2WvcArazVJsaT\",\n",
      "  \"model\": \"gpt-3.5-turbo-0613\",\n",
      "  \"object\": \"chat.completion\",\n",
      "  \"usage\": {\n",
      "    \"completion_tokens\": 38,\n",
      "    \"prompt_tokens\": 168,\n",
      "    \"total_tokens\": 206\n",
      "  }\n",
      "}\n"
     ]
    }
   ],
   "source": [
    "context = \"Enoyl-CoA carboxylase/reductase enzymes (ECRs)\"\n",
    "\n",
    "# for decomposition_idx, key_question_decomposition in enumerate(key_question_decomposition_list):\n",
    "key_question_initial_search_queries = json.loads(chat_openai(get_initial_search_queries_prompt(search_query, search_engine), model=\"gpt-3.5-turbo\")[0])\n",
    "\n",
    "keywords_query = key_question_initial_search_queries.pop('keywords_query')\n",
    "\n",
    "with open(f'autoscious_logs/{search_query_file_safe}/sources/initial_search_queries.json', 'w') as f:\n",
    "    json.dump(key_question_initial_search_queries, f, indent=2)"
   ]
  },
  {
   "cell_type": "markdown",
   "metadata": {},
   "source": [
    "### (Debug testing) Google Scholar search given search keywords"
   ]
  },
  {
   "cell_type": "code",
   "execution_count": 9,
   "metadata": {},
   "outputs": [],
   "source": [
    "import json\n",
    "from scholarly import scholarly\n",
    "from scholarly import ProxyGenerator\n",
    "\n",
    "# Set up a ProxyGenerator object to use free proxies\n",
    "# This needs to be done only once per session\n",
    "pg = ProxyGenerator()\n",
    "pg.FreeProxies()\n",
    "scholarly.use_proxy(pg)"
   ]
  },
  {
   "cell_type": "code",
   "execution_count": 117,
   "metadata": {},
   "outputs": [],
   "source": [
    "scholar_res_gen = scholarly.search_pubs('Enoyl-CoA carboxylase/reductase (ECR) enzyme activity Kitasatospora setae bacteria')"
   ]
  },
  {
   "cell_type": "code",
   "execution_count": 136,
   "metadata": {},
   "outputs": [
    {
     "data": {
      "text/plain": [
       "<scholarly.publication_parser._SearchScholarIterator at 0x1f0d8958160>"
      ]
     },
     "execution_count": 136,
     "metadata": {},
     "output_type": "execute_result"
    }
   ],
   "source": [
    "scholar_res_gen"
   ]
  },
  {
   "cell_type": "code",
   "execution_count": 137,
   "metadata": {},
   "outputs": [],
   "source": [
    "first_res = next(scholar_res_gen)"
   ]
  },
  {
   "cell_type": "code",
   "execution_count": 138,
   "metadata": {},
   "outputs": [
    {
     "name": "stdout",
     "output_type": "stream",
     "text": [
      "https://www.research-collection.ethz.ch/bitstream/handle/20.500.11850/126447/1/ETH23842.pdf\n"
     ]
    }
   ],
   "source": [
    "print(first_res['eprint_url'])"
   ]
  },
  {
   "cell_type": "code",
   "execution_count": 130,
   "metadata": {},
   "outputs": [],
   "source": [
    "import requests\n",
    "from PyPDF2 import PdfReader \n",
    "from io import BytesIO\n",
    "\n",
    "def try_getting_pdf(url):\n",
    "    response = requests.get(url)\n",
    "    f = BytesIO(response.content)\n",
    "    try:\n",
    "        pdf = PdfReader(f)\n",
    "        return True\n",
    "    except:\n",
    "        return False\n",
    "\n",
    "# Get the PDF content\n",
    "def try_getting_pdf_content():\n",
    "    response = requests.get('https://pubs.acs.org/doi/pdf/10.1021/acs.chemrev.2c00581')\n",
    "    f = BytesIO(response.content)\n",
    "    try:\n",
    "        pdf = PdfReader(f)\n",
    "        content = \"\"\n",
    "\n",
    "        for i in range(len(pdf.pages)):\n",
    "            page = pdf.pages[i]\n",
    "            text = page.extract_text()\n",
    "            content += text\n",
    "        return content\n",
    "    except:\n",
    "        return \"\""
   ]
  },
  {
   "cell_type": "code",
   "execution_count": 146,
   "metadata": {},
   "outputs": [
    {
     "ename": "MaxTriesExceededException",
     "evalue": "Cannot Fetch from Google Scholar.",
     "output_type": "error",
     "traceback": [
      "\u001b[1;31m---------------------------------------------------------------------------\u001b[0m",
      "\u001b[1;31mMaxTriesExceededException\u001b[0m                 Traceback (most recent call last)",
      "Cell \u001b[1;32mIn[146], line 1\u001b[0m\n\u001b[1;32m----> 1\u001b[0m scholar_res_gen \u001b[39m=\u001b[39m scholarly\u001b[39m.\u001b[39;49msearch_pubs(\u001b[39m'\u001b[39;49m\u001b[39mEnoyl-CoA carboxylase/reductase (ECR) enzyme activity Kitasatospora setae bacteria\u001b[39;49m\u001b[39m'\u001b[39;49m)\n",
      "File \u001b[1;32mc:\\Users\\1kevi\\Desktop\\projects\\Research\\autoscious-carbon-capture\\venv\\lib\\site-packages\\scholarly\\_scholarly.py:160\u001b[0m, in \u001b[0;36m_Scholarly.search_pubs\u001b[1;34m(self, query, patents, citations, year_low, year_high, sort_by, include_last_year, start_index)\u001b[0m\n\u001b[0;32m     97\u001b[0m \u001b[39m\u001b[39m\u001b[39m\"\"\"Searches by query and returns a generator of Publication objects\u001b[39;00m\n\u001b[0;32m     98\u001b[0m \n\u001b[0;32m     99\u001b[0m \u001b[39m:param query: terms to be searched\u001b[39;00m\n\u001b[1;32m   (...)\u001b[0m\n\u001b[0;32m    155\u001b[0m \n\u001b[0;32m    156\u001b[0m \u001b[39m\"\"\"\u001b[39;00m\n\u001b[0;32m    157\u001b[0m url \u001b[39m=\u001b[39m \u001b[39mself\u001b[39m\u001b[39m.\u001b[39m_construct_url(_PUBSEARCH\u001b[39m.\u001b[39mformat(requests\u001b[39m.\u001b[39mutils\u001b[39m.\u001b[39mquote(query)), patents\u001b[39m=\u001b[39mpatents,\n\u001b[0;32m    158\u001b[0m                           citations\u001b[39m=\u001b[39mcitations, year_low\u001b[39m=\u001b[39myear_low, year_high\u001b[39m=\u001b[39myear_high,\n\u001b[0;32m    159\u001b[0m                           sort_by\u001b[39m=\u001b[39msort_by, include_last_year\u001b[39m=\u001b[39minclude_last_year, start_index\u001b[39m=\u001b[39mstart_index)\n\u001b[1;32m--> 160\u001b[0m \u001b[39mreturn\u001b[39;00m \u001b[39mself\u001b[39;49m\u001b[39m.\u001b[39;49m__nav\u001b[39m.\u001b[39;49msearch_publications(url)\n",
      "File \u001b[1;32mc:\\Users\\1kevi\\Desktop\\projects\\Research\\autoscious-carbon-capture\\venv\\lib\\site-packages\\scholarly\\_navigator.py:296\u001b[0m, in \u001b[0;36mNavigator.search_publications\u001b[1;34m(self, url)\u001b[0m\n\u001b[0;32m    288\u001b[0m \u001b[39mdef\u001b[39;00m \u001b[39msearch_publications\u001b[39m(\u001b[39mself\u001b[39m, url: \u001b[39mstr\u001b[39m) \u001b[39m-\u001b[39m\u001b[39m>\u001b[39m _SearchScholarIterator:\n\u001b[0;32m    289\u001b[0m \u001b[39m    \u001b[39m\u001b[39m\"\"\"Returns a Publication Generator given a url\u001b[39;00m\n\u001b[0;32m    290\u001b[0m \n\u001b[0;32m    291\u001b[0m \u001b[39m    :param url: the url where publications can be found.\u001b[39;00m\n\u001b[1;32m   (...)\u001b[0m\n\u001b[0;32m    294\u001b[0m \u001b[39m    :rtype: {_SearchScholarIterator}\u001b[39;00m\n\u001b[0;32m    295\u001b[0m \u001b[39m    \"\"\"\u001b[39;00m\n\u001b[1;32m--> 296\u001b[0m     \u001b[39mreturn\u001b[39;00m _SearchScholarIterator(\u001b[39mself\u001b[39;49m, url)\n",
      "File \u001b[1;32mc:\\Users\\1kevi\\Desktop\\projects\\Research\\autoscious-carbon-capture\\venv\\lib\\site-packages\\scholarly\\publication_parser.py:53\u001b[0m, in \u001b[0;36m_SearchScholarIterator.__init__\u001b[1;34m(self, nav, url)\u001b[0m\n\u001b[0;32m     51\u001b[0m \u001b[39mself\u001b[39m\u001b[39m.\u001b[39m_pubtype \u001b[39m=\u001b[39m PublicationSource\u001b[39m.\u001b[39mPUBLICATION_SEARCH_SNIPPET \u001b[39mif\u001b[39;00m \u001b[39m\"\u001b[39m\u001b[39m/scholar?\u001b[39m\u001b[39m\"\u001b[39m \u001b[39min\u001b[39;00m url \u001b[39melse\u001b[39;00m PublicationSource\u001b[39m.\u001b[39mJOURNAL_CITATION_LIST\n\u001b[0;32m     52\u001b[0m \u001b[39mself\u001b[39m\u001b[39m.\u001b[39m_nav \u001b[39m=\u001b[39m nav\n\u001b[1;32m---> 53\u001b[0m \u001b[39mself\u001b[39;49m\u001b[39m.\u001b[39;49m_load_url(url)\n\u001b[0;32m     54\u001b[0m \u001b[39mself\u001b[39m\u001b[39m.\u001b[39mtotal_results \u001b[39m=\u001b[39m \u001b[39mself\u001b[39m\u001b[39m.\u001b[39m_get_total_results()\n\u001b[0;32m     55\u001b[0m \u001b[39mself\u001b[39m\u001b[39m.\u001b[39mpub_parser \u001b[39m=\u001b[39m PublicationParser(\u001b[39mself\u001b[39m\u001b[39m.\u001b[39m_nav)\n",
      "File \u001b[1;32mc:\\Users\\1kevi\\Desktop\\projects\\Research\\autoscious-carbon-capture\\venv\\lib\\site-packages\\scholarly\\publication_parser.py:59\u001b[0m, in \u001b[0;36m_SearchScholarIterator._load_url\u001b[1;34m(self, url)\u001b[0m\n\u001b[0;32m     57\u001b[0m \u001b[39mdef\u001b[39;00m \u001b[39m_load_url\u001b[39m(\u001b[39mself\u001b[39m, url: \u001b[39mstr\u001b[39m):\n\u001b[0;32m     58\u001b[0m     \u001b[39m# this is temporary until setup json file\u001b[39;00m\n\u001b[1;32m---> 59\u001b[0m     \u001b[39mself\u001b[39m\u001b[39m.\u001b[39m_soup \u001b[39m=\u001b[39m \u001b[39mself\u001b[39;49m\u001b[39m.\u001b[39;49m_nav\u001b[39m.\u001b[39;49m_get_soup(url)\n\u001b[0;32m     60\u001b[0m     \u001b[39mself\u001b[39m\u001b[39m.\u001b[39m_pos \u001b[39m=\u001b[39m \u001b[39m0\u001b[39m\n\u001b[0;32m     61\u001b[0m     \u001b[39mself\u001b[39m\u001b[39m.\u001b[39m_rows \u001b[39m=\u001b[39m \u001b[39mself\u001b[39m\u001b[39m.\u001b[39m_soup\u001b[39m.\u001b[39mfind_all(\u001b[39m'\u001b[39m\u001b[39mdiv\u001b[39m\u001b[39m'\u001b[39m, class_\u001b[39m=\u001b[39m\u001b[39m'\u001b[39m\u001b[39mgs_r gs_or gs_scl\u001b[39m\u001b[39m'\u001b[39m) \u001b[39m+\u001b[39m \u001b[39mself\u001b[39m\u001b[39m.\u001b[39m_soup\u001b[39m.\u001b[39mfind_all(\u001b[39m'\u001b[39m\u001b[39mdiv\u001b[39m\u001b[39m'\u001b[39m, class_\u001b[39m=\u001b[39m\u001b[39m'\u001b[39m\u001b[39mgsc_mpat_ttl\u001b[39m\u001b[39m'\u001b[39m)\n",
      "File \u001b[1;32mc:\\Users\\1kevi\\Desktop\\projects\\Research\\autoscious-carbon-capture\\venv\\lib\\site-packages\\scholarly\\_navigator.py:239\u001b[0m, in \u001b[0;36mNavigator._get_soup\u001b[1;34m(self, url)\u001b[0m\n\u001b[0;32m    237\u001b[0m \u001b[39mdef\u001b[39;00m \u001b[39m_get_soup\u001b[39m(\u001b[39mself\u001b[39m, url: \u001b[39mstr\u001b[39m) \u001b[39m-\u001b[39m\u001b[39m>\u001b[39m BeautifulSoup:\n\u001b[0;32m    238\u001b[0m \u001b[39m    \u001b[39m\u001b[39m\"\"\"Return the BeautifulSoup for a page on scholar.google.com\"\"\"\u001b[39;00m\n\u001b[1;32m--> 239\u001b[0m     html \u001b[39m=\u001b[39m \u001b[39mself\u001b[39;49m\u001b[39m.\u001b[39;49m_get_page(\u001b[39m'\u001b[39;49m\u001b[39mhttps://scholar.google.com\u001b[39;49m\u001b[39m{0}\u001b[39;49;00m\u001b[39m'\u001b[39;49m\u001b[39m.\u001b[39;49mformat(url))\n\u001b[0;32m    240\u001b[0m     html \u001b[39m=\u001b[39m html\u001b[39m.\u001b[39mreplace(\u001b[39mu\u001b[39m\u001b[39m'\u001b[39m\u001b[39m\\xa0\u001b[39;00m\u001b[39m'\u001b[39m, \u001b[39mu\u001b[39m\u001b[39m'\u001b[39m\u001b[39m \u001b[39m\u001b[39m'\u001b[39m)\n\u001b[0;32m    241\u001b[0m     res \u001b[39m=\u001b[39m BeautifulSoup(html, \u001b[39m'\u001b[39m\u001b[39mhtml.parser\u001b[39m\u001b[39m'\u001b[39m)\n",
      "File \u001b[1;32mc:\\Users\\1kevi\\Desktop\\projects\\Research\\autoscious-carbon-capture\\venv\\lib\\site-packages\\scholarly\\_navigator.py:190\u001b[0m, in \u001b[0;36mNavigator._get_page\u001b[1;34m(self, pagerequest, premium)\u001b[0m\n\u001b[0;32m    188\u001b[0m     \u001b[39mreturn\u001b[39;00m \u001b[39mself\u001b[39m\u001b[39m.\u001b[39m_get_page(pagerequest, \u001b[39mTrue\u001b[39;00m)\n\u001b[0;32m    189\u001b[0m \u001b[39melse\u001b[39;00m:\n\u001b[1;32m--> 190\u001b[0m     \u001b[39mraise\u001b[39;00m MaxTriesExceededException(\u001b[39m\"\u001b[39m\u001b[39mCannot Fetch from Google Scholar.\u001b[39m\u001b[39m\"\u001b[39m)\n",
      "\u001b[1;31mMaxTriesExceededException\u001b[0m: Cannot Fetch from Google Scholar."
     ]
    }
   ],
   "source": [
    "scholar_res_gen = scholarly.search_pubs('Enoyl-CoA carboxylase/reductase (ECR) enzyme activity Kitasatospora setae bacteria')"
   ]
  },
  {
   "cell_type": "code",
   "execution_count": null,
   "metadata": {},
   "outputs": [],
   "source": [
    "web_search_res = []\n",
    "for res in scholar_res_gen:\n",
    "    item = {}\n",
    "    item['title'] = res['bib']['title']\n",
    "    if try_getting_pdf(res['eprint_url']):\n",
    "        item['href'] = res['eprint_url']\n",
    "    else:\n",
    "        item['href'] = res['pub_url']\n",
    "    item['body'] = res['bib']['abstract']\n",
    "    web_search_res += [item]"
   ]
  },
  {
   "cell_type": "code",
   "execution_count": null,
   "metadata": {},
   "outputs": [
    {
     "name": "stdout",
     "output_type": "stream",
     "text": [
      "[]\n"
     ]
    }
   ],
   "source": [
    "print(web_search_res)"
   ]
  },
  {
   "cell_type": "code",
   "execution_count": 74,
   "metadata": {},
   "outputs": [],
   "source": [
    "from autogpt.commands.web_selenium import scrape_text_with_selenium_no_agent"
   ]
  },
  {
   "cell_type": "code",
   "execution_count": 103,
   "metadata": {},
   "outputs": [
    {
     "name": "stdout",
     "output_type": "stream",
     "text": [
      "Going through url:  https://pubs.acs.org/doi/abs/10.1021/acs.chemrev.2c00581\n",
      "select firefox options!\n",
      "Driver is getting url\n",
      "set timeout!\n",
      "Page loaded within 15 seconds\n",
      "Driver got url\n",
      "Driver has found page source\n",
      "Handing off to Beautiful Soup!\n",
      "done extractin\n",
      "Text:  Download Hi-Res ImageDownload to MS-PowerPointCite This:Chem. Rev. 2023, 123, 9, 5702-5754\n",
      "ADVERTISEMENT\n",
      "RETURN TO ISSUEPREVReviewNEXTEnzymatic Conversion of CO2: From Natural to Artificial UtilizationSarah BierbaumerSarah BierbaumerInstitute of Chemistry, University of Graz, NAWI Graz, Heinrichstraße 28, 8010 Graz, AustriaMore by Sarah BierbaumerView Biographyhttps://orcid.org/0000-0003-3883-7108, Maren NattermannMaren NattermannDepartment of Biochemistry and Synthetic Metabolism, Max Planck In\n"
     ]
    }
   ],
   "source": [
    "text = scrape_text_with_selenium_no_agent('https://pubs.acs.org/doi/abs/10.1021/acs.chemrev.2c00581', None, search_engine='firefox')"
   ]
  },
  {
   "cell_type": "code",
   "execution_count": null,
   "metadata": {},
   "outputs": [],
   "source": [
    "print(text)"
   ]
  },
  {
   "cell_type": "code",
   "execution_count": 91,
   "metadata": {},
   "outputs": [],
   "source": [
    "from selenium import webdriver\n",
    "import time"
   ]
  },
  {
   "cell_type": "markdown",
   "metadata": {},
   "source": [
    "### Web search given search keywords"
   ]
  },
  {
   "cell_type": "code",
   "execution_count": 129,
   "metadata": {},
   "outputs": [
    {
     "data": {
      "text/plain": [
       "True"
      ]
     },
     "execution_count": 129,
     "metadata": {},
     "output_type": "execute_result"
    }
   ],
   "source": [
    "import os\n",
    "from dotenv import load_dotenv\n",
    "from googleapiclient.discovery import build\n",
    "load_dotenv()"
   ]
  },
  {
   "cell_type": "code",
   "execution_count": 130,
   "metadata": {},
   "outputs": [],
   "source": [
    "import json\n",
    "from scholarly import scholarly\n",
    "from scholarly import ProxyGenerator\n",
    "\n",
    "# Set up a ProxyGenerator object to use free proxies\n",
    "# This needs to be done only once per session\n",
    "pg = ProxyGenerator()\n",
    "pg.FreeProxies()\n",
    "scholarly.use_proxy(pg)"
   ]
  },
  {
   "cell_type": "code",
   "execution_count": 44,
   "metadata": {},
   "outputs": [],
   "source": [
    "# import requests\n",
    "\n",
    "# def download_pdf(url, target_path):\n",
    "#     response = requests.get(url)\n",
    "    \n",
    "#     # Ensure we got a valid response\n",
    "#     if response.status_code == 200:\n",
    "#         with open(target_path, 'wb') as f:\n",
    "#             f.write(response.content)\n",
    "#     else:\n",
    "#         print(f\"Unable to get URL: {url}\")\n",
    "#         print(f\"Response Code: {response.status_code}\")"
   ]
  },
  {
   "cell_type": "code",
   "execution_count": 47,
   "metadata": {},
   "outputs": [],
   "source": [
    "# download_pdf(\"https://www.africau.edu/images/default/sample.pdf\", r'C:\\Users\\1kevi\\Desktop\\projects\\Research\\autoscious-carbon-capture\\question_answering\\test.pdf')"
   ]
  },
  {
   "cell_type": "code",
   "execution_count": 131,
   "metadata": {},
   "outputs": [],
   "source": [
    "# # Need to support pdfs! https://towardsdatascience.com/how-to-extract-text-from-any-pdf-and-image-for-large-language-model-2d17f02875e6\n",
    "# # Looks like with requests, we can't always download pdfs unfortunately, they'll probably need to be added as sources to check through by users manually\n",
    "from pytesseract import image_to_string\n",
    "import pypdfium2 as pdfium\n",
    "\n",
    "def convert_pdf_to_images(file_path, scale=300/72):\n",
    "\n",
    "    pdf_file = pdfium.PdfDocument(file_path)\n",
    "\n",
    "    page_indices = [i for i in range(len(pdf_file))]\n",
    "\n",
    "    renderer = pdf_file.render(\n",
    "        pdfium.PdfBitmap.to_pil,\n",
    "        page_indices=page_indices,\n",
    "        scale=scale,\n",
    "    )\n",
    "\n",
    "    final_images = []\n",
    "\n",
    "    for i, image in zip(page_indices, renderer):\n",
    "\n",
    "        image_byte_array = BytesIO()\n",
    "        image.save(image_byte_array, format='jpeg', optimize=True)\n",
    "        image_byte_array = image_byte_array.getvalue()\n",
    "        final_images.append(dict({i: image_byte_array}))\n",
    "\n",
    "    return final_images\n",
    "\n",
    "# 2. Extract text from images via pytesseract\n",
    "\n",
    "\n",
    "def extract_text_from_img(list_dict_final_images):\n",
    "\n",
    "    image_list = [list(data.values())[0] for data in list_dict_final_images]\n",
    "    image_content = []\n",
    "\n",
    "    for index, image_bytes in enumerate(image_list):\n",
    "\n",
    "        image = Image.open(BytesIO(image_bytes))\n",
    "        raw_text = str(image_to_string(image))\n",
    "        image_content.append(raw_text)\n",
    "\n",
    "    return \"\\n\".join(image_content)\n",
    "\n",
    "\n",
    "def extract_content_from_url(url: str):\n",
    "    images_list = convert_pdf_to_images(url)\n",
    "    text_with_pytesseract = extract_text_from_img(images_list)\n",
    "\n",
    "    return text_with_pytesseract"
   ]
  },
  {
   "cell_type": "code",
   "execution_count": null,
   "metadata": {},
   "outputs": [],
   "source": [
    "# res = extract_content_from_url(\"https://phys.org/news/2022-04-soil-microbe-rev-artificial-photosynthesis.pdf\")"
   ]
  },
  {
   "cell_type": "code",
   "execution_count": null,
   "metadata": {},
   "outputs": [],
   "source": [
    "# print(try_getting_pdf_content(\"https://phys.org/news/2022-04-soil-microbe-rev-artificial-photosynthesis.pdf\"))"
   ]
  },
  {
   "cell_type": "code",
   "execution_count": 38,
   "metadata": {},
   "outputs": [],
   "source": [
    "# import requests\n",
    "# from PyPDF2 import PdfReader \n",
    "# from io import BytesIO\n",
    "\n",
    "# def is_pdf_encrypted(url):\n",
    "#     response = requests.get(url)\n",
    "#     f = BytesIO(response.content)\n",
    "\n",
    "#     try:\n",
    "#         pdf = PdfReader(f)\n",
    "#         return pdf.isEncrypted\n",
    "#     except Exception as e:\n",
    "#         print(f\"Error occurred: {e}\")\n",
    "#         return False"
   ]
  },
  {
   "cell_type": "code",
   "execution_count": 40,
   "metadata": {},
   "outputs": [
    {
     "name": "stdout",
     "output_type": "stream",
     "text": [
      "Error occurred: EOF marker not found\n",
      "The PDF is not encrypted.\n"
     ]
    }
   ],
   "source": [
    "# url = \"https://phys.org/news/2022-04-soil-microbe-rev-artificial-photosynthesis.pdf\"\n",
    "# if is_pdf_encrypted(url):\n",
    "#     print(\"The PDF is encrypted.\")\n",
    "# else:\n",
    "#     print(\"The PDF is not encrypted.\")"
   ]
  },
  {
   "cell_type": "code",
   "execution_count": 132,
   "metadata": {},
   "outputs": [],
   "source": [
    "import requests\n",
    "from PyPDF2 import PdfReader \n",
    "from io import BytesIO\n",
    "\n",
    "def try_getting_pdf(url):\n",
    "    response = requests.get(url)\n",
    "    f = BytesIO(response.content)\n",
    "    try:\n",
    "        pdf = PdfReader(f)\n",
    "        return True\n",
    "    except:\n",
    "        print(\"Could not get pdf\")\n",
    "        return False\n",
    "\n",
    "# Get the PDF content\n",
    "def try_getting_pdf_content(url):\n",
    "    response = requests.get(url)\n",
    "    f = BytesIO(response.content)\n",
    "    try:\n",
    "        pdf = PdfReader(f)\n",
    "        content = \"\"\n",
    "\n",
    "        for i in range(len(pdf.pages)):\n",
    "            page = pdf.pages[i]\n",
    "            text = page.extract_text()\n",
    "            content += text\n",
    "        return content\n",
    "    except:\n",
    "        print(\"Error getting PDF content\")\n",
    "        return \"\""
   ]
  },
  {
   "cell_type": "code",
   "execution_count": 133,
   "metadata": {},
   "outputs": [],
   "source": [
    "import time\n",
    "def google_search_raw(search_term, cse_id, **kwargs):\n",
    "    service = build(\"customsearch\", \"v1\", developerKey=os.getenv('DEV_KEY'))\n",
    "    res = service.cse().list(q=search_term, cx=cse_id, **kwargs).execute()\n",
    "\n",
    "    search_results = res.get(\"items\", [])\n",
    "    time.sleep(1)\n",
    "\n",
    "    # Create a list of only the URLs from the search results\n",
    "    search_results_links = [item[\"link\"] for item in search_results]\n",
    "    return search_results"
   ]
  },
  {
   "cell_type": "code",
   "execution_count": 134,
   "metadata": {},
   "outputs": [],
   "source": [
    "def search_google(search_query):\n",
    "    num_google_searches = 8\n",
    "    results = google_search_raw(search_query, os.getenv('MY_CSE_ID'), num=num_google_searches, lr=\"lang_en\", cr=\"countryUS\")\n",
    "    return results"
   ]
  },
  {
   "cell_type": "code",
   "execution_count": 136,
   "metadata": {},
   "outputs": [
    {
     "name": "stdout",
     "output_type": "stream",
     "text": [
      "query:  Efficiency of ECR enzymes in Kitsatospor setae bacteria\n",
      "trying academic search\n",
      "Could not get pdf\n",
      "Could not get pdf\n",
      "Could not get pdf\n",
      "Could not get pdf\n",
      "Could not get pdf\n",
      "Could not get pdf\n",
      "Exception, trying normal search\n"
     ]
    }
   ],
   "source": [
    "MAX_RETRIES = 3\n",
    "\n",
    "# for decomposition_idx, key_question_decomposition in enumerate(key_question_decomposition_list):\n",
    "with open(f'autoscious_logs/{search_query_file_safe}/sources/initial_search_queries.json', 'r') as f:\n",
    "    key_question_initial_search_queries = json.load(f)\n",
    "\n",
    "for idx, query in key_question_initial_search_queries.items():\n",
    "    print(\"query: \", query)\n",
    "    # query = \"ECR enzyme efficiency in k setae\" # Hard coded to get the results I want\n",
    "\n",
    "    web_search_res = []\n",
    "    if search_engine == \"academic\":\n",
    "        print(\"trying academic search\")\n",
    "        try:\n",
    "            scholar_res_gen = scholarly.search_pubs(query)\n",
    "\n",
    "            for res in scholar_res_gen:\n",
    "                item = {}\n",
    "                item['title'] = res['bib']['title']\n",
    "                if try_getting_pdf(res['eprint_url']):\n",
    "                    item['href'] = res['eprint_url']\n",
    "                    item['pdf'] = True\n",
    "                else:\n",
    "                    item['href'] = res['pub_url']\n",
    "                    item['pdf'] = False\n",
    "                item['body'] = res['bib']['abstract']\n",
    "                web_search_res += [item]\n",
    "        except: \n",
    "            print(\"Exception, trying normal search\")\n",
    "    if web_search_res == []:\n",
    "        # DDG\n",
    "        print(\"trying normal search\")\n",
    "        web_search_res = json.loads(web_search_ddg(query))\n",
    "        if len(web_search_res) == 0:\n",
    "            print(\"trying google search!\")\n",
    "            # Google\n",
    "            web_search_res_raw = search_google(query) # google uses 'link' instead of 'href'\n",
    "            web_search_res = [{\n",
    "                'title': web_search_res_raw[i]['title'], \n",
    "                'href': web_search_res_raw[i]['link'], \n",
    "                'body': web_search_res_raw[i]['snippet'],\n",
    "                'pdf': False\n",
    "                } for i in range(len(web_search_res_raw))\n",
    "            ]\n",
    "\n",
    "    # save web search results\n",
    "    with open(f'autoscious_logs/{search_query_file_safe}/sources/initial_search_results_query_{idx}.json', 'w') as f:\n",
    "        json.dump(web_search_res, f, indent=2)"
   ]
  },
  {
   "cell_type": "markdown",
   "metadata": {},
   "source": [
    "### Reading type 1: filtering unlikely relevant sources based on title and body"
   ]
  },
  {
   "cell_type": "code",
   "execution_count": 137,
   "metadata": {},
   "outputs": [],
   "source": [
    "def get_filtering_web_results_ratings(key_question, web_search_res):\n",
    "    return f'''\n",
    "Key question:\n",
    "{key_question}\n",
    "\n",
    "Task:\n",
    "Based on the key question and each search result's title and body content, reason and assign a predicted usefulness score of the search result's content and potential useful references to answering the key question using a 5-point Likert scale, with 1 being very not useful, 2 being not useful, 3 being somewhat useful, 4 being useful, 5 being very useful.\n",
    "\n",
    "Search results:\n",
    "{web_search_res}\n",
    "\n",
    "The output should be in JSON format: \n",
    "```json\n",
    "{{\n",
    "  'href': 'relevance score',\n",
    "  etc.\n",
    "}}\n",
    "```\n",
    "\n",
    "Respond only with the output, with no explanation or conversation.\n",
    "'''"
   ]
  },
  {
   "cell_type": "code",
   "execution_count": 138,
   "metadata": {},
   "outputs": [
    {
     "name": "stdout",
     "output_type": "stream",
     "text": [
      "Prompt:  \n",
      "Key question:\n",
      "How efficiently do the ECR enzymes work in Kitsatospor setae bacteria?\n",
      "\n",
      "Task:\n",
      "Based on the key question and each search result's title and body content, reason and assign a predicted usefulness score of the search result's content and potential useful references to answering the key question using a 5-point Likert scale, with 1 being very not useful, 2 being not useful, 3 being somewhat useful, 4 being useful, 5 being very useful.\n",
      "\n",
      "Search results:\n",
      "[{'title': 'Intersubunit Coupling Enables Fast CO2-Fixation by Reductive Carboxylases', 'href': 'https://pubs.acs.org/doi/abs/10.1021/acscentsci.2c00057', 'pdf': False, 'body': 'setae ECR complex that is essential for the functional organization of one of nature’s most  efficient CO 2 -fixing enzymes  determined the apo form of the ECR crystal structure from K.'}, {'title': 'Four amino acids define the CO2 binding pocket of enoyl-CoA carboxylases/reductases', 'href': 'https://www.pnas.org/doi/abs/10.1073/pnas.1901471116', 'pdf': False, 'body': 'the plant enzyme RuBisCO in catalytic efficiency and fidelity  within the active site of Ecr from  Kitasatospora setae. Combining  of carboxylated product, even though the K M for CO 2 was'}, {'title': 'A Structural View into the Complexity of Carbon Dioxide Fixation', 'href': 'https://pubs.acs.org/doi/full/10.1021/acscentsci.2c00567', 'pdf': False, 'body': 'Kitasatospora setae ECR generates a reactive enolate species  Overview of the reaction  catalyzed by the ECR from K.  three liganded forms of the enzyme: two binary complexes with'}, {'title': 'Coupled inter-subunit dynamics enable the fastest CO2-fixation by reductive carboxylases 2', 'href': 'https://www.researchgate.net/profile/Yasuo-Yoshikuni-2/publication/332398300_Coupled_inter-subunit_dynamics_enable_the_fastest_CO2-fixation_by_reductive_carboxylases/links/5f35dfbea6fdcccc43c68ca1/Coupled-inter-subunit-dynamics-enable-the-fastest-CO2-fixation-by-reductive-carboxylases.pdf', 'pdf': False, 'body': 'To understand how cofactor binding affects the enzyme, we determined the crystal  structure of the K. 94 setae ECR-NADPH binary complex at 2.4 Å resolution by using serial'}, {'title': 'CO2-converting enzymes for sustainable biotechnology: from mechanisms to application', 'href': 'https://www.sciencedirect.com/science/article/pii/S0958166921000082', 'pdf': False, 'body': '/reductase (ECR) subfamily of enzymes includes some of the  A recent study on ECR from  Kitasatospora setae (KsECR)  2 -fixing enzymes generally operate rather at low k cat values'}, {'title': 'Awakening the Sleeping Carboxylase Function of Enzymes: Engineering the Natural CO2-Binding Potential of Reductases', 'href': 'https://pubs.acs.org/doi/abs/10.1021/jacs.9b03431', 'pdf': False, 'body': 'carboxylase/reductase from Kitasatospora setae (ECR Ks ), four  enzyme scaffolds capable  of binding CO 2 beyond the ECR  we could not determine an apparent K M for CO 2 with PCS'}, {'title': 'Investigating and manipulating the reaction mechanism of reductive carboxylases', 'href': 'https://archiv.ub.uni-marburg.de/diss/z2019/0503/pdf/dgs.pdf', 'pdf': True, 'body': 'aspects of ECR catalysis. We were able to obtain four new crystal structures of an ECR  from Kitasatospora setae and to propose a model for the catalytic cycle of this enzyme. The'}]\n",
      "\n",
      "The output should be in JSON format: \n",
      "```json\n",
      "{\n",
      "  'href': 'relevance score',\n",
      "  etc.\n",
      "}\n",
      "```\n",
      "\n",
      "Respond only with the output, with no explanation or conversation.\n",
      "\n"
     ]
    },
    {
     "name": "stdout",
     "output_type": "stream",
     "text": [
      "Completion info:  {\n",
      "  \"choices\": [\n",
      "    {\n",
      "      \"finish_reason\": \"stop\",\n",
      "      \"index\": 0,\n",
      "      \"message\": {\n",
      "        \"content\": \"{\\n  \\\"https://pubs.acs.org/doi/abs/10.1021/acscentsci.2c00057\\\": 5,\\n  \\\"https://www.pnas.org/doi/abs/10.1073/pnas.1901471116\\\": 4,\\n  \\\"https://pubs.acs.org/doi/full/10.1021/acscentsci.2c00567\\\": 4,\\n  \\\"https://www.researchgate.net/profile/Yasuo-Yoshikuni-2/publication/332398300_Coupled_inter-subunit_dynamics_enable_the_fastest_CO2-fixation_by_reductive_carboxylases/links/5f35dfbea6fdcccc43c68ca1/Coupled-inter-subunit-dynamics-enable-the-fastest-CO2-fixation-by-reductive-carboxylases.pdf\\\": 3,\\n  \\\"https://www.sciencedirect.com/science/article/pii/S0958166921000082\\\": 3,\\n  \\\"https://pubs.acs.org/doi/abs/10.1021/jacs.9b03431\\\": 2,\\n  \\\"https://archiv.ub.uni-marburg.de/diss/z2019/0503/pdf/dgs.pdf\\\": 3\\n}\",\n",
      "        \"role\": \"assistant\"\n",
      "      }\n",
      "    }\n",
      "  ],\n",
      "  \"created\": 1691369730,\n",
      "  \"id\": \"chatcmpl-7kiosz9jU4u3z3jcyrHdz29pVt7Ce\",\n",
      "  \"model\": \"gpt-3.5-turbo-0613\",\n",
      "  \"object\": \"chat.completion\",\n",
      "  \"usage\": {\n",
      "    \"completion_tokens\": 268,\n",
      "    \"prompt_tokens\": 1003,\n",
      "    \"total_tokens\": 1271\n",
      "  }\n",
      "}\n"
     ]
    }
   ],
   "source": [
    "from collections import defaultdict\n",
    "\n",
    "with open(f'autoscious_logs/{search_query_file_safe}/sources/initial_search_queries.json', 'r') as f:\n",
    "    key_question_initial_search_queries = json.load(f)\n",
    "\n",
    "for query_idx, query in key_question_initial_search_queries.items():\n",
    "    # load web search results\n",
    "    with open(f'autoscious_logs/{search_query_file_safe}/sources/initial_search_results_query_{query_idx}.json', 'r') as f:\n",
    "        web_search_res = json.loads(f.read())\n",
    "    \n",
    "    filtered_web_results = {}\n",
    "    if web_search_res != []:\n",
    "        # filter web results based on title and body\n",
    "        filtered_web_results = json.loads(chat_openai(get_filtering_web_results_ratings(search_query, web_search_res), model=\"gpt-3.5-turbo\")[0])\n",
    "\n",
    "    ratings_url_dict = defaultdict(list)\n",
    "    for url, rating in filtered_web_results.items():\n",
    "        ratings_url_dict[str(rating)].append(url)\n",
    "\n",
    "    # save filtered search results\n",
    "    with open(f'autoscious_logs/{search_query_file_safe}/sources/rated_web_results_query_{int(query_idx)}.json', 'w') as f:\n",
    "        json.dump(ratings_url_dict, f, indent=2)"
   ]
  },
  {
   "cell_type": "markdown",
   "metadata": {},
   "source": [
    "### Reading type 2 & 3: filtering based on skimming and sampling from each source, and only saving most relevant sources for fact extraction and quotes."
   ]
  },
  {
   "cell_type": "markdown",
   "metadata": {},
   "source": [
    "Skimming and rating is irrelevant for now. Only useful for prioritizing which articles to read given limited tokens. Still need to run to get the full text though."
   ]
  },
  {
   "cell_type": "code",
   "execution_count": 139,
   "metadata": {},
   "outputs": [],
   "source": [
    "# COMPLETE code for predicting usefulness of very relevant (5) and relevant (4) results.\n",
    "from autogpt.commands.web_selenium import scrape_text_with_selenium_no_agent\n",
    "\n",
    "CHUNK_SIZE = 1000\n",
    "SAMPLING_FACTOR = 0.1 # Also cap it so it falls under the max token limit\n",
    "MAX_TOKENS = 2500 * 4 # 1 token = 4 chars, 2500 + 500 (prompt) tokens is high for GPT3.5\n",
    "MAX_CHUNKS = int(MAX_TOKENS / CHUNK_SIZE)\n",
    "# context = \"Enoyl-CoA carboxylase/reductase enzymes (ECRs)\""
   ]
  },
  {
   "cell_type": "code",
   "execution_count": 140,
   "metadata": {},
   "outputs": [],
   "source": [
    "def get_sample_chunks(text, CHUNK_SIZE, num_chunk_samples):\n",
    "    step_size = len(text) // num_chunk_samples\n",
    "\n",
    "    chunks = []\n",
    "    for i in range(0, len(text), step_size):\n",
    "        chunk = text[i:i+CHUNK_SIZE]\n",
    "        chunks.append(chunk)\n",
    "\n",
    "        # Break after getting the required number of chunks\n",
    "        if len(chunks) >= num_chunk_samples:\n",
    "            break\n",
    "\n",
    "    return chunks"
   ]
  },
  {
   "cell_type": "code",
   "execution_count": 141,
   "metadata": {},
   "outputs": [],
   "source": [
    "# Need to determine how useful the text is likely to be for answering the key questions\n",
    "def get_predicted_usefulness_of_text_prompt(key_question, sample_text_chunks):\n",
    "    return f'''\n",
    "Key question:\n",
    "{key_question}\n",
    "\n",
    "Task: \n",
    "Based on the key question and the sample text chunks of the source text, the goal is to identify how useful reading the full source text would be to extract direct quoted facts or references to determine the best answer to the key question. \n",
    "\n",
    "Deliverable:\n",
    "Assign a predicted usefulness score of the full source text using a 5-point Likert scale, with 1 being very unlikely to be usefulness, 2 being unlikely to be useful, 3 being somewhat likely to be useful, 4 being likely to be useful, and 5 being very likely useful and containing facts or references that answer the key question.\n",
    "\n",
    "Sample text chunks from the source text:\n",
    "{sample_text_chunks}\n",
    "\n",
    "The output should be of the following JSON format\n",
    "{{\n",
    "    \"\"predicted_usefulness: <insert predicted usefulness rating>,\n",
    "   etc.\n",
    "}}\n",
    "\n",
    "\n",
    "Respond only with the output, with no explanation or conversation.\n",
    "'''"
   ]
  },
  {
   "cell_type": "code",
   "execution_count": null,
   "metadata": {},
   "outputs": [],
   "source": [
    "# Function to return sample chunks based on relevance to key_question using cosine similarity\n",
    "# TODO: have chatgpt come up w what the form of the answeer might look like and match on that!\n",
    "import numpy as np\n",
    "from sklearn.metrics.pairwise import cosine_similarity\n",
    "from sentence_transformers import SentenceTransformer\n",
    "import re\n",
    "\n",
    "model = SentenceTransformer('all-MiniLM-L6-v2')  # or 'all-mpnet-base-v2'\n",
    "\n",
    "def get_most_relevant_chunks(key_question, text, CHUNK_SIZE, num_chunk_samples):\n",
    "    # 1. Split text into chunks\n",
    "    chunks = [text[i:i+CHUNK_SIZE] for i in range(0, len(text), CHUNK_SIZE)]\n",
    "\n",
    "    # 2. For each chunk, compute the cosine similarity with key_question\n",
    "    key_embedding = model.encode([key_question])\n",
    "    chunk_embeddings = model.encode(chunks)\n",
    "    \n",
    "    similarities = [cosine_similarity(key_embedding.reshape(1, -1), chunk_embedding.reshape(1, -1))[0][0] for chunk_embedding in chunk_embeddings]\n",
    "    \n",
    "    # 3. Sort chunks by similarity\n",
    "    sorted_chunks = [chunk for _, chunk in sorted(zip(similarities, chunks), key=lambda pair: pair[0], reverse=True)]\n",
    "\n",
    "    # 4. Return top num_chunk_samples chunks\n",
    "    return sorted_chunks[:num_chunk_samples]"
   ]
  },
  {
   "cell_type": "code",
   "execution_count": 142,
   "metadata": {},
   "outputs": [],
   "source": [
    "from rank_bm25 import BM25Okapi\n",
    "import re\n",
    "\n",
    "def get_most_relevant_chunks_with_bm25(key_question, text, CHUNK_SIZE, num_chunk_samples):\n",
    "    # 1. Split text into chunks\n",
    "    chunks = [text[i:i+CHUNK_SIZE] for i in range(0, len(text), CHUNK_SIZE)]\n",
    "\n",
    "    # 2. Tokenize the chunks\n",
    "    tokenized_chunks = [re.findall(r\"\\w+\", chunk) for chunk in chunks]\n",
    "\n",
    "    # 3. Initialize BM25\n",
    "    bm25 = BM25Okapi(tokenized_chunks)\n",
    "\n",
    "    # 4. Query BM25 with the key question\n",
    "    tokenized_question = re.findall(r\"\\w+\", key_question)\n",
    "    scores = bm25.get_scores(tokenized_question)\n",
    "\n",
    "    # 5. Sort chunks by BM25 scores\n",
    "    sorted_chunks = [chunk for _, chunk in sorted(zip(scores, chunks), key=lambda pair: pair[0], reverse=True)]\n",
    "\n",
    "    # 6. Return top num_chunk_samples chunks\n",
    "    return sorted_chunks[:num_chunk_samples]\n"
   ]
  },
  {
   "cell_type": "code",
   "execution_count": 143,
   "metadata": {},
   "outputs": [],
   "source": [
    "# def get_sample_chunks(key_question, text, CHUNK_SIZE, num_chunk_samples):\n",
    "#     step_size = len(text) // num_chunk_samples\n",
    "\n",
    "#     chunks = []\n",
    "#     for i in range(0, len(text), step_size):\n",
    "#         chunk = text[i:i+CHUNK_SIZE]\n",
    "#         chunks.append(chunk)\n",
    "\n",
    "#         # Break after getting the required number of chunks\n",
    "#         if len(chunks) >= num_chunk_samples:\n",
    "#             break\n",
    "\n",
    "#     return chunks\n",
    "\n",
    "def find_title(url, web_search_info):\n",
    "    for item in web_search_info:\n",
    "        if item[\"href\"] == url:\n",
    "            return item[\"title\"]\n",
    "    return None\n",
    "\n",
    "def check_pdf(url, web_search_info):\n",
    "    for item in web_search_info:\n",
    "        if \"pdf\" in item.keys() and item[\"pdf\"]:\n",
    "            return True\n",
    "    print(\"Not pdf\")\n",
    "    return False"
   ]
  },
  {
   "cell_type": "code",
   "execution_count": 144,
   "metadata": {},
   "outputs": [
    {
     "name": "stdout",
     "output_type": "stream",
     "text": [
      "query  1 rating_source_idx 0 Skimming url: https://pubs.acs.org/doi/abs/10.1021/acscentsci.2c00057\n",
      "Could not get pdf\n",
      "Going through url:  https://pubs.acs.org/doi/abs/10.1021/acscentsci.2c00057\n",
      "select firefox options!\n",
      "hard coding chrome\n",
      "setting up chrome driver\n",
      "Driver is getting url\n",
      "set timeout!\n",
      "Page loaded within 15 seconds\n",
      "Driver got url\n",
      "Driver has found page source\n",
      "Handing off to Beautiful Soup!\n",
      "done extractin\n",
      "Text:  Download Hi-Res ImageDownload to MS-PowerPointCite This:ACS Cent. Sci. 2022, 8, 8, 1091-1101\n",
      "ADVERTISEMENT\n",
      "RETURN TO ISSUEPREVResearch ArticleNEXTGet e-AlertscloseIntersubunit Coupling Enables Fast CO2-Fixation by Reductive CarboxylasesHasan DeMirci*Hasan DeMirciBiosciences Division, SLAC National Accelerator Laboratory Menlo Park, California 94025, United StatesPULSE Institute, SLAC National Accelerator Laboratory Menlo Park, California 94025, United StatesDepartment of Molecular Biology and Ge\n",
      "len(sample_chunks) 10\n",
      "Prompt:  \n",
      "Key question:\n",
      "How efficiently do the ECR enzymes work in Kitsatospor setae bacteria?\n",
      "\n",
      "Task: \n",
      "Based on the key question and the sample text chunks of the source text, the goal is to identify how useful reading the full source text would be to extract direct quoted facts or references to determine the best answer to the key question. \n",
      "\n",
      "Deliverable:\n",
      "Assign a predicted usefulness score of the full source text using a 5-point Likert scale, with 1 being very unlikely to be usefulness, 2 being unlikely to be useful, 3 being somewhat likely to be useful, 4 being likely to be useful, and 5 being very likely useful and containing facts or references that answer the key question.\n",
      "\n",
      "Sample text chunks from the source text:\n",
      "['s/reductasesStoffel, Gabriele M. M.; Saez, David Adrian; DeMirci, Hasan; Voegeli, Bastian; Rao, Yashas; Zarzycki, Jan; Yoshikuni, Yasuo; Wakatsuki, Soichi; Voehringer-Martinez, Esteban; Erb, Tobias J.Proceedings of the National Academy of Sciences of the United States of America\\n(2019),\\n116\\n(28),\\n13964-13969CODEN:\\nPNASA6;\\nISSN:0027-8424.\\n(National Academy of Sciences)\\nCarboxylases are biocatalysts that capture and convert carbon dioxide (CO2) under mild conditions and atm. concns. at a scale of more than 400 Gt annually.\\nHowever, how these enzymes bind and control the gaseous CO2 mol. during catalysis is only poorly understood.\\nOne of the most efficient classes of carboxylating enzymes are enoyl-CoA carboxylases/reductases (Ecrs), which outcompete the plant enzyme RuBisCO in catalytic efficiency and fidelity by more than an order of magnitude.\\nHere we investigated the interactions of CO2 within the active site of Ecr from Kitasatospora setae.\\nCombining exptl. biochem., protein crystall', '-13969CODEN:\\nPNASA6;\\nISSN:0027-8424.\\n(National Academy of Sciences)\\nCarboxylases are biocatalysts that capture and convert carbon dioxide (CO2) under mild conditions and atm. concns. at a scale of more than 400 Gt annually.\\nHowever, how these enzymes bind and control the gaseous CO2 mol. during catalysis is only poorly understood.\\nOne of the most efficient classes of carboxylating enzymes are enoyl-CoA carboxylases/reductases (Ecrs), which outcompete the plant enzyme RuBisCO in catalytic efficiency and fidelity by more than an order of magnitude.\\nHere we investigated the interactions of CO2 within the active site of Ecr from Kitasatospora setae.\\nCombining exptl. biochem., protein crystallog., and advanced computer simulations we show that 4 amino acids, N81, F170, E171, and H365, are required to create a highly efficient CO2-fixing enzyme.\\nTogether, these 4 residues anchor and position the CO2 mol. for the attack by a reactive enolate created during the catalytic cycle.\\nNotably, a high', 'e operates with “half-site reactivity”. (16−18) Catalysis is synchronized across the enzyme tetramer and alternates between the open- and closed-form subunits to increase the overall catalytic efficiency of the complex.It is worth noting that half-site reactivity does not assume (or require) half-site occupancy. Indeed, all four subunits of the K. setae ECR tetramer ternary complex contain both NADPH and substrates (products). However, in the open-form subunits, only electron density for the adenine groups of the CoA thioester is observed (Figure 3g). The “half-site reactivity” is also consistent with a negative, rather than positive, cooperativity, as almost all our kinetics data indicate.To understand if the conventional half-site reactivity theory can be applied to the ECR tetramer case, we created a model for the enzyme kinetics assuming positive or negative cooperativity between the pairs of dimers. Instead of treating the four subunits as independent entities, we hypothesized tha', 'dd toView InAdd Full Text with ReferenceAdd Description\\nExportRISCitationCitation and abstractCitation and referencesMore Options\\nShare onFacebookTwitterWechatLinked InReddit\\nPDF (3 MB)\\nGet e-AlertscloseSupporting Info (14)»Supporting Information\\nSupporting Information\\nSUBJECTS:Adenine,Catalysis,Oligomers,Show MoreGet e-Alertsclose\\nACS Central Science\\nGet e-AlertsAbstractHigh Resolution ImageDownload MS PowerPoint SlideEnoyl-CoA carboxylases/reductases (ECRs) are some of the most efficient CO2-fixing enzymes described to date. However, the molecular mechanisms underlying the extraordinary catalytic activity of ECRs on the level of the protein assembly remain elusive. Here we used a combination of ambient-temperature X-ray free electron laser (XFEL) and cryogenic synchrotron experiments to study the structural organization of the ECR from Kitasatospora setae. The K. setae ECR is a homotetramer that differentiates into a pair of dimers of open- and closed-form subunits in the catalytical', 'ificantly to provide two sets of active site conformations─open and closed forms─upon binding of the NADPH cofactors in the presence of substrates. This coordinated motion is enabled by a tight coupling of catalytic domains across the pairs of dimers, which we could trace to the role of individual amino acids far away from the active site. Using computer simulations and kinetic experiments, we provide compelling evidence that synchronization across the pair of dimers through “swing and twist motions” is crucial for the K. setae ECR to achieve high catalytic rates. We further demonstrate that subunit communication within a dimer is essential to synchronize open and closed states. Altogether, our results unveil a dynamic intersubunit synchronization of the K. setae ECR complex that is essential for the functional organization of one of nature’s most efficient CO2-fixing enzymes during catalysis.Results and DiscussionARTICLE SECTIONSJump ToAbstractIntroductionResults and DiscussionConclus', 'ly active state. Using molecular dynamics simulations and structure-based mutagenesis, we show that catalysis is synchronized in the K. setae ECR across the pair of dimers. This conformational coupling of catalytic domains is conferred by individual amino acids to achieve high CO2-fixation rates. Our results provide unprecedented insights into the dynamic organization and synchronized inter- and intrasubunit communications of this remarkably efficient CO2-fixing enzyme during catalysis.SynopsisIntersubunit coupling drives fast carboxylation by enoyl-CoA carboxylases/reductases, providing the basis for engineering highly efficient CO2-fixing enzymes for bioenergy and bioproduct applications.IntroductionARTICLE SECTIONSJump ToAbstractIntroductionResults and DiscussionConclusionsMethodsSupporting InformationAuthor InformationAcknowledgmentsNote Added After ASAP PublicationReferencesThe capture and conversion of atmospheric CO2 remains a challenging task for chemistry, resulting in an ever', 'ast CO2 FixationOur structural studies of the K. setae ECR revealed unprecedented details on the functional organization of one of nature’s most efficient and fastest CO2-fixing enzymes. During catalysis, the enzyme complex differentiates into distinct functional subunits. The binding of the NADPH cofactor and substrates forces the homotetrameric apo enzyme into a pair of dimers. Each dimer is constituted of open- and closed-form subunits. In the closed-form subunits, the NADPH cofactor and CoA substrate are aligned with each other, suggesting that this is the catalytically competent state. The open-form subunits bind the cofactor and the substrate adenine rings, but the rest of the acyl-CoA substrate remains flexible and invisible in the active site. Thus, the open-subunit active sites represent a catalytically incompetent state that is preorganized for a subsequent round of catalysis. Overall, this structural reorganization of the ECR complex strongly supports the idea that the enzym', 'sm, despite having very high structural similarities. Overall, this work indicated that ECRs from primary metabolism must use specific mechanisms that allow them to enhance CO2 fixation dramatically in comparison to their structurally closely related homologues from secondary metabolism.Here, we aimed at providing a mechanistic understanding of the fast carboxylation reaction of the K. setae ECR on the level of the overall oligomeric complex. We first determined four high-resolution K. setae ECR structures in different conformational states: the apo form and three holo forms in a binary complex with the reduced cofactor NADPH, in a ternary complex with NADPH and butyryl-CoA, and a binary complex with the oxidized cofactor NADP+ (Figure 1b).Our high-resolution structures show that the tetrameric complex assumes a pair of dimers geometry. In this complex, the central oligomerization domains of the K. setae ECR remain essentially unchanged, while the peripheral catalytic domains move sign', 'ionsMethodsSupporting InformationAuthor InformationAcknowledgmentsNote Added After ASAP PublicationReferences Apo ECR Is a Symmetric Homotetramer, Readily Accessible for Cofactor and Substrate BindingWe first determined the apo form of the ECR crystal structure from K. setae at 1.8 Å resolution using synchrotron X-ray crystallography at cryogenic temperature (Table S1 in the Supporting Information). The asymmetric unit contains one homotetramer composed of four subunits arranged in a pair of dimers geometry similar to those of previously reported binary and ternary ECR complexes, crotonyl-CoA carboxylase/reductase AntE in complex with NADP+ (PDB: 4Y0K) and 2-octenoyl-CoA carboxylase/reductase CinF in complex with NADP+ and 2-octenoyl-CoA, (PDB: 4A0S), respectively. Overall, the K. setae ECR tetramer shows a noncrystallographic, close to D2 (dihedral) symmetry with four conformationally identical subunits (Figures S1 and S2). The tetrameric oligomer state of the ECR apo enzyme is furthe', 'trates/products and NADPH/NADP+ (p22), while only 10% are half-occupied (p12 + p21) (Figure S12). Almost none of the dimers are empty (p11), which agrees with the occupancy of our experimentally determined structures of the ternary complex.To synchronize half-site reactivity, the interaction of the catalytic domains across and within the pairs of dimers is crucial. When the latter is perturbed in the K. setae ECR (e.g., through triple mutant E151D/N157E/N218E or by disturbance of the adenosine binding pocket), the catalytic rate of the enzyme is severely diminished. This observation is consistent with other theoretical and experimental data on half-site reactivity. The synchronization of distant catalytic subunits has been calculated to enhance the catalytic rate of enzymes by up to 20-fold. (21,22) Mutation of a single amino acid that couples the two catalytic sites of heptose isomerase GmhA reduced the catalytic rate to 6% of wild-type activity. (23) Perturbing the interaction networ']\n",
      "\n",
      "The output should be of the following JSON format\n",
      "{\n",
      "    \"\"predicted_usefulness: <insert predicted usefulness rating>,\n",
      "   etc.\n",
      "}\n",
      "\n",
      "\n",
      "Respond only with the output, with no explanation or conversation.\n",
      "\n",
      "Completion info:  {\n",
      "  \"choices\": [\n",
      "    {\n",
      "      \"finish_reason\": \"stop\",\n",
      "      \"index\": 0,\n",
      "      \"message\": {\n",
      "        \"content\": \"{\\n    \\\"predicted_usefulness\\\": 4\\n}\",\n",
      "        \"role\": \"assistant\"\n",
      "      }\n",
      "    }\n",
      "  ],\n",
      "  \"created\": 1691369849,\n",
      "  \"id\": \"chatcmpl-7kiqn4HvLznjzuhCf2zAqO8VGhnHp\",\n",
      "  \"model\": \"gpt-3.5-turbo-0613\",\n",
      "  \"object\": \"chat.completion\",\n",
      "  \"usage\": {\n",
      "    \"completion_tokens\": 11,\n",
      "    \"prompt_tokens\": 2561,\n",
      "    \"total_tokens\": 2572\n",
      "  }\n",
      "}\n",
      "query  1 rating_source_idx 0 Skimming url: https://www.pnas.org/doi/abs/10.1073/pnas.1901471116\n",
      "Could not get pdf\n",
      "Going through url:  https://www.pnas.org/doi/abs/10.1073/pnas.1901471116\n",
      "select firefox options!\n",
      "hard coding chrome\n",
      "setting up chrome driver\n",
      "Driver is getting url\n",
      "set timeout!\n",
      "Page loaded within 15 seconds\n",
      "Driver got url\n",
      "Driver has found page source\n",
      "Handing off to Beautiful Soup!\n",
      "done extractin\n",
      "Text:  ContentsSignificanceAbstractData AvailabilityAcknowledgmentsSupporting InformationReferencesInformation & AuthorsMetrics & CitationsView OptionsReferencesMediaShareSignificanceCarboxylases capture and convert CO2, which makes them key enzymes in photosynthesis and the global carbon cycle. However, the question how enzymes bind atmospheric CO2 is still unsolved. We studied enoyl-CoA carboxylases/reductases (Ecrs), the fastest CO2-fixing enzymes in nature, using structural biology, biochemistry, a\n",
      "len(sample_chunks) 2\n",
      "Prompt:  \n",
      "Key question:\n",
      "How efficiently do the ECR enzymes work in Kitsatospor setae bacteria?\n",
      "\n",
      "Task: \n",
      "Based on the key question and the sample text chunks of the source text, the goal is to identify how useful reading the full source text would be to extract direct quoted facts or references to determine the best answer to the key question. \n",
      "\n",
      "Deliverable:\n",
      "Assign a predicted usefulness score of the full source text using a 5-point Likert scale, with 1 being very unlikely to be usefulness, 2 being unlikely to be useful, 3 being somewhat likely to be useful, 4 being likely to be useful, and 5 being very likely useful and containing facts or references that answer the key question.\n",
      "\n",
      "Sample text chunks from the source text:\n",
      "['y and chemistry.AbstractCarboxylases are biocatalysts that capture and convert carbon dioxide (CO2) under mild conditions and atmospheric concentrations at a scale of more than 400 Gt annually. However, how these enzymes bind and control the gaseous CO2 molecule during catalysis is only poorly understood. One of the most efficient classes of carboxylating enzymes are enoyl-CoA carboxylases/reductases (Ecrs), which outcompete the plant enzyme RuBisCO in catalytic efficiency and fidelity by more than an order of magnitude. Here we investigated the interactions of CO2 within the active site of Ecr from Kitasatospora setae. Combining experimental biochemistry, protein crystallography, and advanced computer simulations we show that 4 amino acids, N81, F170, E171, and H365, are required to create a highly efficient CO2-fixing enzyme. Together, these 4 residues anchor and position the CO2 molecule for the attack by a reactive enolate created during the catalytic cycle. Notably, a highly order', \"e energetic efficiency of the cyanobacterial CO2 concentrating mechanismThis is an addendum toComplex viscosity of helical and doubly helical polymeric liquids from general rigid bead-rod theoryResearch ArticleApril 30, 2021Rubisco proton production can drive the elevation of CO2 within condensates and carboxysomesThis is an addendum toComplex viscosity of helical and doubly helical polymeric liquids from general rigid bead-rod theoryMay 9, 2006Despite slow catalysis and confused substrate specificity, all ribulose bisphosphate carboxylases may be nearly perfectly optimizedThis is an addendum toComplex viscosity of helical and doubly helical polymeric liquids from general rigid bead-rod theory\\nSign up for thePNAS Highlights newsletter\\nGet in-depth science stories sent to your inbox twice a month.\\nSubscribe\\nRequest Username\\nx\\nClose\\nCan't sign in? Forgot your username?\\nEnter your email address below and we will send you your username\\nEmail\\nSubmit\\nIf the address matches an existing accoun\"]\n",
      "\n",
      "The output should be of the following JSON format\n",
      "{\n",
      "    \"\"predicted_usefulness: <insert predicted usefulness rating>,\n",
      "   etc.\n",
      "}\n",
      "\n",
      "\n",
      "Respond only with the output, with no explanation or conversation.\n",
      "\n",
      "Completion info:  {\n",
      "  \"choices\": [\n",
      "    {\n",
      "      \"finish_reason\": \"stop\",\n",
      "      \"index\": 0,\n",
      "      \"message\": {\n",
      "        \"content\": \"{\\n    \\\"predicted_usefulness\\\": 4\\n}\",\n",
      "        \"role\": \"assistant\"\n",
      "      }\n",
      "    }\n",
      "  ],\n",
      "  \"created\": 1691369885,\n",
      "  \"id\": \"chatcmpl-7kirN6na81dECHdBLvKjC2SZZhwGI\",\n",
      "  \"model\": \"gpt-3.5-turbo-0613\",\n",
      "  \"object\": \"chat.completion\",\n",
      "  \"usage\": {\n",
      "    \"completion_tokens\": 11,\n",
      "    \"prompt_tokens\": 681,\n",
      "    \"total_tokens\": 692\n",
      "  }\n",
      "}\n",
      "query  1 rating_source_idx 1 Skimming url: https://pubs.acs.org/doi/full/10.1021/acscentsci.2c00567\n",
      "Could not get pdf\n",
      "Going through url:  https://pubs.acs.org/doi/full/10.1021/acscentsci.2c00567\n",
      "select firefox options!\n",
      "hard coding chrome\n",
      "setting up chrome driver\n",
      "Driver is getting url\n",
      "set timeout!\n",
      "Page loaded within 15 seconds\n",
      "Driver got url\n",
      "Driver has found page source\n",
      "Handing off to Beautiful Soup!\n",
      "done extractin\n",
      "Text:  Download Hi-Res ImageDownload to MS-PowerPointCite This:ACS Cent. Sci. 2022, 8, 8, 1040-1042\n",
      "ADVERTISEMENT\n",
      "RETURN TO ISSUEPREVFirst ReactionsNEXTGet e-AlertscloseA Structural View into the Complexity of Carbon Dioxide FixationEnzyme catalysis beyond active sites: novel structures of an enoyl-CoA carboxylase/reductase reveal complex intersubunit coupling that is crucial for CO2 fixation.Robert KouristRobert KouristInstitute of Molecular Biotechnology, Graz University of Technology, NAW1 Graz, Bio\n",
      "len(sample_chunks) 3\n",
      "Prompt:  \n",
      "Key question:\n",
      "How efficiently do the ECR enzymes work in Kitsatospor setae bacteria?\n",
      "\n",
      "Task: \n",
      "Based on the key question and the sample text chunks of the source text, the goal is to identify how useful reading the full source text would be to extract direct quoted facts or references to determine the best answer to the key question. \n",
      "\n",
      "Deliverable:\n",
      "Assign a predicted usefulness score of the full source text using a 5-point Likert scale, with 1 being very unlikely to be usefulness, 2 being unlikely to be useful, 3 being somewhat likely to be useful, 4 being likely to be useful, and 5 being very likely useful and containing facts or references that answer the key question.\n",
      "\n",
      "Sample text chunks from the source text:\n",
      "[' very diverse reasons including the overall very low growth rates of autotrophs and technical challenges such as difficulties supplying light or gaseous substrates in aqueous systems or the challenge of providing strictly oxygen-free cultivation conditions at a large scale for anaerobic microorganisms. The optimization of CO2-fixing organisms not only has to cope with the structural complexity of the multiprotein complexes responsible for photosynthesis and carbon capturing systems but also with their highly sophisticated regulation and the involvement of protection systems. (4) Despite tremendous research effort, it has not been possible to improve the catalytic efficiency of Rubisco itself.Kitasatospora setae ECR generates a reactive enolate species by the reduction of an enoyl-CoA substrate with NADPH, which then conducts a nucleophilic attack on a bound CO2 molecule, challenging the notion that the enolate intermediate must be protected against protonation by the solvent.The limita', 'tions of natural CO2-fixation systems and their resilience against optimization has spurred interest in CO2 enzymes from different metabolic pathways. Some of them are distinguished by much higher reaction rates than Rubisco and could find applications in artificial metabolic pathways. (2,5) In this context, Wakatsuki and co-workers have achieved remarkable insight into the complex mechanism of an enoyl-CoA carboxylase/reductase (ECR) from Streptomycetes (Figure 1). Kitasatospora setae ECR generates a reactive enolate species by the reduction of an enoyl-CoA substrate with NADPH, which then conducts a nucleophilic attack on a bound CO2 molecule, challenging the notion that the enolate intermediate must be protected against protonation by the solvent.Figure 1Figure 1. Overview of the reaction catalyzed by the ECR from K. setae, as well as the key structural rearrangement during the catalytic cycle. The different ECR complexes along the cycle are color coded according to B-factor (blue =', 're and the social media presence for the given article. Find more information on the Altmetric Attention Score and how the score is calculated.\\nShare\\nAdd toView InAdd Full Text with ReferenceAdd Description\\nExportRISCitationCitation and abstractCitation and referencesMore Options\\nShare onFacebookTwitterWechatLinked InReddit\\nPDF (913 KB)\\nGet e-AlertscloseSUBJECTS:Conformational transitions,Enolates,Show MoreGet e-Alertsclose\\nACS Central Science\\nGet e-AlertsIn this issue of ACS Central Science, DeMirci, Erb, Vöhringer-Martinez, Wakatsuki, and colleagues (1) dive deep into the inter- and intrasubunit communication of the tetrameric enoyl-CoA carboxylase/reductase (ECR) from Kitasatospora setae. ECR is one of the most efficient CO2-fixing enzymes described to date. (2) Through a combination of structure elucidation (providing not one but four high-resolution structures of this challenging system) and molecular simulations, they provide unprecedented insight into how this enzyme can use con']\n",
      "\n",
      "The output should be of the following JSON format\n",
      "{\n",
      "    \"\"predicted_usefulness: <insert predicted usefulness rating>,\n",
      "   etc.\n",
      "}\n",
      "\n",
      "\n",
      "Respond only with the output, with no explanation or conversation.\n",
      "\n",
      "Completion info:  {\n",
      "  \"choices\": [\n",
      "    {\n",
      "      \"finish_reason\": \"stop\",\n",
      "      \"index\": 0,\n",
      "      \"message\": {\n",
      "        \"content\": \"{\\n    \\\"predicted_usefulness\\\": 4\\n}\",\n",
      "        \"role\": \"assistant\"\n",
      "      }\n",
      "    }\n",
      "  ],\n",
      "  \"created\": 1691369908,\n",
      "  \"id\": \"chatcmpl-7kirkVhS17nb2nxy3DjqWhdz7YzQt\",\n",
      "  \"model\": \"gpt-3.5-turbo-0613\",\n",
      "  \"object\": \"chat.completion\",\n",
      "  \"usage\": {\n",
      "    \"completion_tokens\": 11,\n",
      "    \"prompt_tokens\": 888,\n",
      "    \"total_tokens\": 899\n",
      "  }\n",
      "}\n",
      "query  1 rating_source_idx 0 Skimming url: https://www.researchgate.net/profile/Yasuo-Yoshikuni-2/publication/332398300_Coupled_inter-subunit_dynamics_enable_the_fastest_CO2-fixation_by_reductive_carboxylases/links/5f35dfbea6fdcccc43c68ca1/Coupled-inter-subunit-dynamics-enable-the-fastest-CO2-fixation-by-reductive-carboxylases.pdf\n",
      "Could not get pdf\n",
      "Going through url:  https://www.researchgate.net/profile/Yasuo-Yoshikuni-2/publication/332398300_Coupled_inter-subunit_dynamics_enable_the_fastest_CO2-fixation_by_reductive_carboxylases/links/5f35dfbea6fdcccc43c68ca1/Coupled-inter-subunit-dynamics-enable-the-fastest-CO2-fixation-by-reductive-carboxylases.pdf\n",
      "select firefox options!\n",
      "hard coding chrome\n",
      "setting up chrome driver\n",
      "Driver is getting url\n",
      "set timeout!\n",
      "Page loaded within 15 seconds\n",
      "Driver got url\n",
      "Driver has found page source\n",
      "Handing off to Beautiful Soup!\n",
      "done extractin\n",
      "Text:  \n",
      "query  1 rating_source_idx 1 Skimming url: https://www.sciencedirect.com/science/article/pii/S0958166921000082\n",
      "Could not get pdf\n",
      "Going through url:  https://www.sciencedirect.com/science/article/pii/S0958166921000082\n",
      "select firefox options!\n",
      "hard coding chrome\n",
      "setting up chrome driver\n",
      "Driver is getting url\n",
      "set timeout!\n",
      "Page loaded within 15 seconds\n",
      "Driver got url\n",
      "Driver has found page source\n",
      "Handing off to Beautiful Soup!\n",
      "done extractin\n",
      "Text:  JavaScript is disabled on your browser.\n",
      "Please enable JavaScript to use all the features on this page.\n",
      "Skip to main contentSkip to article\n",
      "Access through your institutionView Open ManuscriptPurchase PDFOther access optionsSearch ScienceDirectArticle previewAbstractIntroductionSection snippetsReferences (56)Cited by (18)Recommended articles (6)Current Opinion in BiotechnologyVolume 67, February 2021, Pages 80-87CO2-converting enzymes for sustainable biotechnology: from mechanisms to applicationAu\n",
      "len(sample_chunks) 2\n",
      "Prompt:  \n",
      "Key question:\n",
      "How efficiently do the ECR enzymes work in Kitsatospor setae bacteria?\n",
      "\n",
      "Task: \n",
      "Based on the key question and the sample text chunks of the source text, the goal is to identify how useful reading the full source text would be to extract direct quoted facts or references to determine the best answer to the key question. \n",
      "\n",
      "Deliverable:\n",
      "Assign a predicted usefulness score of the full source text using a 5-point Likert scale, with 1 being very unlikely to be usefulness, 2 being unlikely to be useful, 3 being somewhat likely to be useful, 4 being likely to be useful, and 5 being very likely useful and containing facts or references that answer the key question.\n",
      "\n",
      "Sample text chunks from the source text:\n",
      "['prove photosynthesis for sustainable food production”2022, Journal of BiotechnologyCitation Excerpt :In theory, the TaCo pathway increases carbon efficiency from 75 % to 150 % in relation to that exhibited by photorespiration. Moreover, the combination of the TaCo pathway with the 17 enzymes of the synthetic CO2 fixation cycle crotonyl–coenzyme A (CoA)/ethylmalonyl-CoA/hydroxybutyryl-CoA (CETCH) previously described in vitro as much faster than the Calvin-Benson cycle (Schwander et al., 2018), was proposed as a strategy with higher carbon and energy efficiency (Bernhardsgrütter et al., 2021; Scheffen et al., 2021). Another recent possibility of photorespiration bypass to be introduced in C3 plants is the β-hydroxyaspartate cycle (BHAC), a microbial glycolate assimilation pathway (Roell et al., 2021).Show abstractPhotosynthesis is responsible for the primary productivity and maintenance of life on Earth, boosting biological activity and contributing to the maintenance of the environment', ' CatalysisView all citing articles on ScopusResearch articleEditorial overview: Energy biotechnologyCurrent Opinion in Biotechnology, Volume 67, 2021, pp. iii-vResearch articleEnzymatic conversion of CO2 to CH3OH via reverse dehydrogenase cascade biocatalysis: Quantitative comparison of efficiencies of immobilized enzyme systemsBiochemical Engineering Journal, Volume 127, 2017, pp. 217-228Show abstractA designed biocatalytic cascade system based on reverse enzymatic catalysis by formate dehydrogenase (EC 1.2.1.2), formaldehyde dehydrogenase (EC 1.2.1.46), and alcohol dehydrogenase (EC 1.1.1.1) can convert carbon dioxide (CO2) to methanol (CH3OH) via formation of formic acid (CHOOH) and formaldehyde (CHOH) during equimolar cofactor oxidation of NADH to NAD+. This reaction is appealing because it represents a double gain: (1) reduction of CO2 and (2) an alternative to fossil fuel based production of CH3OH. The present review evaluates the efficiency of different immobilized enzyme system']\n",
      "\n",
      "The output should be of the following JSON format\n",
      "{\n",
      "    \"\"predicted_usefulness: <insert predicted usefulness rating>,\n",
      "   etc.\n",
      "}\n",
      "\n",
      "\n",
      "Respond only with the output, with no explanation or conversation.\n",
      "\n",
      "Completion info:  {\n",
      "  \"choices\": [\n",
      "    {\n",
      "      \"finish_reason\": \"stop\",\n",
      "      \"index\": 0,\n",
      "      \"message\": {\n",
      "        \"content\": \"{\\n    \\\"predicted_usefulness\\\": 3\\n}\",\n",
      "        \"role\": \"assistant\"\n",
      "      }\n",
      "    }\n",
      "  ],\n",
      "  \"created\": 1691369954,\n",
      "  \"id\": \"chatcmpl-7kisU4xNQyIJjVwrfG3TPl8yVy7Om\",\n",
      "  \"model\": \"gpt-3.5-turbo-0613\",\n",
      "  \"object\": \"chat.completion\",\n",
      "  \"usage\": {\n",
      "    \"completion_tokens\": 11,\n",
      "    \"prompt_tokens\": 726,\n",
      "    \"total_tokens\": 737\n",
      "  }\n",
      "}\n",
      "query  1 rating_source_idx 2 Skimming url: https://archiv.ub.uni-marburg.de/diss/z2019/0503/pdf/dgs.pdf\n",
      "PDF found!\n",
      "len(sample_chunks) 10\n",
      "Prompt:  \n",
      "Key question:\n",
      "How efficiently do the ECR enzymes work in Kitsatospor setae bacteria?\n",
      "\n",
      "Task: \n",
      "Based on the key question and the sample text chunks of the source text, the goal is to identify how useful reading the full source text would be to extract direct quoted facts or references to determine the best answer to the key question. \n",
      "\n",
      "Deliverable:\n",
      "Assign a predicted usefulness score of the full source text using a 5-point Likert scale, with 1 being very unlikely to be usefulness, 2 being unlikely to be useful, 3 being somewhat likely to be useful, 4 being likely to be useful, and 5 being very likely useful and containing facts or references that answer the key question.\n",
      "\n",
      "Sample text chunks from the source text:\n",
      "['e efficiency directly correlates \\nwith the\\n \\ncarboxylases\\n \\nfound in this pathway\\n,\\n \\nnamely\\n \\nthe \\nisocitrate dehydrogenase, α\\n‐8\\n \\n \\nketoglutar\\nate:ferredoxin oxidoreductase and pyruvate ferredoxin oxidoreductase. All of these \\nare reductive carboxylases and except isocitrate dehydrogenase, utilize the strong reducing \\npower of ferredoxin to drive an energy efficient carboxylation reaction\\n9\\n. The distribution of \\nthis pathway is, despite its efficiency, limited to anoxic environments due to the inherent \\no\\nxygen sensitivity \\nof enzymes involved in these pathways\\n. \\nIn the Calvin\\n‐\\nBenson\\n‐\\nBassham \\ncycle\\n10\\n, found in plants algae and bacteria, \\nRuBisCO\\n \\nis\\n \\nresponsible for fixation of CO\\n2\\n.\\n \\nTh\\nis \\nprocess is estimated to fix 4\\n00 Gt of CO\\n2\\n \\neach year \\nand represents an essential\\n \\nprocess for all \\nlife on earth. I\\nt\\n \\nis therefor\\ne not surprising that \\nthe \\nestimated amount of RuBisCO on earth is 5 \\nkg of soluble protein per person. \\nA disadvantage this enzyme possesses is i', 'e pressure in \\nprimary metabolic pathways acts as a driving force to shape the kinetic parameters of \\nenzymes.\\n \\n5.2. Introduction\\n \\n \\nCarbon fixation is the process by which enzymes known as carboxylases \\nutilize\\n \\ninorganic \\ncarbon, in the form of gaseous C\\nO\\n2\\n, and incorporate it into \\nbiomass. The enzyme Ribulose 1,5\\n‐\\nbisphosphate carboxylase/oxygenase (RuBisCO) found in plants and bacteria is responsible for \\nfixing 400 Gt of carbon per year\\n1\\n. \\nNature’s\\n \\nCO\\n2\\n‐\\nfixing catalysts are of great interest because \\nthey possess the ability of utilizing atmospheric CO\\n2\\n \\nunder mild conditions. Knowledge of the \\nunderlying catalytic principles of carbon fixatio\\nn is essential for the development of efficient \\ncarbon capture strategies to reduce the amount of atmospheric CO\\n2\\n. \\n \\nCompared to RuBi\\nsCO, r\\neductive carboxylases fro\\nm the enoyl\\n‐\\nCoA carboxylase/reductase \\n(ECR) \\nfamily \\nare faster and specific for CO\\n2\\n2\\n.\\n \\nThe \\nECR\\n \\nfamily can be\\n \\ndivided into two subfamilies\\n \\nbase', 'er mild \\ncondi\\ntions and atmospheric concentrations at a scale of more than 400 Gt annually. \\nHowever, how these enzymes bind and control the gaseous CO\\n2\\n \\nmolecule during catalysis is \\nonly poorly understood. One of the most efficient classes of carboxylating enzymes are \\nen\\noyl\\n-\\nCoA carboxylases/reductases (Ecrs), which outcompete the plant enzyme RubisCO in \\ncatalytic efficiency and fidelity by more than an order of magnitude. Here we investigated \\nthe interactions of CO\\n2\\n \\nwithin the active site of Ecr from \\nKitasatospora setae\\n. \\nCombining \\nexperimental biochemistry, protein crystallography and advanced computer simulations we \\nshow that four amino acids, N81, F170, E171 and H365 are required to create a highly \\nefficient CO\\n2\\n-\\nfixing enzyme. Together, these four residues anchor and pos\\nition the CO\\n2\\n \\nmolecule for the attack by a reactive enolate created during the catalytic cycle. Notably, a \\nhighly ordered water molecule plays an important role in an active site that is ot', 'ompound of the pathway. \\n \\n \\nScheme 3\\n: \\nReaction catalyzed by \\nECR\\ns in the presence and absence of CO\\n2\\n. The residue “R” can vary considerabl\\ny\\n16, 31\\n.\\n \\n13\\n \\n \\nThis anaplerotic pathway is found in many bacteria and \\nrepresents an acetyl\\n‐\\nCoA assimilation \\nstrategy \\nin the absence of isocitrate lyase\\n \\n(ICL)\\n,\\n \\na key enzyme of the glyoxylate cycle\\n. \\nOperation \\nof this\\n \\npathw\\nay was \\nfirst \\ndescribed in the Alphaproteobacterium \\nRhodobacter s\\nphaeroides\\n,\\n \\nwhich\\n,\\n \\nfed with acetate under aerobic conditions\\n,\\n \\nis able to grow despi\\nte lacking ICL\\n.\\n \\nMoreover, the EMCP\\n \\nis important for methylotrophs, which can grow on C\\n1\\n \\ncarbon sources \\nsuch a\\ns methanol via the s\\nerine cycle\\n32\\n.\\n \\nOutside of their metabolic contexts, \\nECR\\ns also \\nrepresent an interesting model enzyme to study mechanistic principles of carboxylation. \\nThese enzymes outcompete other carboxylases \\nin turnover rate and/or specificity for their \\nsubstrate\\n33\\n. \\nMechanistic studies on \\nECR\\ns\\n \\nhave demonstrat', 'yde could replace\\n \\nCO\\n2\\n \\nas the resolving electrophile \\nin the \\nfinal step of the \\nreaction. We \\nshow th\\nat ECR from \\nKitasatospora setae\\n \\nis able to utilize\\n \\nformaldehyde \\nas an alternative \\nelectrophile thereby forming 2\\n-\\n(hydroxymethyl)\\n \\nbutyryl\\n-\\nCoA (2\\n-\\nHMB\\n-\\nCoA). \\nThis compound \\nwas characterized by mass spectrometry and NMR spectroscopy and confirmed the \\npredicted \\nstructure. \\nThis opens up the possibility for more electroph\\niles to be tested and \\nemploy ECRs as biocatalyst for the production of α\\n-\\nsubstituted carboxylic acids.\\n \\n3.2. \\nIntroduction\\n \\n \\nEnoyl\\n‐\\nCoA carboxylases/reductases (ECRs) perform the unique reductive carboxylation of \\nenoyl\\n‐\\nCoA thioesters by oxidizing one equivalen\\nt of NADPH. ECRs catalyze the carboxylation \\nof crotonyl\\n‐\\nCoA to ethylmalonyl\\n‐\\nCoA in the ethylmalonyl\\n‐\\nCoA pathway, an important pathway \\nfor the assimilation of C\\n2\\n \\nunits in many \\necologically relevant \\nbacteria\\n1\\n. ECRs a\\nre also found \\nassociated with the biosynthesis of nat', 'cial factor in \\nK. setae\\n \\nECR\\n \\nto achieve the high \\ncatalytic efficiency. Further kinet\\nic experiments demonstrate that subunit communication \\nwithin the pair of dimers is important to synchronize open\\n‐\\n \\nand closed\\n‐\\nstates. Altogether, our \\ndata unveil a detailed picture of the dynamic structural organization and subunit \\nsynchronization of the \\nEC\\nR\\n \\ncomplexes, providing unprecedented insights into the functional \\norganization of nature’s most efficient CO\\n2\\n‐\\nfixing enzyme during catalysis.\\n \\n4\\n.3. Results\\n \\n \\nApo \\nECR\\n \\nis a symmetric homotetramer, readily accessible for NADPH binding\\n 76\\n \\n \\nWe first determined the ap\\no form of the \\nECR\\n \\ncrystal structure from \\nK. setae\\n \\nat 1.8 Å resolution \\nby using synchrotron X\\n‐\\nray crystallography at cryogenic temperature (\\nSupplementary Table \\n1\\n). The asymmetric unit contains one homotetramer composed of four subunits arranged in a \\ndimer o\\nf dimers geometry (“pair of dimers”) similar to those of the previously reported binary \\n(PDB:', ' \\nscenario confirms the concept of the inherent accuracy\\n‐\\nspeed tradeoff\\n \\nth\\nat enzymes display\\n47\\n,\\n \\nwhich describes to what degree an improvement in accuracy corresponds to \\na d\\necr\\nease in \\ncatalytic efficiency.\\n \\nFinally, adaptation might also occur on the genetic level, where the \\nregulation of the expression level changes the amount of enzyme present in the cell. \\n \\n \\n \\n \\n \\n \\n \\n \\n \\n \\n \\n \\n \\n \\n 17\\n \\n \\n1.6. \\nAim\\ns\\n \\nof this thesis\\n \\nThe general goal of this t\\nhesis\\n \\nwas t\\no gain a better understanding of\\n \\nthe underlying principles \\nof \\nECR\\n \\ncatalysis. \\nOf particular interest was the interaction between the protein and the CO\\n2\\n \\nmolecule at the active site of the enzyme\\n \\nand how this knowledge \\ncan be exploited\\n \\nto \\nrational\\nly identify new electrophiles\\n, other than CO\\n2\\n, \\nfor this enzyme\\n. \\nMoreover, this thesis \\nfocu\\nses\\n \\non unde\\nrstanding the structural determinants that are at the basis of the fast\\n \\ncatalytic \\nrates observed in ECR\\ns.\\n \\n1.\\n6.1 Mechanistic Principles ', 'pen\\n‐\\nform subunits bind cofactor and the adenine rings of \\nthe\\n \\nsubstrates but the rest of the acyl\\n‐\\nCoA substrate remains flexible and invisible in the active \\nsite. Thus, the open\\n‐\\nsubunit active sites seem to represent a catalytically incompetent state \\nthat is pre\\n‐\\norganized for a next round of catalysis. Altogether, t\\nhis structural reorganization of \\nECR\\n \\nstrongly supports the idea that the enzyme operates with “half\\n‐\\nsite reactivity”, according \\nto which catalysis is synchronized across the enzyme tetramer and alters between the open\\n‐\\n \\nand closed\\n‐\\nform subunits to increase \\nthe overall catalytic efficiency of the complex\\n14\\n‐\\n17\\n.\\n \\nInteraction of the catalytic domains of neighboring subunits is crucial for efficient catalysis in \\nK. setae\\n \\nECR\\n. Especially important is the interaction of cata\\nlytic domains between the pairs of \\ndimers. As soon as this interaction is disturbed, the catalytic rate of the enzyme is severely \\ndiminished. This observation is consistent wi', 'rent substrate 75\\n \\n \\nspecifi\\ncities, ranging from short\\n‐\\n \\n(PDB: 3HZZ, 3KRT) to long\\n‐\\nchain (4A0S\\n6\\n) and aromatic enoyl\\n‐\\nCoA substrates (4Y0K\\n7\\n), and are from different biological backgrounds including prima\\nry (i.e. \\ncentral carbon) metabolism (PDB: 4GI2) and secondary metabolism. Moreover, most of them \\nwere co\\n‐\\ncrystalized with NADPH or \\nNADP\\n+\\nonly and do not contain CO\\n2\\n, enoyl\\n‐\\nCoA substrates \\nor acyl\\n‐\\nCoA products. This significantly limits our structural underst\\nanding of the enzyme’s \\ncatalytic mechanism.\\n \\nThe aim of this study was to provide a detailed structural understanding of the carboxylation \\nreaction of \\nECR\\ns at the level of the oligomeric protein complex. To this end, we chose the \\nECR\\n \\nfrom \\nK. setae\\n, which sh\\nows\\n \\nhigh substrate specificity for crotonyl\\n‐\\nCoA and superior catalytic \\nefficiency (see Table 1). Using cryogenic X\\n‐\\nray crystallography at synchrotrons and room \\ntemperature serial femtosecond X\\n‐\\nray crystallography (SFX) at an XFEL, four h', 'Petkovic H, Roles of the crotonyl\\n‐\\nCoA \\ncarboxylase/reductase homologues in acetate assimilation and biosynthesis of \\nimmunosuppressant FK506 in Streptomyces tsukubaensis. \\nMicrob Cell Fact\\n \\n14:164 \\n2015\\n.\\n \\n8.\\n \\nBilyk O, Samborskyy M, & \\nLeadlay PF, The biosynthetic pathway to ossamycin, a \\nmacrocyclic polyketide bearing a spiroacetal moiety. \\nPloS one\\n \\n14(4):e0215958 \\n2019\\n.\\n \\n9.\\n \\nPeter DM Substrate Promiscuity, Kinetics and Engineering of Enoyl\\n‐\\nCoA \\nCarboxylases/Reductases. Thesis (ETH Zürich) \\n20\\n16\\n \\n10.\\n \\nBar\\n‐\\nEven A\\n, et al.\\n, The moderately efficient enzyme: evolutionary and physicochemical \\ntrends shaping enzyme parameters. \\nBiochemistry\\n \\n50(21):4402\\n‐\\n4410 \\n2011\\n.\\n \\n11.\\n \\nTawfik DS, Accuracy\\n‐\\nrate tradeoffs: how do enzymes meet demands of selectivity and \\ncataly\\ntic efficiency? \\nCurr. Opin. Chem. Biol.\\n \\n21:73\\n‐\\n80 \\n2014\\n.\\n \\n12.\\n \\nPeter DM\\n, et al.\\n, Screening and Engineering the Synthetic Potential of Carboxylating \\nReductases from Central Metabolism and Polyketide ']\n",
      "\n",
      "The output should be of the following JSON format\n",
      "{\n",
      "    \"\"predicted_usefulness: <insert predicted usefulness rating>,\n",
      "   etc.\n",
      "}\n",
      "\n",
      "\n",
      "Respond only with the output, with no explanation or conversation.\n",
      "\n",
      "Completion info:  {\n",
      "  \"choices\": [\n",
      "    {\n",
      "      \"finish_reason\": \"stop\",\n",
      "      \"index\": 0,\n",
      "      \"message\": {\n",
      "        \"content\": \"{\\n    \\\"predicted_usefulness\\\": 4\\n}\",\n",
      "        \"role\": \"assistant\"\n",
      "      }\n",
      "    }\n",
      "  ],\n",
      "  \"created\": 1691369989,\n",
      "  \"id\": \"chatcmpl-7kit3yqphEuvuHfC3NCvtT4oV8o5v\",\n",
      "  \"model\": \"gpt-3.5-turbo-0613\",\n",
      "  \"object\": \"chat.completion\",\n",
      "  \"usage\": {\n",
      "    \"completion_tokens\": 11,\n",
      "    \"prompt_tokens\": 3397,\n",
      "    \"total_tokens\": 3408\n",
      "  }\n",
      "}\n"
     ]
    }
   ],
   "source": [
    "# Skimming through each highly relevant paper from skimming\n",
    "with open(f'autoscious_logs/{search_query_file_safe}/sources/initial_search_queries.json', 'r') as f:\n",
    "    key_question_initial_search_queries = json.load(f)\n",
    "\n",
    "for query_idx, query in key_question_initial_search_queries.items():\n",
    "    # open filtered search results\n",
    "    with open(f'autoscious_logs/{search_query_file_safe}/sources/rated_web_results_query_{int(query_idx)}.json', 'r') as f:\n",
    "        ratings_url_dict = json.loads(f.read())\n",
    "\n",
    "    # open web search info to extract metadata\n",
    "    with open(f'autoscious_logs/{search_query_file_safe}/sources/initial_search_results_query_{int(query_idx)}.json', 'r') as f:\n",
    "        web_search_info = json.load(f)\n",
    "    \n",
    "    for rating, urls in ratings_url_dict.items():\n",
    "        if rating == '5' or rating == '4' or rating == '3': # Scraping all useful websites to skim through\n",
    "            # Start with iterating through 4s and 5s of ratings_url_dict\n",
    "            folder_path = f'autoscious_logs/{search_query_file_safe}/sources/predicted_usefulness_{rating}'\n",
    "            if not os.path.exists(folder_path):\n",
    "                os.makedirs(folder_path)\n",
    "\n",
    "            for rating_source_idx, url in enumerate(urls):\n",
    "                print(\"query \", query_idx, \"rating_source_idx\", rating_source_idx, \"Skimming url:\", url)\n",
    "\n",
    "                # Ensure the url hasn't already been visited\n",
    "                title = find_title(url, web_search_info)\n",
    "                if title and not os.path.exists(f'autoscious_logs/{sanitize_filename(search_query)}/sources/full_text/{sanitize_filename(title)}.txt') and not os.path.exists(f'{folder_path}/query_{query_idx}_url_index_{rating_source_idx}.json'):\n",
    "\n",
    "                    # Check if it's a pdf or not\n",
    "                    if try_getting_pdf(url):\n",
    "                        print(\"PDF found!\")\n",
    "                        text = try_getting_pdf_content(url)\n",
    "                    else:\n",
    "                        text = scrape_text_with_selenium_no_agent(url, None, search_engine='firefox')\n",
    "\n",
    "                    # Only evaluate websites you're able to scrape\n",
    "                    if text and text != \"No information found\":\n",
    "                        total_chunks = len(text) / CHUNK_SIZE\n",
    "                        num_chunk_samples = min(int(total_chunks * SAMPLING_FACTOR), MAX_CHUNKS)\n",
    "                        # sample_chunks = get_sample_chunks(text, CHUNK_SIZE, num_chunk_samples)\n",
    "                        sample_chunks = get_most_relevant_chunks_with_bm25(keywords_query, text, CHUNK_SIZE, num_chunk_samples) # Using BM25 to search for keywords instead of general query\n",
    "                        print(\"len(sample_chunks)\", len(sample_chunks))\n",
    "\n",
    "                        # Get predicted usefulness based on sample chunks\n",
    "                        predicted_usefulness_results = json.loads(chat_openai(get_predicted_usefulness_of_text_prompt(search_query, sample_chunks), model=\"gpt-3.5-turbo\")[0])\n",
    "\n",
    "                        # save filtered search results\n",
    "                        with open(f'{folder_path}/query_{query_idx}_url_index_{rating_source_idx}.json', 'w') as f:\n",
    "                            predicted_usefulness_results['title'] = title\n",
    "                            predicted_usefulness_results['url'] = url\n",
    "                            json.dump(predicted_usefulness_results, f, indent=2)\n",
    "                        \n",
    "                        # Check if any scores were (4 or) 5, because then we should save the full text\n",
    "                        pred_usefulness = predicted_usefulness_results.values()\n",
    "\n",
    "                        # TODO: perhaps make this more dynamic\n",
    "                        if 5 in pred_usefulness or '5' in pred_usefulness or 4 in pred_usefulness or '4' in pred_usefulness:\n",
    "                        # DEBUG: Just looking at the scraping results\n",
    "                            with open(f'autoscious_logs/{sanitize_filename(search_query)}/sources/full_text/{sanitize_filename(title)}.txt', 'w', encoding='utf-8') as f:\n",
    "                                f.write(title + '\\n')\n",
    "                                f.write(url + '\\n')\n",
    "                                f.write(text)\n",
    "                else:\n",
    "                    print(\"URL or text already visited!\")"
   ]
  },
  {
   "cell_type": "code",
   "execution_count": null,
   "metadata": {},
   "outputs": [],
   "source": []
  },
  {
   "cell_type": "code",
   "execution_count": null,
   "metadata": {},
   "outputs": [],
   "source": []
  },
  {
   "cell_type": "markdown",
   "metadata": {},
   "source": [
    "# Verifiers"
   ]
  },
  {
   "cell_type": "markdown",
   "metadata": {},
   "source": [
    "# Analyzers"
   ]
  }
 ],
 "metadata": {
  "kernelspec": {
   "display_name": "venv",
   "language": "python",
   "name": "python3"
  },
  "language_info": {
   "codemirror_mode": {
    "name": "ipython",
    "version": 3
   },
   "file_extension": ".py",
   "mimetype": "text/x-python",
   "name": "python",
   "nbconvert_exporter": "python",
   "pygments_lexer": "ipython3",
   "version": "3.10.6"
  },
  "orig_nbformat": 4
 },
 "nbformat": 4,
 "nbformat_minor": 2
}
