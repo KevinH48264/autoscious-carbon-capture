{
 "cells": [
  {
   "attachments": {},
   "cell_type": "markdown",
   "metadata": {},
   "source": [
    "# Use knowledge base from Semantic Scholar"
   ]
  },
  {
   "cell_type": "code",
   "execution_count": 13,
   "metadata": {},
   "outputs": [
    {
     "name": "stdout",
     "output_type": "stream",
     "text": [
      "                                    paperId  \\\n",
      "3  5b190c555003e154bb9038844899014425236273   \n",
      "4  e24d6d882c78389a9c356b87ac46e065087549cf   \n",
      "6  9496966a27c7a9176ec0a8ff6a04781caa42b7bb   \n",
      "7  154b9fd69570539e90f51e1b19db944713d3bfdc   \n",
      "8  e3e850fb87909bd91aab7ecb8260417ccfcb383b   \n",
      "\n",
      "                                                 url  \\\n",
      "3  https://www.semanticscholar.org/paper/5b190c55...   \n",
      "4  https://www.semanticscholar.org/paper/e24d6d88...   \n",
      "6  https://www.semanticscholar.org/paper/9496966a...   \n",
      "7  https://www.semanticscholar.org/paper/154b9fd6...   \n",
      "8  https://www.semanticscholar.org/paper/e3e850fb...   \n",
      "\n",
      "                                               title  \\\n",
      "3  Carbon capture and conversion using metal-orga...   \n",
      "4  Climate change mitigation potential of carbon ...   \n",
      "6  Cooperative carbon capture and steam regenerat...   \n",
      "7  A Guideline for Life Cycle Assessment of Carbo...   \n",
      "8  The Role of Carbon Capture and Utilization, Ca...   \n",
      "\n",
      "                                            abstract  year  citationCount  \\\n",
      "3  Rapidly increasing atmospheric CO2 concentrati...  2019            801   \n",
      "4  Significance Carbon dioxide (CO2) drives clima...  2019            286   \n",
      "6  Steaming out captured CO2 Although natural gas...  2020            145   \n",
      "7  Carbon Capture and Utilization (CCU) is an eme...  2020             80   \n",
      "8  This contribution provides a conceptual analys...  2020            171   \n",
      "\n",
      "   isOpenAccess                      fieldsOfStudy  \\\n",
      "3         False      [Materials Science, Medicine]   \n",
      "4          True  [Medicine, Environmental Science]   \n",
      "6         False  [Environmental Science, Medicine]   \n",
      "7          True                         [Business]   \n",
      "8         False            [Environmental Science]   \n",
      "\n",
      "                                                tldr  \n",
      "3  {'model': 'tldr@v2.0.0', 'text': 'This review ...  \n",
      "4  {'model': 'tldr@v2.0.0', 'text': 'This study s...  \n",
      "6  {'model': 'tldr@v2.0.0', 'text': 'A family of ...  \n",
      "7                                               None  \n",
      "8                                               None  \n"
     ]
    }
   ],
   "source": [
    "import pandas as pd\n",
    "import json\n",
    "\n",
    "# load the data from your JSON file\n",
    "with open(r'C:\\Users\\1kevi\\Desktop\\projects\\Research\\autoscious-carbon-capture\\data_collection\\output_50.json', 'r') as f:\n",
    "    data = json.load(f)\n",
    "\n",
    "# convert the data into a pandas DataFrame\n",
    "df = pd.DataFrame(data)\n",
    "\n",
    "# remove rows with null abstracts\n",
    "df = df[df['abstract'].notna()]\n",
    "\n",
    "# print out the DataFrame to verify\n",
    "print(df.head())"
   ]
  },
  {
   "cell_type": "code",
   "execution_count": 17,
   "metadata": {},
   "outputs": [
    {
     "name": "stdout",
     "output_type": "stream",
     "text": [
      "                                     paperId  \\\n",
      "3   5b190c555003e154bb9038844899014425236273   \n",
      "4   e24d6d882c78389a9c356b87ac46e065087549cf   \n",
      "6   9496966a27c7a9176ec0a8ff6a04781caa42b7bb   \n",
      "12  cfa569019717301c352aabec292a8f4d3a261553   \n",
      "20  7a2197144b3a1567e814ea35fd73bd85a698681f   \n",
      "\n",
      "                                                  url  \\\n",
      "3   https://www.semanticscholar.org/paper/5b190c55...   \n",
      "4   https://www.semanticscholar.org/paper/e24d6d88...   \n",
      "6   https://www.semanticscholar.org/paper/9496966a...   \n",
      "12  https://www.semanticscholar.org/paper/cfa56901...   \n",
      "20  https://www.semanticscholar.org/paper/7a219714...   \n",
      "\n",
      "                                                title  \\\n",
      "3   Carbon capture and conversion using metal-orga...   \n",
      "4   Climate change mitigation potential of carbon ...   \n",
      "6   Cooperative carbon capture and steam regenerat...   \n",
      "12  Performance-Based Screening of Porous Material...   \n",
      "20  In silico discovery of covalent organic framew...   \n",
      "\n",
      "                                             abstract  year  citationCount  \\\n",
      "3   Rapidly increasing atmospheric CO2 concentrati...  2019            801   \n",
      "4   Significance Carbon dioxide (CO2) drives clima...  2019            286   \n",
      "6   Steaming out captured CO2 Although natural gas...  2020            145   \n",
      "12  Computational screening methods have changed t...  2020             67   \n",
      "20  We screen a database of more than 69,000 hypot...  2020             29   \n",
      "\n",
      "    isOpenAccess                           fieldsOfStudy  \\\n",
      "3          False           [Materials Science, Medicine]   \n",
      "4           True       [Medicine, Environmental Science]   \n",
      "6          False       [Environmental Science, Medicine]   \n",
      "12         False  [Medicine, Physics, Materials Science]   \n",
      "20         False           [Medicine, Materials Science]   \n",
      "\n",
      "                                                 tldr  \n",
      "3   {'model': 'tldr@v2.0.0', 'text': 'This review ...  \n",
      "4   {'model': 'tldr@v2.0.0', 'text': 'This study s...  \n",
      "6   {'model': 'tldr@v2.0.0', 'text': 'A family of ...  \n",
      "12  {'model': 'tldr@v2.0.0', 'text': 'The objectiv...  \n",
      "20  {'model': 'tldr@v2.0.0', 'text': 'A genetic al...  \n"
     ]
    }
   ],
   "source": [
    "import pandas as pd\n",
    "import json\n",
    "\n",
    "# load the data from your JSON file\n",
    "with open(r'C:\\Users\\1kevi\\Desktop\\projects\\Research\\autoscious-carbon-capture\\data_collection\\output_50.json', 'r') as f:\n",
    "    data = json.load(f)\n",
    "\n",
    "# convert the data into a pandas DataFrame\n",
    "df = pd.DataFrame(data)\n",
    "\n",
    "# remove rows with null abstracts\n",
    "df = df[df['abstract'].notna()]\n",
    "df = df[df['tldr'].notna()]\n",
    "\n",
    "# print out the DataFrame to verify\n",
    "print(df.head())"
   ]
  },
  {
   "cell_type": "code",
   "execution_count": 18,
   "metadata": {},
   "outputs": [
    {
     "name": "stdout",
     "output_type": "stream",
     "text": [
      "paperId                   5b190c555003e154bb9038844899014425236273\n",
      "url              https://www.semanticscholar.org/paper/5b190c55...\n",
      "title            Carbon capture and conversion using metal-orga...\n",
      "abstract         Rapidly increasing atmospheric CO2 concentrati...\n",
      "year                                                          2019\n",
      "citationCount                                                  801\n",
      "isOpenAccess                                                 False\n",
      "fieldsOfStudy                        [Materials Science, Medicine]\n",
      "tldr             {'model': 'tldr@v2.0.0', 'text': 'This review ...\n",
      "Name: 3, dtype: object\n"
     ]
    }
   ],
   "source": [
    "# Get the first row of the DataFrame\n",
    "first_row = df.iloc[0]\n",
    "print(first_row)"
   ]
  },
  {
   "cell_type": "code",
   "execution_count": 19,
   "metadata": {},
   "outputs": [
    {
     "name": "stdout",
     "output_type": "stream",
     "text": [
      "The dataframe has 13 rows and 9 columns.\n"
     ]
    }
   ],
   "source": [
    "# Get the shape of the DataFrame\n",
    "num_rows, num_cols = df.shape\n",
    "print(f\"The dataframe has {num_rows} rows and {num_cols} columns.\")\n"
   ]
  },
  {
   "attachments": {},
   "cell_type": "markdown",
   "metadata": {},
   "source": [
    "# Generate a literature review using concepts (TLDRs)"
   ]
  },
  {
   "cell_type": "code",
   "execution_count": 11,
   "metadata": {},
   "outputs": [
    {
     "name": "stdout",
     "output_type": "stream",
     "text": [
      "The dotenv extension is already loaded. To reload it, use:\n",
      "  %reload_ext dotenv\n"
     ]
    }
   ],
   "source": [
    "# Have GPT3.5 generate a literature review of carbon capture using the TLDRs (significance)\n",
    "%load_ext dotenv\n",
    "%dotenv\n",
    "import os\n",
    "openai_api_key = os.getenv('OPENAI_API_KEY')\n",
    "import openai"
   ]
  },
  {
   "cell_type": "code",
   "execution_count": 12,
   "metadata": {},
   "outputs": [],
   "source": [
    "# for bulk openai message, no stream\n",
    "def chat_openai(prompt=\"Tell me to ask you a prompt\", chat_history=[]):\n",
    "    # define message conversation for model\n",
    "    if chat_history:\n",
    "        messages = chat_history\n",
    "    else:\n",
    "        messages = [\n",
    "            {\"role\": \"system\", \"content\": \"You are a helpful assistant.\"},\n",
    "        ]\n",
    "    messages.append({\"role\": \"user\", \"content\": prompt})\n",
    "\n",
    "    # create the chat completion\n",
    "    completion = openai.ChatCompletion.create(\n",
    "        model=\"gpt-3.5-turbo\",\n",
    "        messages=messages,\n",
    "    )\n",
    "    text_answer = completion[\"choices\"][0][\"message\"][\"content\"]\n",
    "\n",
    "    # updated conversation history\n",
    "    messages.append({\"role\": \"assistant\", \"content\": text_answer})\n",
    "\n",
    "    return text_answer, messages"
   ]
  },
  {
   "cell_type": "code",
   "execution_count": 20,
   "metadata": {},
   "outputs": [],
   "source": [
    "# Get 'tldr' column as a Series\n",
    "tldr_series = df['tldr']\n",
    "\n",
    "# Extract the 'text' from each 'tldr' dictionary in the Series\n",
    "tldr_texts = [item['text'] if item is not None else None for item in tldr_series]\n"
   ]
  },
  {
   "cell_type": "code",
   "execution_count": 21,
   "metadata": {},
   "outputs": [
    {
     "name": "stdout",
     "output_type": "stream",
     "text": [
      "['This review provides a comprehensive account of significant progress in the design and synthesis of MOF-based materials, including MOFs, MOF composites and MOF derivatives, and their application to carbon capture and conversion.', 'This study shows that CCU has the technical potential to lead to a carbon-neutral chemical industry and decouple chemical production from fossil resources, reducing annual GHG emissions by up to 3.5 Gt CO2-eq in 2030.', 'A family of robust tetraamine-functionalized frameworks that retain cooperativity are reported, leading to the potential for exceptional efficiency in capturing CO2 under the extreme conditions relevant to natural gas flue emissions.', 'The objective of this work is to review the current status of this new approach to multiscale screening, discuss its potential and impact on the field of materials screening, and highlight the challenges that limit its application.', 'A genetic algorithm is developed to tune the charge equilibration method and derive accurate framework partial charges and the effect of pore topology on carbon capture performance in order to guide development of improved carbon capture materials.', 'A new analysis of all global CCS projects and model the build rate out to 2050, deducing this is 100 times too slow, which means no CCS means no 2°C, and a first urgent action for all countries is to commercially assess their CO2 storage.', 'A novel postsynthetic rapid heat treatment (RHT), implemented in a few seconds at 360 °C, which drastically improves the carbon capture performance of the ZIF-8 membranes, is reported.', 'The adsorption efficiency combined with the CO2 /N2 selectivity, together with a chemical and thermal stability, identifies the archetype Ti3 C2 MXene as a new material for carbon capture (CC) applications.', 'Evaluating low-cost, commercially ready CO2 capture opportunities for existing ethanol biorefineries in the United States finds that existing and proposed financial incentives suggest a substantial near-term opportunity to catalyze the growth of CCS infrastructure, improve the impacts of conventional biofuels, support development of carbon-negative fuels, and satisfy low-carbon fuel policies.', None, 'Competitive separations on structured CALF-20 show not just preferential CO2 physisorption below 40% relative humidity but also suppression of water sorption by CO2, which was corroborated by computational modeling.', 'The development of enhanced gutter layers employing two- and three-dimensional metal-organic framework materials leads to considerable improvements in both CO2 permeance and selectivity compared with traditional poly(dimethylsiloxane) materials.', 'An opportunity to significantly expand CCUS in the United States in the near-term is demonstrated, spurred by new financial incentives enacted in February 2018, by targeting the lowest-cost capture opportunities and by deploying only commercially proven technologies.']\n"
     ]
    }
   ],
   "source": [
    "print(tldr_texts)"
   ]
  },
  {
   "cell_type": "code",
   "execution_count": 27,
   "metadata": {},
   "outputs": [],
   "source": [
    "prompt = \"I am a college student who is a beginner in carbon capture. Write a literature review of carbon capture using the TLDRs (significance) of papers: \" + str(tldr_texts)"
   ]
  },
  {
   "cell_type": "code",
   "execution_count": 28,
   "metadata": {},
   "outputs": [],
   "source": [
    "res = chat_openai(prompt)"
   ]
  },
  {
   "cell_type": "code",
   "execution_count": 29,
   "metadata": {},
   "outputs": [
    {
     "data": {
      "text/plain": [
       "('Carbon capture and conversion (CCU) has been identified as a potential solution to reduce global CO2 emissions. One way to achieve this is through the use of metal-organic framework-based materials (MOFs) for carbon capture. A comprehensive review of MOFs and their derivatives reveals significant progress in their design and synthesis. MOFs have great potential for application in CCU due to their high surface area, tunability, and selectivity.\\n\\nAnother study shows that CCU has technical potential to lead to a carbon-neutral chemical industry, reducing annual GHG emissions by up to 3.5 Gt CO2-eq by 2030. This could potentially decouple chemical production from fossil resources, crucial for mitigating climate change.\\n\\nA family of robust tetraamine-functionalized frameworks has been developed that effectively captures CO2 under extreme conditions. This opens up the potential for exceptional efficiency in CCU in natural gas flue emissions.\\n\\nThe use of genetic algorithms has facilitated tuning of the charge equilibration method to derive accurate framework partial charges. This has led to an understanding of the effect that pore topology has on carbon capture performance.\\n\\nA study analyzing all global CCS projects indicates that the rate of building these projects is 100 times too slow to meet emission reduction targets. Urgent action for all countries is required to commercially assess CO2 storage.\\n\\nThe development of enhanced gutter layers using two- and three-dimensional metal-organic framework materials has led to considerable improvements in both CO2 permeance and selectivity, improving on traditional poly(dimethylsiloxane) materials.\\n\\nFinally, utilizing low-cost, commercially ready CO2 capture opportunities for existing ethanol biorefineries in the United States reveals substantial near-term opportunities to improve the impacts of conventional biofuels, catalyze the growth of carbon capture infrastructure, and satisfy low-carbon fuel policies. Overall, these findings emphasize the importance of CCU in mitigating climate change and the vast potential for MOFs to play a pivotal role in carbon capture.',\n",
       " [{'role': 'system', 'content': 'You are a helpful assistant.'},\n",
       "  {'role': 'user',\n",
       "   'content': \"I am a college student who is a beginner in carbon capture. Write a literature review of carbon capture using the TLDRs (significance) of papers: ['This review provides a comprehensive account of significant progress in the design and synthesis of MOF-based materials, including MOFs, MOF composites and MOF derivatives, and their application to carbon capture and conversion.', 'This study shows that CCU has the technical potential to lead to a carbon-neutral chemical industry and decouple chemical production from fossil resources, reducing annual GHG emissions by up to 3.5 Gt CO2-eq in 2030.', 'A family of robust tetraamine-functionalized frameworks that retain cooperativity are reported, leading to the potential for exceptional efficiency in capturing CO2 under the extreme conditions relevant to natural gas flue emissions.', 'The objective of this work is to review the current status of this new approach to multiscale screening, discuss its potential and impact on the field of materials screening, and highlight the challenges that limit its application.', 'A genetic algorithm is developed to tune the charge equilibration method and derive accurate framework partial charges and the effect of pore topology on carbon capture performance in order to guide development of improved carbon capture materials.', 'A new analysis of all global CCS projects and model the build rate out to 2050, deducing this is 100 times too slow, which means no CCS means no 2°C, and a first urgent action for all countries is to commercially assess their CO2 storage.', 'A novel postsynthetic rapid heat treatment (RHT), implemented in a few seconds at 360 °C, which drastically improves the carbon capture performance of the ZIF-8 membranes, is reported.', 'The adsorption efficiency combined with the CO2 /N2 selectivity, together with a chemical and thermal stability, identifies the archetype Ti3 C2 MXene as a new material for carbon capture (CC) applications.', 'Evaluating low-cost, commercially ready CO2 capture opportunities for existing ethanol biorefineries in the United States finds that existing and proposed financial incentives suggest a substantial near-term opportunity to catalyze the growth of CCS infrastructure, improve the impacts of conventional biofuels, support development of carbon-negative fuels, and satisfy low-carbon fuel policies.', None, 'Competitive separations on structured CALF-20 show not just preferential CO2 physisorption below 40% relative humidity but also suppression of water sorption by CO2, which was corroborated by computational modeling.', 'The development of enhanced gutter layers employing two- and three-dimensional metal-organic framework materials leads to considerable improvements in both CO2 permeance and selectivity compared with traditional poly(dimethylsiloxane) materials.', 'An opportunity to significantly expand CCUS in the United States in the near-term is demonstrated, spurred by new financial incentives enacted in February 2018, by targeting the lowest-cost capture opportunities and by deploying only commercially proven technologies.']\"},\n",
       "  {'role': 'assistant',\n",
       "   'content': 'Carbon capture and conversion (CCU) has been identified as a potential solution to reduce global CO2 emissions. One way to achieve this is through the use of metal-organic framework-based materials (MOFs) for carbon capture. A comprehensive review of MOFs and their derivatives reveals significant progress in their design and synthesis. MOFs have great potential for application in CCU due to their high surface area, tunability, and selectivity.\\n\\nAnother study shows that CCU has technical potential to lead to a carbon-neutral chemical industry, reducing annual GHG emissions by up to 3.5 Gt CO2-eq by 2030. This could potentially decouple chemical production from fossil resources, crucial for mitigating climate change.\\n\\nA family of robust tetraamine-functionalized frameworks has been developed that effectively captures CO2 under extreme conditions. This opens up the potential for exceptional efficiency in CCU in natural gas flue emissions.\\n\\nThe use of genetic algorithms has facilitated tuning of the charge equilibration method to derive accurate framework partial charges. This has led to an understanding of the effect that pore topology has on carbon capture performance.\\n\\nA study analyzing all global CCS projects indicates that the rate of building these projects is 100 times too slow to meet emission reduction targets. Urgent action for all countries is required to commercially assess CO2 storage.\\n\\nThe development of enhanced gutter layers using two- and three-dimensional metal-organic framework materials has led to considerable improvements in both CO2 permeance and selectivity, improving on traditional poly(dimethylsiloxane) materials.\\n\\nFinally, utilizing low-cost, commercially ready CO2 capture opportunities for existing ethanol biorefineries in the United States reveals substantial near-term opportunities to improve the impacts of conventional biofuels, catalyze the growth of carbon capture infrastructure, and satisfy low-carbon fuel policies. Overall, these findings emphasize the importance of CCU in mitigating climate change and the vast potential for MOFs to play a pivotal role in carbon capture.'}])"
      ]
     },
     "execution_count": 29,
     "metadata": {},
     "output_type": "execute_result"
    }
   ],
   "source": [
    "res"
   ]
  },
  {
   "cell_type": "code",
   "execution_count": null,
   "metadata": {},
   "outputs": [],
   "source": []
  }
 ],
 "metadata": {
  "kernelspec": {
   "display_name": "Python 3",
   "language": "python",
   "name": "python3"
  },
  "language_info": {
   "codemirror_mode": {
    "name": "ipython",
    "version": 3
   },
   "file_extension": ".py",
   "mimetype": "text/x-python",
   "name": "python",
   "nbconvert_exporter": "python",
   "pygments_lexer": "ipython3",
   "version": "3.10.6"
  },
  "orig_nbformat": 4
 },
 "nbformat": 4,
 "nbformat_minor": 2
}
