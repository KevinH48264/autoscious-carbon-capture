{
 "cells": [
  {
   "cell_type": "code",
   "execution_count": 2,
   "metadata": {},
   "outputs": [],
   "source": [
    "import json\n",
    "import csv\n",
    "\n",
    "# Open the JSON file\n",
    "with open('output_100_latent.json', encoding='utf-8') as json_file:\n",
    "    data = json.load(json_file)\n",
    "\n",
    "# Open (or create) the CSV file\n",
    "with open('output_100_latent.csv', 'w', newline='', encoding='utf-8') as csv_file:\n",
    "    writer = csv.writer(csv_file)\n",
    "    \n",
    "    # Write the header row\n",
    "    header = data[0].keys()\n",
    "    writer.writerow(header)\n",
    "    \n",
    "    # Write the data rows\n",
    "    for row in data:\n",
    "        if row['fieldsOfStudy'] is not None:\n",
    "            row['fieldsOfStudy'] = ', '.join(row['fieldsOfStudy'])  # Convert list to comma-separated string\n",
    "        writer.writerow(row.values())\n"
   ]
  },
  {
   "cell_type": "code",
   "execution_count": null,
   "metadata": {},
   "outputs": [],
   "source": []
  }
 ],
 "metadata": {
  "kernelspec": {
   "display_name": "Python 3",
   "language": "python",
   "name": "python3"
  },
  "language_info": {
   "codemirror_mode": {
    "name": "ipython",
    "version": 3
   },
   "file_extension": ".py",
   "mimetype": "text/x-python",
   "name": "python",
   "nbconvert_exporter": "python",
   "pygments_lexer": "ipython3",
   "version": "3.10.6"
  },
  "orig_nbformat": 4
 },
 "nbformat": 4,
 "nbformat_minor": 2
}
