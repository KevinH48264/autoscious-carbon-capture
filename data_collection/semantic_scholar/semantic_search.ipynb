{
 "cells": [
  {
   "cell_type": "code",
   "execution_count": 33,
   "metadata": {},
   "outputs": [],
   "source": [
    "import requests\n",
    "import json\n",
    "\n",
    "def search_semantic_scholar(query, offset=0, limit=10, fields=[]):\n",
    "    base_url = \"https://api.semanticscholar.org/graph/v1/paper/search\"\n",
    "    \n",
    "    # URL parameters\n",
    "    params = {\n",
    "        'query': query,\n",
    "        'offset': offset,\n",
    "        'limit': limit,\n",
    "        'openAccessPdf': True,\n",
    "        'fields': ','.join(fields),\n",
    "    }\n",
    "    \n",
    "    # Send GET request\n",
    "    response = requests.get(base_url, params=params)\n",
    "    \n",
    "    # Raise an exception if the GET request fails\n",
    "    response.raise_for_status()\n",
    "    \n",
    "    return response.json()\n"
   ]
  },
  {
   "cell_type": "code",
   "execution_count": 34,
   "metadata": {},
   "outputs": [],
   "source": [
    "# Call the function, fields found here: https://api.semanticscholar.org/api-docs/graph#tag/Paper-Data/operation/post_graph_get_papers\n",
    "result = search_semantic_scholar(\"ECR enzyme activity Kitsatospor setae bacteria\", offset=0, limit=10, fields=[\"title\", \"citationCount\", \"abstract\", \"url\", \"externalIds\", \"tldr\", \"openAccessPdf\", \"year\", \"isOpenAccess\"]) "
   ]
  },
  {
   "cell_type": "code",
   "execution_count": 35,
   "metadata": {},
   "outputs": [
    {
     "data": {
      "text/plain": [
       "{'total': 2,\n",
       " 'offset': 0,\n",
       " 'data': [{'paperId': '6ee01f398930535478cbe3d08775f2673accb255',\n",
       "   'externalIds': {'MAG': '2939444894',\n",
       "    'PubMedCentral': '9413435',\n",
       "    'DOI': '10.1021/acscentsci.2c00057',\n",
       "    'CorpusId': 145965685,\n",
       "    'PubMed': '36032767'},\n",
       "   'url': 'https://www.semanticscholar.org/paper/6ee01f398930535478cbe3d08775f2673accb255',\n",
       "   'title': 'Intersubunit Coupling Enables Fast CO2-Fixation by Reductive Carboxylases',\n",
       "   'abstract': 'Enoyl-CoA carboxylases/reductases (ECRs) belong to the most efficient CO2-fixing enzymes described to date. However, the molecular mechanisms underlying ECR’s extraordinary catalytic activity on the level of the protein assembly remain elusive. Here we used a combination of ambient temperature X-ray Free Electron Laser (XFEL) and cryogenic synchrotron experiments to study the structural organization of the ECR from Kitasatospora setae. K. setae ECR is a homo-tetramer that differentiates into a dimer of dimers of open- and closed-form subunits in the catalytically active state. Using molecular dynamics simulations and structure-based mutagenesis, we show that catalysis is synchronized in K. setae ECR across the pair of two dimers. This conformational coupling of catalytic domains is conferred by individual amino acids to achieve high CO2-fixation rates. Our results provide unprecedented insights into the dynamic organization and synchronized inter- and intra-subunit communications of this remarkably efficient CO2-fixing enzyme during catalysis. Significance Statement Fixation of CO2 offers real potential for reaching negative CO2 emissions in bioenergy, and bioproduct utilization. The capture and conversion of atmospheric CO2 remains a challenging task. Existing biological systems can be exploited and optimized for this use. Bacterial enoyl-CoA carboxylases/reductases (ECRs) encompass the fastest CO2-fixing enzymes found in nature to date. However, the mechanisms underlying ECR’s extraordinary catalytic activity remain elusive. Our structural, computational, and biochemical results elucidate the dynamic structural organization of the ECR complex and describe how coupled motions of catalytic domains in the ECR tetramer drive carboxylation. This mechanistic understanding is critical for engineering highly efficient CO2-fixing biocatalysts for bioenergy and bioproduct applications.',\n",
       "   'year': 2019,\n",
       "   'citationCount': 4,\n",
       "   'isOpenAccess': True,\n",
       "   'openAccessPdf': {'url': 'https://escholarship.org/content/qt9064b000/qt9064b000.pdf?t=rhzgcd',\n",
       "    'status': 'GREEN'},\n",
       "   'tldr': {'model': 'tldr@v2.0.0',\n",
       "    'text': 'The structural, computational, and biochemical results elucidate the dynamic structural organization of the ECR complex and describe how coupled motions of catalytic domains in the E CR tetramer drive carboxylation.'}},\n",
       "  {'paperId': '04ff6eef46501b9c5da28712a339e891326cde5e',\n",
       "   'externalIds': {'MAG': '2043868047',\n",
       "    'DOI': '10.1038/ismej.2014.178',\n",
       "    'CorpusId': 13308970,\n",
       "    'PubMed': '25314318'},\n",
       "   'url': 'https://www.semanticscholar.org/paper/04ff6eef46501b9c5da28712a339e891326cde5e',\n",
       "   'title': 'Molecular evidence of digestion and absorption of epibiotic bacterial community by deep-sea crab Shinkaia crosnieri',\n",
       "   'abstract': None,\n",
       "   'year': 2014,\n",
       "   'citationCount': 32,\n",
       "   'isOpenAccess': True,\n",
       "   'openAccessPdf': {'url': 'https://www.nature.com/articles/ismej2014178.pdf',\n",
       "    'status': 'BRONZE'},\n",
       "   'tldr': {'model': 'tldr@v2.0.0',\n",
       "    'text': 'The results of this study elucidate the mechanism of nutritional transfer in ectosymbiosis between chemosynthetic bacteria and deep-sea invertebrates and indicate that S. crosnieri ingests the epibionts using maxillipeds and assimilates them via its digestive organs as a nutrient source.'}}]}"
      ]
     },
     "execution_count": 35,
     "metadata": {},
     "output_type": "execute_result"
    }
   ],
   "source": [
    "result"
   ]
  },
  {
   "cell_type": "code",
   "execution_count": 36,
   "metadata": {},
   "outputs": [],
   "source": [
    "# Open the file in append mode\n",
    "with open('initial_search_results_kq0_query_1.json', 'w') as file:\n",
    "    json_string = json.dumps(result['data'], indent=2)\n",
    "    # json_string = preprocess_latent_lab(result['data'])\n",
    "    file.write(json_string + '\\n')"
   ]
  },
  {
   "cell_type": "code",
   "execution_count": null,
   "metadata": {},
   "outputs": [],
   "source": []
  },
  {
   "cell_type": "code",
   "execution_count": null,
   "metadata": {},
   "outputs": [],
   "source": []
  }
 ],
 "metadata": {
  "kernelspec": {
   "display_name": "venv",
   "language": "python",
   "name": "python3"
  },
  "language_info": {
   "codemirror_mode": {
    "name": "ipython",
    "version": 3
   },
   "file_extension": ".py",
   "mimetype": "text/x-python",
   "name": "python",
   "nbconvert_exporter": "python",
   "pygments_lexer": "ipython3",
   "version": "3.10.6"
  },
  "orig_nbformat": 4
 },
 "nbformat": 4,
 "nbformat_minor": 2
}
