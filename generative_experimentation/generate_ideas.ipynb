{
 "cells": [
  {
   "cell_type": "markdown",
   "metadata": {},
   "source": [
    "## Rapid prototyping LLMs to generate potentially impactful experiments for carbon capture"
   ]
  },
  {
   "cell_type": "code",
   "execution_count": 1,
   "metadata": {},
   "outputs": [],
   "source": [
    "from llm import chat_openai, chat_openai_high_temp\n",
    "import json"
   ]
  },
  {
   "cell_type": "code",
   "execution_count": null,
   "metadata": {},
   "outputs": [],
   "source": [
    "# GPT template\n",
    "prompt = f'''\n",
    "\n",
    "'''\n",
    "res = chat_openai(prompt, model=\"gpt-3.5-turbo\")[0]\n",
    "print(res)"
   ]
  },
  {
   "cell_type": "code",
   "execution_count": null,
   "metadata": {},
   "outputs": [],
   "source": [
    "# GPT template for human feedback\n",
    "feedback = \"\"\n",
    "\n",
    "res = chat_openai(prompt, model=\"gpt-3.5-turbo\", chat_history=[\n",
    "    {\n",
    "        \"role\": \"assistant\",\n",
    "        \"content\": f\"{res}\"\n",
    "    }, {\n",
    "        \"role\": \"user\",\n",
    "        \"content\": f\"{feedback}\"\n",
    "    }\n",
    "])[0]\n",
    "print(res)"
   ]
  },
  {
   "cell_type": "markdown",
   "metadata": {},
   "source": [
    "### Give vision with important consequences"
   ]
  },
  {
   "cell_type": "code",
   "execution_count": 25,
   "metadata": {},
   "outputs": [],
   "source": [
    "objective = \"Carbon capture 1 Gt of CO2 per year ASAP\""
   ]
  },
  {
   "cell_type": "code",
   "execution_count": 26,
   "metadata": {},
   "outputs": [
    {
     "name": "stdout",
     "output_type": "stream",
     "text": [
      "Prompt messages:  [{'role': 'system', 'content': 'You are a helpful and educated carbon capture research consultant and an educated and helpful researcher and programmer. Answer as correctly, clearly, and concisely as possible.'}, {'role': 'user', 'content': '\\nObjective: \\nCarbon capture 1 Gt of CO2 per year ASAP\\n\\nTask:\\nWhat are the key metrics to measure success?\\n\\nThe output should be in JSON format: \\n```json\\n{\\n  \"<insert metric>\" : \"<insert metric description>\",\\n  etc.\\n}\\n\\nRespond only with the output, with no explanation or conversation. I expect a first-rate answer.\\n'}]\n",
      "Completion info:  {\n",
      "  \"choices\": [\n",
      "    {\n",
      "      \"finish_reason\": \"stop\",\n",
      "      \"index\": 0,\n",
      "      \"message\": {\n",
      "        \"content\": \"{\\n  \\\"CO2 capture rate\\\": \\\"The rate at which CO2 is captured and removed from the atmosphere, measured in metric tons per year.\\\",\\n  \\\"Energy consumption\\\": \\\"The amount of energy required for the carbon capture process, measured in kilowatt-hours per metric ton of CO2 captured.\\\",\\n  \\\"Cost per metric ton of CO2 captured\\\": \\\"The cost incurred for capturing and storing one metric ton of CO2, measured in currency (e.g., USD) per metric ton of CO2 captured.\\\",\\n  \\\"Storage capacity\\\": \\\"The total amount of CO2 that can be stored in the chosen storage method, measured in metric tons.\\\",\\n  \\\"Environmental impact\\\": \\\"The assessment of the carbon capture process on the environment, including factors such as water usage, land requirements, and potential leakage risks.\\\"\\n}\",\n",
      "        \"role\": \"assistant\"\n",
      "      }\n",
      "    }\n",
      "  ],\n",
      "  \"created\": 1691509522,\n",
      "  \"id\": \"chatcmpl-7lJBaEppZl3rXws3UbFCCJoBVtrYr\",\n",
      "  \"model\": \"gpt-3.5-turbo-0613\",\n",
      "  \"object\": \"chat.completion\",\n",
      "  \"usage\": {\n",
      "    \"completion_tokens\": 164,\n",
      "    \"prompt_tokens\": 118,\n",
      "    \"total_tokens\": 282\n",
      "  }\n",
      "}\n",
      "{\n",
      "  \"CO2 capture rate\": \"The rate at which CO2 is captured and removed from the atmosphere, measured in metric tons per year.\",\n",
      "  \"Energy consumption\": \"The amount of energy required for the carbon capture process, measured in kilowatt-hours per metric ton of CO2 captured.\",\n",
      "  \"Cost per metric ton of CO2 captured\": \"The cost incurred for capturing and storing one metric ton of CO2, measured in currency (e.g., USD) per metric ton of CO2 captured.\",\n",
      "  \"Storage capacity\": \"The total amount of CO2 that can be stored in the chosen storage method, measured in metric tons.\",\n",
      "  \"Environmental impact\": \"The assessment of the carbon capture process on the environment, including factors such as water usage, land requirements, and potential leakage risks.\"\n",
      "}\n"
     ]
    }
   ],
   "source": [
    "# Brainstorm\n",
    "prompt = f'''\n",
    "Objective: \n",
    "{objective}\n",
    "\n",
    "Task:\n",
    "What are the key metrics to measure success?\n",
    "\n",
    "The output should be in JSON format: \n",
    "```json\n",
    "{{\n",
    "  \"<insert metric>\" : \"<insert metric description>\",\n",
    "  etc.\n",
    "}}\n",
    "\n",
    "Respond only with the output, with no explanation or conversation. I expect a first-rate answer.\n",
    "'''\n",
    "res = chat_openai(prompt, model=\"gpt-3.5-turbo\")[0]\n",
    "print(res)"
   ]
  },
  {
   "cell_type": "code",
   "execution_count": 27,
   "metadata": {},
   "outputs": [
    {
     "name": "stdout",
     "output_type": "stream",
     "text": [
      "Prompt messages:  [{'role': 'system', 'content': 'You are a helpful and educated carbon capture research consultant and an educated and helpful researcher and programmer. Answer as correctly, clearly, and concisely as possible.'}, {'role': 'assistant', 'content': '{\\n  \"CO2 capture rate\": \"The rate at which CO2 is captured and removed from the atmosphere, measured in metric tons per year.\",\\n  \"Energy consumption\": \"The amount of energy required for the carbon capture process, measured in kilowatt-hours per metric ton of CO2 captured.\",\\n  \"Cost per metric ton of CO2 captured\": \"The cost incurred for capturing and storing one metric ton of CO2, measured in currency (e.g., USD) per metric ton of CO2 captured.\",\\n  \"Storage capacity\": \"The total amount of CO2 that can be stored in the chosen storage method, measured in metric tons.\",\\n  \"Environmental impact\": \"The assessment of the carbon capture process on the environment, including factors such as water usage, land requirements, and potential leakage risks.\"\\n}'}, {'role': 'user', 'content': 'You forgot about the metrics for feasibility, easily measurable and permanence.'}, {'role': 'user', 'content': '\\nObjective: \\nCarbon capture 1 Gt of CO2 per year ASAP\\n\\nTask:\\nWhat are the key metrics to measure success?\\n\\nThe output should be in JSON format: \\n```json\\n{\\n  \"<insert metric>\" : \"<insert metric description>\",\\n  etc.\\n}\\n\\nRespond only with the output, with no explanation or conversation. I expect a first-rate answer.\\n'}]\n",
      "Completion info:  {\n",
      "  \"choices\": [\n",
      "    {\n",
      "      \"finish_reason\": \"stop\",\n",
      "      \"index\": 0,\n",
      "      \"message\": {\n",
      "        \"content\": \"{\\n  \\\"CO2 capture rate\\\": \\\"The rate at which CO2 is captured and removed from the atmosphere, measured in metric tons per year.\\\",\\n  \\\"Energy consumption\\\": \\\"The amount of energy required for the carbon capture process, measured in kilowatt-hours per metric ton of CO2 captured.\\\",\\n  \\\"Cost per metric ton of CO2 captured\\\": \\\"The cost incurred for capturing and storing one metric ton of CO2, measured in currency (e.g., USD) per metric ton of CO2 captured.\\\",\\n  \\\"Storage capacity\\\": \\\"The total amount of CO2 that can be stored in the chosen storage method, measured in metric tons.\\\",\\n  \\\"Environmental impact\\\": \\\"The assessment of the carbon capture process on the environment, including factors such as water usage, land requirements, and potential leakage risks.\\\",\\n  \\\"Feasibility\\\": \\\"The evaluation of the technical and economic feasibility of implementing the carbon capture process at the desired scale.\\\",\\n  \\\"Measurability\\\": \\\"The ease and accuracy of measuring and monitoring the captured CO2, ensuring reliable data for tracking progress.\\\",\\n  \\\"Permanence\\\": \\\"The long-term stability and durability of the stored CO2, ensuring it remains securely stored and does not re-enter the atmosphere.\\\"\\n}\",\n",
      "        \"role\": \"assistant\"\n",
      "      }\n",
      "    }\n",
      "  ],\n",
      "  \"created\": 1691509528,\n",
      "  \"id\": \"chatcmpl-7lJBgLEeWPMLMxgdYpEphlPk0dwLG\",\n",
      "  \"model\": \"gpt-3.5-turbo-0613\",\n",
      "  \"object\": \"chat.completion\",\n",
      "  \"usage\": {\n",
      "    \"completion_tokens\": 250,\n",
      "    \"prompt_tokens\": 304,\n",
      "    \"total_tokens\": 554\n",
      "  }\n",
      "}\n",
      "{\n",
      "  \"CO2 capture rate\": \"The rate at which CO2 is captured and removed from the atmosphere, measured in metric tons per year.\",\n",
      "  \"Energy consumption\": \"The amount of energy required for the carbon capture process, measured in kilowatt-hours per metric ton of CO2 captured.\",\n",
      "  \"Cost per metric ton of CO2 captured\": \"The cost incurred for capturing and storing one metric ton of CO2, measured in currency (e.g., USD) per metric ton of CO2 captured.\",\n",
      "  \"Storage capacity\": \"The total amount of CO2 that can be stored in the chosen storage method, measured in metric tons.\",\n",
      "  \"Environmental impact\": \"The assessment of the carbon capture process on the environment, including factors such as water usage, land requirements, and potential leakage risks.\",\n",
      "  \"Feasibility\": \"The evaluation of the technical and economic feasibility of implementing the carbon capture process at the desired scale.\",\n",
      "  \"Measurability\": \"The ease and accuracy of measuring and monitoring the captured CO2, ensuring reliable data for tracking progress.\",\n",
      "  \"Permanence\": \"The long-term stability and durability of the stored CO2, ensuring it remains securely stored and does not re-enter the atmosphere.\"\n",
      "}\n"
     ]
    }
   ],
   "source": [
    "# Give feedback if necessary\n",
    "feedback = \"You forgot about the metrics for feasibility, easily measurable and permanence.\"\n",
    "\n",
    "res = chat_openai(prompt, model=\"gpt-3.5-turbo\", chat_history=[\n",
    "    {\n",
    "        \"role\": \"assistant\",\n",
    "        \"content\": f\"{res}\"\n",
    "    }, {\n",
    "        \"role\": \"user\",\n",
    "        \"content\": f\"{feedback}\"\n",
    "    }\n",
    "])[0]\n",
    "print(res)\n"
   ]
  },
  {
   "cell_type": "code",
   "execution_count": 28,
   "metadata": {},
   "outputs": [
    {
     "name": "stdout",
     "output_type": "stream",
     "text": [
      "Prompt messages:  [{'role': 'system', 'content': 'You are a helpful and educated carbon capture research consultant and an educated and helpful researcher and programmer. Answer as correctly, clearly, and concisely as possible.'}, {'role': 'user', 'content': '\\nObjective: \\nCarbon capture 1 Gt of CO2 per year ASAP\\n\\nKey metrics:\\n{\\n  \"CO2 capture rate\": \"The rate at which CO2 is captured and removed from the atmosphere, measured in metric tons per year.\",\\n  \"Energy consumption\": \"The amount of energy required for the carbon capture process, measured in kilowatt-hours per metric ton of CO2 captured.\",\\n  \"Cost per metric ton of CO2 captured\": \"The cost incurred for capturing and storing one metric ton of CO2, measured in currency (e.g., USD) per metric ton of CO2 captured.\",\\n  \"Storage capacity\": \"The total amount of CO2 that can be stored in the chosen storage method, measured in metric tons.\",\\n  \"Environmental impact\": \"The assessment of the carbon capture process on the environment, including factors such as water usage, land requirements, and potential leakage risks.\",\\n  \"Feasibility\": \"The evaluation of the technical and economic feasibility of implementing the carbon capture process at the desired scale.\",\\n  \"Measurability\": \"The ease and accuracy of measuring and monitoring the captured CO2, ensuring reliable data for tracking progress.\",\\n  \"Permanence\": \"The long-term stability and durability of the stored CO2, ensuring it remains securely stored and does not re-enter the atmosphere.\"\\n}\\n\\nTasK:\\nPrioritize these key metrics of success by importance.\\n\\nThe output should be in JSON format: \\n```json\\n{\\n  \"<insert metric>\" : \"<insert metric description>\",\\n  etc.\\n}\\n\\nRespond only with the output, with no explanation or conversation. I expect a first-rate answer.\\n'}]\n",
      "Completion info:  {\n",
      "  \"choices\": [\n",
      "    {\n",
      "      \"finish_reason\": \"stop\",\n",
      "      \"index\": 0,\n",
      "      \"message\": {\n",
      "        \"content\": \"{\\n  \\\"CO2 capture rate\\\": \\\"The rate at which CO2 is captured and removed from the atmosphere, measured in metric tons per year.\\\",\\n  \\\"Feasibility\\\": \\\"The evaluation of the technical and economic feasibility of implementing the carbon capture process at the desired scale.\\\",\\n  \\\"Cost per metric ton of CO2 captured\\\": \\\"The cost incurred for capturing and storing one metric ton of CO2, measured in currency (e.g., USD) per metric ton of CO2 captured.\\\",\\n  \\\"Storage capacity\\\": \\\"The total amount of CO2 that can be stored in the chosen storage method, measured in metric tons.\\\",\\n  \\\"Permanence\\\": \\\"The long-term stability and durability of the stored CO2, ensuring it remains securely stored and does not re-enter the atmosphere.\\\",\\n  \\\"Energy consumption\\\": \\\"The amount of energy required for the carbon capture process, measured in kilowatt-hours per metric ton of CO2 captured.\\\",\\n  \\\"Environmental impact\\\": \\\"The assessment of the carbon capture process on the environment, including factors such as water usage, land requirements, and potential leakage risks.\\\",\\n  \\\"Measurability\\\": \\\"The ease and accuracy of measuring and monitoring the captured CO2, ensuring reliable data for tracking progress.\\\"\\n}\",\n",
      "        \"role\": \"assistant\"\n",
      "      }\n",
      "    }\n",
      "  ],\n",
      "  \"created\": 1691509538,\n",
      "  \"id\": \"chatcmpl-7lJBqGKaRo45SvKTeZsUBx427StgB\",\n",
      "  \"model\": \"gpt-3.5-turbo-0613\",\n",
      "  \"object\": \"chat.completion\",\n",
      "  \"usage\": {\n",
      "    \"completion_tokens\": 250,\n",
      "    \"prompt_tokens\": 374,\n",
      "    \"total_tokens\": 624\n",
      "  }\n",
      "}\n",
      "{'CO2 capture rate': 'The rate at which CO2 is captured and removed from the atmosphere, measured in metric tons per year.', 'Feasibility': 'The evaluation of the technical and economic feasibility of implementing the carbon capture process at the desired scale.', 'Cost per metric ton of CO2 captured': 'The cost incurred for capturing and storing one metric ton of CO2, measured in currency (e.g., USD) per metric ton of CO2 captured.', 'Storage capacity': 'The total amount of CO2 that can be stored in the chosen storage method, measured in metric tons.', 'Permanence': 'The long-term stability and durability of the stored CO2, ensuring it remains securely stored and does not re-enter the atmosphere.', 'Energy consumption': 'The amount of energy required for the carbon capture process, measured in kilowatt-hours per metric ton of CO2 captured.', 'Environmental impact': 'The assessment of the carbon capture process on the environment, including factors such as water usage, land requirements, and potential leakage risks.', 'Measurability': 'The ease and accuracy of measuring and monitoring the captured CO2, ensuring reliable data for tracking progress.'}\n"
     ]
    }
   ],
   "source": [
    "# Evaluation\n",
    "prompt = f'''\n",
    "Objective: \n",
    "{objective}\n",
    "\n",
    "Key metrics:\n",
    "{res}\n",
    "\n",
    "TasK:\n",
    "Prioritize these key metrics of success by importance.\n",
    "\n",
    "The output should be in JSON format: \n",
    "```json\n",
    "{{\n",
    "  \"<insert metric>\" : \"<insert metric description>\",\n",
    "  etc.\n",
    "}}\n",
    "\n",
    "Respond only with the output, with no explanation or conversation. I expect a first-rate answer.\n",
    "'''\n",
    "res = json.loads(chat_openai(prompt, model=\"gpt-3.5-turbo\")[0])\n",
    "print(res)"
   ]
  },
  {
   "cell_type": "code",
   "execution_count": 29,
   "metadata": {},
   "outputs": [
    {
     "name": "stdout",
     "output_type": "stream",
     "text": [
      "{'CO2 capture rate': 'The rate at which CO2 is captured and removed from the atmosphere, measured in metric tons per year.', 'Feasibility': 'The evaluation of the technical and economic feasibility of implementing the carbon capture process at the desired scale.', 'Cost per metric ton of CO2 captured': 'The cost incurred for capturing and storing one metric ton of CO2, measured in currency (e.g., USD) per metric ton of CO2 captured.', 'Storage capacity': 'The total amount of CO2 that can be stored in the chosen storage method, measured in metric tons.', 'Permanence': 'The long-term stability and durability of the stored CO2, ensuring it remains securely stored and does not re-enter the atmosphere.', 'Energy consumption': 'The amount of energy required for the carbon capture process, measured in kilowatt-hours per metric ton of CO2 captured.', 'Environmental impact': 'The assessment of the carbon capture process on the environment, including factors such as water usage, land requirements, and potential leakage risks.', 'Measurability': 'The ease and accuracy of measuring and monitoring the captured CO2, ensuring reliable data for tracking progress.'}\n"
     ]
    }
   ],
   "source": [
    "file_name = f'metrics.json'\n",
    "\n",
    "with open(file_name, 'w', encoding='utf-8') as f:\n",
    "    json.dump(res, f, indent=4)\n",
    "\n",
    "metrics = res\n",
    "print(metrics)"
   ]
  },
  {
   "cell_type": "code",
   "execution_count": 30,
   "metadata": {},
   "outputs": [
    {
     "data": {
      "text/plain": [
       "{'CO2 capture rate': 'The rate at which CO2 is captured and removed from the atmosphere, measured in metric tons per year.',\n",
       " 'Feasibility': 'The evaluation of the technical and economic feasibility of implementing the carbon capture process at the desired scale.',\n",
       " 'Cost per metric ton of CO2 captured': 'The cost incurred for capturing and storing one metric ton of CO2, measured in currency (e.g., USD) per metric ton of CO2 captured.'}"
      ]
     },
     "execution_count": 30,
     "metadata": {},
     "output_type": "execute_result"
    }
   ],
   "source": [
    "focus_metrics = dict(list(metrics.items())[:3])\n",
    "focus_metrics"
   ]
  },
  {
   "cell_type": "code",
   "execution_count": 31,
   "metadata": {},
   "outputs": [
    {
     "name": "stdout",
     "output_type": "stream",
     "text": [
      "Prompt messages:  [{'role': 'system', 'content': 'You are a helpful and educated carbon capture research consultant and an educated and helpful researcher and programmer. Answer as correctly, clearly, and concisely as possible.'}, {'role': 'user', 'content': '\\nObjective: \\nCarbon capture 1 Gt of CO2 per year ASAP\\n\\nKey metrics:\\n{\\'CO2 capture rate\\': \\'The rate at which CO2 is captured and removed from the atmosphere, measured in metric tons per year.\\', \\'Feasibility\\': \\'The evaluation of the technical and economic feasibility of implementing the carbon capture process at the desired scale.\\', \\'Cost per metric ton of CO2 captured\\': \\'The cost incurred for capturing and storing one metric ton of CO2, measured in currency (e.g., USD) per metric ton of CO2 captured.\\'}\\n\\nTasK:\\nDo you have any clarifying questions about the objective or metrics before you try to hypothesize a plan to achieve the objective? If so, ask them and answer them. If not, say \"no clarifying questions\". \\n'}]\n",
      "Completion info:  {\n",
      "  \"choices\": [\n",
      "    {\n",
      "      \"finish_reason\": \"stop\",\n",
      "      \"index\": 0,\n",
      "      \"message\": {\n",
      "        \"content\": \"No clarifying questions.\",\n",
      "        \"role\": \"assistant\"\n",
      "      }\n",
      "    }\n",
      "  ],\n",
      "  \"created\": 1691509557,\n",
      "  \"id\": \"chatcmpl-7lJC9l8I43FNjMG1FVUkbWSLRukH2\",\n",
      "  \"model\": \"gpt-3.5-turbo-0613\",\n",
      "  \"object\": \"chat.completion\",\n",
      "  \"usage\": {\n",
      "    \"completion_tokens\": 5,\n",
      "    \"prompt_tokens\": 208,\n",
      "    \"total_tokens\": 213\n",
      "  }\n",
      "}\n",
      "No clarifying questions.\n"
     ]
    }
   ],
   "source": [
    "# Clarifying questions\n",
    "prompt = f'''\n",
    "Objective: \n",
    "{objective}\n",
    "\n",
    "Key metrics:\n",
    "{focus_metrics}\n",
    "\n",
    "TasK:\n",
    "Do you have any clarifying questions about the objective or metrics before you try to hypothesize a plan to achieve the objective? If so, ask them and answer them. If not, say \"no clarifying questions\". \n",
    "'''\n",
    "res = chat_openai(prompt, model=\"gpt-3.5-turbo\")[0]\n",
    "print(res)"
   ]
  },
  {
   "cell_type": "markdown",
   "metadata": {},
   "source": [
    "### Decompose key factors of the problem"
   ]
  },
  {
   "cell_type": "code",
   "execution_count": 35,
   "metadata": {},
   "outputs": [
    {
     "name": "stdout",
     "output_type": "stream",
     "text": [
      "Prompt messages:  [{'role': 'system', 'content': 'You are a helpful and educated carbon capture research consultant and an educated and helpful researcher and programmer. Answer as correctly, clearly, and concisely as possible.'}, {'role': 'user', 'content': '\\nObjective: \\nCarbon capture 1 Gt of CO2 per year ASAP\\n\\nKey metrics:\\n{\\'CO2 capture rate\\': \\'The rate at which CO2 is captured and removed from the atmosphere, measured in metric tons per year.\\', \\'Feasibility\\': \\'The evaluation of the technical and economic feasibility of implementing the carbon capture process at the desired scale.\\', \\'Cost per metric ton of CO2 captured\\': \\'The cost incurred for capturing and storing one metric ton of CO2, measured in currency (e.g., USD) per metric ton of CO2 captured.\\'}\\n\\nTask:\\nWhat are factors that are most related to the objective?\\n\\nThe output should be in JSON format: \\n```json\\n{\\n  \"<insert factor>\" : \"<insert factor description>\",\\n  etc.\\n}\\n\\nRespond only with the output, with no explanation or conversation. I expect a first-rate answer.\\n'}]\n",
      "Completion info:  {\n",
      "  \"choices\": [\n",
      "    {\n",
      "      \"finish_reason\": \"stop\",\n",
      "      \"index\": 0,\n",
      "      \"message\": {\n",
      "        \"content\": \"{\\n  \\\"Availability of suitable carbon capture technologies\\\": \\\"The existence and readiness of technologies that can effectively capture and remove CO2 from the atmosphere at the desired scale.\\\",\\n  \\\"Access to suitable storage sites\\\": \\\"The availability of geologically suitable sites where captured CO2 can be safely and permanently stored without leakage.\\\",\\n  \\\"Investment and funding\\\": \\\"Sufficient financial resources and investment to support the development, deployment, and operation of large-scale carbon capture projects.\\\",\\n  \\\"Policy and regulatory support\\\": \\\"Supportive policies and regulations that incentivize and facilitate the implementation of carbon capture projects, including carbon pricing mechanisms and emissions reduction targets.\\\",\\n  \\\"Infrastructure and transportation\\\": \\\"The presence of infrastructure and transportation networks to transport captured CO2 from capture sites to storage sites efficiently and safely.\\\",\\n  \\\"Public acceptance and social awareness\\\": \\\"Positive public perception and acceptance of carbon capture technologies, as well as awareness of the urgency and importance of addressing climate change through CO2 removal.\\\",\\n  \\\"Collaboration and international cooperation\\\": \\\"Collaboration among countries, organizations, and stakeholders to share knowledge, resources, and best practices in carbon capture research and implementation.\\\"\\n}\",\n",
      "        \"role\": \"assistant\"\n",
      "      }\n",
      "    }\n",
      "  ],\n",
      "  \"created\": 1691510807,\n",
      "  \"id\": \"chatcmpl-7lJWJZ2O7ZKgF5vUbQnL5pv5GLbVa\",\n",
      "  \"model\": \"gpt-3.5-turbo-0613\",\n",
      "  \"object\": \"chat.completion\",\n",
      "  \"usage\": {\n",
      "    \"completion_tokens\": 229,\n",
      "    \"prompt_tokens\": 219,\n",
      "    \"total_tokens\": 448\n",
      "  }\n",
      "}\n",
      "{\n",
      "  \"Availability of suitable carbon capture technologies\": \"The existence and readiness of technologies that can effectively capture and remove CO2 from the atmosphere at the desired scale.\",\n",
      "  \"Access to suitable storage sites\": \"The availability of geologically suitable sites where captured CO2 can be safely and permanently stored without leakage.\",\n",
      "  \"Investment and funding\": \"Sufficient financial resources and investment to support the development, deployment, and operation of large-scale carbon capture projects.\",\n",
      "  \"Policy and regulatory support\": \"Supportive policies and regulations that incentivize and facilitate the implementation of carbon capture projects, including carbon pricing mechanisms and emissions reduction targets.\",\n",
      "  \"Infrastructure and transportation\": \"The presence of infrastructure and transportation networks to transport captured CO2 from capture sites to storage sites efficiently and safely.\",\n",
      "  \"Public acceptance and social awareness\": \"Positive public perception and acceptance of carbon capture technologies, as well as awareness of the urgency and importance of addressing climate change through CO2 removal.\",\n",
      "  \"Collaboration and international cooperation\": \"Collaboration among countries, organizations, and stakeholders to share knowledge, resources, and best practices in carbon capture research and implementation.\"\n",
      "}\n"
     ]
    }
   ],
   "source": [
    "# Evaluation\n",
    "prompt = f'''\n",
    "Objective: \n",
    "{objective}\n",
    "\n",
    "Key metrics:\n",
    "{focus_metrics}\n",
    "\n",
    "Task:\n",
    "What are factors that are most related to the objective?\n",
    "\n",
    "The output should be in JSON format: \n",
    "```json\n",
    "{{\n",
    "  \"<insert factor>\" : \"<insert factor description>\",\n",
    "  etc.\n",
    "}}\n",
    "\n",
    "Respond only with the output, with no explanation or conversation. I expect a first-rate answer.\n",
    "'''\n",
    "res = chat_openai(prompt, model=\"gpt-3.5-turbo\")[0]\n",
    "print(res)"
   ]
  },
  {
   "cell_type": "code",
   "execution_count": 38,
   "metadata": {},
   "outputs": [
    {
     "data": {
      "text/plain": [
       "{'Availability of suitable carbon capture technologies': 'The existence and readiness of technologies that can effectively capture and remove CO2 from the atmosphere at the desired scale.',\n",
       " 'Access to suitable storage sites': 'The availability of geologically suitable sites where captured CO2 can be safely and permanently stored without leakage.',\n",
       " 'Investment and funding': 'Sufficient financial resources and investment to support the development, deployment, and operation of large-scale carbon capture projects.',\n",
       " 'Policy and regulatory support': 'Supportive policies and regulations that incentivize and facilitate the implementation of carbon capture projects, including carbon pricing mechanisms and emissions reduction targets.',\n",
       " 'Infrastructure and transportation': 'The presence of infrastructure and transportation networks to transport captured CO2 from capture sites to storage sites efficiently and safely.',\n",
       " 'Public acceptance and social awareness': 'Positive public perception and acceptance of carbon capture technologies, as well as awareness of the urgency and importance of addressing climate change through CO2 removal.',\n",
       " 'Collaboration and international cooperation': 'Collaboration among countries, organizations, and stakeholders to share knowledge, resources, and best practices in carbon capture research and implementation.'}"
      ]
     },
     "execution_count": 38,
     "metadata": {},
     "output_type": "execute_result"
    }
   ],
   "source": [
    "key_factors = json.loads(res)\n",
    "key_factors"
   ]
  },
  {
   "cell_type": "code",
   "execution_count": 46,
   "metadata": {},
   "outputs": [
    {
     "name": "stdout",
     "output_type": "stream",
     "text": [
      "Prompt messages:  [{'role': 'system', 'content': 'You are a helpful and educated carbon capture research consultant and an educated and helpful researcher and programmer. Answer as correctly, clearly, and concisely as possible.'}, {'role': 'user', 'content': '\\nObjective: \\nCarbon capture 1 Gt of CO2 per year ASAP\\n\\nKey factors:\\n{\\'Availability of suitable carbon capture technologies\\': \\'The existence and readiness of technologies that can effectively capture and remove CO2 from the atmosphere at the desired scale.\\', \\'Access to suitable storage sites\\': \\'The availability of geologically suitable sites where captured CO2 can be safely and permanently stored without leakage.\\', \\'Investment and funding\\': \\'Sufficient financial resources and investment to support the development, deployment, and operation of large-scale carbon capture projects.\\', \\'Policy and regulatory support\\': \\'Supportive policies and regulations that incentivize and facilitate the implementation of carbon capture projects, including carbon pricing mechanisms and emissions reduction targets.\\', \\'Infrastructure and transportation\\': \\'The presence of infrastructure and transportation networks to transport captured CO2 from capture sites to storage sites efficiently and safely.\\', \\'Public acceptance and social awareness\\': \\'Positive public perception and acceptance of carbon capture technologies, as well as awareness of the urgency and importance of addressing climate change through CO2 removal.\\', \\'Collaboration and international cooperation\\': \\'Collaboration among countries, organizations, and stakeholders to share knowledge, resources, and best practices in carbon capture research and implementation.\\'}\\n\\nTask:\\nPrioritize these key factors by how large and sensitive they are to achieving the objective.\\n\\nThe output should be in JSON format: \\n```json\\n{\\n  \"<insert factor>\" : \"<insert factor description>\",\\n  etc.\\n}\\n\\nRespond only with the output, with no explanation or conversation. I expect a first-rate answer.\\n'}]\n",
      "Completion info:  {\n",
      "  \"choices\": [\n",
      "    {\n",
      "      \"finish_reason\": \"stop\",\n",
      "      \"index\": 0,\n",
      "      \"message\": {\n",
      "        \"content\": \"{\\n  \\\"Availability of suitable carbon capture technologies\\\": \\\"The existence and readiness of technologies that can effectively capture and remove CO2 from the atmosphere at the desired scale.\\\",\\n  \\\"Access to suitable storage sites\\\": \\\"The availability of geologically suitable sites where captured CO2 can be safely and permanently stored without leakage.\\\",\\n  \\\"Investment and funding\\\": \\\"Sufficient financial resources and investment to support the development, deployment, and operation of large-scale carbon capture projects.\\\",\\n  \\\"Policy and regulatory support\\\": \\\"Supportive policies and regulations that incentivize and facilitate the implementation of carbon capture projects, including carbon pricing mechanisms and emissions reduction targets.\\\",\\n  \\\"Infrastructure and transportation\\\": \\\"The presence of infrastructure and transportation networks to transport captured CO2 from capture sites to storage sites efficiently and safely.\\\",\\n  \\\"Public acceptance and social awareness\\\": \\\"Positive public perception and acceptance of carbon capture technologies, as well as awareness of the urgency and importance of addressing climate change through CO2 removal.\\\",\\n  \\\"Collaboration and international cooperation\\\": \\\"Collaboration among countries, organizations, and stakeholders to share knowledge, resources, and best practices in carbon capture research and implementation.\\\"\\n}\",\n",
      "        \"role\": \"assistant\"\n",
      "      }\n",
      "    }\n",
      "  ],\n",
      "  \"created\": 1691511344,\n",
      "  \"id\": \"chatcmpl-7lJeyFzREdqvcC53qoJceeWplUNMU\",\n",
      "  \"model\": \"gpt-3.5-turbo-0613\",\n",
      "  \"object\": \"chat.completion\",\n",
      "  \"usage\": {\n",
      "    \"completion_tokens\": 229,\n",
      "    \"prompt_tokens\": 350,\n",
      "    \"total_tokens\": 579\n",
      "  }\n",
      "}\n",
      "{'Availability of suitable carbon capture technologies': 'The existence and readiness of technologies that can effectively capture and remove CO2 from the atmosphere at the desired scale.', 'Access to suitable storage sites': 'The availability of geologically suitable sites where captured CO2 can be safely and permanently stored without leakage.', 'Investment and funding': 'Sufficient financial resources and investment to support the development, deployment, and operation of large-scale carbon capture projects.', 'Policy and regulatory support': 'Supportive policies and regulations that incentivize and facilitate the implementation of carbon capture projects, including carbon pricing mechanisms and emissions reduction targets.', 'Infrastructure and transportation': 'The presence of infrastructure and transportation networks to transport captured CO2 from capture sites to storage sites efficiently and safely.', 'Public acceptance and social awareness': 'Positive public perception and acceptance of carbon capture technologies, as well as awareness of the urgency and importance of addressing climate change through CO2 removal.', 'Collaboration and international cooperation': 'Collaboration among countries, organizations, and stakeholders to share knowledge, resources, and best practices in carbon capture research and implementation.'}\n"
     ]
    }
   ],
   "source": [
    "# Evaluation\n",
    "prompt = f'''\n",
    "Objective: \n",
    "{objective}\n",
    "\n",
    "Key factors:\n",
    "{key_factors}\n",
    "\n",
    "Task:\n",
    "Prioritize these key factors by how large and sensitive they are to achieving the objective.\n",
    "\n",
    "The output should be in JSON format: \n",
    "```json\n",
    "{{\n",
    "  \"<insert factor>\" : \"<insert factor description>\",\n",
    "  etc.\n",
    "}}\n",
    "\n",
    "Respond only with the output, with no explanation or conversation. I expect a first-rate answer.\n",
    "'''\n",
    "factors = json.loads(chat_openai(prompt, model=\"gpt-3.5-turbo\")[0])\n",
    "print(factors)"
   ]
  },
  {
   "cell_type": "code",
   "execution_count": 47,
   "metadata": {},
   "outputs": [
    {
     "data": {
      "text/plain": [
       "{'Availability of suitable carbon capture technologies': 'The existence and readiness of technologies that can effectively capture and remove CO2 from the atmosphere at the desired scale.',\n",
       " 'Access to suitable storage sites': 'The availability of geologically suitable sites where captured CO2 can be safely and permanently stored without leakage.'}"
      ]
     },
     "execution_count": 47,
     "metadata": {},
     "output_type": "execute_result"
    }
   ],
   "source": [
    "focus_factors = dict(list(factors.items())[:2])\n",
    "focus_factors"
   ]
  },
  {
   "cell_type": "markdown",
   "metadata": {},
   "source": [
    "### Current state analysis"
   ]
  },
  {
   "cell_type": "code",
   "execution_count": null,
   "metadata": {},
   "outputs": [],
   "source": [
    "# Evaluation\n",
    "prompt = f'''\n",
    "Objective: \n",
    "{objective}\n",
    "\n",
    "Key metrics:\n",
    "{key_metrics}\n",
    "\n",
    "Key factors:\n",
    "{key_factors}\n",
    "\n",
    "Task:\n",
    "Prioritize these key factors by how large and sensitive they are to achieving the objective.\n",
    "\n",
    "The output should be in JSON format: \n",
    "```json\n",
    "{{\n",
    "  \"<insert factor>\" : \"<insert factor description>\",\n",
    "  etc.\n",
    "}}\n",
    "\n",
    "Respond only with the output, with no explanation or conversation. I expect a first-rate answer.\n",
    "'''\n",
    "factors = json.loads(chat_openai(prompt, model=\"gpt-3.5-turbo\")[0])\n",
    "print(factors)"
   ]
  },
  {
   "cell_type": "markdown",
   "metadata": {},
   "source": [
    "### Use LLM to generate crazy ideas with temperature = 1"
   ]
  },
  {
   "cell_type": "code",
   "execution_count": 6,
   "metadata": {},
   "outputs": [
    {
     "name": "stdout",
     "output_type": "stream",
     "text": [
      "Prompt:  \n",
      "Goal:\n",
      "Carbon capture 1 Gt of CO2 per year ASAP\n",
      "\n",
      "Write 10 crazy ideas for novel impactful hypotheses and experiments to achieve the goal above.\n",
      "\n",
      "The output should be in JSON format: \n",
      "```json\n",
      "{\n",
      "  \"<insert index>\" : \"<insert idea>\",\n",
      "  etc.\n",
      "}\n",
      "\n",
      "Respond only with the output, with no explanation or conversation.\n",
      "\n",
      "Completion info:  {\n",
      "  \"choices\": [\n",
      "    {\n",
      "      \"finish_reason\": \"stop\",\n",
      "      \"index\": 0,\n",
      "      \"message\": {\n",
      "        \"content\": \"{\\n  \\\"1\\\" : \\\"Develop a genetically modified plant species with enhanced carbon storage capabilities\\\",\\n  \\\"2\\\" : \\\"Create large-scale artificial carbon sinks using bioengineered microorganisms\\\",\\n  \\\"3\\\" : \\\"Design and deploy a network of large-scale ocean-based carbon capture systems\\\",\\n  \\\"4\\\" : \\\"Utilize nanotechnology to develop highly efficient carbon capture materials\\\",\\n  \\\"5\\\" : \\\"Explore the use of electrochemical processes for direct air capture of CO2\\\",\\n  \\\"6\\\" : \\\"Implement large-scale reforestation efforts with fast-growing tree species\\\",\\n  \\\"7\\\" : \\\"Experiment with ocean fertilization to stimulate algal blooms for increased carbon uptake\\\",\\n  \\\"8\\\" : \\\"Build massive vertical farms to maximize carbon sequestration by crops\\\",\\n  \\\"9\\\" : \\\"Develop carbon capture technology integrated with existing power plants\\\",\\n  \\\"10\\\" : \\\"Investigate the potential of carbon capture through mineralization in abandoned mines\\\"\\n}\",\n",
      "        \"role\": \"assistant\"\n",
      "      }\n",
      "    }\n",
      "  ],\n",
      "  \"created\": 1691468375,\n",
      "  \"id\": \"chatcmpl-7l8Tv75uLv00p9iZy629C9mUHkqci\",\n",
      "  \"model\": \"gpt-3.5-turbo-0613\",\n",
      "  \"object\": \"chat.completion\",\n",
      "  \"usage\": {\n",
      "    \"completion_tokens\": 193,\n",
      "    \"prompt_tokens\": 115,\n",
      "    \"total_tokens\": 308\n",
      "  }\n",
      "}\n",
      "{'1': 'Develop a genetically modified plant species with enhanced carbon storage capabilities', '2': 'Create large-scale artificial carbon sinks using bioengineered microorganisms', '3': 'Design and deploy a network of large-scale ocean-based carbon capture systems', '4': 'Utilize nanotechnology to develop highly efficient carbon capture materials', '5': 'Explore the use of electrochemical processes for direct air capture of CO2', '6': 'Implement large-scale reforestation efforts with fast-growing tree species', '7': 'Experiment with ocean fertilization to stimulate algal blooms for increased carbon uptake', '8': 'Build massive vertical farms to maximize carbon sequestration by crops', '9': 'Develop carbon capture technology integrated with existing power plants', '10': 'Investigate the potential of carbon capture through mineralization in abandoned mines'}\n"
     ]
    }
   ],
   "source": [
    "# GPT template\n",
    "prompt = f'''\n",
    "Goal:\n",
    "{objective}\n",
    "\n",
    "Write 10 crazy ideas for novel impactful hypotheses and experiments to achieve the goal above.\n",
    "\n",
    "The output should be in JSON format: \n",
    "```json\n",
    "{{\n",
    "  \"<insert index>\" : \"<insert idea>\",\n",
    "  etc.\n",
    "}}\n",
    "\n",
    "Respond only with the output, with no explanation or conversation.\n",
    "'''\n",
    "ideas_json = json.loads(chat_openai_high_temp(prompt, model=\"gpt-3.5-turbo\")[0])\n",
    "print(ideas_json)"
   ]
  },
  {
   "cell_type": "code",
   "execution_count": 11,
   "metadata": {},
   "outputs": [],
   "source": [
    "file_name = f'ideas.json'\n",
    "\n",
    "with open(file_name, 'w', encoding='utf-8') as f:\n",
    "    json.dump(ideas_json, f, indent=4)"
   ]
  },
  {
   "cell_type": "markdown",
   "metadata": {},
   "source": [
    "### Use evaluator to verify feasibility and reasonability of approach, with temperature = 0"
   ]
  },
  {
   "cell_type": "markdown",
   "metadata": {},
   "source": [
    "8/8/23 Note: Rapid prototyping, so not including search yet to help massively with learning. Relying on building learning memory through creative ideation and critical feedback solely through LLMs for now."
   ]
  },
  {
   "cell_type": "code",
   "execution_count": 9,
   "metadata": {},
   "outputs": [
    {
     "name": "stdout",
     "output_type": "stream",
     "text": [
      "Prompt:  \n",
      "Goal:\n",
      "Carbon capture 1 Gt of CO2 per year ASAP\n",
      "\n",
      "Task:\n",
      "You are an evaluator. Given the goal and the ideas, what are the most feasible ideas to achieve the goal? For each idea, outline both the proposition of why it is a feasible idea, and the opposition of what the idea's biggest weaknesses might be to make it not a feasible idea. Conclude if the idea is feasible. Use your existing knowledge to the best of your ability.\n",
      "\n",
      "The output should be in JSON format: \n",
      "```json\n",
      "{\n",
      "  \"<insert idea index>\" : {\n",
      "    \"idea\": \"<insert idea>\",\n",
      "    \"opposition\":  \"<insert reasons why the idea might not be a feasible idea to achieve the goal>\",\n",
      "    \"proposition\": \"<insert reasons why the idea might be a feasible idea to achieve the goal>\",\n",
      "    \"conclusion\": \"<insert yes or no if the idea is a feasible idea to achieve the goal, and then your reasoning>\"\n",
      "  }, etc.\n",
      "}\n",
      "```\n",
      "\n",
      "Ideas:\n",
      "{'1': 'Develop a genetically modified plant species with enhanced carbon storage capabilities', '2': 'Create large-scale artificial carbon sinks using bioengineered microorganisms', '3': 'Design and deploy a network of large-scale ocean-based carbon capture systems', '4': 'Utilize nanotechnology to develop highly efficient carbon capture materials', '5': 'Explore the use of electrochemical processes for direct air capture of CO2', '6': 'Implement large-scale reforestation efforts with fast-growing tree species', '7': 'Experiment with ocean fertilization to stimulate algal blooms for increased carbon uptake', '8': 'Build massive vertical farms to maximize carbon sequestration by crops', '9': 'Develop carbon capture technology integrated with existing power plants', '10': 'Investigate the potential of carbon capture through mineralization in abandoned mines'}\n",
      "\n",
      "Respond only with the output, with no explanation or conversation.\n",
      "\n",
      "Completion info:  {\n",
      "  \"choices\": [\n",
      "    {\n",
      "      \"finish_reason\": \"stop\",\n",
      "      \"index\": 0,\n",
      "      \"message\": {\n",
      "        \"content\": \"{\\n  \\\"1\\\": {\\n    \\\"idea\\\": \\\"Develop a genetically modified plant species with enhanced carbon storage capabilities\\\",\\n    \\\"opposition\\\": \\\"Potential risks of introducing genetically modified organisms into the environment, public concerns about the safety and ethics of genetic modification\\\",\\n    \\\"proposition\\\": \\\"Genetic modification could potentially enhance the carbon storage capabilities of plants, leading to increased carbon capture\\\",\\n    \\\"conclusion\\\": \\\"No, due to potential risks and public concerns\\\"\\n  },\\n  \\\"2\\\": {\\n    \\\"idea\\\": \\\"Create large-scale artificial carbon sinks using bioengineered microorganisms\\\",\\n    \\\"opposition\\\": \\\"Complexity and scalability of bioengineering microorganisms for large-scale carbon capture, potential unintended consequences of introducing bioengineered microorganisms into the environment\\\",\\n    \\\"proposition\\\": \\\"Bioengineered microorganisms could potentially capture and store carbon on a large scale\\\",\\n    \\\"conclusion\\\": \\\"No, due to complexity, scalability, and potential unintended consequences\\\"\\n  },\\n  \\\"3\\\": {\\n    \\\"idea\\\": \\\"Design and deploy a network of large-scale ocean-based carbon capture systems\\\",\\n    \\\"opposition\\\": \\\"High costs of designing and deploying large-scale ocean-based carbon capture systems, potential environmental impacts on marine ecosystems\\\",\\n    \\\"proposition\\\": \\\"Ocean-based carbon capture systems could leverage the natural carbon uptake capacity of the oceans\\\",\\n    \\\"conclusion\\\": \\\"No, due to high costs and potential environmental impacts\\\"\\n  },\\n  \\\"4\\\": {\\n    \\\"idea\\\": \\\"Utilize nanotechnology to develop highly efficient carbon capture materials\\\",\\n    \\\"opposition\\\": \\\"Challenges in scaling up nanotechnology-based carbon capture materials, high costs of nanotechnology research and development\\\",\\n    \\\"proposition\\\": \\\"Nanotechnology could potentially enable the development of highly efficient carbon capture materials\\\",\\n    \\\"conclusion\\\": \\\"No, due to challenges in scaling up and high costs\\\"\\n  },\\n  \\\"5\\\": {\\n    \\\"idea\\\": \\\"Explore the use of electrochemical processes for direct air capture of CO2\\\",\\n    \\\"opposition\\\": \\\"Energy-intensive nature of electrochemical processes, high costs of large-scale implementation\\\",\\n    \\\"proposition\\\": \\\"Electrochemical processes could directly capture CO2 from the air, enabling carbon capture\\\",\\n    \\\"conclusion\\\": \\\"No, due to energy intensity and high costs\\\"\\n  },\\n  \\\"6\\\": {\\n    \\\"idea\\\": \\\"Implement large-scale reforestation efforts with fast-growing tree species\\\",\\n    \\\"opposition\\\": \\\"Limited availability of suitable land for large-scale reforestation, long timeframes for trees to reach maturity and sequester significant amounts of carbon\\\",\\n    \\\"proposition\\\": \\\"Reforestation efforts could increase carbon sequestration by planting more trees\\\",\\n    \\\"conclusion\\\": \\\"Yes, with limitations due to land availability and timeframes\\\"\\n  },\\n  \\\"7\\\": {\\n    \\\"idea\\\": \\\"Experiment with ocean fertilization to stimulate algal blooms for increased carbon uptake\\\",\\n    \\\"opposition\\\": \\\"Potential disruption of marine ecosystems, uncertain effectiveness and scalability of ocean fertilization\\\",\\n    \\\"proposition\\\": \\\"Ocean fertilization could potentially stimulate algal blooms, leading to increased carbon uptake\\\",\\n    \\\"conclusion\\\": \\\"No, due to potential ecosystem disruption and uncertain effectiveness\\\"\\n  },\\n  \\\"8\\\": {\\n    \\\"idea\\\": \\\"Build massive vertical farms to maximize carbon sequestration by crops\\\",\\n    \\\"opposition\\\": \\\"High costs of building and operating massive vertical farms, limited scalability and land availability\\\",\\n    \\\"proposition\\\": \\\"Vertical farms could maximize carbon sequestration by growing crops in a controlled environment\\\",\\n    \\\"conclusion\\\": \\\"No, due to high costs, limited scalability, and land availability\\\"\\n  },\\n  \\\"9\\\": {\\n    \\\"idea\\\": \\\"Develop carbon capture technology integrated with existing power plants\\\",\\n    \\\"opposition\\\": \\\"Technical challenges in retrofitting existing power plants with carbon capture technology, high costs of implementation\\\",\\n    \\\"proposition\\\": \\\"Integrating carbon capture technology with existing power plants could capture CO2 emissions at the source\\\",\\n    \\\"conclusion\\\": \\\"Yes, with challenges due to technical retrofitting and high costs\\\"\\n  },\\n  \\\"10\\\": {\\n    \\\"idea\\\": \\\"Investigate the potential of carbon capture through mineralization in abandoned mines\\\",\\n    \\\"opposition\\\": \\\"Limited availability of suitable abandoned mines, potential environmental impacts of mineralization processes\\\",\\n    \\\"proposition\\\": \\\"Carbon capture through mineralization in abandoned mines could permanently store CO2\\\",\\n    \\\"conclusion\\\": \\\"Yes, with limitations due to availability of suitable mines and potential environmental impacts\\\"\\n  }\\n}\",\n",
      "        \"role\": \"assistant\"\n",
      "      }\n",
      "    }\n",
      "  ],\n",
      "  \"created\": 1691468892,\n",
      "  \"id\": \"chatcmpl-7l8cGKjvJotMLUu5RTSiYEk6WpS5L\",\n",
      "  \"model\": \"gpt-3.5-turbo-0613\",\n",
      "  \"object\": \"chat.completion\",\n",
      "  \"usage\": {\n",
      "    \"completion_tokens\": 918,\n",
      "    \"prompt_tokens\": 432,\n",
      "    \"total_tokens\": 1350\n",
      "  }\n",
      "}\n",
      "{'1': {'idea': 'Develop a genetically modified plant species with enhanced carbon storage capabilities', 'opposition': 'Potential risks of introducing genetically modified organisms into the environment, public concerns about the safety and ethics of genetic modification', 'proposition': 'Genetic modification could potentially enhance the carbon storage capabilities of plants, leading to increased carbon capture', 'conclusion': 'No, due to potential risks and public concerns'}, '2': {'idea': 'Create large-scale artificial carbon sinks using bioengineered microorganisms', 'opposition': 'Complexity and scalability of bioengineering microorganisms for large-scale carbon capture, potential unintended consequences of introducing bioengineered microorganisms into the environment', 'proposition': 'Bioengineered microorganisms could potentially capture and store carbon on a large scale', 'conclusion': 'No, due to complexity, scalability, and potential unintended consequences'}, '3': {'idea': 'Design and deploy a network of large-scale ocean-based carbon capture systems', 'opposition': 'High costs of designing and deploying large-scale ocean-based carbon capture systems, potential environmental impacts on marine ecosystems', 'proposition': 'Ocean-based carbon capture systems could leverage the natural carbon uptake capacity of the oceans', 'conclusion': 'No, due to high costs and potential environmental impacts'}, '4': {'idea': 'Utilize nanotechnology to develop highly efficient carbon capture materials', 'opposition': 'Challenges in scaling up nanotechnology-based carbon capture materials, high costs of nanotechnology research and development', 'proposition': 'Nanotechnology could potentially enable the development of highly efficient carbon capture materials', 'conclusion': 'No, due to challenges in scaling up and high costs'}, '5': {'idea': 'Explore the use of electrochemical processes for direct air capture of CO2', 'opposition': 'Energy-intensive nature of electrochemical processes, high costs of large-scale implementation', 'proposition': 'Electrochemical processes could directly capture CO2 from the air, enabling carbon capture', 'conclusion': 'No, due to energy intensity and high costs'}, '6': {'idea': 'Implement large-scale reforestation efforts with fast-growing tree species', 'opposition': 'Limited availability of suitable land for large-scale reforestation, long timeframes for trees to reach maturity and sequester significant amounts of carbon', 'proposition': 'Reforestation efforts could increase carbon sequestration by planting more trees', 'conclusion': 'Yes, with limitations due to land availability and timeframes'}, '7': {'idea': 'Experiment with ocean fertilization to stimulate algal blooms for increased carbon uptake', 'opposition': 'Potential disruption of marine ecosystems, uncertain effectiveness and scalability of ocean fertilization', 'proposition': 'Ocean fertilization could potentially stimulate algal blooms, leading to increased carbon uptake', 'conclusion': 'No, due to potential ecosystem disruption and uncertain effectiveness'}, '8': {'idea': 'Build massive vertical farms to maximize carbon sequestration by crops', 'opposition': 'High costs of building and operating massive vertical farms, limited scalability and land availability', 'proposition': 'Vertical farms could maximize carbon sequestration by growing crops in a controlled environment', 'conclusion': 'No, due to high costs, limited scalability, and land availability'}, '9': {'idea': 'Develop carbon capture technology integrated with existing power plants', 'opposition': 'Technical challenges in retrofitting existing power plants with carbon capture technology, high costs of implementation', 'proposition': 'Integrating carbon capture technology with existing power plants could capture CO2 emissions at the source', 'conclusion': 'Yes, with challenges due to technical retrofitting and high costs'}, '10': {'idea': 'Investigate the potential of carbon capture through mineralization in abandoned mines', 'opposition': 'Limited availability of suitable abandoned mines, potential environmental impacts of mineralization processes', 'proposition': 'Carbon capture through mineralization in abandoned mines could permanently store CO2', 'conclusion': 'Yes, with limitations due to availability of suitable mines and potential environmental impacts'}}\n"
     ]
    }
   ],
   "source": [
    "# GPT template\n",
    "# Improvement: it should cite direct quote facts, so that the direct quote and url can be retrieved in the answer.\n",
    "\n",
    "prompt = f'''\n",
    "Goal:\n",
    "{objective}\n",
    "\n",
    "Task:\n",
    "You are an evaluator. Given the goal and the ideas, what are the most feasible ideas to achieve the goal? For each idea, outline both the proposition of why it is a feasible idea, and the opposition of what the idea's biggest weaknesses might be to make it not a feasible idea. Conclude if the idea is feasible. Use your existing knowledge to the best of your ability.\n",
    "\n",
    "The output should be in JSON format: \n",
    "```json\n",
    "{{\n",
    "  \"<insert idea index>\" : {{\n",
    "    \"idea\": \"<insert idea>\",\n",
    "    \"opposition\":  \"<insert reasons why the idea might not be a feasible idea to achieve the goal>\",\n",
    "    \"proposition\": \"<insert reasons why the idea might be a feasible idea to achieve the goal>\",\n",
    "    \"conclusion\": \"<insert yes or no if the idea is a feasible idea to achieve the goal, and then your reasoning>\"\n",
    "  }}, etc.\n",
    "}}\n",
    "```\n",
    "\n",
    "Ideas:\n",
    "{ideas_json}\n",
    "\n",
    "Respond only with the output, with no explanation or conversation.\n",
    "'''\n",
    "evaluator_feedback = json.loads(chat_openai(prompt, model=\"gpt-3.5-turbo\")[0])\n",
    "print(evaluator_feedback)"
   ]
  },
  {
   "cell_type": "code",
   "execution_count": 10,
   "metadata": {},
   "outputs": [],
   "source": [
    "file_name = f'evaluation.json'\n",
    "\n",
    "with open(file_name, 'w', encoding='utf-8') as f:\n",
    "    json.dump(evaluator_feedback, f, indent=4)"
   ]
  },
  {
   "cell_type": "markdown",
   "metadata": {},
   "source": [
    "### Iterate with learnings memory, probably using RAG whenever it is fetched"
   ]
  },
  {
   "cell_type": "code",
   "execution_count": null,
   "metadata": {},
   "outputs": [],
   "source": []
  }
 ],
 "metadata": {
  "kernelspec": {
   "display_name": "venv",
   "language": "python",
   "name": "python3"
  },
  "language_info": {
   "codemirror_mode": {
    "name": "ipython",
    "version": 3
   },
   "file_extension": ".py",
   "mimetype": "text/x-python",
   "name": "python",
   "nbconvert_exporter": "python",
   "pygments_lexer": "ipython3",
   "version": "3.10.6"
  },
  "orig_nbformat": 4
 },
 "nbformat": 4,
 "nbformat_minor": 2
}
