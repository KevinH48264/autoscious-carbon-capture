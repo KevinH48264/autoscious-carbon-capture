{
 "cells": [
  {
   "cell_type": "markdown",
   "metadata": {},
   "source": [
    "## Rapid prototyping LLMs to generate potentially impactful experiments for carbon capture"
   ]
  },
  {
   "cell_type": "code",
   "execution_count": 2,
   "metadata": {},
   "outputs": [],
   "source": [
    "from llm import chat_openai, chat_openai_high_temp\n",
    "import json"
   ]
  },
  {
   "cell_type": "code",
   "execution_count": 3,
   "metadata": {},
   "outputs": [
    {
     "name": "stdout",
     "output_type": "stream",
     "text": [
      "Prompt messages:  [{'role': 'system', 'content': 'You are a helpful and educated carbon capture research consultant and an educated and helpful researcher and programmer. Answer as correctly, clearly, and concisely as possible.'}, {'role': 'user', 'content': '\\n\\n'}]\n",
      "Completion info:  {\n",
      "  \"choices\": [\n",
      "    {\n",
      "      \"finish_reason\": \"stop\",\n",
      "      \"index\": 0,\n",
      "      \"message\": {\n",
      "        \"content\": \"Hello! How can I assist you today with carbon capture research?\",\n",
      "        \"role\": \"assistant\"\n",
      "      }\n",
      "    }\n",
      "  ],\n",
      "  \"created\": 1691524566,\n",
      "  \"id\": \"chatcmpl-7lN6El45IUsoQrAtNBauRBByFFu71\",\n",
      "  \"model\": \"gpt-3.5-turbo-0613\",\n",
      "  \"object\": \"chat.completion\",\n",
      "  \"usage\": {\n",
      "    \"completion_tokens\": 13,\n",
      "    \"prompt_tokens\": 44,\n",
      "    \"total_tokens\": 57\n",
      "  }\n",
      "}\n",
      "Hello! How can I assist you today with carbon capture research?\n"
     ]
    }
   ],
   "source": [
    "# GPT template\n",
    "prompt = f'''\n",
    "\n",
    "'''\n",
    "res = chat_openai(prompt, model=\"gpt-3.5-turbo\")[0]\n",
    "print(res)"
   ]
  },
  {
   "cell_type": "code",
   "execution_count": null,
   "metadata": {},
   "outputs": [],
   "source": [
    "# GPT template for human feedback\n",
    "feedback = \"\"\n",
    "\n",
    "res = chat_openai(prompt, model=\"gpt-3.5-turbo\", chat_history=[\n",
    "    {\n",
    "        \"role\": \"assistant\",\n",
    "        \"content\": f\"{res}\"\n",
    "    }, {\n",
    "        \"role\": \"user\",\n",
    "        \"content\": f\"{feedback}\"\n",
    "    }\n",
    "])[0]\n",
    "print(res)"
   ]
  },
  {
   "cell_type": "markdown",
   "metadata": {},
   "source": [
    "### Give vision with important consequences"
   ]
  },
  {
   "cell_type": "code",
   "execution_count": 4,
   "metadata": {},
   "outputs": [],
   "source": [
    "objective = \"Carbon capture 1 Gt of CO2 per year ASAP\""
   ]
  },
  {
   "cell_type": "code",
   "execution_count": 5,
   "metadata": {},
   "outputs": [
    {
     "name": "stdout",
     "output_type": "stream",
     "text": [
      "Prompt messages:  [{'role': 'system', 'content': 'You are a helpful and educated carbon capture research consultant and an educated and helpful researcher and programmer. Answer as correctly, clearly, and concisely as possible.'}, {'role': 'user', 'content': '\\nObjective: \\nCarbon capture 1 Gt of CO2 per year ASAP\\n\\nTask:\\nWhat are the key metrics to measure success?\\n\\nThe output should be in JSON format: \\n```json\\n{\\n  \"<insert metric>\" : \"<insert metric description>\",\\n  etc.\\n}\\n\\nRespond only with the output, with no explanation or conversation. I expect a first-rate answer.\\n'}]\n",
      "Completion info:  {\n",
      "  \"choices\": [\n",
      "    {\n",
      "      \"finish_reason\": \"stop\",\n",
      "      \"index\": 0,\n",
      "      \"message\": {\n",
      "        \"content\": \"{\\n  \\\"CO2 capture rate\\\": \\\"The rate at which CO2 is captured and removed from the atmosphere, measured in metric tons per year.\\\",\\n  \\\"Energy consumption\\\": \\\"The amount of energy required for the carbon capture process, measured in kilowatt-hours per metric ton of CO2 captured.\\\",\\n  \\\"Cost per metric ton of CO2 captured\\\": \\\"The cost incurred for capturing and storing one metric ton of CO2, measured in currency (e.g., USD) per metric ton of CO2 captured.\\\",\\n  \\\"Storage capacity\\\": \\\"The total amount of CO2 that can be stored in the chosen storage method, measured in metric tons.\\\",\\n  \\\"Environmental impact\\\": \\\"The assessment of the carbon capture process on the environment, including factors such as water usage, land requirements, and potential leakage risks.\\\"\\n}\",\n",
      "        \"role\": \"assistant\"\n",
      "      }\n",
      "    }\n",
      "  ],\n",
      "  \"created\": 1691524575,\n",
      "  \"id\": \"chatcmpl-7lN6NMmSQbZYdV2phnNxeN6VvJdH2\",\n",
      "  \"model\": \"gpt-3.5-turbo-0613\",\n",
      "  \"object\": \"chat.completion\",\n",
      "  \"usage\": {\n",
      "    \"completion_tokens\": 164,\n",
      "    \"prompt_tokens\": 118,\n",
      "    \"total_tokens\": 282\n",
      "  }\n",
      "}\n",
      "{\n",
      "  \"CO2 capture rate\": \"The rate at which CO2 is captured and removed from the atmosphere, measured in metric tons per year.\",\n",
      "  \"Energy consumption\": \"The amount of energy required for the carbon capture process, measured in kilowatt-hours per metric ton of CO2 captured.\",\n",
      "  \"Cost per metric ton of CO2 captured\": \"The cost incurred for capturing and storing one metric ton of CO2, measured in currency (e.g., USD) per metric ton of CO2 captured.\",\n",
      "  \"Storage capacity\": \"The total amount of CO2 that can be stored in the chosen storage method, measured in metric tons.\",\n",
      "  \"Environmental impact\": \"The assessment of the carbon capture process on the environment, including factors such as water usage, land requirements, and potential leakage risks.\"\n",
      "}\n"
     ]
    }
   ],
   "source": [
    "# Brainstorm\n",
    "prompt = f'''\n",
    "Objective: \n",
    "{objective}\n",
    "\n",
    "Task:\n",
    "What are the key metrics to measure success?\n",
    "\n",
    "The output should be in JSON format: \n",
    "```json\n",
    "{{\n",
    "  \"<insert metric>\" : \"<insert metric description>\",\n",
    "  etc.\n",
    "}}\n",
    "\n",
    "Respond only with the output, with no explanation or conversation. I expect a first-rate answer.\n",
    "'''\n",
    "res = chat_openai(prompt, model=\"gpt-3.5-turbo\")[0]\n",
    "print(res)"
   ]
  },
  {
   "cell_type": "code",
   "execution_count": 6,
   "metadata": {},
   "outputs": [
    {
     "name": "stdout",
     "output_type": "stream",
     "text": [
      "Prompt messages:  [{'role': 'system', 'content': 'You are a helpful and educated carbon capture research consultant and an educated and helpful researcher and programmer. Answer as correctly, clearly, and concisely as possible.'}, {'role': 'assistant', 'content': '{\\n  \"CO2 capture rate\": \"The rate at which CO2 is captured and removed from the atmosphere, measured in metric tons per year.\",\\n  \"Energy consumption\": \"The amount of energy required for the carbon capture process, measured in kilowatt-hours per metric ton of CO2 captured.\",\\n  \"Cost per metric ton of CO2 captured\": \"The cost incurred for capturing and storing one metric ton of CO2, measured in currency (e.g., USD) per metric ton of CO2 captured.\",\\n  \"Storage capacity\": \"The total amount of CO2 that can be stored in the chosen storage method, measured in metric tons.\",\\n  \"Environmental impact\": \"The assessment of the carbon capture process on the environment, including factors such as water usage, land requirements, and potential leakage risks.\"\\n}'}, {'role': 'user', 'content': 'You forgot about the metrics for feasibility, easily measurable and permanence.'}, {'role': 'user', 'content': '\\nObjective: \\nCarbon capture 1 Gt of CO2 per year ASAP\\n\\nTask:\\nWhat are the key metrics to measure success?\\n\\nThe output should be in JSON format: \\n```json\\n{\\n  \"<insert metric>\" : \"<insert metric description>\",\\n  etc.\\n}\\n\\nRespond only with the output, with no explanation or conversation. I expect a first-rate answer.\\n'}]\n",
      "Completion info:  {\n",
      "  \"choices\": [\n",
      "    {\n",
      "      \"finish_reason\": \"stop\",\n",
      "      \"index\": 0,\n",
      "      \"message\": {\n",
      "        \"content\": \"{\\n  \\\"CO2 capture rate\\\": \\\"The rate at which CO2 is captured and removed from the atmosphere, measured in metric tons per year.\\\",\\n  \\\"Energy consumption\\\": \\\"The amount of energy required for the carbon capture process, measured in kilowatt-hours per metric ton of CO2 captured.\\\",\\n  \\\"Cost per metric ton of CO2 captured\\\": \\\"The cost incurred for capturing and storing one metric ton of CO2, measured in currency (e.g., USD) per metric ton of CO2 captured.\\\",\\n  \\\"Storage capacity\\\": \\\"The total amount of CO2 that can be stored in the chosen storage method, measured in metric tons.\\\",\\n  \\\"Environmental impact\\\": \\\"The assessment of the carbon capture process on the environment, including factors such as water usage, land requirements, and potential leakage risks.\\\",\\n  \\\"Feasibility\\\": \\\"The assessment of the practicality and achievability of capturing 1 Gt of CO2 per year, considering technological, economic, and logistical factors.\\\",\\n  \\\"Easily measurable\\\": \\\"The ease and accuracy with which the key metrics can be measured and monitored to track progress towards capturing 1 Gt of CO2 per year.\\\",\\n  \\\"Permanence\\\": \\\"The long-term stability and permanence of the captured CO2, ensuring it remains securely stored and does not re-enter the atmosphere.\\\"\\n}\",\n",
      "        \"role\": \"assistant\"\n",
      "      }\n",
      "    }\n",
      "  ],\n",
      "  \"created\": 1691524581,\n",
      "  \"id\": \"chatcmpl-7lN6ThLkCH0qnAEIrfM45tTZ1QZGo\",\n",
      "  \"model\": \"gpt-3.5-turbo-0613\",\n",
      "  \"object\": \"chat.completion\",\n",
      "  \"usage\": {\n",
      "    \"completion_tokens\": 271,\n",
      "    \"prompt_tokens\": 304,\n",
      "    \"total_tokens\": 575\n",
      "  }\n",
      "}\n",
      "{\n",
      "  \"CO2 capture rate\": \"The rate at which CO2 is captured and removed from the atmosphere, measured in metric tons per year.\",\n",
      "  \"Energy consumption\": \"The amount of energy required for the carbon capture process, measured in kilowatt-hours per metric ton of CO2 captured.\",\n",
      "  \"Cost per metric ton of CO2 captured\": \"The cost incurred for capturing and storing one metric ton of CO2, measured in currency (e.g., USD) per metric ton of CO2 captured.\",\n",
      "  \"Storage capacity\": \"The total amount of CO2 that can be stored in the chosen storage method, measured in metric tons.\",\n",
      "  \"Environmental impact\": \"The assessment of the carbon capture process on the environment, including factors such as water usage, land requirements, and potential leakage risks.\",\n",
      "  \"Feasibility\": \"The assessment of the practicality and achievability of capturing 1 Gt of CO2 per year, considering technological, economic, and logistical factors.\",\n",
      "  \"Easily measurable\": \"The ease and accuracy with which the key metrics can be measured and monitored to track progress towards capturing 1 Gt of CO2 per year.\",\n",
      "  \"Permanence\": \"The long-term stability and permanence of the captured CO2, ensuring it remains securely stored and does not re-enter the atmosphere.\"\n",
      "}\n"
     ]
    }
   ],
   "source": [
    "# Give feedback if necessary\n",
    "feedback = \"You forgot about the metrics for feasibility, easily measurable and permanence.\"\n",
    "\n",
    "res = chat_openai(prompt, model=\"gpt-3.5-turbo\", chat_history=[\n",
    "    {\n",
    "        \"role\": \"assistant\",\n",
    "        \"content\": f\"{res}\"\n",
    "    }, {\n",
    "        \"role\": \"user\",\n",
    "        \"content\": f\"{feedback}\"\n",
    "    }\n",
    "])[0]\n",
    "print(res)\n"
   ]
  },
  {
   "cell_type": "code",
   "execution_count": 7,
   "metadata": {},
   "outputs": [
    {
     "name": "stdout",
     "output_type": "stream",
     "text": [
      "Prompt messages:  [{'role': 'system', 'content': 'You are a helpful and educated carbon capture research consultant and an educated and helpful researcher and programmer. Answer as correctly, clearly, and concisely as possible.'}, {'role': 'user', 'content': '\\nObjective: \\nCarbon capture 1 Gt of CO2 per year ASAP\\n\\nKey metrics:\\n{\\n  \"CO2 capture rate\": \"The rate at which CO2 is captured and removed from the atmosphere, measured in metric tons per year.\",\\n  \"Energy consumption\": \"The amount of energy required for the carbon capture process, measured in kilowatt-hours per metric ton of CO2 captured.\",\\n  \"Cost per metric ton of CO2 captured\": \"The cost incurred for capturing and storing one metric ton of CO2, measured in currency (e.g., USD) per metric ton of CO2 captured.\",\\n  \"Storage capacity\": \"The total amount of CO2 that can be stored in the chosen storage method, measured in metric tons.\",\\n  \"Environmental impact\": \"The assessment of the carbon capture process on the environment, including factors such as water usage, land requirements, and potential leakage risks.\",\\n  \"Feasibility\": \"The assessment of the practicality and achievability of capturing 1 Gt of CO2 per year, considering technological, economic, and logistical factors.\",\\n  \"Easily measurable\": \"The ease and accuracy with which the key metrics can be measured and monitored to track progress towards capturing 1 Gt of CO2 per year.\",\\n  \"Permanence\": \"The long-term stability and permanence of the captured CO2, ensuring it remains securely stored and does not re-enter the atmosphere.\"\\n}\\n\\nTasK:\\nPrioritize these key metrics of success by importance.\\n\\nThe output should be in JSON format: \\n```json\\n{\\n  \"<insert metric>\" : \"<insert metric description>\",\\n  etc.\\n}\\n\\nRespond only with the output, with no explanation or conversation. I expect a first-rate answer.\\n'}]\n",
      "Completion info:  {\n",
      "  \"choices\": [\n",
      "    {\n",
      "      \"finish_reason\": \"stop\",\n",
      "      \"index\": 0,\n",
      "      \"message\": {\n",
      "        \"content\": \"{\\n  \\\"CO2 capture rate\\\": \\\"The rate at which CO2 is captured and removed from the atmosphere, measured in metric tons per year.\\\",\\n  \\\"Feasibility\\\": \\\"The assessment of the practicality and achievability of capturing 1 Gt of CO2 per year, considering technological, economic, and logistical factors.\\\",\\n  \\\"Cost per metric ton of CO2 captured\\\": \\\"The cost incurred for capturing and storing one metric ton of CO2, measured in currency (e.g., USD) per metric ton of CO2 captured.\\\",\\n  \\\"Storage capacity\\\": \\\"The total amount of CO2 that can be stored in the chosen storage method, measured in metric tons.\\\",\\n  \\\"Permanence\\\": \\\"The long-term stability and permanence of the captured CO2, ensuring it remains securely stored and does not re-enter the atmosphere.\\\",\\n  \\\"Energy consumption\\\": \\\"The amount of energy required for the carbon capture process, measured in kilowatt-hours per metric ton of CO2 captured.\\\",\\n  \\\"Environmental impact\\\": \\\"The assessment of the carbon capture process on the environment, including factors such as water usage, land requirements, and potential leakage risks.\\\",\\n  \\\"Easily measurable\\\": \\\"The ease and accuracy with which the key metrics can be measured and monitored to track progress towards capturing 1 Gt of CO2 per year.\\\"\\n}\",\n",
      "        \"role\": \"assistant\"\n",
      "      }\n",
      "    }\n",
      "  ],\n",
      "  \"created\": 1691524592,\n",
      "  \"id\": \"chatcmpl-7lN6ed62soV0mG4aX6gPfeL61ARjA\",\n",
      "  \"model\": \"gpt-3.5-turbo-0613\",\n",
      "  \"object\": \"chat.completion\",\n",
      "  \"usage\": {\n",
      "    \"completion_tokens\": 271,\n",
      "    \"prompt_tokens\": 395,\n",
      "    \"total_tokens\": 666\n",
      "  }\n",
      "}\n",
      "{'CO2 capture rate': 'The rate at which CO2 is captured and removed from the atmosphere, measured in metric tons per year.', 'Feasibility': 'The assessment of the practicality and achievability of capturing 1 Gt of CO2 per year, considering technological, economic, and logistical factors.', 'Cost per metric ton of CO2 captured': 'The cost incurred for capturing and storing one metric ton of CO2, measured in currency (e.g., USD) per metric ton of CO2 captured.', 'Storage capacity': 'The total amount of CO2 that can be stored in the chosen storage method, measured in metric tons.', 'Permanence': 'The long-term stability and permanence of the captured CO2, ensuring it remains securely stored and does not re-enter the atmosphere.', 'Energy consumption': 'The amount of energy required for the carbon capture process, measured in kilowatt-hours per metric ton of CO2 captured.', 'Environmental impact': 'The assessment of the carbon capture process on the environment, including factors such as water usage, land requirements, and potential leakage risks.', 'Easily measurable': 'The ease and accuracy with which the key metrics can be measured and monitored to track progress towards capturing 1 Gt of CO2 per year.'}\n"
     ]
    }
   ],
   "source": [
    "# Evaluation\n",
    "prompt = f'''\n",
    "Objective: \n",
    "{objective}\n",
    "\n",
    "Key metrics:\n",
    "{res}\n",
    "\n",
    "TasK:\n",
    "Prioritize these key metrics of success by importance.\n",
    "\n",
    "The output should be in JSON format: \n",
    "```json\n",
    "{{\n",
    "  \"<insert metric>\" : \"<insert metric description>\",\n",
    "  etc.\n",
    "}}\n",
    "\n",
    "Respond only with the output, with no explanation or conversation. I expect a first-rate answer.\n",
    "'''\n",
    "res = json.loads(chat_openai(prompt, model=\"gpt-3.5-turbo\")[0])\n",
    "print(res)"
   ]
  },
  {
   "cell_type": "code",
   "execution_count": 8,
   "metadata": {},
   "outputs": [
    {
     "name": "stdout",
     "output_type": "stream",
     "text": [
      "{'CO2 capture rate': 'The rate at which CO2 is captured and removed from the atmosphere, measured in metric tons per year.', 'Feasibility': 'The assessment of the practicality and achievability of capturing 1 Gt of CO2 per year, considering technological, economic, and logistical factors.', 'Cost per metric ton of CO2 captured': 'The cost incurred for capturing and storing one metric ton of CO2, measured in currency (e.g., USD) per metric ton of CO2 captured.', 'Storage capacity': 'The total amount of CO2 that can be stored in the chosen storage method, measured in metric tons.', 'Permanence': 'The long-term stability and permanence of the captured CO2, ensuring it remains securely stored and does not re-enter the atmosphere.', 'Energy consumption': 'The amount of energy required for the carbon capture process, measured in kilowatt-hours per metric ton of CO2 captured.', 'Environmental impact': 'The assessment of the carbon capture process on the environment, including factors such as water usage, land requirements, and potential leakage risks.', 'Easily measurable': 'The ease and accuracy with which the key metrics can be measured and monitored to track progress towards capturing 1 Gt of CO2 per year.'}\n"
     ]
    }
   ],
   "source": [
    "file_name = f'metrics.json'\n",
    "\n",
    "with open(file_name, 'w', encoding='utf-8') as f:\n",
    "    json.dump(res, f, indent=4)\n",
    "\n",
    "metrics = res\n",
    "print(metrics)"
   ]
  },
  {
   "cell_type": "code",
   "execution_count": 9,
   "metadata": {},
   "outputs": [
    {
     "data": {
      "text/plain": [
       "{'CO2 capture rate': 'The rate at which CO2 is captured and removed from the atmosphere, measured in metric tons per year.',\n",
       " 'Feasibility': 'The assessment of the practicality and achievability of capturing 1 Gt of CO2 per year, considering technological, economic, and logistical factors.',\n",
       " 'Cost per metric ton of CO2 captured': 'The cost incurred for capturing and storing one metric ton of CO2, measured in currency (e.g., USD) per metric ton of CO2 captured.',\n",
       " 'Storage capacity': 'The total amount of CO2 that can be stored in the chosen storage method, measured in metric tons.',\n",
       " 'Permanence': 'The long-term stability and permanence of the captured CO2, ensuring it remains securely stored and does not re-enter the atmosphere.',\n",
       " 'Energy consumption': 'The amount of energy required for the carbon capture process, measured in kilowatt-hours per metric ton of CO2 captured.',\n",
       " 'Environmental impact': 'The assessment of the carbon capture process on the environment, including factors such as water usage, land requirements, and potential leakage risks.',\n",
       " 'Easily measurable': 'The ease and accuracy with which the key metrics can be measured and monitored to track progress towards capturing 1 Gt of CO2 per year.'}"
      ]
     },
     "execution_count": 9,
     "metadata": {},
     "output_type": "execute_result"
    }
   ],
   "source": [
    "TOP_N = -1\n",
    "if TOP_N > 0:\n",
    "    focus_metrics = dict(list(metrics.items())[:TOP_N])\n",
    "else:\n",
    "    focus_metrics = dict(list(metrics.items()))\n",
    "focus_metrics"
   ]
  },
  {
   "cell_type": "code",
   "execution_count": 10,
   "metadata": {},
   "outputs": [
    {
     "name": "stdout",
     "output_type": "stream",
     "text": [
      "Prompt messages:  [{'role': 'system', 'content': 'You are a helpful and educated carbon capture research consultant and an educated and helpful researcher and programmer. Answer as correctly, clearly, and concisely as possible.'}, {'role': 'user', 'content': '\\nObjective: \\nCarbon capture 1 Gt of CO2 per year ASAP\\n\\nKey metrics:\\n{\\'CO2 capture rate\\': \\'The rate at which CO2 is captured and removed from the atmosphere, measured in metric tons per year.\\', \\'Feasibility\\': \\'The assessment of the practicality and achievability of capturing 1 Gt of CO2 per year, considering technological, economic, and logistical factors.\\', \\'Cost per metric ton of CO2 captured\\': \\'The cost incurred for capturing and storing one metric ton of CO2, measured in currency (e.g., USD) per metric ton of CO2 captured.\\', \\'Storage capacity\\': \\'The total amount of CO2 that can be stored in the chosen storage method, measured in metric tons.\\', \\'Permanence\\': \\'The long-term stability and permanence of the captured CO2, ensuring it remains securely stored and does not re-enter the atmosphere.\\', \\'Energy consumption\\': \\'The amount of energy required for the carbon capture process, measured in kilowatt-hours per metric ton of CO2 captured.\\', \\'Environmental impact\\': \\'The assessment of the carbon capture process on the environment, including factors such as water usage, land requirements, and potential leakage risks.\\', \\'Easily measurable\\': \\'The ease and accuracy with which the key metrics can be measured and monitored to track progress towards capturing 1 Gt of CO2 per year.\\'}\\n\\nTasK:\\nDo you have any clarifying questions about the objective or metrics before you try to hypothesize a plan to achieve the objective? If so, ask them and answer them. If not, say \"no clarifying questions\". \\n'}]\n"
     ]
    },
    {
     "name": "stdout",
     "output_type": "stream",
     "text": [
      "Completion info:  {\n",
      "  \"choices\": [\n",
      "    {\n",
      "      \"finish_reason\": \"stop\",\n",
      "      \"index\": 0,\n",
      "      \"message\": {\n",
      "        \"content\": \"No clarifying questions.\",\n",
      "        \"role\": \"assistant\"\n",
      "      }\n",
      "    }\n",
      "  ],\n",
      "  \"created\": 1691524602,\n",
      "  \"id\": \"chatcmpl-7lN6oti5wnvoT35piejiwr5WYk0xr\",\n",
      "  \"model\": \"gpt-3.5-turbo-0613\",\n",
      "  \"object\": \"chat.completion\",\n",
      "  \"usage\": {\n",
      "    \"completion_tokens\": 5,\n",
      "    \"prompt_tokens\": 374,\n",
      "    \"total_tokens\": 379\n",
      "  }\n",
      "}\n",
      "No clarifying questions.\n"
     ]
    }
   ],
   "source": [
    "# Clarifying questions\n",
    "prompt = f'''\n",
    "Objective: \n",
    "{objective}\n",
    "\n",
    "Key metrics:\n",
    "{focus_metrics}\n",
    "\n",
    "TasK:\n",
    "Do you have any clarifying questions about the objective or metrics before you try to hypothesize a plan to achieve the objective? If so, ask them and answer them. If not, say \"no clarifying questions\". \n",
    "'''\n",
    "res = chat_openai(prompt, model=\"gpt-3.5-turbo\")[0]\n",
    "print(res)"
   ]
  },
  {
   "cell_type": "markdown",
   "metadata": {},
   "source": [
    "### Decompose key factors of the problem"
   ]
  },
  {
   "cell_type": "code",
   "execution_count": null,
   "metadata": {},
   "outputs": [],
   "source": [
    "# Skipping because key metrics and key factors are already very similar and SOTA is evaluated based on key metrics\n",
    "\n",
    "# # Evaluation\n",
    "# prompt = f'''\n",
    "# Objective: \n",
    "# {objective}\n",
    "\n",
    "# Key metrics:\n",
    "# {focus_metrics}\n",
    "\n",
    "# Task:\n",
    "# What are factors that are most related to the objective?\n",
    "\n",
    "# The output should be in JSON format: \n",
    "# ```json\n",
    "# {{\n",
    "#   \"<insert factor>\" : \"<insert factor description>\",\n",
    "#   etc.\n",
    "# }}\n",
    "\n",
    "# Respond only with the output, with no explanation or conversation. I expect a first-rate answer.\n",
    "# '''\n",
    "# res = chat_openai(prompt, model=\"gpt-3.5-turbo\")[0]\n",
    "# print(res)"
   ]
  },
  {
   "cell_type": "code",
   "execution_count": null,
   "metadata": {},
   "outputs": [],
   "source": [
    "# key_factors = json.loads(res)\n",
    "# key_factors"
   ]
  },
  {
   "cell_type": "code",
   "execution_count": null,
   "metadata": {},
   "outputs": [],
   "source": [
    "# # Evaluation\n",
    "# prompt = f'''\n",
    "# Objective: \n",
    "# {objective}\n",
    "\n",
    "# Key metrics:\n",
    "# {focus_metrics}\n",
    "\n",
    "# Task:\n",
    "# Prioritize these key metrics by how large and sensitive they are to achieving the objective.\n",
    "\n",
    "# The output should be in JSON format: \n",
    "# ```json\n",
    "# {{\n",
    "#   \"<insert metrics>\" : \"<insert metric description>\",\n",
    "#   etc.\n",
    "# }}\n",
    "\n",
    "# Respond only with the output, with no explanation or conversation. I expect a first-rate answer.\n",
    "# '''\n",
    "# factors = json.loads(chat_openai(prompt, model=\"gpt-3.5-turbo\")[0])\n",
    "# print(factors)"
   ]
  },
  {
   "cell_type": "code",
   "execution_count": null,
   "metadata": {},
   "outputs": [],
   "source": [
    "# focus_factors = dict(list(factors.items())[:2])\n",
    "# focus_factors"
   ]
  },
  {
   "cell_type": "markdown",
   "metadata": {},
   "source": [
    "### Current state analysis"
   ]
  },
  {
   "cell_type": "code",
   "execution_count": 11,
   "metadata": {},
   "outputs": [
    {
     "name": "stdout",
     "output_type": "stream",
     "text": [
      "Prompt messages:  [{'role': 'system', 'content': 'You are a helpful and educated carbon capture research consultant and an educated and helpful researcher and programmer. Answer as correctly, clearly, and concisely as possible.'}, {'role': 'user', 'content': '\\nObjective: \\nCarbon capture 1 Gt of CO2 per year ASAP\\n\\nKey metrics:\\n{\\'CO2 capture rate\\': \\'The rate at which CO2 is captured and removed from the atmosphere, measured in metric tons per year.\\', \\'Feasibility\\': \\'The assessment of the practicality and achievability of capturing 1 Gt of CO2 per year, considering technological, economic, and logistical factors.\\', \\'Cost per metric ton of CO2 captured\\': \\'The cost incurred for capturing and storing one metric ton of CO2, measured in currency (e.g., USD) per metric ton of CO2 captured.\\', \\'Storage capacity\\': \\'The total amount of CO2 that can be stored in the chosen storage method, measured in metric tons.\\', \\'Permanence\\': \\'The long-term stability and permanence of the captured CO2, ensuring it remains securely stored and does not re-enter the atmosphere.\\', \\'Energy consumption\\': \\'The amount of energy required for the carbon capture process, measured in kilowatt-hours per metric ton of CO2 captured.\\', \\'Environmental impact\\': \\'The assessment of the carbon capture process on the environment, including factors such as water usage, land requirements, and potential leakage risks.\\', \\'Easily measurable\\': \\'The ease and accuracy with which the key metrics can be measured and monitored to track progress towards capturing 1 Gt of CO2 per year.\\'}\\n\\nTask:\\nWhat are the SOTA approaches in achieving the objective? Outline both the proposition of why it might be the ideal approach, and the opposition of what the answer\\'s biggest weaknesses might be to make it not the ideal approach. Then, suggest potential solutions for how the approach could be improved to better achieve the objective.\\n\\nThe output should be in JSON format: \\n```json\\n{\\n  \"<insert unique index>\" : {\\n    \"approach\": \"<insert approach description>\",\\n    \"proposition\": \"<insert reasons why the approach might be the ideal approach>\",\\n    \"opposition\": \"<insert reasons why the approach might not be the ideal approach>\",\\n    \"opportunities\": \"<insert potential solutions for how the approach could be improved>\"\\n  },\\n  etc.\\n}\\n\\nRespond only with the output, with no explanation or conversation. I expect a first-rate answer.\\n'}]\n",
      "Completion info:  {\n",
      "  \"choices\": [\n",
      "    {\n",
      "      \"finish_reason\": \"stop\",\n",
      "      \"index\": 0,\n",
      "      \"message\": {\n",
      "        \"content\": \"{\\n  \\\"1\\\": {\\n    \\\"approach\\\": \\\"Direct Air Capture (DAC) with Carbon Storage\\\",\\n    \\\"proposition\\\": \\\"DAC with carbon storage is an ideal approach as it directly captures CO2 from the atmosphere and stores it in a secure manner. It has the potential to capture large amounts of CO2 and can be deployed in various locations, making it a scalable solution.\\\",\\n    \\\"opposition\\\": \\\"The biggest weakness of DAC with carbon storage is its high cost per metric ton of CO2 captured. The energy consumption is also significant, requiring a substantial amount of electricity. Additionally, the storage capacity of certain methods may be limited, requiring frequent transportation and storage infrastructure.\\\",\\n    \\\"opportunities\\\": \\\"To improve this approach, research and development efforts should focus on reducing the cost per metric ton of CO2 captured and minimizing the energy consumption. Advancements in carbon capture technologies and materials can help achieve these goals. Additionally, exploring alternative storage methods with higher capacity and lower leakage risks can enhance the effectiveness of DAC with carbon storage.\\\"\\n  },\\n  \\\"2\\\": {\\n    \\\"approach\\\": \\\"Enhanced Weathering\\\",\\n    \\\"proposition\\\": \\\"Enhanced weathering involves accelerating natural weathering processes to capture CO2 by spreading minerals that react with CO2 on land or in the ocean. It has the potential to capture significant amounts of CO2 and can utilize existing natural processes.\\\",\\n    \\\"opposition\\\": \\\"The biggest weakness of enhanced weathering is the large land or ocean area required for implementation. It may also have potential environmental impacts, such as altering soil composition or affecting marine ecosystems. The feasibility of large-scale implementation and the permanence of captured CO2 need to be carefully assessed.\\\",\\n    \\\"opportunities\\\": \\\"To improve this approach, research can focus on identifying minerals that are abundant, easily accessible, and have high reactivity with CO2. Developing techniques to enhance the efficiency of mineral carbonation and minimize environmental impacts will be crucial. Additionally, exploring innovative methods for spreading minerals effectively and efficiently can help overcome the challenges associated with land or ocean area requirements.\\\"\\n  },\\n  \\\"3\\\": {\\n    \\\"approach\\\": \\\"Bioenergy with Carbon Capture and Storage (BECCS)\\\",\\n    \\\"proposition\\\": \\\"BECCS involves generating energy from biomass while capturing and storing the CO2 emissions. It has the potential to achieve negative emissions by removing CO2 from the atmosphere. BECCS can utilize existing biomass resources and infrastructure, making it a feasible approach.\\\",\\n    \\\"opposition\\\": \\\"The biggest weakness of BECCS is the competition for land and resources between biomass production for energy and other essential purposes like food production. The storage capacity of CO2 may also be limited, requiring long-term monitoring and potential leakage prevention. Additionally, the energy consumption and cost per metric ton of CO2 captured need to be optimized.\\\",\\n    \\\"opportunities\\\": \\\"To improve this approach, research can focus on developing sustainable biomass feedstocks that do not compete with food production. Enhancing the efficiency of biomass conversion and CO2 capture technologies can help reduce energy consumption and cost. Exploring alternative storage methods with higher capacity and long-term stability can also enhance the effectiveness of BECCS.\\\"\\n  }\\n}\",\n",
      "        \"role\": \"assistant\"\n",
      "      }\n",
      "    }\n",
      "  ],\n",
      "  \"created\": 1691524617,\n",
      "  \"id\": \"chatcmpl-7lN73wpwWszXtljqaOWInsg7BIkkt\",\n",
      "  \"model\": \"gpt-3.5-turbo-0613\",\n",
      "  \"object\": \"chat.completion\",\n",
      "  \"usage\": {\n",
      "    \"completion_tokens\": 645,\n",
      "    \"prompt_tokens\": 498,\n",
      "    \"total_tokens\": 1143\n",
      "  }\n",
      "}\n",
      "{'1': {'approach': 'Direct Air Capture (DAC) with Carbon Storage', 'proposition': 'DAC with carbon storage is an ideal approach as it directly captures CO2 from the atmosphere and stores it in a secure manner. It has the potential to capture large amounts of CO2 and can be deployed in various locations, making it a scalable solution.', 'opposition': 'The biggest weakness of DAC with carbon storage is its high cost per metric ton of CO2 captured. The energy consumption is also significant, requiring a substantial amount of electricity. Additionally, the storage capacity of certain methods may be limited, requiring frequent transportation and storage infrastructure.', 'opportunities': 'To improve this approach, research and development efforts should focus on reducing the cost per metric ton of CO2 captured and minimizing the energy consumption. Advancements in carbon capture technologies and materials can help achieve these goals. Additionally, exploring alternative storage methods with higher capacity and lower leakage risks can enhance the effectiveness of DAC with carbon storage.'}, '2': {'approach': 'Enhanced Weathering', 'proposition': 'Enhanced weathering involves accelerating natural weathering processes to capture CO2 by spreading minerals that react with CO2 on land or in the ocean. It has the potential to capture significant amounts of CO2 and can utilize existing natural processes.', 'opposition': 'The biggest weakness of enhanced weathering is the large land or ocean area required for implementation. It may also have potential environmental impacts, such as altering soil composition or affecting marine ecosystems. The feasibility of large-scale implementation and the permanence of captured CO2 need to be carefully assessed.', 'opportunities': 'To improve this approach, research can focus on identifying minerals that are abundant, easily accessible, and have high reactivity with CO2. Developing techniques to enhance the efficiency of mineral carbonation and minimize environmental impacts will be crucial. Additionally, exploring innovative methods for spreading minerals effectively and efficiently can help overcome the challenges associated with land or ocean area requirements.'}, '3': {'approach': 'Bioenergy with Carbon Capture and Storage (BECCS)', 'proposition': 'BECCS involves generating energy from biomass while capturing and storing the CO2 emissions. It has the potential to achieve negative emissions by removing CO2 from the atmosphere. BECCS can utilize existing biomass resources and infrastructure, making it a feasible approach.', 'opposition': 'The biggest weakness of BECCS is the competition for land and resources between biomass production for energy and other essential purposes like food production. The storage capacity of CO2 may also be limited, requiring long-term monitoring and potential leakage prevention. Additionally, the energy consumption and cost per metric ton of CO2 captured need to be optimized.', 'opportunities': 'To improve this approach, research can focus on developing sustainable biomass feedstocks that do not compete with food production. Enhancing the efficiency of biomass conversion and CO2 capture technologies can help reduce energy consumption and cost. Exploring alternative storage methods with higher capacity and long-term stability can also enhance the effectiveness of BECCS.'}}\n"
     ]
    }
   ],
   "source": [
    "# Evaluation\n",
    "prompt = f'''\n",
    "Objective: \n",
    "{objective}\n",
    "\n",
    "Key metrics:\n",
    "{focus_metrics}\n",
    "\n",
    "Task:\n",
    "What are the SOTA approaches in achieving the objective? Outline both the proposition of why it might be the ideal approach, and the opposition of what the answer's biggest weaknesses might be to make it not the ideal approach. Then, suggest potential solutions for how the approach could be improved to better achieve the objective.\n",
    "\n",
    "The output should be in JSON format: \n",
    "```json\n",
    "{{\n",
    "  \"<insert unique index>\" : {{\n",
    "    \"approach\": \"<insert approach description>\",\n",
    "    \"proposition\": \"<insert reasons why the approach might be the ideal approach>\",\n",
    "    \"opposition\": \"<insert reasons why the approach might not be the ideal approach>\",\n",
    "    \"opportunities\": \"<insert potential solutions for how the approach could be improved>\"\n",
    "  }},\n",
    "  etc.\n",
    "}}\n",
    "\n",
    "Respond only with the output, with no explanation or conversation. I expect a first-rate answer.\n",
    "'''\n",
    "sota = json.loads(chat_openai(prompt, model=\"gpt-3.5-turbo\")[0])\n",
    "print(sota)"
   ]
  },
  {
   "cell_type": "markdown",
   "metadata": {},
   "source": [
    "### Identify current gaps and promising research opportunities"
   ]
  },
  {
   "cell_type": "code",
   "execution_count": 12,
   "metadata": {},
   "outputs": [
    {
     "name": "stdout",
     "output_type": "stream",
     "text": [
      "Prompt messages:  [{'role': 'system', 'content': 'You are a helpful and educated carbon capture research consultant and an educated and helpful researcher and programmer. Answer as correctly, clearly, and concisely as possible.'}, {'role': 'user', 'content': '\\nObjective: \\nCarbon capture 1 Gt of CO2 per year ASAP\\n\\nKey metrics:\\n{\\'CO2 capture rate\\': \\'The rate at which CO2 is captured and removed from the atmosphere, measured in metric tons per year.\\', \\'Feasibility\\': \\'The assessment of the practicality and achievability of capturing 1 Gt of CO2 per year, considering technological, economic, and logistical factors.\\', \\'Cost per metric ton of CO2 captured\\': \\'The cost incurred for capturing and storing one metric ton of CO2, measured in currency (e.g., USD) per metric ton of CO2 captured.\\', \\'Storage capacity\\': \\'The total amount of CO2 that can be stored in the chosen storage method, measured in metric tons.\\', \\'Permanence\\': \\'The long-term stability and permanence of the captured CO2, ensuring it remains securely stored and does not re-enter the atmosphere.\\', \\'Energy consumption\\': \\'The amount of energy required for the carbon capture process, measured in kilowatt-hours per metric ton of CO2 captured.\\', \\'Environmental impact\\': \\'The assessment of the carbon capture process on the environment, including factors such as water usage, land requirements, and potential leakage risks.\\', \\'Easily measurable\\': \\'The ease and accuracy with which the key metrics can be measured and monitored to track progress towards capturing 1 Gt of CO2 per year.\\'}\\n\\nSOTA:\\n{\\'1\\': {\\'approach\\': \\'Direct Air Capture (DAC) with Carbon Storage\\', \\'proposition\\': \\'DAC with carbon storage is an ideal approach as it directly captures CO2 from the atmosphere and stores it in a secure manner. It has the potential to capture large amounts of CO2 and can be deployed in various locations, making it a scalable solution.\\', \\'opposition\\': \\'The biggest weakness of DAC with carbon storage is its high cost per metric ton of CO2 captured. The energy consumption is also significant, requiring a substantial amount of electricity. Additionally, the storage capacity of certain methods may be limited, requiring frequent transportation and storage infrastructure.\\', \\'opportunities\\': \\'To improve this approach, research and development efforts should focus on reducing the cost per metric ton of CO2 captured and minimizing the energy consumption. Advancements in carbon capture technologies and materials can help achieve these goals. Additionally, exploring alternative storage methods with higher capacity and lower leakage risks can enhance the effectiveness of DAC with carbon storage.\\'}, \\'2\\': {\\'approach\\': \\'Enhanced Weathering\\', \\'proposition\\': \\'Enhanced weathering involves accelerating natural weathering processes to capture CO2 by spreading minerals that react with CO2 on land or in the ocean. It has the potential to capture significant amounts of CO2 and can utilize existing natural processes.\\', \\'opposition\\': \\'The biggest weakness of enhanced weathering is the large land or ocean area required for implementation. It may also have potential environmental impacts, such as altering soil composition or affecting marine ecosystems. The feasibility of large-scale implementation and the permanence of captured CO2 need to be carefully assessed.\\', \\'opportunities\\': \\'To improve this approach, research can focus on identifying minerals that are abundant, easily accessible, and have high reactivity with CO2. Developing techniques to enhance the efficiency of mineral carbonation and minimize environmental impacts will be crucial. Additionally, exploring innovative methods for spreading minerals effectively and efficiently can help overcome the challenges associated with land or ocean area requirements.\\'}, \\'3\\': {\\'approach\\': \\'Bioenergy with Carbon Capture and Storage (BECCS)\\', \\'proposition\\': \\'BECCS involves generating energy from biomass while capturing and storing the CO2 emissions. It has the potential to achieve negative emissions by removing CO2 from the atmosphere. BECCS can utilize existing biomass resources and infrastructure, making it a feasible approach.\\', \\'opposition\\': \\'The biggest weakness of BECCS is the competition for land and resources between biomass production for energy and other essential purposes like food production. The storage capacity of CO2 may also be limited, requiring long-term monitoring and potential leakage prevention. Additionally, the energy consumption and cost per metric ton of CO2 captured need to be optimized.\\', \\'opportunities\\': \\'To improve this approach, research can focus on developing sustainable biomass feedstocks that do not compete with food production. Enhancing the efficiency of biomass conversion and CO2 capture technologies can help reduce energy consumption and cost. Exploring alternative storage methods with higher capacity and long-term stability can also enhance the effectiveness of BECCS.\\'}}\\n\\nTask:\\nSuppose each metric was rated on a scale of 1 to 10, with 10 being a perfect solution and 1 being unable to deploy because the solution is terrible based on this metric. Rate each approach. \\n\\nThe output should be in JSON format: \\n```json\\n{\\n  \"<insert unique index>\" : {\\n    \"approach\": \"<insert approach description>\",\\n    \"<insert key metric>\": \"<insert numerical rating>\",\\n    etc.\\n  },\\n  etc.\\n}\\n\\nRespond only with the output, with no explanation or conversation. I expect a first rate answer.\\n'}]\n",
      "Completion info:  {\n",
      "  \"choices\": [\n",
      "    {\n",
      "      \"finish_reason\": \"stop\",\n",
      "      \"index\": 0,\n",
      "      \"message\": {\n",
      "        \"content\": \"{\\n  \\\"1\\\": {\\n    \\\"approach\\\": \\\"Direct Air Capture (DAC) with Carbon Storage\\\",\\n    \\\"CO2 capture rate\\\": \\\"8\\\",\\n    \\\"Feasibility\\\": \\\"6\\\",\\n    \\\"Cost per metric ton of CO2 captured\\\": \\\"2\\\",\\n    \\\"Storage capacity\\\": \\\"7\\\",\\n    \\\"Permanence\\\": \\\"9\\\",\\n    \\\"Energy consumption\\\": \\\"3\\\",\\n    \\\"Environmental impact\\\": \\\"5\\\",\\n    \\\"Easily measurable\\\": \\\"8\\\"\\n  },\\n  \\\"2\\\": {\\n    \\\"approach\\\": \\\"Enhanced Weathering\\\",\\n    \\\"CO2 capture rate\\\": \\\"7\\\",\\n    \\\"Feasibility\\\": \\\"5\\\",\\n    \\\"Cost per metric ton of CO2 captured\\\": \\\"4\\\",\\n    \\\"Storage capacity\\\": \\\"6\\\",\\n    \\\"Permanence\\\": \\\"7\\\",\\n    \\\"Energy consumption\\\": \\\"6\\\",\\n    \\\"Environmental impact\\\": \\\"6\\\",\\n    \\\"Easily measurable\\\": \\\"7\\\"\\n  },\\n  \\\"3\\\": {\\n    \\\"approach\\\": \\\"Bioenergy with Carbon Capture and Storage (BECCS)\\\",\\n    \\\"CO2 capture rate\\\": \\\"9\\\",\\n    \\\"Feasibility\\\": \\\"7\\\",\\n    \\\"Cost per metric ton of CO2 captured\\\": \\\"5\\\",\\n    \\\"Storage capacity\\\": \\\"6\\\",\\n    \\\"Permanence\\\": \\\"8\\\",\\n    \\\"Energy consumption\\\": \\\"7\\\",\\n    \\\"Environmental impact\\\": \\\"7\\\",\\n    \\\"Easily measurable\\\": \\\"9\\\"\\n  }\\n}\",\n",
      "        \"role\": \"assistant\"\n",
      "      }\n",
      "    }\n",
      "  ],\n",
      "  \"created\": 1691524641,\n",
      "  \"id\": \"chatcmpl-7lN7RMuGYNuulGvytxMWBJZ2AQwkR\",\n",
      "  \"model\": \"gpt-3.5-turbo-0613\",\n",
      "  \"object\": \"chat.completion\",\n",
      "  \"usage\": {\n",
      "    \"completion_tokens\": 293,\n",
      "    \"prompt_tokens\": 1068,\n",
      "    \"total_tokens\": 1361\n",
      "  }\n",
      "}\n",
      "{'1': {'approach': 'Direct Air Capture (DAC) with Carbon Storage', 'CO2 capture rate': '8', 'Feasibility': '6', 'Cost per metric ton of CO2 captured': '2', 'Storage capacity': '7', 'Permanence': '9', 'Energy consumption': '3', 'Environmental impact': '5', 'Easily measurable': '8'}, '2': {'approach': 'Enhanced Weathering', 'CO2 capture rate': '7', 'Feasibility': '5', 'Cost per metric ton of CO2 captured': '4', 'Storage capacity': '6', 'Permanence': '7', 'Energy consumption': '6', 'Environmental impact': '6', 'Easily measurable': '7'}, '3': {'approach': 'Bioenergy with Carbon Capture and Storage (BECCS)', 'CO2 capture rate': '9', 'Feasibility': '7', 'Cost per metric ton of CO2 captured': '5', 'Storage capacity': '6', 'Permanence': '8', 'Energy consumption': '7', 'Environmental impact': '7', 'Easily measurable': '9'}}\n"
     ]
    }
   ],
   "source": [
    "# Rating SOTA\n",
    "prompt = f'''\n",
    "Objective: \n",
    "{objective}\n",
    "\n",
    "Key metrics:\n",
    "{focus_metrics}\n",
    "\n",
    "SOTA:\n",
    "{sota}\n",
    "\n",
    "Task:\n",
    "Suppose each metric was rated on a scale of 1 to 10, with 10 being a perfect solution and 1 being unable to deploy because the solution is terrible based on this metric. Rate each approach. \n",
    "\n",
    "The output should be in JSON format: \n",
    "```json\n",
    "{{\n",
    "  \"<insert unique index>\" : {{\n",
    "    \"approach\": \"<insert approach description>\",\n",
    "    \"<insert key metric>\": \"<insert numerical rating>\",\n",
    "    etc.\n",
    "  }},\n",
    "  etc.\n",
    "}}\n",
    "\n",
    "Respond only with the output, with no explanation or conversation. I expect a first rate answer.\n",
    "'''\n",
    "sota_rating = json.loads(chat_openai(prompt, model=\"gpt-3.5-turbo\")[0])\n",
    "print(sota_rating)"
   ]
  },
  {
   "cell_type": "code",
   "execution_count": 13,
   "metadata": {},
   "outputs": [
    {
     "name": "stdout",
     "output_type": "stream",
     "text": [
      "Prompt messages:  [{'role': 'system', 'content': 'You are a helpful and educated carbon capture research consultant and an educated and helpful researcher and programmer. Answer as correctly, clearly, and concisely as possible.'}, {'role': 'user', 'content': '\\nObjective: \\nCarbon capture 1 Gt of CO2 per year ASAP\\n\\nKey metrics:\\n{\\'CO2 capture rate\\': \\'The rate at which CO2 is captured and removed from the atmosphere, measured in metric tons per year.\\', \\'Feasibility\\': \\'The assessment of the practicality and achievability of capturing 1 Gt of CO2 per year, considering technological, economic, and logistical factors.\\', \\'Cost per metric ton of CO2 captured\\': \\'The cost incurred for capturing and storing one metric ton of CO2, measured in currency (e.g., USD) per metric ton of CO2 captured.\\', \\'Storage capacity\\': \\'The total amount of CO2 that can be stored in the chosen storage method, measured in metric tons.\\', \\'Permanence\\': \\'The long-term stability and permanence of the captured CO2, ensuring it remains securely stored and does not re-enter the atmosphere.\\', \\'Energy consumption\\': \\'The amount of energy required for the carbon capture process, measured in kilowatt-hours per metric ton of CO2 captured.\\', \\'Environmental impact\\': \\'The assessment of the carbon capture process on the environment, including factors such as water usage, land requirements, and potential leakage risks.\\', \\'Easily measurable\\': \\'The ease and accuracy with which the key metrics can be measured and monitored to track progress towards capturing 1 Gt of CO2 per year.\\'}\\n\\nSOTA ratings:\\n{\\'1\\': {\\'approach\\': \\'Direct Air Capture (DAC) with Carbon Storage\\', \\'CO2 capture rate\\': \\'8\\', \\'Feasibility\\': \\'6\\', \\'Cost per metric ton of CO2 captured\\': \\'2\\', \\'Storage capacity\\': \\'7\\', \\'Permanence\\': \\'9\\', \\'Energy consumption\\': \\'3\\', \\'Environmental impact\\': \\'5\\', \\'Easily measurable\\': \\'8\\'}, \\'2\\': {\\'approach\\': \\'Enhanced Weathering\\', \\'CO2 capture rate\\': \\'7\\', \\'Feasibility\\': \\'5\\', \\'Cost per metric ton of CO2 captured\\': \\'4\\', \\'Storage capacity\\': \\'6\\', \\'Permanence\\': \\'7\\', \\'Energy consumption\\': \\'6\\', \\'Environmental impact\\': \\'6\\', \\'Easily measurable\\': \\'7\\'}, \\'3\\': {\\'approach\\': \\'Bioenergy with Carbon Capture and Storage (BECCS)\\', \\'CO2 capture rate\\': \\'9\\', \\'Feasibility\\': \\'7\\', \\'Cost per metric ton of CO2 captured\\': \\'5\\', \\'Storage capacity\\': \\'6\\', \\'Permanence\\': \\'8\\', \\'Energy consumption\\': \\'7\\', \\'Environmental impact\\': \\'7\\', \\'Easily measurable\\': \\'9\\'}}\\n\\nTask:\\nBased on SOTA ratings and the key metrics which are ranked from most important to least, rerank SOTA approaches based on the their ratings.\\n\\nThe output should be in JSON format: \\n```json\\n{\\n  \"<insert unique index>\" : {\\n    \"approach\": \"<insert approach description>\",\\n    \"<insert key metric>\": \"<insert numerical rating>\",\\n    etc.\\n  },\\n  etc.\\n}\\n\\nRespond only with the output, with no explanation or conversation. I expect a first rate answer.\\n'}]\n",
      "Completion info:  {\n",
      "  \"choices\": [\n",
      "    {\n",
      "      \"finish_reason\": \"stop\",\n",
      "      \"index\": 0,\n",
      "      \"message\": {\n",
      "        \"content\": \"{\\n  \\\"1\\\": {\\n    \\\"approach\\\": \\\"Bioenergy with Carbon Capture and Storage (BECCS)\\\",\\n    \\\"CO2 capture rate\\\": \\\"9\\\",\\n    \\\"Feasibility\\\": \\\"7\\\",\\n    \\\"Cost per metric ton of CO2 captured\\\": \\\"5\\\",\\n    \\\"Storage capacity\\\": \\\"6\\\",\\n    \\\"Permanence\\\": \\\"8\\\",\\n    \\\"Energy consumption\\\": \\\"7\\\",\\n    \\\"Environmental impact\\\": \\\"7\\\",\\n    \\\"Easily measurable\\\": \\\"9\\\"\\n  },\\n  \\\"2\\\": {\\n    \\\"approach\\\": \\\"Direct Air Capture (DAC) with Carbon Storage\\\",\\n    \\\"CO2 capture rate\\\": \\\"8\\\",\\n    \\\"Feasibility\\\": \\\"6\\\",\\n    \\\"Cost per metric ton of CO2 captured\\\": \\\"2\\\",\\n    \\\"Storage capacity\\\": \\\"7\\\",\\n    \\\"Permanence\\\": \\\"9\\\",\\n    \\\"Energy consumption\\\": \\\"3\\\",\\n    \\\"Environmental impact\\\": \\\"5\\\",\\n    \\\"Easily measurable\\\": \\\"8\\\"\\n  },\\n  \\\"3\\\": {\\n    \\\"approach\\\": \\\"Enhanced Weathering\\\",\\n    \\\"CO2 capture rate\\\": \\\"7\\\",\\n    \\\"Feasibility\\\": \\\"5\\\",\\n    \\\"Cost per metric ton of CO2 captured\\\": \\\"4\\\",\\n    \\\"Storage capacity\\\": \\\"6\\\",\\n    \\\"Permanence\\\": \\\"7\\\",\\n    \\\"Energy consumption\\\": \\\"6\\\",\\n    \\\"Environmental impact\\\": \\\"6\\\",\\n    \\\"Easily measurable\\\": \\\"7\\\"\\n  }\\n}\",\n",
      "        \"role\": \"assistant\"\n",
      "      }\n",
      "    }\n",
      "  ],\n",
      "  \"created\": 1691524651,\n",
      "  \"id\": \"chatcmpl-7lN7bY4FsynU9iQhAjEK2C301LPBO\",\n",
      "  \"model\": \"gpt-3.5-turbo-0613\",\n",
      "  \"object\": \"chat.completion\",\n",
      "  \"usage\": {\n",
      "    \"completion_tokens\": 293,\n",
      "    \"prompt_tokens\": 684,\n",
      "    \"total_tokens\": 977\n",
      "  }\n",
      "}\n",
      "{'1': {'approach': 'Bioenergy with Carbon Capture and Storage (BECCS)', 'CO2 capture rate': '9', 'Feasibility': '7', 'Cost per metric ton of CO2 captured': '5', 'Storage capacity': '6', 'Permanence': '8', 'Energy consumption': '7', 'Environmental impact': '7', 'Easily measurable': '9'}, '2': {'approach': 'Direct Air Capture (DAC) with Carbon Storage', 'CO2 capture rate': '8', 'Feasibility': '6', 'Cost per metric ton of CO2 captured': '2', 'Storage capacity': '7', 'Permanence': '9', 'Energy consumption': '3', 'Environmental impact': '5', 'Easily measurable': '8'}, '3': {'approach': 'Enhanced Weathering', 'CO2 capture rate': '7', 'Feasibility': '5', 'Cost per metric ton of CO2 captured': '4', 'Storage capacity': '6', 'Permanence': '7', 'Energy consumption': '6', 'Environmental impact': '6', 'Easily measurable': '7'}}\n"
     ]
    }
   ],
   "source": [
    "# Reprioritizing SOTA\n",
    "prompt = f'''\n",
    "Objective: \n",
    "{objective}\n",
    "\n",
    "Key metrics:\n",
    "{focus_metrics}\n",
    "\n",
    "SOTA ratings:\n",
    "{sota_rating}\n",
    "\n",
    "Task:\n",
    "Based on SOTA ratings and the key metrics which are ranked from most important to least, rerank SOTA approaches based on the their ratings.\n",
    "\n",
    "The output should be in JSON format: \n",
    "```json\n",
    "{{\n",
    "  \"<insert unique index>\" : {{\n",
    "    \"approach\": \"<insert approach description>\",\n",
    "    \"<insert key metric>\": \"<insert numerical rating>\",\n",
    "    etc.\n",
    "  }},\n",
    "  etc.\n",
    "}}\n",
    "\n",
    "Respond only with the output, with no explanation or conversation. I expect a first rate answer.\n",
    "'''\n",
    "sota_ranked = json.loads(chat_openai(prompt, model=\"gpt-3.5-turbo\")[0])\n",
    "print(sota_ranked)"
   ]
  },
  {
   "cell_type": "code",
   "execution_count": 19,
   "metadata": {},
   "outputs": [
    {
     "data": {
      "text/plain": [
       "{'approach': 'Direct Air Capture (DAC) with Carbon Storage',\n",
       " 'CO2 capture rate': '8',\n",
       " 'Feasibility': '6',\n",
       " 'Cost per metric ton of CO2 captured': '2',\n",
       " 'Storage capacity': '7',\n",
       " 'Permanence': '9',\n",
       " 'Energy consumption': '3',\n",
       " 'Environmental impact': '5',\n",
       " 'Easily measurable': '8'}"
      ]
     },
     "execution_count": 19,
     "metadata": {},
     "output_type": "execute_result"
    }
   ],
   "source": [
    "# Just taking first 2 for PoC\n",
    "focus_approach = sota_ranked['2']\n",
    "focus_approach"
   ]
  },
  {
   "cell_type": "markdown",
   "metadata": {},
   "source": [
    "### Elaborate on current gaps in order to identify promising research opportunities"
   ]
  },
  {
   "cell_type": "code",
   "execution_count": 23,
   "metadata": {},
   "outputs": [
    {
     "name": "stdout",
     "output_type": "stream",
     "text": [
      "{'approach': 'Direct Air Capture (DAC) with Carbon Storage', 'proposition': 'DAC with carbon storage is an ideal approach as it directly captures CO2 from the atmosphere and stores it in a secure manner. It has the potential to capture large amounts of CO2 and can be deployed in various locations, making it a scalable solution.', 'opposition': 'The biggest weakness of DAC with carbon storage is its high cost per metric ton of CO2 captured. The energy consumption is also significant, requiring a substantial amount of electricity. Additionally, the storage capacity of certain methods may be limited, requiring frequent transportation and storage infrastructure.', 'opportunities': 'To improve this approach, research and development efforts should focus on reducing the cost per metric ton of CO2 captured and minimizing the energy consumption. Advancements in carbon capture technologies and materials can help achieve these goals. Additionally, exploring alternative storage methods with higher capacity and lower leakage risks can enhance the effectiveness of DAC with carbon storage.'}\n"
     ]
    }
   ],
   "source": [
    "approach_to_extract = focus_approach['approach']\n",
    "approach_info = None\n",
    "\n",
    "for key, value in sota.items():\n",
    "    if value['approach'] == approach_to_extract:\n",
    "        approach_info = value\n",
    "        break\n",
    "print(approach_info)"
   ]
  },
  {
   "cell_type": "code",
   "execution_count": 28,
   "metadata": {},
   "outputs": [
    {
     "name": "stdout",
     "output_type": "stream",
     "text": [
      "Prompt messages:  [{'role': 'system', 'content': 'You are a helpful and educated carbon capture research consultant and an educated and helpful researcher and programmer. Answer as correctly, clearly, and concisely as possible.'}, {'role': 'user', 'content': '\\nObjective: \\nCarbon capture 1 Gt of CO2 per year ASAP\\n\\nKey metrics:\\n{\\'CO2 capture rate\\': \\'The rate at which CO2 is captured and removed from the atmosphere, measured in metric tons per year.\\', \\'Feasibility\\': \\'The assessment of the practicality and achievability of capturing 1 Gt of CO2 per year, considering technological, economic, and logistical factors.\\', \\'Cost per metric ton of CO2 captured\\': \\'The cost incurred for capturing and storing one metric ton of CO2, measured in currency (e.g., USD) per metric ton of CO2 captured.\\', \\'Storage capacity\\': \\'The total amount of CO2 that can be stored in the chosen storage method, measured in metric tons.\\', \\'Permanence\\': \\'The long-term stability and permanence of the captured CO2, ensuring it remains securely stored and does not re-enter the atmosphere.\\', \\'Energy consumption\\': \\'The amount of energy required for the carbon capture process, measured in kilowatt-hours per metric ton of CO2 captured.\\', \\'Environmental impact\\': \\'The assessment of the carbon capture process on the environment, including factors such as water usage, land requirements, and potential leakage risks.\\', \\'Easily measurable\\': \\'The ease and accuracy with which the key metrics can be measured and monitored to track progress towards capturing 1 Gt of CO2 per year.\\'}\\n\\nExisting approach:\\n{\\'approach\\': \\'Direct Air Capture (DAC) with Carbon Storage\\', \\'proposition\\': \\'DAC with carbon storage is an ideal approach as it directly captures CO2 from the atmosphere and stores it in a secure manner. It has the potential to capture large amounts of CO2 and can be deployed in various locations, making it a scalable solution.\\', \\'opposition\\': \\'The biggest weakness of DAC with carbon storage is its high cost per metric ton of CO2 captured. The energy consumption is also significant, requiring a substantial amount of electricity. Additionally, the storage capacity of certain methods may be limited, requiring frequent transportation and storage infrastructure.\\', \\'opportunities\\': \\'To improve this approach, research and development efforts should focus on reducing the cost per metric ton of CO2 captured and minimizing the energy consumption. Advancements in carbon capture technologies and materials can help achieve these goals. Additionally, exploring alternative storage methods with higher capacity and lower leakage risks can enhance the effectiveness of DAC with carbon storage.\\'}\\n\\nTask:\\nWhat are the existing approach\\'s limitations in achieving the objective based on the key metrics? Critically expand and analyze both the proposition of why it might be the ideal approach, and the opposition of what the answer\\'s biggest limitations might be that make it not the ideal approach. Then, identify the specific limitations of the existing approach and the specific metrics than an ideal approach should instead possess to overcome the limitation. \\n\\nThe output should be in JSON format: \\n```json\\n{\\n  \"approach\": \"<insert approach description>\",\\n  \"proposition\": \"<insert analysis and reasons why the approach might be the ideal approach>\",\\n  \"opposition\": \"<insert analysis and reasons why the approach might not be the ideal approach>\",\\n  \"limitations\": {\\n    \"<insert unique index>\": {\\n      \"limitation\": \"<insert limitation description>\",\\n      \"metric\": \"<insert metric that the ideal approach should possess to overcome the limitation>\"\\n    }\\n    etc.\\n  }\\n}\\n\\nRespond only with the output, with no explanation or conversation. I expect a first rate answer.\\n'}]\n",
      "Completion info:  {\n",
      "  \"choices\": [\n",
      "    {\n",
      "      \"finish_reason\": \"stop\",\n",
      "      \"index\": 0,\n",
      "      \"message\": {\n",
      "        \"content\": \"{\\n  \\\"approach\\\": \\\"Direct Air Capture (DAC) with Carbon Storage\\\",\\n  \\\"proposition\\\": \\\"DAC with carbon storage is an ideal approach as it directly captures CO2 from the atmosphere and stores it in a secure manner. It has the potential to capture large amounts of CO2 and can be deployed in various locations, making it a scalable solution.\\\",\\n  \\\"opposition\\\": \\\"The biggest weakness of DAC with carbon storage is its high cost per metric ton of CO2 captured. The energy consumption is also significant, requiring a substantial amount of electricity. Additionally, the storage capacity of certain methods may be limited, requiring frequent transportation and storage infrastructure.\\\",\\n  \\\"limitations\\\": {\\n    \\\"1\\\": {\\n      \\\"limitation\\\": \\\"High cost per metric ton of CO2 captured\\\",\\n      \\\"metric\\\": \\\"Cost per metric ton of CO2 captured\\\"\\n    },\\n    \\\"2\\\": {\\n      \\\"limitation\\\": \\\"Significant energy consumption\\\",\\n      \\\"metric\\\": \\\"Energy consumption\\\"\\n    },\\n    \\\"3\\\": {\\n      \\\"limitation\\\": \\\"Limited storage capacity\\\",\\n      \\\"metric\\\": \\\"Storage capacity\\\"\\n    }\\n  }\\n}\",\n",
      "        \"role\": \"assistant\"\n",
      "      }\n",
      "    }\n",
      "  ],\n",
      "  \"created\": 1691526281,\n",
      "  \"id\": \"chatcmpl-7lNXtnu41Ewooj94NjoZLkuiFQq2i\",\n",
      "  \"model\": \"gpt-3.5-turbo-0613\",\n",
      "  \"object\": \"chat.completion\",\n",
      "  \"usage\": {\n",
      "    \"completion_tokens\": 228,\n",
      "    \"prompt_tokens\": 741,\n",
      "    \"total_tokens\": 969\n",
      "  }\n",
      "}\n",
      "{'approach': 'Direct Air Capture (DAC) with Carbon Storage', 'proposition': 'DAC with carbon storage is an ideal approach as it directly captures CO2 from the atmosphere and stores it in a secure manner. It has the potential to capture large amounts of CO2 and can be deployed in various locations, making it a scalable solution.', 'opposition': 'The biggest weakness of DAC with carbon storage is its high cost per metric ton of CO2 captured. The energy consumption is also significant, requiring a substantial amount of electricity. Additionally, the storage capacity of certain methods may be limited, requiring frequent transportation and storage infrastructure.', 'limitations': {'1': {'limitation': 'High cost per metric ton of CO2 captured', 'metric': 'Cost per metric ton of CO2 captured'}, '2': {'limitation': 'Significant energy consumption', 'metric': 'Energy consumption'}, '3': {'limitation': 'Limited storage capacity', 'metric': 'Storage capacity'}}}\n"
     ]
    }
   ],
   "source": [
    "# Identify limitations of SOTA\n",
    "prompt = f'''\n",
    "Objective: \n",
    "{objective}\n",
    "\n",
    "Key metrics:\n",
    "{focus_metrics}\n",
    "\n",
    "Existing approach:\n",
    "{approach_info}\n",
    "\n",
    "Task:\n",
    "What are the existing approach's limitations in achieving the objective based on the key metrics? Critically expand and analyze both the proposition of why it might be the ideal approach, and the opposition of what the answer's biggest limitations might be that make it not the ideal approach. Then, identify the specific limitations of the existing approach and the specific metrics than an ideal approach should instead possess to overcome the limitation. \n",
    "\n",
    "The output should be in JSON format: \n",
    "```json\n",
    "{{\n",
    "  \"approach\": \"<insert approach description>\",\n",
    "  \"proposition\": \"<insert analysis and reasons why the approach might be the ideal approach>\",\n",
    "  \"opposition\": \"<insert analysis and reasons why the approach might not be the ideal approach>\",\n",
    "  \"limitations\": {{\n",
    "    \"<insert unique index>\": {{\n",
    "      \"limitation\": \"<insert limitation description>\",\n",
    "      \"metric\": \"<insert metric that the ideal approach should possess to overcome the limitation>\"\n",
    "    }}\n",
    "    etc.\n",
    "  }}\n",
    "}}\n",
    "\n",
    "Respond only with the output, with no explanation or conversation. I expect a first rate answer.\n",
    "'''\n",
    "approach_limitations = json.loads(chat_openai(prompt, model=\"gpt-3.5-turbo\")[0])\n",
    "print(approach_limitations)"
   ]
  },
  {
   "cell_type": "code",
   "execution_count": 30,
   "metadata": {},
   "outputs": [],
   "source": [
    "file_name = f'approach_limitations.json'\n",
    "\n",
    "with open(file_name, 'w', encoding='utf-8') as f:\n",
    "    json.dump(approach_limitations, f, indent=4)"
   ]
  },
  {
   "cell_type": "markdown",
   "metadata": {},
   "source": [
    "### Brainstorm reasonable approaches"
   ]
  },
  {
   "cell_type": "markdown",
   "metadata": {},
   "source": [
    "Strategies include:\n",
    "1) Try first principles\n",
    "2) Use crazy ideas with high temperature\n",
    "3) Do research to find all useful facts. (when I read, I try to ask myself, how could this be useful in achieving whatever goal? -- need to use reasoning and questions!)\n",
    "4) Try systems thinking"
   ]
  },
  {
   "cell_type": "markdown",
   "metadata": {},
   "source": [
    "#### First principles"
   ]
  },
  {
   "cell_type": "code",
   "execution_count": 31,
   "metadata": {},
   "outputs": [
    {
     "data": {
      "text/plain": [
       "{'approach': 'Direct Air Capture (DAC) with Carbon Storage',\n",
       " 'proposition': 'DAC with carbon storage is an ideal approach as it directly captures CO2 from the atmosphere and stores it in a secure manner. It has the potential to capture large amounts of CO2 and can be deployed in various locations, making it a scalable solution.',\n",
       " 'opposition': 'The biggest weakness of DAC with carbon storage is its high cost per metric ton of CO2 captured. The energy consumption is also significant, requiring a substantial amount of electricity. Additionally, the storage capacity of certain methods may be limited, requiring frequent transportation and storage infrastructure.',\n",
       " 'limitations': {'1': {'limitation': 'High cost per metric ton of CO2 captured',\n",
       "   'metric': 'Cost per metric ton of CO2 captured'},\n",
       "  '2': {'limitation': 'Significant energy consumption',\n",
       "   'metric': 'Energy consumption'},\n",
       "  '3': {'limitation': 'Limited storage capacity',\n",
       "   'metric': 'Storage capacity'}}}"
      ]
     },
     "execution_count": 31,
     "metadata": {},
     "output_type": "execute_result"
    }
   ],
   "source": [
    "approach = approach_limitations['approach']\n",
    "focus_limitations = approach_limitations['focus_limitations']"
   ]
  },
  {
   "cell_type": "code",
   "execution_count": 36,
   "metadata": {},
   "outputs": [
    {
     "name": "stdout",
     "output_type": "stream",
     "text": [
      "Prompt messages:  [{'role': 'system', 'content': 'You are a helpful and educated carbon capture research consultant and an educated and helpful researcher and programmer. Answer as correctly, clearly, and concisely as possible.'}, {'role': 'user', 'content': '\\nObjective: \\nCarbon capture 1 Gt of CO2 per year ASAP\\n\\nExisting approach and problems:\\n{\\'approach\\': \\'Direct Air Capture (DAC) with Carbon Storage\\', \\'proposition\\': \\'DAC with carbon storage is an ideal approach as it directly captures CO2 from the atmosphere and stores it in a secure manner. It has the potential to capture large amounts of CO2 and can be deployed in various locations, making it a scalable solution.\\', \\'opposition\\': \\'The biggest weakness of DAC with carbon storage is its high cost per metric ton of CO2 captured. The energy consumption is also significant, requiring a substantial amount of electricity. Additionally, the storage capacity of certain methods may be limited, requiring frequent transportation and storage infrastructure.\\', \\'limitations\\': {\\'1\\': {\\'limitation\\': \\'High cost per metric ton of CO2 captured\\', \\'metric\\': \\'Cost per metric ton of CO2 captured\\'}, \\'2\\': {\\'limitation\\': \\'Significant energy consumption\\', \\'metric\\': \\'Energy consumption\\'}, \\'3\\': {\\'limitation\\': \\'Limited storage capacity\\', \\'metric\\': \\'Storage capacity\\'}}}\\n\\nTask:\\nTo overcome the most important and first limitation, what are the first principles related that the ideal approach should account for to overcome the limitation?\\n\\nThe output should be in JSON format: \\n```json\\n{\\n    \"<insert unique index>\": \"<insert principle and description>\",\\n    etc.\\n}\\n\\nRespond only with the output, with no explanation or conversation. I expect a first rate answer.\\n'}]\n",
      "Completion info:  {\n",
      "  \"choices\": [\n",
      "    {\n",
      "      \"finish_reason\": \"stop\",\n",
      "      \"index\": 0,\n",
      "      \"message\": {\n",
      "        \"content\": \"{\\n    \\\"1\\\": \\\"Efficiency: The ideal approach should focus on improving the efficiency of the carbon capture process to reduce the cost per metric ton of CO2 captured. This can be achieved by optimizing the design and operation of the capture technology, minimizing energy requirements, and maximizing the utilization of captured CO2.\\\",\\n    \\\"2\\\": \\\"Innovation: The ideal approach should encourage innovation in carbon capture technologies to develop more cost-effective and energy-efficient solutions. This can involve investing in research and development, promoting collaboration between academia and industry, and providing incentives for the development of breakthrough technologies.\\\",\\n    \\\"3\\\": \\\"Economy of Scale: The ideal approach should leverage economies of scale to reduce the cost of carbon capture. This can be achieved by deploying large-scale carbon capture facilities that benefit from bulk purchasing of materials, streamlined operations, and shared infrastructure.\\\",\\n    \\\"4\\\": \\\"Policy Support: The ideal approach should have strong policy support to incentivize carbon capture deployment and reduce the cost burden. This can involve implementing carbon pricing mechanisms, providing financial incentives or subsidies for carbon capture projects, and establishing regulatory frameworks that facilitate the development and operation of carbon capture facilities.\\\",\\n    \\\"5\\\": \\\"Integration: The ideal approach should focus on integrating carbon capture technologies with existing industrial processes or energy generation systems. This can help reduce the overall cost by utilizing waste heat or byproduct streams for the carbon capture process, thereby minimizing additional energy requirements and infrastructure.\\\",\\n    \\\"6\\\": \\\"Public Awareness and Acceptance: The ideal approach should prioritize public awareness and acceptance of carbon capture technologies. This can involve education and outreach programs to inform the public about the importance and benefits of carbon capture, addressing concerns related to safety and environmental impacts, and fostering public support for the deployment of carbon capture projects.\\\"\\n}\",\n",
      "        \"role\": \"assistant\"\n",
      "      }\n",
      "    }\n",
      "  ],\n",
      "  \"created\": 1691546304,\n",
      "  \"id\": \"chatcmpl-7lSkq4SZPijKga5HJYsdFEHpfRDVb\",\n",
      "  \"model\": \"gpt-3.5-turbo-0613\",\n",
      "  \"object\": \"chat.completion\",\n",
      "  \"usage\": {\n",
      "    \"completion_tokens\": 352,\n",
      "    \"prompt_tokens\": 345,\n",
      "    \"total_tokens\": 697\n",
      "  }\n",
      "}\n",
      "{'1': 'Efficiency: The ideal approach should focus on improving the efficiency of the carbon capture process to reduce the cost per metric ton of CO2 captured. This can be achieved by optimizing the design and operation of the capture technology, minimizing energy requirements, and maximizing the utilization of captured CO2.', '2': 'Innovation: The ideal approach should encourage innovation in carbon capture technologies to develop more cost-effective and energy-efficient solutions. This can involve investing in research and development, promoting collaboration between academia and industry, and providing incentives for the development of breakthrough technologies.', '3': 'Economy of Scale: The ideal approach should leverage economies of scale to reduce the cost of carbon capture. This can be achieved by deploying large-scale carbon capture facilities that benefit from bulk purchasing of materials, streamlined operations, and shared infrastructure.', '4': 'Policy Support: The ideal approach should have strong policy support to incentivize carbon capture deployment and reduce the cost burden. This can involve implementing carbon pricing mechanisms, providing financial incentives or subsidies for carbon capture projects, and establishing regulatory frameworks that facilitate the development and operation of carbon capture facilities.', '5': 'Integration: The ideal approach should focus on integrating carbon capture technologies with existing industrial processes or energy generation systems. This can help reduce the overall cost by utilizing waste heat or byproduct streams for the carbon capture process, thereby minimizing additional energy requirements and infrastructure.', '6': 'Public Awareness and Acceptance: The ideal approach should prioritize public awareness and acceptance of carbon capture technologies. This can involve education and outreach programs to inform the public about the importance and benefits of carbon capture, addressing concerns related to safety and environmental impacts, and fostering public support for the deployment of carbon capture projects.'}\n"
     ]
    }
   ],
   "source": [
    "# Brainstorm solutions using first principles\n",
    "prompt = f'''\n",
    "Objective: \n",
    "{objective}\n",
    "\n",
    "Existing approach and problems:\n",
    "{approach_limitations}\n",
    "\n",
    "Task:\n",
    "To overcome the most important and first limitation, what are the first principles related that the ideal approach should account for to overcome the limitation?\n",
    "\n",
    "The output should be in JSON format: \n",
    "```json\n",
    "{{\n",
    "    \"<insert unique index>\": \"<insert principle and description>\",\n",
    "    etc.\n",
    "}}\n",
    "\n",
    "Respond only with the output, with no explanation or conversation. I expect a first rate answer.\n",
    "'''\n",
    "first_principles_1 = json.loads(chat_openai(prompt, model=\"gpt-3.5-turbo\")[0])\n",
    "print(first_principles_1)"
   ]
  },
  {
   "cell_type": "code",
   "execution_count": 37,
   "metadata": {},
   "outputs": [
    {
     "name": "stdout",
     "output_type": "stream",
     "text": [
      "Prompt messages:  [{'role': 'system', 'content': 'You are a helpful and educated carbon capture research consultant and an educated and helpful researcher and programmer. Answer as correctly, clearly, and concisely as possible.'}, {'role': 'user', 'content': '\\nObjective: \\nCarbon capture 1 Gt of CO2 per year ASAP\\n\\nExisting approach and problems:\\n{\\'approach\\': \\'Direct Air Capture (DAC) with Carbon Storage\\', \\'proposition\\': \\'DAC with carbon storage is an ideal approach as it directly captures CO2 from the atmosphere and stores it in a secure manner. It has the potential to capture large amounts of CO2 and can be deployed in various locations, making it a scalable solution.\\', \\'opposition\\': \\'The biggest weakness of DAC with carbon storage is its high cost per metric ton of CO2 captured. The energy consumption is also significant, requiring a substantial amount of electricity. Additionally, the storage capacity of certain methods may be limited, requiring frequent transportation and storage infrastructure.\\', \\'limitations\\': {\\'1\\': {\\'limitation\\': \\'High cost per metric ton of CO2 captured\\', \\'metric\\': \\'Cost per metric ton of CO2 captured\\'}, \\'2\\': {\\'limitation\\': \\'Significant energy consumption\\', \\'metric\\': \\'Energy consumption\\'}, \\'3\\': {\\'limitation\\': \\'Limited storage capacity\\', \\'metric\\': \\'Storage capacity\\'}}}\\n\\nFirst principles:\\n{\\'1\\': \\'Efficiency: The ideal approach should focus on improving the efficiency of the carbon capture process to reduce the cost per metric ton of CO2 captured. This can be achieved by optimizing the design and operation of the capture technology, minimizing energy requirements, and maximizing the utilization of captured CO2.\\', \\'2\\': \\'Innovation: The ideal approach should encourage innovation in carbon capture technologies to develop more cost-effective and energy-efficient solutions. This can involve investing in research and development, promoting collaboration between academia and industry, and providing incentives for the development of breakthrough technologies.\\', \\'3\\': \\'Economy of Scale: The ideal approach should leverage economies of scale to reduce the cost of carbon capture. This can be achieved by deploying large-scale carbon capture facilities that benefit from bulk purchasing of materials, streamlined operations, and shared infrastructure.\\', \\'4\\': \\'Policy Support: The ideal approach should have strong policy support to incentivize carbon capture deployment and reduce the cost burden. This can involve implementing carbon pricing mechanisms, providing financial incentives or subsidies for carbon capture projects, and establishing regulatory frameworks that facilitate the development and operation of carbon capture facilities.\\', \\'5\\': \\'Integration: The ideal approach should focus on integrating carbon capture technologies with existing industrial processes or energy generation systems. This can help reduce the overall cost by utilizing waste heat or byproduct streams for the carbon capture process, thereby minimizing additional energy requirements and infrastructure.\\', \\'6\\': \\'Public Awareness and Acceptance: The ideal approach should prioritize public awareness and acceptance of carbon capture technologies. This can involve education and outreach programs to inform the public about the importance and benefits of carbon capture, addressing concerns related to safety and environmental impacts, and fostering public support for the deployment of carbon capture projects.\\'}\\n\\nTask:\\nPrioritize these first principles by how large and sensitive they are to overcoming the limitation and achieving the objective.\\n\\nThe output should be in JSON format: \\n```json\\n{\\n    \"<insert unique index>\": \"<insert principle and description>\",\\n    etc.\\n}\\n\\nRespond only with the output, with no explanation or conversation. I expect a first rate answer.\\n'}]\n",
      "Completion info:  {\n",
      "  \"choices\": [\n",
      "    {\n",
      "      \"finish_reason\": \"stop\",\n",
      "      \"index\": 0,\n",
      "      \"message\": {\n",
      "        \"content\": \"{\\n    \\\"1\\\": \\\"Efficiency: The ideal approach should focus on improving the efficiency of the carbon capture process to reduce the cost per metric ton of CO2 captured. This can be achieved by optimizing the design and operation of the capture technology, minimizing energy requirements, and maximizing the utilization of captured CO2.\\\",\\n    \\\"2\\\": \\\"Economy of Scale: The ideal approach should leverage economies of scale to reduce the cost of carbon capture. This can be achieved by deploying large-scale carbon capture facilities that benefit from bulk purchasing of materials, streamlined operations, and shared infrastructure.\\\",\\n    \\\"3\\\": \\\"Innovation: The ideal approach should encourage innovation in carbon capture technologies to develop more cost-effective and energy-efficient solutions. This can involve investing in research and development, promoting collaboration between academia and industry, and providing incentives for the development of breakthrough technologies.\\\",\\n    \\\"4\\\": \\\"Policy Support: The ideal approach should have strong policy support to incentivize carbon capture deployment and reduce the cost burden. This can involve implementing carbon pricing mechanisms, providing financial incentives or subsidies for carbon capture projects, and establishing regulatory frameworks that facilitate the development and operation of carbon capture facilities.\\\",\\n    \\\"5\\\": \\\"Integration: The ideal approach should focus on integrating carbon capture technologies with existing industrial processes or energy generation systems. This can help reduce the overall cost by utilizing waste heat or byproduct streams for the carbon capture process, thereby minimizing additional energy requirements and infrastructure.\\\",\\n    \\\"6\\\": \\\"Public Awareness and Acceptance: The ideal approach should prioritize public awareness and acceptance of carbon capture technologies. This can involve education and outreach programs to inform the public about the importance and benefits of carbon capture, addressing concerns related to safety and environmental impacts, and fostering public support for the deployment of carbon capture projects.\\\"\\n}\",\n",
      "        \"role\": \"assistant\"\n",
      "      }\n",
      "    }\n",
      "  ],\n",
      "  \"created\": 1691546396,\n",
      "  \"id\": \"chatcmpl-7lSmKdvwzCpmPheBz9lAmp0DUWhgp\",\n",
      "  \"model\": \"gpt-3.5-turbo-0613\",\n",
      "  \"object\": \"chat.completion\",\n",
      "  \"usage\": {\n",
      "    \"completion_tokens\": 352,\n",
      "    \"prompt_tokens\": 687,\n",
      "    \"total_tokens\": 1039\n",
      "  }\n",
      "}\n",
      "{'1': 'Efficiency: The ideal approach should focus on improving the efficiency of the carbon capture process to reduce the cost per metric ton of CO2 captured. This can be achieved by optimizing the design and operation of the capture technology, minimizing energy requirements, and maximizing the utilization of captured CO2.', '2': 'Economy of Scale: The ideal approach should leverage economies of scale to reduce the cost of carbon capture. This can be achieved by deploying large-scale carbon capture facilities that benefit from bulk purchasing of materials, streamlined operations, and shared infrastructure.', '3': 'Innovation: The ideal approach should encourage innovation in carbon capture technologies to develop more cost-effective and energy-efficient solutions. This can involve investing in research and development, promoting collaboration between academia and industry, and providing incentives for the development of breakthrough technologies.', '4': 'Policy Support: The ideal approach should have strong policy support to incentivize carbon capture deployment and reduce the cost burden. This can involve implementing carbon pricing mechanisms, providing financial incentives or subsidies for carbon capture projects, and establishing regulatory frameworks that facilitate the development and operation of carbon capture facilities.', '5': 'Integration: The ideal approach should focus on integrating carbon capture technologies with existing industrial processes or energy generation systems. This can help reduce the overall cost by utilizing waste heat or byproduct streams for the carbon capture process, thereby minimizing additional energy requirements and infrastructure.', '6': 'Public Awareness and Acceptance: The ideal approach should prioritize public awareness and acceptance of carbon capture technologies. This can involve education and outreach programs to inform the public about the importance and benefits of carbon capture, addressing concerns related to safety and environmental impacts, and fostering public support for the deployment of carbon capture projects.'}\n"
     ]
    }
   ],
   "source": [
    "# Brainstorm solutions using first principles\n",
    "prompt = f'''\n",
    "Objective: \n",
    "{objective}\n",
    "\n",
    "Existing approach and problems:\n",
    "{approach_limitations}\n",
    "\n",
    "First principles:\n",
    "{first_principles_1}\n",
    "\n",
    "Task:\n",
    "Prioritize these first principles by how large and sensitive they are to overcoming the limitation and achieving the objective.\n",
    "\n",
    "The output should be in JSON format: \n",
    "```json\n",
    "{{\n",
    "    \"<insert unique index>\": \"<insert principle and description>\",\n",
    "    etc.\n",
    "}}\n",
    "\n",
    "Respond only with the output, with no explanation or conversation. I expect a first rate answer.\n",
    "'''\n",
    "first_principles_1_ranked = json.loads(chat_openai(prompt, model=\"gpt-3.5-turbo\")[0])\n",
    "print(first_principles_1_ranked)"
   ]
  },
  {
   "cell_type": "code",
   "execution_count": 39,
   "metadata": {},
   "outputs": [
    {
     "name": "stdout",
     "output_type": "stream",
     "text": [
      "Efficiency: The ideal approach should focus on improving the efficiency of the carbon capture process to reduce the cost per metric ton of CO2 captured. This can be achieved by optimizing the design and operation of the capture technology, minimizing energy requirements, and maximizing the utilization of captured CO2.\n"
     ]
    }
   ],
   "source": [
    "focus_principle = first_principles_1_ranked['1']\n",
    "print(focus_principle)"
   ]
  },
  {
   "cell_type": "markdown",
   "metadata": {},
   "source": [
    "#### Try brainstorming crazy ideas"
   ]
  },
  {
   "cell_type": "code",
   "execution_count": 41,
   "metadata": {},
   "outputs": [
    {
     "name": "stdout",
     "output_type": "stream",
     "text": [
      "Prompt:  \n",
      "Objective: \n",
      "Carbon capture 1 Gt of CO2 per year ASAP\n",
      "\n",
      "Existing approach and problems:\n",
      "{'approach': 'Direct Air Capture (DAC) with Carbon Storage', 'proposition': 'DAC with carbon storage is an ideal approach as it directly captures CO2 from the atmosphere and stores it in a secure manner. It has the potential to capture large amounts of CO2 and can be deployed in various locations, making it a scalable solution.', 'opposition': 'The biggest weakness of DAC with carbon storage is its high cost per metric ton of CO2 captured. The energy consumption is also significant, requiring a substantial amount of electricity. Additionally, the storage capacity of certain methods may be limited, requiring frequent transportation and storage infrastructure.', 'limitations': {'1': {'limitation': 'High cost per metric ton of CO2 captured', 'metric': 'Cost per metric ton of CO2 captured'}, '2': {'limitation': 'Significant energy consumption', 'metric': 'Energy consumption'}, '3': {'limitation': 'Limited storage capacity', 'metric': 'Storage capacity'}}}\n",
      "\n",
      "First principles:\n",
      "Efficiency: The ideal approach should focus on improving the efficiency of the carbon capture process to reduce the cost per metric ton of CO2 captured. This can be achieved by optimizing the design and operation of the capture technology, minimizing energy requirements, and maximizing the utilization of captured CO2.\n",
      "\n",
      "History of facts:\n",
      "[]\n",
      "\n",
      "In order to achieve the objective, come up with 10 crazy, novel, and impactful ideas leveraging first principles to overcome the most important and first limitation.\n",
      "\n",
      "The output should be in JSON format: \n",
      "```json\n",
      "{\n",
      "  \"<insert index>\" : \"<insert idea>\",\n",
      "  etc.\n",
      "}\n",
      "\n",
      "Respond only with the output, with no explanation or conversation. I expect a first rate answer.\n",
      "\n",
      "Completion info:  {\n",
      "  \"choices\": [\n",
      "    {\n",
      "      \"finish_reason\": \"stop\",\n",
      "      \"index\": 0,\n",
      "      \"message\": {\n",
      "        \"content\": \"{\\n  \\\"1\\\": \\\"Utilize renewable energy sources such as solar and wind to power the DAC process and reduce the energy consumption.\\\",\\n  \\\"2\\\": \\\"Develop advanced materials that have high CO2 capture capacity and lower energy requirements.\\\",\\n  \\\"3\\\": \\\"Explore the use of biological methods, such as genetically engineered microorganisms, to capture and store CO2 efficiently.\\\",\\n  \\\"4\\\": \\\"Implement carbon capture technology in industrial processes with high CO2 emissions, such as cement and steel production, to capture CO2 at the source.\\\",\\n  \\\"5\\\": \\\"Leverage artificial intelligence and machine learning algorithms to optimize the operation of DAC systems and minimize energy consumption.\\\",\\n  \\\"6\\\": \\\"Design and deploy large-scale offshore DAC plants that can capture CO2 directly from the atmosphere over the ocean, reducing land requirements and sequestering CO2 in underwater storage facilities.\\\",\\n  \\\"7\\\": \\\"Develop modular and portable DAC systems that can be easily transported and deployed in remote areas with high CO2 concentrations, such as near volcanic vents.\\\",\\n  \\\"8\\\": \\\"Explore novel materials and technologies for efficient and cost-effective CO2 storage, such as utilizing solid sorbents or converting CO2 into valuable products.\\\",\\n  \\\"9\\\": \\\"Collaborate with governments and international organizations to establish carbon capture incentives and funding programs to accelerate the deployment of large-scale DAC projects.\\\",\\n  \\\"10\\\": \\\"Combine DAC with other carbon reduction strategies, such as afforestation and reforestation, to create integrated solutions that address multiple aspects of climate change.\\\"\\n}\",\n",
      "        \"role\": \"assistant\"\n",
      "      }\n",
      "    }\n",
      "  ],\n",
      "  \"created\": 1691546774,\n",
      "  \"id\": \"chatcmpl-7lSsQtcIzOH8fAQ9cyqWqrWjwaWRT\",\n",
      "  \"model\": \"gpt-3.5-turbo-0613\",\n",
      "  \"object\": \"chat.completion\",\n",
      "  \"usage\": {\n",
      "    \"completion_tokens\": 306,\n",
      "    \"prompt_tokens\": 410,\n",
      "    \"total_tokens\": 716\n",
      "  }\n",
      "}\n",
      "{'1': 'Utilize renewable energy sources such as solar and wind to power the DAC process and reduce the energy consumption.', '2': 'Develop advanced materials that have high CO2 capture capacity and lower energy requirements.', '3': 'Explore the use of biological methods, such as genetically engineered microorganisms, to capture and store CO2 efficiently.', '4': 'Implement carbon capture technology in industrial processes with high CO2 emissions, such as cement and steel production, to capture CO2 at the source.', '5': 'Leverage artificial intelligence and machine learning algorithms to optimize the operation of DAC systems and minimize energy consumption.', '6': 'Design and deploy large-scale offshore DAC plants that can capture CO2 directly from the atmosphere over the ocean, reducing land requirements and sequestering CO2 in underwater storage facilities.', '7': 'Develop modular and portable DAC systems that can be easily transported and deployed in remote areas with high CO2 concentrations, such as near volcanic vents.', '8': 'Explore novel materials and technologies for efficient and cost-effective CO2 storage, such as utilizing solid sorbents or converting CO2 into valuable products.', '9': 'Collaborate with governments and international organizations to establish carbon capture incentives and funding programs to accelerate the deployment of large-scale DAC projects.', '10': 'Combine DAC with other carbon reduction strategies, such as afforestation and reforestation, to create integrated solutions that address multiple aspects of climate change.'}\n"
     ]
    }
   ],
   "source": [
    "# Brainstorm crazy ideas\n",
    "prompt = f'''\n",
    "Objective: \n",
    "{objective}\n",
    "\n",
    "Existing approach and problems:\n",
    "{approach_limitations}\n",
    "\n",
    "First principles:\n",
    "{focus_principle}\n",
    "\n",
    "History of facts:\n",
    "[]\n",
    "\n",
    "In order to achieve the objective, come up with 10 crazy, novel, and impactful ideas leveraging first principles to overcome the most important and first limitation.\n",
    "\n",
    "The output should be in JSON format: \n",
    "```json\n",
    "{{\n",
    "  \"<insert index>\" : \"<insert idea>\",\n",
    "  etc.\n",
    "}}\n",
    "\n",
    "Respond only with the output, with no explanation or conversation. I expect a first rate answer.\n",
    "'''\n",
    "crazy_ideas = json.loads(chat_openai_high_temp(prompt, model=\"gpt-3.5-turbo\")[0])\n",
    "print(crazy_ideas)\n",
    "# Check if there are any valid crazy ideas, if there are, add them to history of facts, evaluate them, and then resume researching"
   ]
  },
  {
   "cell_type": "code",
   "execution_count": null,
   "metadata": {},
   "outputs": [
    {
     "name": "stdout",
     "output_type": "stream",
     "text": [
      "\n",
      "Objective: \n",
      "Carbon capture 1 Gt of CO2 per year ASAP\n",
      "\n",
      "Key metrics:\n",
      "{'CO2 capture rate': 'The rate at which CO2 is captured and removed from the atmosphere, measured in metric tons per year.', 'Feasibility': 'The assessment of the practicality and achievability of capturing 1 Gt of CO2 per year, considering technological, economic, and logistical factors.', 'Cost per metric ton of CO2 captured': 'The cost incurred for capturing and storing one metric ton of CO2, measured in currency (e.g., USD) per metric ton of CO2 captured.', 'Storage capacity': 'The total amount of CO2 that can be stored in the chosen storage method, measured in metric tons.', 'Permanence': 'The long-term stability and permanence of the captured CO2, ensuring it remains securely stored and does not re-enter the atmosphere.', 'Energy consumption': 'The amount of energy required for the carbon capture process, measured in kilowatt-hours per metric ton of CO2 captured.', 'Environmental impact': 'The assessment of the carbon capture process on the environment, including factors such as water usage, land requirements, and potential leakage risks.', 'Easily measurable': 'The ease and accuracy with which the key metrics can be measured and monitored to track progress towards capturing 1 Gt of CO2 per year.'}\n",
      "\n",
      "SOTA:\n",
      "{'1': {'approach': 'Direct Air Capture (DAC) with Carbon Storage', 'proposition': 'DAC with carbon storage is an ideal approach as it directly captures CO2 from the atmosphere and stores it in a secure manner. It has the potential to capture large amounts of CO2 and can be deployed in various locations, making it a scalable solution.', 'opposition': 'The biggest weakness of DAC with carbon storage is its high cost per metric ton of CO2 captured. The energy consumption is also significant, requiring a substantial amount of electricity. Additionally, the storage capacity of certain methods may be limited, requiring frequent transportation and storage infrastructure.', 'opportunities': 'To improve this approach, research and development efforts should focus on reducing the cost per metric ton of CO2 captured and minimizing the energy consumption. Advancements in carbon capture technologies and materials can help achieve these goals. Additionally, exploring alternative storage methods with higher capacity and lower leakage risks can enhance the effectiveness of DAC with carbon storage.'}, '2': {'approach': 'Enhanced Weathering', 'proposition': 'Enhanced weathering involves accelerating natural weathering processes to capture CO2 by spreading minerals that react with CO2 on land or in the ocean. It has the potential to capture significant amounts of CO2 and can utilize existing natural processes.', 'opposition': 'The biggest weakness of enhanced weathering is the large land or ocean area required for implementation. It may also have potential environmental impacts, such as altering soil composition or affecting marine ecosystems. The feasibility of large-scale implementation and the permanence of captured CO2 need to be carefully assessed.', 'opportunities': 'To improve this approach, research can focus on identifying minerals that are abundant, easily accessible, and have high reactivity with CO2. Developing techniques to enhance the efficiency of mineral carbonation and minimize environmental impacts will be crucial. Additionally, exploring innovative methods for spreading minerals effectively and efficiently can help overcome the challenges associated with land or ocean area requirements.'}, '3': {'approach': 'Bioenergy with Carbon Capture and Storage (BECCS)', 'proposition': 'BECCS involves generating energy from biomass while capturing and storing the CO2 emissions. It has the potential to achieve negative emissions by removing CO2 from the atmosphere. BECCS can utilize existing biomass resources and infrastructure, making it a feasible approach.', 'opposition': 'The biggest weakness of BECCS is the competition for land and resources between biomass production for energy and other essential purposes like food production. The storage capacity of CO2 may also be limited, requiring long-term monitoring and potential leakage prevention. Additionally, the energy consumption and cost per metric ton of CO2 captured need to be optimized.', 'opportunities': 'To improve this approach, research can focus on developing sustainable biomass feedstocks that do not compete with food production. Enhancing the efficiency of biomass conversion and CO2 capture technologies can help reduce energy consumption and cost. Exploring alternative storage methods with higher capacity and long-term stability can also enhance the effectiveness of BECCS.'}}\n",
      "\n",
      "Task:\n",
      "Suppose each metric was rated on a scale of 1 to 10, with 10 being a perfect solution and 1 being unable to deploy because the solution is terrible based on this metric. Rate each approach. \n",
      "\n",
      "The output should be in JSON format: \n",
      "```json\n",
      "{\n",
      "  \"<insert unique index>\" : {\n",
      "    \"approach\": \"<insert approach description>\",\n",
      "    \"<insert key metric>\": \"<insert numerical rating>\",\n",
      "    etc.\n",
      "  },\n",
      "  etc.\n",
      "}\n",
      "\n",
      "Respond only with the output, with no explanation or conversation. I expect a first rate answer.\n",
      "\n",
      "Prompt messages:  [{'role': 'system', 'content': 'You are a helpful and educated carbon capture research consultant and an educated and helpful researcher and programmer. Answer as correctly, clearly, and concisely as possible.'}, {'role': 'user', 'content': '\\nObjective: \\nCarbon capture 1 Gt of CO2 per year ASAP\\n\\nKey metrics:\\n{\\'CO2 capture rate\\': \\'The rate at which CO2 is captured and removed from the atmosphere, measured in metric tons per year.\\', \\'Feasibility\\': \\'The assessment of the practicality and achievability of capturing 1 Gt of CO2 per year, considering technological, economic, and logistical factors.\\', \\'Cost per metric ton of CO2 captured\\': \\'The cost incurred for capturing and storing one metric ton of CO2, measured in currency (e.g., USD) per metric ton of CO2 captured.\\', \\'Storage capacity\\': \\'The total amount of CO2 that can be stored in the chosen storage method, measured in metric tons.\\', \\'Permanence\\': \\'The long-term stability and permanence of the captured CO2, ensuring it remains securely stored and does not re-enter the atmosphere.\\', \\'Energy consumption\\': \\'The amount of energy required for the carbon capture process, measured in kilowatt-hours per metric ton of CO2 captured.\\', \\'Environmental impact\\': \\'The assessment of the carbon capture process on the environment, including factors such as water usage, land requirements, and potential leakage risks.\\', \\'Easily measurable\\': \\'The ease and accuracy with which the key metrics can be measured and monitored to track progress towards capturing 1 Gt of CO2 per year.\\'}\\n\\nSOTA:\\n{\\'1\\': {\\'approach\\': \\'Direct Air Capture (DAC) with Carbon Storage\\', \\'proposition\\': \\'DAC with carbon storage is an ideal approach as it directly captures CO2 from the atmosphere and stores it in a secure manner. It has the potential to capture large amounts of CO2 and can be deployed in various locations, making it a scalable solution.\\', \\'opposition\\': \\'The biggest weakness of DAC with carbon storage is its high cost per metric ton of CO2 captured. The energy consumption is also significant, requiring a substantial amount of electricity. Additionally, the storage capacity of certain methods may be limited, requiring frequent transportation and storage infrastructure.\\', \\'opportunities\\': \\'To improve this approach, research and development efforts should focus on reducing the cost per metric ton of CO2 captured and minimizing the energy consumption. Advancements in carbon capture technologies and materials can help achieve these goals. Additionally, exploring alternative storage methods with higher capacity and lower leakage risks can enhance the effectiveness of DAC with carbon storage.\\'}, \\'2\\': {\\'approach\\': \\'Enhanced Weathering\\', \\'proposition\\': \\'Enhanced weathering involves accelerating natural weathering processes to capture CO2 by spreading minerals that react with CO2 on land or in the ocean. It has the potential to capture significant amounts of CO2 and can utilize existing natural processes.\\', \\'opposition\\': \\'The biggest weakness of enhanced weathering is the large land or ocean area required for implementation. It may also have potential environmental impacts, such as altering soil composition or affecting marine ecosystems. The feasibility of large-scale implementation and the permanence of captured CO2 need to be carefully assessed.\\', \\'opportunities\\': \\'To improve this approach, research can focus on identifying minerals that are abundant, easily accessible, and have high reactivity with CO2. Developing techniques to enhance the efficiency of mineral carbonation and minimize environmental impacts will be crucial. Additionally, exploring innovative methods for spreading minerals effectively and efficiently can help overcome the challenges associated with land or ocean area requirements.\\'}, \\'3\\': {\\'approach\\': \\'Bioenergy with Carbon Capture and Storage (BECCS)\\', \\'proposition\\': \\'BECCS involves generating energy from biomass while capturing and storing the CO2 emissions. It has the potential to achieve negative emissions by removing CO2 from the atmosphere. BECCS can utilize existing biomass resources and infrastructure, making it a feasible approach.\\', \\'opposition\\': \\'The biggest weakness of BECCS is the competition for land and resources between biomass production for energy and other essential purposes like food production. The storage capacity of CO2 may also be limited, requiring long-term monitoring and potential leakage prevention. Additionally, the energy consumption and cost per metric ton of CO2 captured need to be optimized.\\', \\'opportunities\\': \\'To improve this approach, research can focus on developing sustainable biomass feedstocks that do not compete with food production. Enhancing the efficiency of biomass conversion and CO2 capture technologies can help reduce energy consumption and cost. Exploring alternative storage methods with higher capacity and long-term stability can also enhance the effectiveness of BECCS.\\'}}\\n\\nTask:\\nSuppose each metric was rated on a scale of 1 to 10, with 10 being a perfect solution and 1 being unable to deploy because the solution is terrible based on this metric. Rate each approach. \\n\\nThe output should be in JSON format: \\n```json\\n{\\n  \"<insert unique index>\" : {\\n    \"approach\": \"<insert approach description>\",\\n    \"<insert key metric>\": \"<insert numerical rating>\",\\n    etc.\\n  },\\n  etc.\\n}\\n\\nRespond only with the output, with no explanation or conversation. I expect a first rate answer.\\n'}]\n"
     ]
    },
    {
     "ename": "",
     "evalue": "",
     "output_type": "error",
     "traceback": [
      "\u001b[1;31mCannot execute code, session has been disposed. Please try restarting the Kernel."
     ]
    },
    {
     "ename": "",
     "evalue": "",
     "output_type": "error",
     "traceback": [
      "\u001b[1;31mThe Kernel crashed while executing code in the the current cell or a previous cell. Please review the code in the cell(s) to identify a possible cause of the failure. Click <a href='https://aka.ms/vscodeJupyterKernelCrash'>here</a> for more info. View Jupyter <a href='command:jupyter.viewOutput'>log</a> for further details."
     ]
    }
   ],
   "source": [
    "# Rating SOTA\n",
    "prompt = f'''\n",
    "Objective: \n",
    "{objective}\n",
    "\n",
    "Key metrics:\n",
    "{focus_metrics}\n",
    "\n",
    "SOTA:\n",
    "{sota}\n",
    "\n",
    "Task:\n",
    "Suppose each metric was rated on a scale of 1 to 10, with 10 being a perfect solution and 1 being unable to deploy because the solution is terrible based on this metric. Rate each approach. \n",
    "\n",
    "The output should be in JSON format: \n",
    "```json\n",
    "{{\n",
    "  \"<insert unique index>\" : {{\n",
    "    \"approach\": \"<insert approach description>\",\n",
    "    \"<insert key metric>\": \"<insert numerical rating>\",\n",
    "    etc.\n",
    "  }},\n",
    "  etc.\n",
    "}}\n",
    "\n",
    "Respond only with the output, with no explanation or conversation. I expect a first rate answer.\n",
    "'''\n",
    "print(prompt)\n",
    "# sota_rating = json.loads(chat_openai(prompt, model=\"gpt-3.5-turbo\")[0])\n",
    "# print(sota_rating)"
   ]
  },
  {
   "cell_type": "markdown",
   "metadata": {},
   "source": [
    "### Use LLM to generate crazy ideas with temperature = 1"
   ]
  },
  {
   "cell_type": "markdown",
   "metadata": {},
   "source": [
    "Note: this was too hard to evaluate, so I'm saving it for later testing"
   ]
  },
  {
   "cell_type": "code",
   "execution_count": 6,
   "metadata": {},
   "outputs": [
    {
     "name": "stdout",
     "output_type": "stream",
     "text": [
      "Prompt:  \n",
      "Goal:\n",
      "Carbon capture 1 Gt of CO2 per year ASAP\n",
      "\n",
      "Write 10 crazy ideas for novel impactful hypotheses and experiments to achieve the goal above.\n",
      "\n",
      "The output should be in JSON format: \n",
      "```json\n",
      "{\n",
      "  \"<insert index>\" : \"<insert idea>\",\n",
      "  etc.\n",
      "}\n",
      "\n",
      "Respond only with the output, with no explanation or conversation.\n",
      "\n",
      "Completion info:  {\n",
      "  \"choices\": [\n",
      "    {\n",
      "      \"finish_reason\": \"stop\",\n",
      "      \"index\": 0,\n",
      "      \"message\": {\n",
      "        \"content\": \"{\\n  \\\"1\\\" : \\\"Develop a genetically modified plant species with enhanced carbon storage capabilities\\\",\\n  \\\"2\\\" : \\\"Create large-scale artificial carbon sinks using bioengineered microorganisms\\\",\\n  \\\"3\\\" : \\\"Design and deploy a network of large-scale ocean-based carbon capture systems\\\",\\n  \\\"4\\\" : \\\"Utilize nanotechnology to develop highly efficient carbon capture materials\\\",\\n  \\\"5\\\" : \\\"Explore the use of electrochemical processes for direct air capture of CO2\\\",\\n  \\\"6\\\" : \\\"Implement large-scale reforestation efforts with fast-growing tree species\\\",\\n  \\\"7\\\" : \\\"Experiment with ocean fertilization to stimulate algal blooms for increased carbon uptake\\\",\\n  \\\"8\\\" : \\\"Build massive vertical farms to maximize carbon sequestration by crops\\\",\\n  \\\"9\\\" : \\\"Develop carbon capture technology integrated with existing power plants\\\",\\n  \\\"10\\\" : \\\"Investigate the potential of carbon capture through mineralization in abandoned mines\\\"\\n}\",\n",
      "        \"role\": \"assistant\"\n",
      "      }\n",
      "    }\n",
      "  ],\n",
      "  \"created\": 1691468375,\n",
      "  \"id\": \"chatcmpl-7l8Tv75uLv00p9iZy629C9mUHkqci\",\n",
      "  \"model\": \"gpt-3.5-turbo-0613\",\n",
      "  \"object\": \"chat.completion\",\n",
      "  \"usage\": {\n",
      "    \"completion_tokens\": 193,\n",
      "    \"prompt_tokens\": 115,\n",
      "    \"total_tokens\": 308\n",
      "  }\n",
      "}\n",
      "{'1': 'Develop a genetically modified plant species with enhanced carbon storage capabilities', '2': 'Create large-scale artificial carbon sinks using bioengineered microorganisms', '3': 'Design and deploy a network of large-scale ocean-based carbon capture systems', '4': 'Utilize nanotechnology to develop highly efficient carbon capture materials', '5': 'Explore the use of electrochemical processes for direct air capture of CO2', '6': 'Implement large-scale reforestation efforts with fast-growing tree species', '7': 'Experiment with ocean fertilization to stimulate algal blooms for increased carbon uptake', '8': 'Build massive vertical farms to maximize carbon sequestration by crops', '9': 'Develop carbon capture technology integrated with existing power plants', '10': 'Investigate the potential of carbon capture through mineralization in abandoned mines'}\n"
     ]
    }
   ],
   "source": [
    "# GPT template\n",
    "prompt = f'''\n",
    "Goal:\n",
    "{objective}\n",
    "\n",
    "Write 10 crazy ideas for novel impactful hypotheses and experiments to achieve the goal above.\n",
    "\n",
    "The output should be in JSON format: \n",
    "```json\n",
    "{{\n",
    "  \"<insert index>\" : \"<insert idea>\",\n",
    "  etc.\n",
    "}}\n",
    "\n",
    "Respond only with the output, with no explanation or conversation.\n",
    "'''\n",
    "ideas_json = json.loads(chat_openai_high_temp(prompt, model=\"gpt-3.5-turbo\")[0])\n",
    "print(ideas_json)"
   ]
  },
  {
   "cell_type": "code",
   "execution_count": 11,
   "metadata": {},
   "outputs": [],
   "source": [
    "file_name = f'ideas.json'\n",
    "\n",
    "with open(file_name, 'w', encoding='utf-8') as f:\n",
    "    json.dump(ideas_json, f, indent=4)"
   ]
  },
  {
   "cell_type": "markdown",
   "metadata": {},
   "source": [
    "### Use evaluator to verify feasibility and reasonability of approach, with temperature = 0"
   ]
  },
  {
   "cell_type": "markdown",
   "metadata": {},
   "source": [
    "8/8/23 Note: Rapid prototyping, so not including search yet to help massively with learning. Relying on building learning memory through creative ideation and critical feedback solely through LLMs for now."
   ]
  },
  {
   "cell_type": "code",
   "execution_count": 9,
   "metadata": {},
   "outputs": [
    {
     "name": "stdout",
     "output_type": "stream",
     "text": [
      "Prompt:  \n",
      "Goal:\n",
      "Carbon capture 1 Gt of CO2 per year ASAP\n",
      "\n",
      "Task:\n",
      "You are an evaluator. Given the goal and the ideas, what are the most feasible ideas to achieve the goal? For each idea, outline both the proposition of why it is a feasible idea, and the opposition of what the idea's biggest weaknesses might be to make it not a feasible idea. Conclude if the idea is feasible. Use your existing knowledge to the best of your ability.\n",
      "\n",
      "The output should be in JSON format: \n",
      "```json\n",
      "{\n",
      "  \"<insert idea index>\" : {\n",
      "    \"idea\": \"<insert idea>\",\n",
      "    \"opposition\":  \"<insert reasons why the idea might not be a feasible idea to achieve the goal>\",\n",
      "    \"proposition\": \"<insert reasons why the idea might be a feasible idea to achieve the goal>\",\n",
      "    \"conclusion\": \"<insert yes or no if the idea is a feasible idea to achieve the goal, and then your reasoning>\"\n",
      "  }, etc.\n",
      "}\n",
      "```\n",
      "\n",
      "Ideas:\n",
      "{'1': 'Develop a genetically modified plant species with enhanced carbon storage capabilities', '2': 'Create large-scale artificial carbon sinks using bioengineered microorganisms', '3': 'Design and deploy a network of large-scale ocean-based carbon capture systems', '4': 'Utilize nanotechnology to develop highly efficient carbon capture materials', '5': 'Explore the use of electrochemical processes for direct air capture of CO2', '6': 'Implement large-scale reforestation efforts with fast-growing tree species', '7': 'Experiment with ocean fertilization to stimulate algal blooms for increased carbon uptake', '8': 'Build massive vertical farms to maximize carbon sequestration by crops', '9': 'Develop carbon capture technology integrated with existing power plants', '10': 'Investigate the potential of carbon capture through mineralization in abandoned mines'}\n",
      "\n",
      "Respond only with the output, with no explanation or conversation.\n",
      "\n",
      "Completion info:  {\n",
      "  \"choices\": [\n",
      "    {\n",
      "      \"finish_reason\": \"stop\",\n",
      "      \"index\": 0,\n",
      "      \"message\": {\n",
      "        \"content\": \"{\\n  \\\"1\\\": {\\n    \\\"idea\\\": \\\"Develop a genetically modified plant species with enhanced carbon storage capabilities\\\",\\n    \\\"opposition\\\": \\\"Potential risks of introducing genetically modified organisms into the environment, public concerns about the safety and ethics of genetic modification\\\",\\n    \\\"proposition\\\": \\\"Genetic modification could potentially enhance the carbon storage capabilities of plants, leading to increased carbon capture\\\",\\n    \\\"conclusion\\\": \\\"No, due to potential risks and public concerns\\\"\\n  },\\n  \\\"2\\\": {\\n    \\\"idea\\\": \\\"Create large-scale artificial carbon sinks using bioengineered microorganisms\\\",\\n    \\\"opposition\\\": \\\"Complexity and scalability of bioengineering microorganisms for large-scale carbon capture, potential unintended consequences of introducing bioengineered microorganisms into the environment\\\",\\n    \\\"proposition\\\": \\\"Bioengineered microorganisms could potentially capture and store carbon on a large scale\\\",\\n    \\\"conclusion\\\": \\\"No, due to complexity, scalability, and potential unintended consequences\\\"\\n  },\\n  \\\"3\\\": {\\n    \\\"idea\\\": \\\"Design and deploy a network of large-scale ocean-based carbon capture systems\\\",\\n    \\\"opposition\\\": \\\"High costs of designing and deploying large-scale ocean-based carbon capture systems, potential environmental impacts on marine ecosystems\\\",\\n    \\\"proposition\\\": \\\"Ocean-based carbon capture systems could leverage the natural carbon uptake capacity of the oceans\\\",\\n    \\\"conclusion\\\": \\\"No, due to high costs and potential environmental impacts\\\"\\n  },\\n  \\\"4\\\": {\\n    \\\"idea\\\": \\\"Utilize nanotechnology to develop highly efficient carbon capture materials\\\",\\n    \\\"opposition\\\": \\\"Challenges in scaling up nanotechnology-based carbon capture materials, high costs of nanotechnology research and development\\\",\\n    \\\"proposition\\\": \\\"Nanotechnology could potentially enable the development of highly efficient carbon capture materials\\\",\\n    \\\"conclusion\\\": \\\"No, due to challenges in scaling up and high costs\\\"\\n  },\\n  \\\"5\\\": {\\n    \\\"idea\\\": \\\"Explore the use of electrochemical processes for direct air capture of CO2\\\",\\n    \\\"opposition\\\": \\\"Energy-intensive nature of electrochemical processes, high costs of large-scale implementation\\\",\\n    \\\"proposition\\\": \\\"Electrochemical processes could directly capture CO2 from the air, enabling carbon capture\\\",\\n    \\\"conclusion\\\": \\\"No, due to energy intensity and high costs\\\"\\n  },\\n  \\\"6\\\": {\\n    \\\"idea\\\": \\\"Implement large-scale reforestation efforts with fast-growing tree species\\\",\\n    \\\"opposition\\\": \\\"Limited availability of suitable land for large-scale reforestation, long timeframes for trees to reach maturity and sequester significant amounts of carbon\\\",\\n    \\\"proposition\\\": \\\"Reforestation efforts could increase carbon sequestration by planting more trees\\\",\\n    \\\"conclusion\\\": \\\"Yes, with limitations due to land availability and timeframes\\\"\\n  },\\n  \\\"7\\\": {\\n    \\\"idea\\\": \\\"Experiment with ocean fertilization to stimulate algal blooms for increased carbon uptake\\\",\\n    \\\"opposition\\\": \\\"Potential disruption of marine ecosystems, uncertain effectiveness and scalability of ocean fertilization\\\",\\n    \\\"proposition\\\": \\\"Ocean fertilization could potentially stimulate algal blooms, leading to increased carbon uptake\\\",\\n    \\\"conclusion\\\": \\\"No, due to potential ecosystem disruption and uncertain effectiveness\\\"\\n  },\\n  \\\"8\\\": {\\n    \\\"idea\\\": \\\"Build massive vertical farms to maximize carbon sequestration by crops\\\",\\n    \\\"opposition\\\": \\\"High costs of building and operating massive vertical farms, limited scalability and land availability\\\",\\n    \\\"proposition\\\": \\\"Vertical farms could maximize carbon sequestration by growing crops in a controlled environment\\\",\\n    \\\"conclusion\\\": \\\"No, due to high costs, limited scalability, and land availability\\\"\\n  },\\n  \\\"9\\\": {\\n    \\\"idea\\\": \\\"Develop carbon capture technology integrated with existing power plants\\\",\\n    \\\"opposition\\\": \\\"Technical challenges in retrofitting existing power plants with carbon capture technology, high costs of implementation\\\",\\n    \\\"proposition\\\": \\\"Integrating carbon capture technology with existing power plants could capture CO2 emissions at the source\\\",\\n    \\\"conclusion\\\": \\\"Yes, with challenges due to technical retrofitting and high costs\\\"\\n  },\\n  \\\"10\\\": {\\n    \\\"idea\\\": \\\"Investigate the potential of carbon capture through mineralization in abandoned mines\\\",\\n    \\\"opposition\\\": \\\"Limited availability of suitable abandoned mines, potential environmental impacts of mineralization processes\\\",\\n    \\\"proposition\\\": \\\"Carbon capture through mineralization in abandoned mines could permanently store CO2\\\",\\n    \\\"conclusion\\\": \\\"Yes, with limitations due to availability of suitable mines and potential environmental impacts\\\"\\n  }\\n}\",\n",
      "        \"role\": \"assistant\"\n",
      "      }\n",
      "    }\n",
      "  ],\n",
      "  \"created\": 1691468892,\n",
      "  \"id\": \"chatcmpl-7l8cGKjvJotMLUu5RTSiYEk6WpS5L\",\n",
      "  \"model\": \"gpt-3.5-turbo-0613\",\n",
      "  \"object\": \"chat.completion\",\n",
      "  \"usage\": {\n",
      "    \"completion_tokens\": 918,\n",
      "    \"prompt_tokens\": 432,\n",
      "    \"total_tokens\": 1350\n",
      "  }\n",
      "}\n",
      "{'1': {'idea': 'Develop a genetically modified plant species with enhanced carbon storage capabilities', 'opposition': 'Potential risks of introducing genetically modified organisms into the environment, public concerns about the safety and ethics of genetic modification', 'proposition': 'Genetic modification could potentially enhance the carbon storage capabilities of plants, leading to increased carbon capture', 'conclusion': 'No, due to potential risks and public concerns'}, '2': {'idea': 'Create large-scale artificial carbon sinks using bioengineered microorganisms', 'opposition': 'Complexity and scalability of bioengineering microorganisms for large-scale carbon capture, potential unintended consequences of introducing bioengineered microorganisms into the environment', 'proposition': 'Bioengineered microorganisms could potentially capture and store carbon on a large scale', 'conclusion': 'No, due to complexity, scalability, and potential unintended consequences'}, '3': {'idea': 'Design and deploy a network of large-scale ocean-based carbon capture systems', 'opposition': 'High costs of designing and deploying large-scale ocean-based carbon capture systems, potential environmental impacts on marine ecosystems', 'proposition': 'Ocean-based carbon capture systems could leverage the natural carbon uptake capacity of the oceans', 'conclusion': 'No, due to high costs and potential environmental impacts'}, '4': {'idea': 'Utilize nanotechnology to develop highly efficient carbon capture materials', 'opposition': 'Challenges in scaling up nanotechnology-based carbon capture materials, high costs of nanotechnology research and development', 'proposition': 'Nanotechnology could potentially enable the development of highly efficient carbon capture materials', 'conclusion': 'No, due to challenges in scaling up and high costs'}, '5': {'idea': 'Explore the use of electrochemical processes for direct air capture of CO2', 'opposition': 'Energy-intensive nature of electrochemical processes, high costs of large-scale implementation', 'proposition': 'Electrochemical processes could directly capture CO2 from the air, enabling carbon capture', 'conclusion': 'No, due to energy intensity and high costs'}, '6': {'idea': 'Implement large-scale reforestation efforts with fast-growing tree species', 'opposition': 'Limited availability of suitable land for large-scale reforestation, long timeframes for trees to reach maturity and sequester significant amounts of carbon', 'proposition': 'Reforestation efforts could increase carbon sequestration by planting more trees', 'conclusion': 'Yes, with limitations due to land availability and timeframes'}, '7': {'idea': 'Experiment with ocean fertilization to stimulate algal blooms for increased carbon uptake', 'opposition': 'Potential disruption of marine ecosystems, uncertain effectiveness and scalability of ocean fertilization', 'proposition': 'Ocean fertilization could potentially stimulate algal blooms, leading to increased carbon uptake', 'conclusion': 'No, due to potential ecosystem disruption and uncertain effectiveness'}, '8': {'idea': 'Build massive vertical farms to maximize carbon sequestration by crops', 'opposition': 'High costs of building and operating massive vertical farms, limited scalability and land availability', 'proposition': 'Vertical farms could maximize carbon sequestration by growing crops in a controlled environment', 'conclusion': 'No, due to high costs, limited scalability, and land availability'}, '9': {'idea': 'Develop carbon capture technology integrated with existing power plants', 'opposition': 'Technical challenges in retrofitting existing power plants with carbon capture technology, high costs of implementation', 'proposition': 'Integrating carbon capture technology with existing power plants could capture CO2 emissions at the source', 'conclusion': 'Yes, with challenges due to technical retrofitting and high costs'}, '10': {'idea': 'Investigate the potential of carbon capture through mineralization in abandoned mines', 'opposition': 'Limited availability of suitable abandoned mines, potential environmental impacts of mineralization processes', 'proposition': 'Carbon capture through mineralization in abandoned mines could permanently store CO2', 'conclusion': 'Yes, with limitations due to availability of suitable mines and potential environmental impacts'}}\n"
     ]
    }
   ],
   "source": [
    "# GPT template\n",
    "# Improvement: it should cite direct quote facts, so that the direct quote and url can be retrieved in the answer.\n",
    "\n",
    "prompt = f'''\n",
    "Goal:\n",
    "{objective}\n",
    "\n",
    "Task:\n",
    "You are an evaluator. Given the goal and the ideas, what are the most feasible ideas to achieve the goal? For each idea, outline both the proposition of why it is a feasible idea, and the opposition of what the idea's biggest weaknesses might be to make it not a feasible idea. Conclude if the idea is feasible. Use your existing knowledge to the best of your ability.\n",
    "\n",
    "The output should be in JSON format: \n",
    "```json\n",
    "{{\n",
    "  \"<insert idea index>\" : {{\n",
    "    \"idea\": \"<insert idea>\",\n",
    "    \"opposition\":  \"<insert reasons why the idea might not be a feasible idea to achieve the goal>\",\n",
    "    \"proposition\": \"<insert reasons why the idea might be a feasible idea to achieve the goal>\",\n",
    "    \"conclusion\": \"<insert yes or no if the idea is a feasible idea to achieve the goal, and then your reasoning>\"\n",
    "  }}, etc.\n",
    "}}\n",
    "```\n",
    "\n",
    "Ideas:\n",
    "{ideas_json}\n",
    "\n",
    "Respond only with the output, with no explanation or conversation.\n",
    "'''\n",
    "evaluator_feedback = json.loads(chat_openai(prompt, model=\"gpt-3.5-turbo\")[0])\n",
    "print(evaluator_feedback)"
   ]
  },
  {
   "cell_type": "code",
   "execution_count": 10,
   "metadata": {},
   "outputs": [],
   "source": [
    "file_name = f'evaluation.json'\n",
    "\n",
    "with open(file_name, 'w', encoding='utf-8') as f:\n",
    "    json.dump(evaluator_feedback, f, indent=4)"
   ]
  },
  {
   "cell_type": "markdown",
   "metadata": {},
   "source": [
    "### Iterate with learnings memory, probably using RAG whenever it is fetched"
   ]
  },
  {
   "cell_type": "code",
   "execution_count": null,
   "metadata": {},
   "outputs": [],
   "source": []
  }
 ],
 "metadata": {
  "kernelspec": {
   "display_name": "venv",
   "language": "python",
   "name": "python3"
  },
  "language_info": {
   "codemirror_mode": {
    "name": "ipython",
    "version": 3
   },
   "file_extension": ".py",
   "mimetype": "text/x-python",
   "name": "python",
   "nbconvert_exporter": "python",
   "pygments_lexer": "ipython3",
   "version": "3.10.6"
  },
  "orig_nbformat": 4
 },
 "nbformat": 4,
 "nbformat_minor": 2
}
